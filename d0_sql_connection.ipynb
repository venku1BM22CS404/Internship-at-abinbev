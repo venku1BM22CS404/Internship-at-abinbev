{
 "cells": [
  {
   "cell_type": "code",
   "execution_count": 1,
   "metadata": {
    "execution": {
     "iopub.execute_input": "2025-04-10T07:33:15.124441Z",
     "iopub.status.busy": "2025-04-10T07:33:15.123440Z",
     "iopub.status.idle": "2025-04-10T07:33:17.926861Z",
     "shell.execute_reply": "2025-04-10T07:33:17.925310Z"
    }
   },
   "outputs": [],
   "source": [
    "# To Setup Connection with SQL Server.\n",
    "import pyodbc\n",
    "\n",
    "# Data Operations.\n",
    "import numpy as np\n",
    "import pandas as pd\n",
    "\n",
    "# Time.\n",
    "import time\n",
    "from datetime import datetime\n",
    "from datetime import date\n",
    "from datetime import timedelta\n",
    "import datetime as dt\n",
    "import calendar\n",
    "from dateutil.relativedelta import relativedelta\n",
    "\n",
    "# # Notebook.\n",
    "# from tqdm import tqdm           \n",
    "# from tqdm.notebook import tqdm  "
   ]
  },
  {
   "cell_type": "code",
   "execution_count": 2,
   "metadata": {
    "execution": {
     "iopub.execute_input": "2025-04-10T07:33:17.928904Z",
     "iopub.status.busy": "2025-04-10T07:33:17.928904Z",
     "iopub.status.idle": "2025-04-10T07:33:17.939916Z",
     "shell.execute_reply": "2025-04-10T07:33:17.939916Z"
    }
   },
   "outputs": [],
   "source": [
    "# dbutils.widgets.text(\"CPBEL_brewdat_actual_server_name\",\"\")\n",
    "# dbutils.widgets.text(\"CPBEL_brewdat_actual_db_name\",\"\")\n",
    "# dbutils.widgets.text(\"CPBEL_brewdat_actual_uid\",\"\")\n",
    "# dbutils.widgets.text(\"CPBEL_brewdat_actual_prod_key\",\"\")"
   ]
  },
  {
   "cell_type": "code",
   "execution_count": 3,
   "metadata": {
    "execution": {
     "iopub.execute_input": "2025-04-10T07:33:17.946969Z",
     "iopub.status.busy": "2025-04-10T07:33:17.939916Z",
     "iopub.status.idle": "2025-04-10T07:33:17.952750Z",
     "shell.execute_reply": "2025-04-10T07:33:17.952750Z"
    }
   },
   "outputs": [],
   "source": [
    "# # Taking below parameters From ADF Databricks Activity Base Parameters.\n",
    "# Server = dbutils.widgets.get('CPBEL_brewdat_actual_server_name')\n",
    "# DataBase = dbutils.widgets.get('CPBEL_brewdat_actual_db_name')\n",
    "# Username = dbutils.widgets.get('CPBEL_brewdat_actual_uid') \n",
    "# Password = dbutils.widgets.get('CPBEL_brewdat_actual_prod_key')"
   ]
  },
  {
   "cell_type": "code",
   "execution_count": 4,
   "metadata": {
    "execution": {
     "iopub.execute_input": "2025-04-10T07:33:17.960476Z",
     "iopub.status.busy": "2025-04-10T07:33:17.959467Z",
     "iopub.status.idle": "2025-04-10T07:33:17.969473Z",
     "shell.execute_reply": "2025-04-10T07:33:17.967473Z"
    }
   },
   "outputs": [],
   "source": [
    "# For manual testing\n",
    "Server   = \"edhazuredwgbprod.database.windows.net\"\n",
    "DataBase = \"edhazuredwgbprod\"\n",
    "Username = \"sqldwproduser_gac_eur_ro\"\n",
    "Password = \"Asvsfgert345#2fer$asdertg\""
   ]
  },
  {
   "cell_type": "code",
   "execution_count": 5,
   "metadata": {
    "execution": {
     "iopub.execute_input": "2025-04-10T07:33:17.975473Z",
     "iopub.status.busy": "2025-04-10T07:33:17.974470Z",
     "iopub.status.idle": "2025-04-10T07:33:17.991420Z",
     "shell.execute_reply": "2025-04-10T07:33:17.989418Z"
    }
   },
   "outputs": [],
   "source": [
    "class DataFromSQL:\n",
    "        \n",
    "    # Function to setup the SQL Server.    \n",
    "    def sql_server_setup(self, server: str, database: str, username: str, password :str) -> \"Server Connection String with connection status\":\n",
    "        \"\"\"\n",
    "        :param server   : The Brewdat SQL server name.\n",
    "        :param database : The Brewdat SQL database name.\n",
    "        :param username : The Brewdat SQL database user name.\n",
    "        :param password : The Brewdat SQL database password.\n",
    "        \"\"\"\n",
    "        try:    \n",
    "            connection_string = f\"DRIVER=ODBC Driver 17 for SQL Server; \\\n",
    "                              SERVER={server};                          \\\n",
    "                              DATABASE={database};                      \\\n",
    "                              UID={username};                           \\\n",
    "                              PWD={password}\"\n",
    "\n",
    "            connection  = pyodbc.connect(connection_string)\n",
    "            return (\"Successfull\", connection)\n",
    "        except Exception as e:\n",
    "            raise Exception ( f\"SQL Server Connection Failed !! : {str(e)}\" ) \n",
    "            \n",
    "            \n",
    "    # Function to Load Data From SQL Server.\n",
    "    def load_sql_data(self, sql_query: str, connection: str) -> \"Data from Brewdat Table\":\n",
    "        \"\"\"\n",
    "        :param sql_query  : The SQL query which fetches data from Brewdat SQL Server.\n",
    "        :param connection : The SQL Server Connection.\n",
    "        \"\"\"\n",
    "        try:    \n",
    "            df_sql = pd.read_sql(sql_query, connection)\n",
    "            return(\"Successfull\", df_sql)\n",
    "        except Exception as e:\n",
    "            raise Exception( f\"SQL Query Run Failed. !! : {str(e)}\" )"
   ]
  }
 ],
 "metadata": {
  "kernelspec": {
   "display_name": "base",
   "language": "python",
   "name": "python3"
  },
  "language_info": {
   "codemirror_mode": {
    "name": "ipython",
    "version": 3
   },
   "file_extension": ".py",
   "mimetype": "text/x-python",
   "name": "python",
   "nbconvert_exporter": "python",
   "pygments_lexer": "ipython3",
   "version": "3.11.2"
  }
 },
 "nbformat": 4,
 "nbformat_minor": 2
}
