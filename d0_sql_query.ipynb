{
 "cells": [
  {
   "cell_type": "code",
   "execution_count": 1,
   "id": "3ca6a860",
   "metadata": {
    "execution": {
     "iopub.execute_input": "2025-04-10T07:33:26.961353Z",
     "iopub.status.busy": "2025-04-10T07:33:26.960354Z",
     "iopub.status.idle": "2025-04-10T07:33:29.682173Z",
     "shell.execute_reply": "2025-04-10T07:33:29.679663Z"
    },
    "papermill": {
     "duration": 1.604402,
     "end_time": "2025-01-23T09:00:17.434783",
     "exception": false,
     "start_time": "2025-01-23T09:00:15.830381",
     "status": "completed"
    },
    "tags": []
   },
   "outputs": [],
   "source": [
    "import pyodbc\n",
    "import pandas as pd\n",
    "import os\n",
    "import datetime as dt\n",
    "from datetime import datetime, timedelta, date\n",
    "import xlrd\n",
    "import pytz\n",
    "import import_ipynb\n",
    "from d0_sql_connection import DataFromSQL\n",
    "from d0_sql_connection import *\n"
   ]
  },
  {
   "cell_type": "code",
   "execution_count": 2,
   "id": "372c9048",
   "metadata": {
    "execution": {
     "iopub.execute_input": "2025-04-10T07:33:29.684246Z",
     "iopub.status.busy": "2025-04-10T07:33:29.684246Z",
     "iopub.status.idle": "2025-04-10T07:33:29.697323Z",
     "shell.execute_reply": "2025-04-10T07:33:29.697323Z"
    }
   },
   "outputs": [],
   "source": [
    "#load the location variables from the file\n",
    "with open('location_variables.txt', 'r') as f:\n",
    "    for line in f:\n",
    "        exec(line)"
   ]
  },
  {
   "cell_type": "code",
   "execution_count": 3,
   "id": "4489304c",
   "metadata": {
    "execution": {
     "iopub.execute_input": "2025-04-10T07:33:29.702360Z",
     "iopub.status.busy": "2025-04-10T07:33:29.702360Z",
     "iopub.status.idle": "2025-04-10T07:33:29.722565Z",
     "shell.execute_reply": "2025-04-10T07:33:29.721016Z"
    }
   },
   "outputs": [
    {
     "data": {
      "text/plain": [
       "'2025-04-10 13:03:07'"
      ]
     },
     "execution_count": 3,
     "metadata": {},
     "output_type": "execute_result"
    }
   ],
   "source": [
    "run_time_naive"
   ]
  },
  {
   "cell_type": "code",
   "execution_count": 4,
   "id": "06c6826e",
   "metadata": {
    "execution": {
     "iopub.execute_input": "2025-04-10T07:33:29.724647Z",
     "iopub.status.busy": "2025-04-10T07:33:29.724647Z",
     "iopub.status.idle": "2025-04-10T07:33:29.743388Z",
     "shell.execute_reply": "2025-04-10T07:33:29.740851Z"
    }
   },
   "outputs": [
    {
     "data": {
      "text/plain": [
       "'2025-04-10 00:00:00'"
      ]
     },
     "execution_count": 4,
     "metadata": {},
     "output_type": "execute_result"
    }
   ],
   "source": [
    "run_date"
   ]
  },
  {
   "cell_type": "code",
   "execution_count": 5,
   "id": "d35cf0ca",
   "metadata": {
    "execution": {
     "iopub.execute_input": "2025-04-10T07:33:29.745451Z",
     "iopub.status.busy": "2025-04-10T07:33:29.745451Z",
     "iopub.status.idle": "2025-04-10T07:33:29.768227Z",
     "shell.execute_reply": "2025-04-10T07:33:29.768227Z"
    },
    "papermill": {
     "duration": 0.023605,
     "end_time": "2025-01-23T09:00:17.500760",
     "exception": false,
     "start_time": "2025-01-23T09:00:17.477155",
     "status": "completed"
    },
    "tags": []
   },
   "outputs": [],
   "source": [
    "\n",
    "# List of queries with corresponding output file names\n",
    "queries = {\n",
    "    \"stock\": \"\"\"\n",
    "        WITH MaxDate AS (\n",
    "        SELECT \n",
    "        material_sk, \n",
    "        plant_sk, \n",
    "        storage_location_code, \n",
    "        batch_code,\n",
    "        MAX(period_start_ts) AS max_period_start_ts,\n",
    "        period_end_ts\n",
    "        FROM abi_logistics_europe_non_sensitive_rpt.batch_stock_eur_d_v\n",
    "        group by material_sk, plant_sk, storage_location_code, batch_code, period_end_ts)\n",
    "        \n",
    "        SELECT m.material_code, s.*\n",
    "        FROM abi_logistics_europe_non_sensitive_rpt.batch_stock_eur_d_v AS s\n",
    "        LEFT JOIN abi_logistics_dwh.material_eur_d AS m\n",
    "        ON s.material_sk = m.material_sk\n",
    "        LEFT JOIN maxdate as mx\n",
    "        on mx.material_sk = s.material_sk AND mx.plant_sk = s.plant_sk AND mx.storage_location_code = s.storage_location_code AND mx.batch_code = s.batch_code AND mx.max_period_start_ts = s.period_start_ts\n",
    "        WHERE m.src_sys_region_nm = 'europe'\n",
    "        and s.valuated_stock_hl >0\n",
    "        order by s.period_start_ts desc\n",
    "    \"\"\",\n",
    "    \"Planned_loads\": \"\"\"\n",
    "        WITH Stop_1_Filtered AS (\n",
    "        SELECT distinct load_leg_sk, shipping_location_sk, appointment_from_ts, appointment_to_ts\n",
    "        FROM abi_logistics_dwh.stop_hist_actual_eur_d\n",
    "        WHERE period_end_ts > GETDATE()\n",
    "    ),\n",
    "    Stop_2_Filtered AS (\n",
    "        SELECT distinct load_leg_sk, shipping_location_sk, appointment_from_ts, appointment_to_ts\n",
    "        FROM abi_logistics_dwh.stop_hist_actual_eur_d\n",
    "        WHERE period_end_ts > GETDATE()\n",
    "    )\n",
    "    SELECT *,\n",
    "        dh.load_leg_item_number AS load_id,\n",
    "        stop_1.appointment_from_ts AS origin_slot_arrival,\n",
    "        stop_1.appointment_to_ts AS origin_slot_departure,\n",
    "        stop_2.appointment_from_ts AS destination_slot_arrival,\n",
    "        stop_2.appointment_to_ts AS destination_slot_departure,\n",
    "        di.reference_document_number AS RFRC_NUM12,\n",
    "        osl.shipping_location_code AS origin,\n",
    "        dsl.shipping_location_code AS destination,\n",
    "        di2.distribution_channel_code,  -- Use distribution_channel_code from the subquery\n",
    "        CASE\n",
    "            WHEN di2.distribution_channel_code = '01' THEN 'SO'\n",
    "            WHEN di2.distribution_channel_code = '02' THEN 'STO'\n",
    "            WHEN di2.distribution_channel_code = '03' THEN 'Export'\n",
    "            ELSE 'Undefined'\n",
    "        END AS movement_type\n",
    "    FROM abi_logistics_dwh.delivery_item_eur_d di\n",
    "    LEFT JOIN abi_logistics_dwh.delivery_eur_d dh\n",
    "        ON di.delivery_sk = dh.delivery_sk\n",
    "    LEFT JOIN abi_logistics_dwh.material_eur_d mat\n",
    "        ON di.material_sk = mat.material_sk\n",
    "    LEFT JOIN abi_logistics_dwh.shipping_location_eur_d osl\n",
    "        ON dh.origin_shipping_location_sk = osl.shipping_location_sk\n",
    "    LEFT JOIN abi_logistics_dwh.shipping_location_eur_d dsl\n",
    "        ON dh.destination_shipping_location_sk = dsl.shipping_location_sk\n",
    "    LEFT JOIN Stop_1_Filtered stop_1\n",
    "        ON dh.load_leg_sk = stop_1.load_leg_sk\n",
    "        AND dh.origin_shipping_location_sk = stop_1.shipping_location_sk\n",
    "    LEFT JOIN Stop_2_Filtered stop_2\n",
    "        ON dh.load_leg_sk = stop_2.load_leg_sk\n",
    "        AND dh.destination_shipping_location_sk = stop_2.shipping_location_sk\n",
    "    LEFT JOIN (\n",
    "        SELECT\n",
    "            delivery_sk,\n",
    "            plant_code,\n",
    "            MAX(distribution_channel_code) AS distribution_channel_code\n",
    "        FROM abi_logistics_dwh.delivery_item_eur_d\n",
    "        WHERE act_flg= 'Y'\n",
    "        AND actual_quantity > 0\n",
    "        GROUP BY delivery_sk, plant_code\n",
    "    ) di2\n",
    "    ON dh.delivery_sk = di2.delivery_sk\n",
    "    WHERE osl.shipping_location_code LIKE 'GB%'\n",
    "    AND di.actual_quantity > 0\n",
    "    AND di.act_flg = 'Y'\n",
    "    AND stop_1.appointment_from_ts IS NOT NULL\n",
    "    AND stop_1.appointment_to_ts IS NOT NULL\n",
    "    AND (\n",
    "        CAST(stop_1.appointment_from_ts AS DATE) = CAST(GETDATE() AS DATE)\n",
    "        OR CAST(stop_1.appointment_from_ts AS DATE) = CAST(DATEADD(DAY, 1, GETDATE()) AS DATE)\n",
    "    )\n",
    "    AND dh.delivery_sales_document_category <> '7';\n",
    "    \"\"\",\n",
    "    \"Inventory_policy\": \"\"\"\n",
    "        WITH LatestUpload AS (\n",
    "            SELECT *,\n",
    "                ROW_NUMBER() OVER (PARTITION BY material_sk, plant_sk , recommendation_date\n",
    "                                    ORDER BY ins_gmt_ts DESC, upd_gmt_ts DESC) AS rn\n",
    "            FROM abi_logistics_dwh.planning_inventory_profile_eur_f\n",
    "            WHERE LEN(plant_code) = 4 \n",
    "            AND recommendation_date = CAST(GETDATE() AS DATE)\n",
    "            AND (target_opening_stock != 0 OR maximum_stock != 0)\n",
    "            AND (business_unit_code = 'BNFL' OR business_unit_code = 'Central'\n",
    "                OR business_unit_code = 'West' OR business_unit_code = 'East')\n",
    "        )\n",
    "        SELECT *\n",
    "        FROM LatestUpload\n",
    "        WHERE rn = 1;\n",
    "    \"\"\",\n",
    "    \"Planned_production\": \"\"\"\n",
    "        SELECT *\n",
    "        FROM abi_logistics_dwh.infor_pub_process_batch_hist_eur_f\n",
    "        WHERE period_end_ts = (\n",
    "            SELECT MAX(period_end_ts)\n",
    "            FROM abi_logistics_dwh.infor_pub_process_batch_hist_eur_f\n",
    "        )\n",
    "        AND (\n",
    "            (CAST(start_inflow_ts AS DATE) <= CAST(GETDATE() AS DATE) \n",
    "            AND CAST(end_outflow_ts AS DATE) >= CAST(GETDATE() AS DATE))\n",
    "            OR \n",
    "            (CAST(start_inflow_ts AS DATE) <= CAST(DATEADD(DAY, 1, GETDATE()) AS DATE) \n",
    "            AND CAST(end_outflow_ts AS DATE) >= CAST(DATEADD(DAY, 1, GETDATE()) AS DATE))\n",
    "        );\n",
    "    \"\"\",\n",
    "    \"Actual_production\": \"\"\"\n",
    "        SELECT *\n",
    "        FROM abi_logistics_europe_non_sensitive_rpt.fpa_sigma_actual_v\n",
    "        WHERE reporting_date = CAST(GETDATE() AS DATE);\n",
    "    \"\"\",\n",
    "    \"UOM_full\": \"\"\"\n",
    "        SELECT m.material_code, uom.* \n",
    "        FROM abi_logistics_dwh.material_measure_conversion_eur_d AS uom\n",
    "        LEFT JOIN abi_logistics_dwh.material_eur_d AS m\n",
    "        ON uom.material_sk = m.material_sk\n",
    "        WHERE uom.target_unit_of_measure_code IN ('HL', 'PAL') \n",
    "        AND m.src_sys_region_nm = 'europe';\n",
    "    \"\"\",\n",
    "    \"UOM_weight\": \"\"\"\n",
    "        SELECT DISTINCT\n",
    "            did.material_code,\n",
    "            did.material_description,\n",
    "            hier.container_type_description,\n",
    "            case_length,\n",
    "            case_width,\n",
    "            case_height,\n",
    "            case_weight_kg,\n",
    "            layer_length,\n",
    "            layer_width,\n",
    "            layer_height,\n",
    "            layer_weight_kg,\n",
    "            cha_pal.length 'pal_length',\n",
    "            cha_pal.width 'pal_width',\n",
    "            pal_height,\n",
    "            CASE\n",
    "                WHEN cha_pal.pal_weight_kg IS NOT NULL\n",
    "                    THEN cha_pal.pal_weight_kg\n",
    "                ELSE cha_pal.gross_weight\n",
    "            END 'pal_weight_kg',\n",
    "            case_to_pal,\n",
    "            case_to_layer,\n",
    "            layer_to_pal\n",
    "        FROM (\n",
    "            SELECT DISTINCT \n",
    "                mara.material_sk,\n",
    "                mara.material_code,\n",
    "                mara.material_description,\n",
    "                mara.product_hierarchy_sk\n",
    "            FROM abi_logistics_dwh.material_eur_d mara \n",
    "            WHERE mara.src_sys_id = '615' \n",
    "                AND base_unit_of_measure_code NOT IN ('L', 'HL')\n",
    "        ) did\n",
    "        LEFT JOIN abi_logistics_dwh.product_hierarchy_flattened_eur_d hier\n",
    "        ON did.product_hierarchy_sk = hier.product_hierarchy_sk\n",
    "        LEFT JOIN (\n",
    "            SELECT\n",
    "                mat.material_sk,\n",
    "                1* uom.conversion_numerator / uom.conversion_denumerator * pc_mMC.conversion_denumerator / pc_mMC.conversion_numerator 'case_to_pal',\n",
    "                1* lay_mMC.conversion_numerator / lay_mMC.conversion_denumerator * pc_mMC.conversion_denumerator / pc_mMC.conversion_numerator 'case_to_layer',\n",
    "                1* uom.conversion_numerator / uom.conversion_denumerator * lay_mMC.conversion_denumerator / lay_mMC.conversion_numerator 'layer_to_pal',\n",
    "                cha.internal_floating_point_from_value 'pal_weight_kg',\n",
    "                CASE \n",
    "                    WHEN cha_pal_h.internal_floating_point_from_value IS NOT NULL\n",
    "                        THEN cha_pal_h.internal_floating_point_from_value\n",
    "                    ELSE uom.height\n",
    "                END 'pal_height',\n",
    "                uom.length,\n",
    "                uom.width,\n",
    "                uom.gross_weight,\n",
    "                pc_mMC.length 'case_length',\n",
    "                pc_mMC.width 'case_width',\n",
    "                pc_mMC.height 'case_height',\n",
    "                pc_mMC.gross_weight 'case_weight_kg',\n",
    "                lay_mMC.length 'layer_length',\n",
    "                lay_mMC.width 'layer_width',\n",
    "                lay_mMC.height 'layer_height',\n",
    "                lay_mMC.gross_weight 'layer_weight_kg'\n",
    "            FROM abi_logistics_dwh.material_eur_d mat\n",
    "            LEFT JOIN abi_logistics_dwh.material_characteristic_eur_d cha\n",
    "            ON mat.material_sk = cha.material_sk\n",
    "            AND cha.internal_characteristic_code = '778'\n",
    "            LEFT JOIN abi_logistics_dwh.material_characteristic_eur_d cha_pal_h\n",
    "            ON mat.material_sk = cha_pal_h.material_sk\n",
    "            AND cha_pal_h.internal_characteristic_code = '785'\n",
    "            LEFT JOIN abi_logistics_dwh.material_measure_conversion_eur_d uom\n",
    "            ON mat.material_sk = uom.material_sk\n",
    "            AND target_unit_of_measure_code = 'PAL'\n",
    "            LEFT JOIN abi_logistics_dwh.material_measure_conversion_eur_d pc_mMC\n",
    "            ON pc_mMC.target_unit_of_measure_code = 'PC'\n",
    "            AND pc_mMC.material_sk = mat.material_sk\n",
    "            LEFT JOIN abi_logistics_dwh.material_measure_conversion_eur_d lay_mMC\n",
    "            ON lay_mMC.target_unit_of_measure_code = 'LAYER'\n",
    "            AND lay_mMC.material_sk = mat.material_sk\n",
    "            LEFT JOIN abi_logistics_dwh.material_measure_conversion_eur_d cha_pal\n",
    "            ON cha_pal.material_sk = mat.material_sk\n",
    "            AND cha_pal.target_unit_of_measure_code = 'PAL'\n",
    "            WHERE mat.src_sys_region_nm = 'europe'\n",
    "        ) cha_pal\n",
    "        ON did.material_sk = cha_pal.material_sk\n",
    "        WHERE cha_pal.pal_weight_kg IS NOT NULL;\n",
    "    \"\"\",\n",
    "    \"lcp_data\": \"\"\"\n",
    "        SELECT * from abi_logistics_dwh.lcp_rank_operational_forecast_eur_f\n",
    "        WHERE LEN(origin_location_code) = 4\n",
    "        AND LEN(destination_location_code) = 4;\n",
    "    \"\"\"\n",
    "}\n"
   ]
  },
  {
   "cell_type": "code",
   "execution_count": 6,
   "id": "f621c4f5",
   "metadata": {
    "execution": {
     "iopub.execute_input": "2025-04-10T07:33:29.775851Z",
     "iopub.status.busy": "2025-04-10T07:33:29.773808Z",
     "iopub.status.idle": "2025-04-10T07:35:48.310637Z",
     "shell.execute_reply": "2025-04-10T07:35:48.310637Z"
    },
    "papermill": {
     "duration": 40.089378,
     "end_time": "2025-01-23T09:00:57.627524",
     "exception": true,
     "start_time": "2025-01-23T09:00:17.538146",
     "status": "failed"
    },
    "tags": []
   },
   "outputs": [
    {
     "name": "stdout",
     "output_type": "stream",
     "text": [
      "SQL Server Connection Status is: Successfull\n"
     ]
    },
    {
     "name": "stderr",
     "output_type": "stream",
     "text": [
      "<string>:31: UserWarning: pandas only supports SQLAlchemy connectable (engine/connection) or database string URI or sqlite3 DBAPI2 connection. Other DBAPI2 objects are not tested. Please consider using SQLAlchemy.\n"
     ]
    },
    {
     "name": "stdout",
     "output_type": "stream",
     "text": [
      "Saved stock as CSV at: ./Input_Data/04. April 2025/10_04_2025/2025_04_10_13_03_07 input data/input_stock.csv\n"
     ]
    },
    {
     "name": "stdout",
     "output_type": "stream",
     "text": [
      "Saved Planned_loads as CSV at: ./Input_Data/04. April 2025/10_04_2025/2025_04_10_13_03_07 input data/input_Planned_loads.csv\n"
     ]
    },
    {
     "name": "stdout",
     "output_type": "stream",
     "text": [
      "Saved Inventory_policy as CSV at: ./Input_Data/04. April 2025/10_04_2025/2025_04_10_13_03_07 input data/input_Inventory_policy.csv\n"
     ]
    },
    {
     "name": "stdout",
     "output_type": "stream",
     "text": [
      "Saved Planned_production as CSV at: ./Input_Data/04. April 2025/10_04_2025/2025_04_10_13_03_07 input data/input_Planned_production.csv\n"
     ]
    },
    {
     "name": "stdout",
     "output_type": "stream",
     "text": [
      "Saved Actual_production as CSV at: ./Input_Data/04. April 2025/10_04_2025/2025_04_10_13_03_07 input data/input_Actual_production.csv\n"
     ]
    },
    {
     "name": "stdout",
     "output_type": "stream",
     "text": [
      "Saved UOM_full as CSV at: ./Input_Data/04. April 2025/10_04_2025/2025_04_10_13_03_07 input data/input_UOM_full.csv\n"
     ]
    },
    {
     "name": "stdout",
     "output_type": "stream",
     "text": [
      "Saved UOM_weight as CSV at: ./Input_Data/04. April 2025/10_04_2025/2025_04_10_13_03_07 input data/input_UOM_weight.csv\n"
     ]
    },
    {
     "name": "stdout",
     "output_type": "stream",
     "text": [
      "Saved lcp_data as CSV at: ./Input_Data/04. April 2025/10_04_2025/2025_04_10_13_03_07 input data/input_lcp_data.csv\n"
     ]
    }
   ],
   "source": [
    "# Function to execute query and save result as a CSV file using DataFromSQL class\n",
    "def execute_and_save(query, data_filepath, filename, sql_obj, conxn):\n",
    "    status, df = sql_obj.load_sql_data(query, conxn)\n",
    "    if status:\n",
    "        output_path = os.path.join(data_filepath, f\"input_{filename}.csv\")\n",
    "        df.to_csv(output_path,index=False)\n",
    "        print(f\"Saved {filename} as CSV at: {output_path}\")\n",
    "    else:\n",
    "        print(f\"Failed to execute query for {filename}\")\n",
    "\n",
    "# Initialize SQL connection using DataFromSQL class\n",
    "try:\n",
    "    sql_obj = DataFromSQL()\n",
    "    connection_status, conxn = sql_obj.sql_server_setup(Server, DataBase, Username, Password)\n",
    "    print(f\"SQL Server Connection Status is: {connection_status}\")\n",
    "\n",
    "    # Loop through the queries and execute each one\n",
    "    for name, query in queries.items():\n",
    "        execute_and_save(query, data_filepath, name, sql_obj, conxn)\n",
    "\n",
    "    # Close the connection\n",
    "    conxn.close()\n",
    "\n",
    "except Exception as e:\n",
    "    raise Exception(str(e))"
   ]
  }
 ],
 "metadata": {
  "kernelspec": {
   "display_name": "base",
   "language": "python",
   "name": "python3"
  },
  "language_info": {
   "codemirror_mode": {
    "name": "ipython",
    "version": 3
   },
   "file_extension": ".py",
   "mimetype": "text/x-python",
   "name": "python",
   "nbconvert_exporter": "python",
   "pygments_lexer": "ipython3",
   "version": "3.11.2"
  },
  "papermill": {
   "default_parameters": {},
   "duration": 47.046808,
   "end_time": "2025-01-23T09:00:59.142396",
   "environment_variables": {},
   "exception": true,
   "input_path": "d0_sql_query.ipynb",
   "output_path": "d0_sql_query.ipynb",
   "parameters": {
    "data_filepath": "./Input_Data/01. January 2025/23_01_2025/2025-01-23_09_00_11 input data/"
   },
   "start_time": "2025-01-23T09:00:12.095588",
   "version": "2.6.0"
  }
 },
 "nbformat": 4,
 "nbformat_minor": 5
}
