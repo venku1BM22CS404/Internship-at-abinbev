{
 "cells": [
  {
   "cell_type": "markdown",
   "metadata": {},
   "source": [
    "# Data Preprocessing "
   ]
  },
  {
   "cell_type": "markdown",
   "metadata": {},
   "source": [
    "### Dynamic file path updation"
   ]
  },
  {
   "cell_type": "code",
   "execution_count": 1,
   "metadata": {
    "execution": {
     "iopub.execute_input": "2025-04-10T07:35:56.789724Z",
     "iopub.status.busy": "2025-04-10T07:35:56.789724Z",
     "iopub.status.idle": "2025-04-10T07:35:56.814133Z",
     "shell.execute_reply": "2025-04-10T07:35:56.814133Z"
    }
   },
   "outputs": [
    {
     "name": "stdout",
     "output_type": "stream",
     "text": [
      "Using Data Path: ./Input_Data/04. April 2025/10_04_2025/2025_04_10_13_03_07 input data/\n",
      "Saving Preprocessed Data To: ./PRE_PROCESSED_DATA/04. April 2025/10_04_2025 preprocessed data/2025_04_10_13_03_07 preprocessed data/\n"
     ]
    }
   ],
   "source": [
    "# Read location_variables.txt and extract file paths\n",
    "location_file = \"location_variables.txt\"\n",
    "\n",
    "# Read the file and store variables in a dictionary\n",
    "with open(location_file, \"r\") as file:\n",
    "    locations = {line.split(\" = \")[0]: line.split(\" = \")[1].strip().strip('\"') for line in file}\n",
    "\n",
    "# Extract relevant paths\n",
    "data_filepath = locations[\"data_filepath\"]  # Latest input data path\n",
    "preprocessed_path = locations[\"preprocessed_path\"]  # Where to save preprocessed data\n",
    "\n",
    "print(\"Using Data Path:\", data_filepath)\n",
    "print(\"Saving Preprocessed Data To:\", preprocessed_path)\n"
   ]
  },
  {
   "cell_type": "markdown",
   "metadata": {},
   "source": [
    "#### Load Datasets"
   ]
  },
  {
   "cell_type": "code",
   "execution_count": 2,
   "metadata": {
    "execution": {
     "iopub.execute_input": "2025-04-10T07:35:56.822220Z",
     "iopub.status.busy": "2025-04-10T07:35:56.822220Z",
     "iopub.status.idle": "2025-04-10T07:36:01.997328Z",
     "shell.execute_reply": "2025-04-10T07:36:01.995331Z"
    }
   },
   "outputs": [
    {
     "name": "stdout",
     "output_type": "stream",
     "text": [
      "Loaded input_Actual_production.csv - Shape: (66, 5)\n",
      "Loaded input_Inventory_policy.csv - Shape: (5277, 6)\n"
     ]
    },
    {
     "name": "stdout",
     "output_type": "stream",
     "text": [
      "Loaded input_lcp_data.csv - Shape: (80898, 9)\n"
     ]
    },
    {
     "name": "stdout",
     "output_type": "stream",
     "text": [
      "Loaded input_Planned_loads.csv - Shape: (2890, 16)\n",
      "Loaded input_Planned_production.csv - Shape: (637, 10)\n"
     ]
    },
    {
     "name": "stdout",
     "output_type": "stream",
     "text": [
      "Loaded input_stock.csv - Shape: (69032, 7)\n"
     ]
    },
    {
     "name": "stdout",
     "output_type": "stream",
     "text": [
      "Loaded input_UOM_full.csv - Shape: (126813, 5)\n",
      "Loaded input_UOM_weight.csv - Shape: (12684, 2)\n",
      "\n",
      "input_Actual_production.csv - First 3 rows:\n"
     ]
    },
    {
     "data": {
      "text/html": [
       "<div>\n",
       "<style scoped>\n",
       "    .dataframe tbody tr th:only-of-type {\n",
       "        vertical-align: middle;\n",
       "    }\n",
       "\n",
       "    .dataframe tbody tr th {\n",
       "        vertical-align: top;\n",
       "    }\n",
       "\n",
       "    .dataframe thead th {\n",
       "        text-align: right;\n",
       "    }\n",
       "</style>\n",
       "<table border=\"1\" class=\"dataframe\">\n",
       "  <thead>\n",
       "    <tr style=\"text-align: right;\">\n",
       "      <th></th>\n",
       "      <th>plant_sk</th>\n",
       "      <th>plant_code</th>\n",
       "      <th>material_sk</th>\n",
       "      <th>material_code</th>\n",
       "      <th>actual_quantity</th>\n",
       "    </tr>\n",
       "  </thead>\n",
       "  <tbody>\n",
       "    <tr>\n",
       "      <th>0</th>\n",
       "      <td>573</td>\n",
       "      <td>DE05</td>\n",
       "      <td>1814</td>\n",
       "      <td>5687</td>\n",
       "      <td>5840.0</td>\n",
       "    </tr>\n",
       "    <tr>\n",
       "      <th>1</th>\n",
       "      <td>16369</td>\n",
       "      <td>CI01</td>\n",
       "      <td>16135682</td>\n",
       "      <td>9950043</td>\n",
       "      <td>8400.0</td>\n",
       "    </tr>\n",
       "    <tr>\n",
       "      <th>2</th>\n",
       "      <td>1692</td>\n",
       "      <td>DE08</td>\n",
       "      <td>2364</td>\n",
       "      <td>6085</td>\n",
       "      <td>5520.0</td>\n",
       "    </tr>\n",
       "  </tbody>\n",
       "</table>\n",
       "</div>"
      ],
      "text/plain": [
       "  plant_sk plant_code material_sk material_code actual_quantity\n",
       "0      573       DE05        1814          5687          5840.0\n",
       "1    16369       CI01    16135682       9950043          8400.0\n",
       "2     1692       DE08        2364          6085          5520.0"
      ]
     },
     "metadata": {},
     "output_type": "display_data"
    },
    {
     "name": "stdout",
     "output_type": "stream",
     "text": [
      "\n",
      "input_Inventory_policy.csv - First 3 rows:\n"
     ]
    },
    {
     "data": {
      "text/html": [
       "<div>\n",
       "<style scoped>\n",
       "    .dataframe tbody tr th:only-of-type {\n",
       "        vertical-align: middle;\n",
       "    }\n",
       "\n",
       "    .dataframe tbody tr th {\n",
       "        vertical-align: top;\n",
       "    }\n",
       "\n",
       "    .dataframe thead th {\n",
       "        text-align: right;\n",
       "    }\n",
       "</style>\n",
       "<table border=\"1\" class=\"dataframe\">\n",
       "  <thead>\n",
       "    <tr style=\"text-align: right;\">\n",
       "      <th></th>\n",
       "      <th>material_sk</th>\n",
       "      <th>plant_sk</th>\n",
       "      <th>plant_code</th>\n",
       "      <th>material_code</th>\n",
       "      <th>target_opening_stock</th>\n",
       "      <th>maximum_stock</th>\n",
       "    </tr>\n",
       "  </thead>\n",
       "  <tbody>\n",
       "    <tr>\n",
       "      <th>0</th>\n",
       "      <td>1876258</td>\n",
       "      <td>1941</td>\n",
       "      <td>NL03</td>\n",
       "      <td>107494</td>\n",
       "      <td>300.0</td>\n",
       "      <td>810.210226</td>\n",
       "    </tr>\n",
       "    <tr>\n",
       "      <th>1</th>\n",
       "      <td>3480</td>\n",
       "      <td>2566</td>\n",
       "      <td>DE02</td>\n",
       "      <td>6365</td>\n",
       "      <td>47.968987</td>\n",
       "      <td>240.031882</td>\n",
       "    </tr>\n",
       "    <tr>\n",
       "      <th>2</th>\n",
       "      <td>59933</td>\n",
       "      <td>2641</td>\n",
       "      <td>NL08</td>\n",
       "      <td>94885</td>\n",
       "      <td>0.414761</td>\n",
       "      <td>1.121469</td>\n",
       "    </tr>\n",
       "  </tbody>\n",
       "</table>\n",
       "</div>"
      ],
      "text/plain": [
       "  material_sk plant_sk plant_code material_code target_opening_stock  \\\n",
       "0     1876258     1941       NL03        107494                300.0   \n",
       "1        3480     2566       DE02          6365            47.968987   \n",
       "2       59933     2641       NL08         94885             0.414761   \n",
       "\n",
       "  maximum_stock  \n",
       "0    810.210226  \n",
       "1    240.031882  \n",
       "2      1.121469  "
      ]
     },
     "metadata": {},
     "output_type": "display_data"
    },
    {
     "name": "stdout",
     "output_type": "stream",
     "text": [
      "\n",
      "input_lcp_data.csv - First 3 rows:\n"
     ]
    },
    {
     "data": {
      "text/html": [
       "<div>\n",
       "<style scoped>\n",
       "    .dataframe tbody tr th:only-of-type {\n",
       "        vertical-align: middle;\n",
       "    }\n",
       "\n",
       "    .dataframe tbody tr th {\n",
       "        vertical-align: top;\n",
       "    }\n",
       "\n",
       "    .dataframe thead th {\n",
       "        text-align: right;\n",
       "    }\n",
       "</style>\n",
       "<table border=\"1\" class=\"dataframe\">\n",
       "  <thead>\n",
       "    <tr style=\"text-align: right;\">\n",
       "      <th></th>\n",
       "      <th>material_sk</th>\n",
       "      <th>origin_plant_sk</th>\n",
       "      <th>destination_plant_sk</th>\n",
       "      <th>lcp_rank</th>\n",
       "      <th>release_week_id</th>\n",
       "      <th>material_code</th>\n",
       "      <th>origin_location_code</th>\n",
       "      <th>destination_location_code</th>\n",
       "      <th>ins_gmt_ts</th>\n",
       "    </tr>\n",
       "  </thead>\n",
       "  <tbody>\n",
       "    <tr>\n",
       "      <th>0</th>\n",
       "      <td>3769</td>\n",
       "      <td>573</td>\n",
       "      <td>2566</td>\n",
       "      <td>2</td>\n",
       "      <td>202451</td>\n",
       "      <td>11524</td>\n",
       "      <td>DE05</td>\n",
       "      <td>DE02</td>\n",
       "      <td>20241227124946</td>\n",
       "    </tr>\n",
       "    <tr>\n",
       "      <th>1</th>\n",
       "      <td>3480</td>\n",
       "      <td>573</td>\n",
       "      <td>520</td>\n",
       "      <td>1</td>\n",
       "      <td>202451</td>\n",
       "      <td>6365</td>\n",
       "      <td>DE05</td>\n",
       "      <td>DE12</td>\n",
       "      <td>20241227124946</td>\n",
       "    </tr>\n",
       "    <tr>\n",
       "      <th>2</th>\n",
       "      <td>1899</td>\n",
       "      <td>573</td>\n",
       "      <td>4766</td>\n",
       "      <td>1</td>\n",
       "      <td>202451</td>\n",
       "      <td>6590</td>\n",
       "      <td>DE05</td>\n",
       "      <td>DE06</td>\n",
       "      <td>20241227124946</td>\n",
       "    </tr>\n",
       "  </tbody>\n",
       "</table>\n",
       "</div>"
      ],
      "text/plain": [
       "  material_sk origin_plant_sk destination_plant_sk lcp_rank release_week_id  \\\n",
       "0        3769             573                 2566        2          202451   \n",
       "1        3480             573                  520        1          202451   \n",
       "2        1899             573                 4766        1          202451   \n",
       "\n",
       "  material_code origin_location_code destination_location_code      ins_gmt_ts  \n",
       "0         11524                 DE05                      DE02  20241227124946  \n",
       "1          6365                 DE05                      DE12  20241227124946  \n",
       "2          6590                 DE05                      DE06  20241227124946  "
      ]
     },
     "metadata": {},
     "output_type": "display_data"
    },
    {
     "name": "stdout",
     "output_type": "stream",
     "text": [
      "\n",
      "input_Planned_loads.csv - First 3 rows:\n"
     ]
    },
    {
     "data": {
      "text/html": [
       "<div>\n",
       "<style scoped>\n",
       "    .dataframe tbody tr th:only-of-type {\n",
       "        vertical-align: middle;\n",
       "    }\n",
       "\n",
       "    .dataframe tbody tr th {\n",
       "        vertical-align: top;\n",
       "    }\n",
       "\n",
       "    .dataframe thead th {\n",
       "        text-align: right;\n",
       "    }\n",
       "</style>\n",
       "<table border=\"1\" class=\"dataframe\">\n",
       "  <thead>\n",
       "    <tr style=\"text-align: right;\">\n",
       "      <th></th>\n",
       "      <th>delivery_sk</th>\n",
       "      <th>material_sk</th>\n",
       "      <th>actual_quantity</th>\n",
       "      <th>unit_of_measure_code</th>\n",
       "      <th>plant_code</th>\n",
       "      <th>transportation_planning_priority</th>\n",
       "      <th>material_code</th>\n",
       "      <th>load_id</th>\n",
       "      <th>origin_slot_arrival</th>\n",
       "      <th>origin_slot_departure</th>\n",
       "      <th>destination_slot_arrival</th>\n",
       "      <th>destination_slot_departure</th>\n",
       "      <th>RFRC_NUM12</th>\n",
       "      <th>origin</th>\n",
       "      <th>destination</th>\n",
       "      <th>movement_type</th>\n",
       "    </tr>\n",
       "  </thead>\n",
       "  <tbody>\n",
       "    <tr>\n",
       "      <th>0</th>\n",
       "      <td>81728721</td>\n",
       "      <td>1977870</td>\n",
       "      <td>4680.0</td>\n",
       "      <td>PC</td>\n",
       "      <td>GB01</td>\n",
       "      <td>01</td>\n",
       "      <td>99150</td>\n",
       "      <td>34718714</td>\n",
       "      <td>2025-04-10 08:00:00</td>\n",
       "      <td>2025-04-10 08:30:00</td>\n",
       "      <td>NaN</td>\n",
       "      <td>NaN</td>\n",
       "      <td>0021820530</td>\n",
       "      <td>GB01</td>\n",
       "      <td>29585614</td>\n",
       "      <td>SO</td>\n",
       "    </tr>\n",
       "    <tr>\n",
       "      <th>1</th>\n",
       "      <td>81649724</td>\n",
       "      <td>1869080</td>\n",
       "      <td>26.0</td>\n",
       "      <td>PC</td>\n",
       "      <td>GB67</td>\n",
       "      <td>01</td>\n",
       "      <td>108741</td>\n",
       "      <td>34714811</td>\n",
       "      <td>2025-04-10 16:00:00</td>\n",
       "      <td>2025-04-10 17:00:00</td>\n",
       "      <td>NaN</td>\n",
       "      <td>NaN</td>\n",
       "      <td>0021806479</td>\n",
       "      <td>GB67</td>\n",
       "      <td>29586301</td>\n",
       "      <td>SO</td>\n",
       "    </tr>\n",
       "    <tr>\n",
       "      <th>2</th>\n",
       "      <td>81697215</td>\n",
       "      <td>1978473</td>\n",
       "      <td>450.0</td>\n",
       "      <td>PC</td>\n",
       "      <td>GB02</td>\n",
       "      <td>01</td>\n",
       "      <td>99148</td>\n",
       "      <td>34716589</td>\n",
       "      <td>2025-04-10 15:00:00</td>\n",
       "      <td>2025-04-10 15:30:00</td>\n",
       "      <td>NaN</td>\n",
       "      <td>NaN</td>\n",
       "      <td>0021816790</td>\n",
       "      <td>GB02</td>\n",
       "      <td>29586299</td>\n",
       "      <td>SO</td>\n",
       "    </tr>\n",
       "  </tbody>\n",
       "</table>\n",
       "</div>"
      ],
      "text/plain": [
       "  delivery_sk material_sk actual_quantity unit_of_measure_code plant_code  \\\n",
       "0    81728721     1977870          4680.0                   PC       GB01   \n",
       "1    81649724     1869080            26.0                   PC       GB67   \n",
       "2    81697215     1978473           450.0                   PC       GB02   \n",
       "\n",
       "  transportation_planning_priority material_code   load_id  \\\n",
       "0                               01         99150  34718714   \n",
       "1                               01        108741  34714811   \n",
       "2                               01         99148  34716589   \n",
       "\n",
       "   origin_slot_arrival origin_slot_departure destination_slot_arrival  \\\n",
       "0  2025-04-10 08:00:00   2025-04-10 08:30:00                      NaN   \n",
       "1  2025-04-10 16:00:00   2025-04-10 17:00:00                      NaN   \n",
       "2  2025-04-10 15:00:00   2025-04-10 15:30:00                      NaN   \n",
       "\n",
       "  destination_slot_departure  RFRC_NUM12 origin destination movement_type  \n",
       "0                        NaN  0021820530   GB01    29585614            SO  \n",
       "1                        NaN  0021806479   GB67    29586301            SO  \n",
       "2                        NaN  0021816790   GB02    29586299            SO  "
      ]
     },
     "metadata": {},
     "output_type": "display_data"
    },
    {
     "name": "stdout",
     "output_type": "stream",
     "text": [
      "\n",
      "input_Planned_production.csv - First 3 rows:\n"
     ]
    },
    {
     "data": {
      "text/html": [
       "<div>\n",
       "<style scoped>\n",
       "    .dataframe tbody tr th:only-of-type {\n",
       "        vertical-align: middle;\n",
       "    }\n",
       "\n",
       "    .dataframe tbody tr th {\n",
       "        vertical-align: top;\n",
       "    }\n",
       "\n",
       "    .dataframe thead th {\n",
       "        text-align: right;\n",
       "    }\n",
       "</style>\n",
       "<table border=\"1\" class=\"dataframe\">\n",
       "  <thead>\n",
       "    <tr style=\"text-align: right;\">\n",
       "      <th></th>\n",
       "      <th>duration</th>\n",
       "      <th>end_outflow_ts</th>\n",
       "      <th>material_sk</th>\n",
       "      <th>material_code</th>\n",
       "      <th>plant_sk</th>\n",
       "      <th>plant_code</th>\n",
       "      <th>product_unit</th>\n",
       "      <th>quantity</th>\n",
       "      <th>start_inflow_ts</th>\n",
       "      <th>status</th>\n",
       "    </tr>\n",
       "  </thead>\n",
       "  <tbody>\n",
       "    <tr>\n",
       "      <th>0</th>\n",
       "      <td>600.0</td>\n",
       "      <td>2025-04-10 09:00:00</td>\n",
       "      <td>49997</td>\n",
       "      <td>62275</td>\n",
       "      <td>482</td>\n",
       "      <td>GB01</td>\n",
       "      <td>PCE</td>\n",
       "      <td>39480.0</td>\n",
       "      <td>2025-04-09 23:00:00</td>\n",
       "      <td>processorder</td>\n",
       "    </tr>\n",
       "    <tr>\n",
       "      <th>1</th>\n",
       "      <td>116.0</td>\n",
       "      <td>2025-04-11 02:17:00</td>\n",
       "      <td>16116094</td>\n",
       "      <td>99787_RTL</td>\n",
       "      <td>85</td>\n",
       "      <td>BE02</td>\n",
       "      <td>HLT</td>\n",
       "      <td>580.0</td>\n",
       "      <td>2025-04-11 00:21:00</td>\n",
       "      <td>NO STATUS</td>\n",
       "    </tr>\n",
       "    <tr>\n",
       "      <th>2</th>\n",
       "      <td>1407.0</td>\n",
       "      <td>2025-04-12 05:27:00</td>\n",
       "      <td>1895487</td>\n",
       "      <td>104115</td>\n",
       "      <td>2566</td>\n",
       "      <td>DE02</td>\n",
       "      <td>PCE</td>\n",
       "      <td>30500.0</td>\n",
       "      <td>2025-04-11 06:00:00</td>\n",
       "      <td>processorder</td>\n",
       "    </tr>\n",
       "  </tbody>\n",
       "</table>\n",
       "</div>"
      ],
      "text/plain": [
       "  duration       end_outflow_ts material_sk material_code plant_sk plant_code  \\\n",
       "0    600.0  2025-04-10 09:00:00       49997         62275      482       GB01   \n",
       "1    116.0  2025-04-11 02:17:00    16116094     99787_RTL       85       BE02   \n",
       "2   1407.0  2025-04-12 05:27:00     1895487        104115     2566       DE02   \n",
       "\n",
       "  product_unit quantity      start_inflow_ts        status  \n",
       "0          PCE  39480.0  2025-04-09 23:00:00  processorder  \n",
       "1          HLT    580.0  2025-04-11 00:21:00     NO STATUS  \n",
       "2          PCE  30500.0  2025-04-11 06:00:00  processorder  "
      ]
     },
     "metadata": {},
     "output_type": "display_data"
    },
    {
     "name": "stdout",
     "output_type": "stream",
     "text": [
      "\n",
      "input_stock.csv - First 3 rows:\n"
     ]
    },
    {
     "data": {
      "text/html": [
       "<div>\n",
       "<style scoped>\n",
       "    .dataframe tbody tr th:only-of-type {\n",
       "        vertical-align: middle;\n",
       "    }\n",
       "\n",
       "    .dataframe tbody tr th {\n",
       "        vertical-align: top;\n",
       "    }\n",
       "\n",
       "    .dataframe thead th {\n",
       "        text-align: right;\n",
       "    }\n",
       "</style>\n",
       "<table border=\"1\" class=\"dataframe\">\n",
       "  <thead>\n",
       "    <tr style=\"text-align: right;\">\n",
       "      <th></th>\n",
       "      <th>material_code</th>\n",
       "      <th>material_sk</th>\n",
       "      <th>storage_location_code</th>\n",
       "      <th>plant_sk</th>\n",
       "      <th>plant_code</th>\n",
       "      <th>valuated_stock_hl</th>\n",
       "      <th>shelf_life_expiration_ts</th>\n",
       "    </tr>\n",
       "  </thead>\n",
       "  <tbody>\n",
       "    <tr>\n",
       "      <th>0</th>\n",
       "      <td>66638</td>\n",
       "      <td>41950</td>\n",
       "      <td>4014</td>\n",
       "      <td>13688</td>\n",
       "      <td>IT12</td>\n",
       "      <td>9.0</td>\n",
       "      <td>2025-04-05 00:00:00</td>\n",
       "    </tr>\n",
       "    <tr>\n",
       "      <th>1</th>\n",
       "      <td>7587279</td>\n",
       "      <td>130491</td>\n",
       "      <td>1010</td>\n",
       "      <td>133</td>\n",
       "      <td>BE06</td>\n",
       "      <td>1.42</td>\n",
       "      <td>1900-01-01 00:00:00</td>\n",
       "    </tr>\n",
       "    <tr>\n",
       "      <th>2</th>\n",
       "      <td>66638</td>\n",
       "      <td>41950</td>\n",
       "      <td>4015</td>\n",
       "      <td>13688</td>\n",
       "      <td>IT12</td>\n",
       "      <td>21.6</td>\n",
       "      <td>2025-04-05 00:00:00</td>\n",
       "    </tr>\n",
       "  </tbody>\n",
       "</table>\n",
       "</div>"
      ],
      "text/plain": [
       "  material_code material_sk storage_location_code plant_sk plant_code  \\\n",
       "0         66638       41950                  4014    13688       IT12   \n",
       "1       7587279      130491                  1010      133       BE06   \n",
       "2         66638       41950                  4015    13688       IT12   \n",
       "\n",
       "  valuated_stock_hl shelf_life_expiration_ts  \n",
       "0               9.0      2025-04-05 00:00:00  \n",
       "1              1.42      1900-01-01 00:00:00  \n",
       "2              21.6      2025-04-05 00:00:00  "
      ]
     },
     "metadata": {},
     "output_type": "display_data"
    },
    {
     "name": "stdout",
     "output_type": "stream",
     "text": [
      "\n",
      "input_UOM_full.csv - First 3 rows:\n"
     ]
    },
    {
     "data": {
      "text/html": [
       "<div>\n",
       "<style scoped>\n",
       "    .dataframe tbody tr th:only-of-type {\n",
       "        vertical-align: middle;\n",
       "    }\n",
       "\n",
       "    .dataframe tbody tr th {\n",
       "        vertical-align: top;\n",
       "    }\n",
       "\n",
       "    .dataframe thead th {\n",
       "        text-align: right;\n",
       "    }\n",
       "</style>\n",
       "<table border=\"1\" class=\"dataframe\">\n",
       "  <thead>\n",
       "    <tr style=\"text-align: right;\">\n",
       "      <th></th>\n",
       "      <th>material_code</th>\n",
       "      <th>material_sk</th>\n",
       "      <th>target_unit_of_measure_code</th>\n",
       "      <th>conversion_numerator</th>\n",
       "      <th>conversion_denumerator</th>\n",
       "    </tr>\n",
       "  </thead>\n",
       "  <tbody>\n",
       "    <tr>\n",
       "      <th>0</th>\n",
       "      <td>185</td>\n",
       "      <td>92</td>\n",
       "      <td>PAL</td>\n",
       "      <td>70.0</td>\n",
       "      <td>1.0</td>\n",
       "    </tr>\n",
       "    <tr>\n",
       "      <th>1</th>\n",
       "      <td>80</td>\n",
       "      <td>10</td>\n",
       "      <td>PAL</td>\n",
       "      <td>8.0</td>\n",
       "      <td>1.0</td>\n",
       "    </tr>\n",
       "    <tr>\n",
       "      <th>2</th>\n",
       "      <td>26</td>\n",
       "      <td>6</td>\n",
       "      <td>PAL</td>\n",
       "      <td>70.0</td>\n",
       "      <td>1.0</td>\n",
       "    </tr>\n",
       "  </tbody>\n",
       "</table>\n",
       "</div>"
      ],
      "text/plain": [
       "  material_code material_sk target_unit_of_measure_code conversion_numerator  \\\n",
       "0           185          92                         PAL                 70.0   \n",
       "1            80          10                         PAL                  8.0   \n",
       "2            26           6                         PAL                 70.0   \n",
       "\n",
       "  conversion_denumerator  \n",
       "0                    1.0  \n",
       "1                    1.0  \n",
       "2                    1.0  "
      ]
     },
     "metadata": {},
     "output_type": "display_data"
    },
    {
     "name": "stdout",
     "output_type": "stream",
     "text": [
      "\n",
      "input_UOM_weight.csv - First 3 rows:\n"
     ]
    },
    {
     "data": {
      "text/html": [
       "<div>\n",
       "<style scoped>\n",
       "    .dataframe tbody tr th:only-of-type {\n",
       "        vertical-align: middle;\n",
       "    }\n",
       "\n",
       "    .dataframe tbody tr th {\n",
       "        vertical-align: top;\n",
       "    }\n",
       "\n",
       "    .dataframe thead th {\n",
       "        text-align: right;\n",
       "    }\n",
       "</style>\n",
       "<table border=\"1\" class=\"dataframe\">\n",
       "  <thead>\n",
       "    <tr style=\"text-align: right;\">\n",
       "      <th></th>\n",
       "      <th>material_code</th>\n",
       "      <th>pal_weight_kg</th>\n",
       "    </tr>\n",
       "  </thead>\n",
       "  <tbody>\n",
       "    <tr>\n",
       "      <th>0</th>\n",
       "      <td>100298</td>\n",
       "      <td>1005.76</td>\n",
       "    </tr>\n",
       "    <tr>\n",
       "      <th>1</th>\n",
       "      <td>100584</td>\n",
       "      <td>936.0</td>\n",
       "    </tr>\n",
       "    <tr>\n",
       "      <th>2</th>\n",
       "      <td>100787</td>\n",
       "      <td>928.0</td>\n",
       "    </tr>\n",
       "  </tbody>\n",
       "</table>\n",
       "</div>"
      ],
      "text/plain": [
       "  material_code pal_weight_kg\n",
       "0        100298       1005.76\n",
       "1        100584         936.0\n",
       "2        100787         928.0"
      ]
     },
     "metadata": {},
     "output_type": "display_data"
    }
   ],
   "source": [
    "# Step 2: Define Required Columns & Load Data\n",
    "import pandas as pd\n",
    "import os\n",
    "required_columns = {\n",
    "    \"input_Actual_production.csv\": [\"plant_sk\", \"plant_code\", \"material_sk\", \"material_code\", \"actual_quantity\"],\n",
    "    \"input_Inventory_policy.csv\": [\"material_sk\", \"plant_sk\", \"plant_code\", \"material_code\", \"target_opening_stock\", \"maximum_stock\"],\n",
    "    \"input_lcp_data.csv\": [\"material_sk\", \"lcp_rank\", \"material_code\", \"origin_location_code\", \"destination_location_code\",\"release_week_id\",\"ins_gmt_ts\",\"origin_plant_sk\",\"destination_plant_sk\"],\n",
    "    \"input_Planned_loads.csv\": [\"delivery_sk\", \"actual_quantity\", \"unit_of_measure_code\", \"plant_code\",\n",
    "                                \"transportation_planning_priority\", \"material_sk\", \"material_code\", \"load_id\", \n",
    "                                \"origin_slot_arrival\", \"origin_slot_departure\", \"destination_slot_arrival\", \n",
    "                                \"destination_slot_departure\", \"RFRC_NUM12\", \"origin\", \"destination\", \"movement_type\"],\n",
    "    \"input_Planned_production.csv\": [\"duration\", \"end_outflow_ts\", \"material_sk\", \"material_code\", \"plant_sk\", \n",
    "                                     \"plant_code\", \"product_unit\", \"quantity\", \"start_inflow_ts\", \"status\"],\n",
    "    \"input_stock.csv\": [\"material_code\", \"material_sk\", \"storage_location_code\", \"plant_sk\", \"plant_code\", \"valuated_stock_hl\",\"shelf_life_expiration_ts\"],\n",
    "    \"input_UOM_full.csv\": [\"material_code\", \"material_sk\", \"target_unit_of_measure_code\", \"conversion_numerator\", \"conversion_denumerator\"],\n",
    "    \"input_UOM_weight.csv\": [\"material_code\", \"pal_weight_kg\"]\n",
    "}\n",
    "\n",
    "# Load datasets\n",
    "dataframes = {}\n",
    "for file, columns in required_columns.items():\n",
    "    file_path = os.path.join(data_filepath, file)\n",
    "    \n",
    "    if os.path.exists(file_path):\n",
    "        dataframes[file] = pd.read_csv(file_path, usecols=columns, dtype=str, low_memory=False)\n",
    "        print(f\"Loaded {file} - Shape: {dataframes[file].shape}\")\n",
    "    else:\n",
    "        print(f\"Warning: {file} not found!\")\n",
    "\n",
    "# Display sample output\n",
    "for file, df in dataframes.items():\n",
    "    print(f\"\\n{file} - First 3 rows:\")\n",
    "    display(df.head(3))\n"
   ]
  },
  {
   "cell_type": "markdown",
   "metadata": {},
   "source": [
    "#### Cleaning column names and standardization"
   ]
  },
  {
   "cell_type": "code",
   "execution_count": 3,
   "metadata": {
    "execution": {
     "iopub.execute_input": "2025-04-10T07:36:02.002328Z",
     "iopub.status.busy": "2025-04-10T07:36:02.001327Z",
     "iopub.status.idle": "2025-04-10T07:36:03.388878Z",
     "shell.execute_reply": "2025-04-10T07:36:03.387836Z"
    }
   },
   "outputs": [
    {
     "name": "stdout",
     "output_type": "stream",
     "text": [
      "Cleaned input_Actual_production.csv\n",
      "Cleaned input_Inventory_policy.csv\n"
     ]
    },
    {
     "name": "stderr",
     "output_type": "stream",
     "text": [
      "C:\\Users\\local_40108805\\Temp\\ipykernel_10364\\4218572420.py:6: FutureWarning: DataFrame.applymap has been deprecated. Use DataFrame.map instead.\n",
      "  df = df.applymap(lambda x: x.strip() if isinstance(x, str) else x)  # Strip spaces in string values\n",
      "C:\\Users\\local_40108805\\Temp\\ipykernel_10364\\4218572420.py:6: FutureWarning: DataFrame.applymap has been deprecated. Use DataFrame.map instead.\n",
      "  df = df.applymap(lambda x: x.strip() if isinstance(x, str) else x)  # Strip spaces in string values\n",
      "C:\\Users\\local_40108805\\Temp\\ipykernel_10364\\4218572420.py:6: FutureWarning: DataFrame.applymap has been deprecated. Use DataFrame.map instead.\n",
      "  df = df.applymap(lambda x: x.strip() if isinstance(x, str) else x)  # Strip spaces in string values\n"
     ]
    },
    {
     "name": "stdout",
     "output_type": "stream",
     "text": [
      "Cleaned input_lcp_data.csv\n",
      "Cleaned input_Planned_loads.csv\n",
      "Cleaned input_Planned_production.csv\n"
     ]
    },
    {
     "name": "stderr",
     "output_type": "stream",
     "text": [
      "C:\\Users\\local_40108805\\Temp\\ipykernel_10364\\4218572420.py:6: FutureWarning: DataFrame.applymap has been deprecated. Use DataFrame.map instead.\n",
      "  df = df.applymap(lambda x: x.strip() if isinstance(x, str) else x)  # Strip spaces in string values\n",
      "C:\\Users\\local_40108805\\Temp\\ipykernel_10364\\4218572420.py:6: FutureWarning: DataFrame.applymap has been deprecated. Use DataFrame.map instead.\n",
      "  df = df.applymap(lambda x: x.strip() if isinstance(x, str) else x)  # Strip spaces in string values\n",
      "C:\\Users\\local_40108805\\Temp\\ipykernel_10364\\4218572420.py:6: FutureWarning: DataFrame.applymap has been deprecated. Use DataFrame.map instead.\n",
      "  df = df.applymap(lambda x: x.strip() if isinstance(x, str) else x)  # Strip spaces in string values\n"
     ]
    },
    {
     "name": "stdout",
     "output_type": "stream",
     "text": [
      "Cleaned input_stock.csv\n"
     ]
    },
    {
     "name": "stderr",
     "output_type": "stream",
     "text": [
      "C:\\Users\\local_40108805\\Temp\\ipykernel_10364\\4218572420.py:6: FutureWarning: DataFrame.applymap has been deprecated. Use DataFrame.map instead.\n",
      "  df = df.applymap(lambda x: x.strip() if isinstance(x, str) else x)  # Strip spaces in string values\n"
     ]
    },
    {
     "name": "stdout",
     "output_type": "stream",
     "text": [
      "Cleaned input_UOM_full.csv\n",
      "Cleaned input_UOM_weight.csv\n",
      "\n",
      "input_Actual_production.csv - Sample Data After Cleaning:\n"
     ]
    },
    {
     "name": "stderr",
     "output_type": "stream",
     "text": [
      "C:\\Users\\local_40108805\\Temp\\ipykernel_10364\\4218572420.py:6: FutureWarning: DataFrame.applymap has been deprecated. Use DataFrame.map instead.\n",
      "  df = df.applymap(lambda x: x.strip() if isinstance(x, str) else x)  # Strip spaces in string values\n"
     ]
    },
    {
     "data": {
      "text/html": [
       "<div>\n",
       "<style scoped>\n",
       "    .dataframe tbody tr th:only-of-type {\n",
       "        vertical-align: middle;\n",
       "    }\n",
       "\n",
       "    .dataframe tbody tr th {\n",
       "        vertical-align: top;\n",
       "    }\n",
       "\n",
       "    .dataframe thead th {\n",
       "        text-align: right;\n",
       "    }\n",
       "</style>\n",
       "<table border=\"1\" class=\"dataframe\">\n",
       "  <thead>\n",
       "    <tr style=\"text-align: right;\">\n",
       "      <th></th>\n",
       "      <th>plant_sk</th>\n",
       "      <th>plant_code</th>\n",
       "      <th>material_sk</th>\n",
       "      <th>material_code</th>\n",
       "      <th>actual_quantity</th>\n",
       "    </tr>\n",
       "  </thead>\n",
       "  <tbody>\n",
       "    <tr>\n",
       "      <th>0</th>\n",
       "      <td>573</td>\n",
       "      <td>DE05</td>\n",
       "      <td>1814</td>\n",
       "      <td>5687</td>\n",
       "      <td>5840.0</td>\n",
       "    </tr>\n",
       "    <tr>\n",
       "      <th>1</th>\n",
       "      <td>16369</td>\n",
       "      <td>CI01</td>\n",
       "      <td>16135682</td>\n",
       "      <td>9950043</td>\n",
       "      <td>8400.0</td>\n",
       "    </tr>\n",
       "    <tr>\n",
       "      <th>2</th>\n",
       "      <td>1692</td>\n",
       "      <td>DE08</td>\n",
       "      <td>2364</td>\n",
       "      <td>6085</td>\n",
       "      <td>5520.0</td>\n",
       "    </tr>\n",
       "  </tbody>\n",
       "</table>\n",
       "</div>"
      ],
      "text/plain": [
       "  plant_sk plant_code material_sk material_code actual_quantity\n",
       "0      573       DE05        1814          5687          5840.0\n",
       "1    16369       CI01    16135682       9950043          8400.0\n",
       "2     1692       DE08        2364          6085          5520.0"
      ]
     },
     "metadata": {},
     "output_type": "display_data"
    },
    {
     "name": "stdout",
     "output_type": "stream",
     "text": [
      "\n",
      "input_Inventory_policy.csv - Sample Data After Cleaning:\n"
     ]
    },
    {
     "data": {
      "text/html": [
       "<div>\n",
       "<style scoped>\n",
       "    .dataframe tbody tr th:only-of-type {\n",
       "        vertical-align: middle;\n",
       "    }\n",
       "\n",
       "    .dataframe tbody tr th {\n",
       "        vertical-align: top;\n",
       "    }\n",
       "\n",
       "    .dataframe thead th {\n",
       "        text-align: right;\n",
       "    }\n",
       "</style>\n",
       "<table border=\"1\" class=\"dataframe\">\n",
       "  <thead>\n",
       "    <tr style=\"text-align: right;\">\n",
       "      <th></th>\n",
       "      <th>material_sk</th>\n",
       "      <th>plant_sk</th>\n",
       "      <th>plant_code</th>\n",
       "      <th>material_code</th>\n",
       "      <th>target_opening_stock</th>\n",
       "      <th>maximum_stock</th>\n",
       "    </tr>\n",
       "  </thead>\n",
       "  <tbody>\n",
       "    <tr>\n",
       "      <th>0</th>\n",
       "      <td>1876258</td>\n",
       "      <td>1941</td>\n",
       "      <td>NL03</td>\n",
       "      <td>107494</td>\n",
       "      <td>300.0</td>\n",
       "      <td>810.210226</td>\n",
       "    </tr>\n",
       "    <tr>\n",
       "      <th>1</th>\n",
       "      <td>3480</td>\n",
       "      <td>2566</td>\n",
       "      <td>DE02</td>\n",
       "      <td>6365</td>\n",
       "      <td>47.968987</td>\n",
       "      <td>240.031882</td>\n",
       "    </tr>\n",
       "    <tr>\n",
       "      <th>2</th>\n",
       "      <td>59933</td>\n",
       "      <td>2641</td>\n",
       "      <td>NL08</td>\n",
       "      <td>94885</td>\n",
       "      <td>0.414761</td>\n",
       "      <td>1.121469</td>\n",
       "    </tr>\n",
       "  </tbody>\n",
       "</table>\n",
       "</div>"
      ],
      "text/plain": [
       "  material_sk plant_sk plant_code material_code target_opening_stock  \\\n",
       "0     1876258     1941       NL03        107494                300.0   \n",
       "1        3480     2566       DE02          6365            47.968987   \n",
       "2       59933     2641       NL08         94885             0.414761   \n",
       "\n",
       "  maximum_stock  \n",
       "0    810.210226  \n",
       "1    240.031882  \n",
       "2      1.121469  "
      ]
     },
     "metadata": {},
     "output_type": "display_data"
    },
    {
     "name": "stdout",
     "output_type": "stream",
     "text": [
      "\n",
      "input_lcp_data.csv - Sample Data After Cleaning:\n"
     ]
    },
    {
     "data": {
      "text/html": [
       "<div>\n",
       "<style scoped>\n",
       "    .dataframe tbody tr th:only-of-type {\n",
       "        vertical-align: middle;\n",
       "    }\n",
       "\n",
       "    .dataframe tbody tr th {\n",
       "        vertical-align: top;\n",
       "    }\n",
       "\n",
       "    .dataframe thead th {\n",
       "        text-align: right;\n",
       "    }\n",
       "</style>\n",
       "<table border=\"1\" class=\"dataframe\">\n",
       "  <thead>\n",
       "    <tr style=\"text-align: right;\">\n",
       "      <th></th>\n",
       "      <th>material_sk</th>\n",
       "      <th>origin_plant_sk</th>\n",
       "      <th>destination_plant_sk</th>\n",
       "      <th>lcp_rank</th>\n",
       "      <th>release_week_id</th>\n",
       "      <th>material_code</th>\n",
       "      <th>origin_location_code</th>\n",
       "      <th>destination_location_code</th>\n",
       "      <th>ins_gmt_ts</th>\n",
       "    </tr>\n",
       "  </thead>\n",
       "  <tbody>\n",
       "    <tr>\n",
       "      <th>0</th>\n",
       "      <td>3769</td>\n",
       "      <td>573</td>\n",
       "      <td>2566</td>\n",
       "      <td>2</td>\n",
       "      <td>202451</td>\n",
       "      <td>11524</td>\n",
       "      <td>DE05</td>\n",
       "      <td>DE02</td>\n",
       "      <td>20241227124946</td>\n",
       "    </tr>\n",
       "    <tr>\n",
       "      <th>1</th>\n",
       "      <td>3480</td>\n",
       "      <td>573</td>\n",
       "      <td>520</td>\n",
       "      <td>1</td>\n",
       "      <td>202451</td>\n",
       "      <td>6365</td>\n",
       "      <td>DE05</td>\n",
       "      <td>DE12</td>\n",
       "      <td>20241227124946</td>\n",
       "    </tr>\n",
       "    <tr>\n",
       "      <th>2</th>\n",
       "      <td>1899</td>\n",
       "      <td>573</td>\n",
       "      <td>4766</td>\n",
       "      <td>1</td>\n",
       "      <td>202451</td>\n",
       "      <td>6590</td>\n",
       "      <td>DE05</td>\n",
       "      <td>DE06</td>\n",
       "      <td>20241227124946</td>\n",
       "    </tr>\n",
       "  </tbody>\n",
       "</table>\n",
       "</div>"
      ],
      "text/plain": [
       "  material_sk origin_plant_sk destination_plant_sk lcp_rank release_week_id  \\\n",
       "0        3769             573                 2566        2          202451   \n",
       "1        3480             573                  520        1          202451   \n",
       "2        1899             573                 4766        1          202451   \n",
       "\n",
       "  material_code origin_location_code destination_location_code      ins_gmt_ts  \n",
       "0         11524                 DE05                      DE02  20241227124946  \n",
       "1          6365                 DE05                      DE12  20241227124946  \n",
       "2          6590                 DE05                      DE06  20241227124946  "
      ]
     },
     "metadata": {},
     "output_type": "display_data"
    },
    {
     "name": "stdout",
     "output_type": "stream",
     "text": [
      "\n",
      "input_Planned_loads.csv - Sample Data After Cleaning:\n"
     ]
    },
    {
     "data": {
      "text/html": [
       "<div>\n",
       "<style scoped>\n",
       "    .dataframe tbody tr th:only-of-type {\n",
       "        vertical-align: middle;\n",
       "    }\n",
       "\n",
       "    .dataframe tbody tr th {\n",
       "        vertical-align: top;\n",
       "    }\n",
       "\n",
       "    .dataframe thead th {\n",
       "        text-align: right;\n",
       "    }\n",
       "</style>\n",
       "<table border=\"1\" class=\"dataframe\">\n",
       "  <thead>\n",
       "    <tr style=\"text-align: right;\">\n",
       "      <th></th>\n",
       "      <th>delivery_sk</th>\n",
       "      <th>material_sk</th>\n",
       "      <th>actual_quantity</th>\n",
       "      <th>unit_of_measure_code</th>\n",
       "      <th>plant_code</th>\n",
       "      <th>transportation_planning_priority</th>\n",
       "      <th>material_code</th>\n",
       "      <th>load_id</th>\n",
       "      <th>origin_slot_arrival</th>\n",
       "      <th>origin_slot_departure</th>\n",
       "      <th>destination_slot_arrival</th>\n",
       "      <th>destination_slot_departure</th>\n",
       "      <th>RFRC_NUM12</th>\n",
       "      <th>origin</th>\n",
       "      <th>destination</th>\n",
       "      <th>movement_type</th>\n",
       "    </tr>\n",
       "  </thead>\n",
       "  <tbody>\n",
       "    <tr>\n",
       "      <th>0</th>\n",
       "      <td>81728721</td>\n",
       "      <td>1977870</td>\n",
       "      <td>4680.0</td>\n",
       "      <td>PC</td>\n",
       "      <td>GB01</td>\n",
       "      <td>01</td>\n",
       "      <td>99150</td>\n",
       "      <td>34718714</td>\n",
       "      <td>2025-04-10 08:00:00</td>\n",
       "      <td>2025-04-10 08:30:00</td>\n",
       "      <td>NaN</td>\n",
       "      <td>NaN</td>\n",
       "      <td>0021820530</td>\n",
       "      <td>GB01</td>\n",
       "      <td>29585614</td>\n",
       "      <td>SO</td>\n",
       "    </tr>\n",
       "    <tr>\n",
       "      <th>1</th>\n",
       "      <td>81649724</td>\n",
       "      <td>1869080</td>\n",
       "      <td>26.0</td>\n",
       "      <td>PC</td>\n",
       "      <td>GB67</td>\n",
       "      <td>01</td>\n",
       "      <td>108741</td>\n",
       "      <td>34714811</td>\n",
       "      <td>2025-04-10 16:00:00</td>\n",
       "      <td>2025-04-10 17:00:00</td>\n",
       "      <td>NaN</td>\n",
       "      <td>NaN</td>\n",
       "      <td>0021806479</td>\n",
       "      <td>GB67</td>\n",
       "      <td>29586301</td>\n",
       "      <td>SO</td>\n",
       "    </tr>\n",
       "    <tr>\n",
       "      <th>2</th>\n",
       "      <td>81697215</td>\n",
       "      <td>1978473</td>\n",
       "      <td>450.0</td>\n",
       "      <td>PC</td>\n",
       "      <td>GB02</td>\n",
       "      <td>01</td>\n",
       "      <td>99148</td>\n",
       "      <td>34716589</td>\n",
       "      <td>2025-04-10 15:00:00</td>\n",
       "      <td>2025-04-10 15:30:00</td>\n",
       "      <td>NaN</td>\n",
       "      <td>NaN</td>\n",
       "      <td>0021816790</td>\n",
       "      <td>GB02</td>\n",
       "      <td>29586299</td>\n",
       "      <td>SO</td>\n",
       "    </tr>\n",
       "  </tbody>\n",
       "</table>\n",
       "</div>"
      ],
      "text/plain": [
       "  delivery_sk material_sk actual_quantity unit_of_measure_code plant_code  \\\n",
       "0    81728721     1977870          4680.0                   PC       GB01   \n",
       "1    81649724     1869080            26.0                   PC       GB67   \n",
       "2    81697215     1978473           450.0                   PC       GB02   \n",
       "\n",
       "  transportation_planning_priority material_code   load_id  \\\n",
       "0                               01         99150  34718714   \n",
       "1                               01        108741  34714811   \n",
       "2                               01         99148  34716589   \n",
       "\n",
       "   origin_slot_arrival origin_slot_departure destination_slot_arrival  \\\n",
       "0  2025-04-10 08:00:00   2025-04-10 08:30:00                      NaN   \n",
       "1  2025-04-10 16:00:00   2025-04-10 17:00:00                      NaN   \n",
       "2  2025-04-10 15:00:00   2025-04-10 15:30:00                      NaN   \n",
       "\n",
       "  destination_slot_departure  RFRC_NUM12 origin destination movement_type  \n",
       "0                        NaN  0021820530   GB01    29585614            SO  \n",
       "1                        NaN  0021806479   GB67    29586301            SO  \n",
       "2                        NaN  0021816790   GB02    29586299            SO  "
      ]
     },
     "metadata": {},
     "output_type": "display_data"
    },
    {
     "name": "stdout",
     "output_type": "stream",
     "text": [
      "\n",
      "input_Planned_production.csv - Sample Data After Cleaning:\n"
     ]
    },
    {
     "data": {
      "text/html": [
       "<div>\n",
       "<style scoped>\n",
       "    .dataframe tbody tr th:only-of-type {\n",
       "        vertical-align: middle;\n",
       "    }\n",
       "\n",
       "    .dataframe tbody tr th {\n",
       "        vertical-align: top;\n",
       "    }\n",
       "\n",
       "    .dataframe thead th {\n",
       "        text-align: right;\n",
       "    }\n",
       "</style>\n",
       "<table border=\"1\" class=\"dataframe\">\n",
       "  <thead>\n",
       "    <tr style=\"text-align: right;\">\n",
       "      <th></th>\n",
       "      <th>duration</th>\n",
       "      <th>end_outflow_ts</th>\n",
       "      <th>material_sk</th>\n",
       "      <th>material_code</th>\n",
       "      <th>plant_sk</th>\n",
       "      <th>plant_code</th>\n",
       "      <th>product_unit</th>\n",
       "      <th>quantity</th>\n",
       "      <th>start_inflow_ts</th>\n",
       "      <th>status</th>\n",
       "    </tr>\n",
       "  </thead>\n",
       "  <tbody>\n",
       "    <tr>\n",
       "      <th>0</th>\n",
       "      <td>600.0</td>\n",
       "      <td>2025-04-10 09:00:00</td>\n",
       "      <td>49997</td>\n",
       "      <td>62275</td>\n",
       "      <td>482</td>\n",
       "      <td>GB01</td>\n",
       "      <td>PCE</td>\n",
       "      <td>39480.0</td>\n",
       "      <td>2025-04-09 23:00:00</td>\n",
       "      <td>processorder</td>\n",
       "    </tr>\n",
       "    <tr>\n",
       "      <th>1</th>\n",
       "      <td>116.0</td>\n",
       "      <td>2025-04-11 02:17:00</td>\n",
       "      <td>16116094</td>\n",
       "      <td>99787_RTL</td>\n",
       "      <td>85</td>\n",
       "      <td>BE02</td>\n",
       "      <td>HLT</td>\n",
       "      <td>580.0</td>\n",
       "      <td>2025-04-11 00:21:00</td>\n",
       "      <td>NO STATUS</td>\n",
       "    </tr>\n",
       "    <tr>\n",
       "      <th>2</th>\n",
       "      <td>1407.0</td>\n",
       "      <td>2025-04-12 05:27:00</td>\n",
       "      <td>1895487</td>\n",
       "      <td>104115</td>\n",
       "      <td>2566</td>\n",
       "      <td>DE02</td>\n",
       "      <td>PCE</td>\n",
       "      <td>30500.0</td>\n",
       "      <td>2025-04-11 06:00:00</td>\n",
       "      <td>processorder</td>\n",
       "    </tr>\n",
       "  </tbody>\n",
       "</table>\n",
       "</div>"
      ],
      "text/plain": [
       "  duration       end_outflow_ts material_sk material_code plant_sk plant_code  \\\n",
       "0    600.0  2025-04-10 09:00:00       49997         62275      482       GB01   \n",
       "1    116.0  2025-04-11 02:17:00    16116094     99787_RTL       85       BE02   \n",
       "2   1407.0  2025-04-12 05:27:00     1895487        104115     2566       DE02   \n",
       "\n",
       "  product_unit quantity      start_inflow_ts        status  \n",
       "0          PCE  39480.0  2025-04-09 23:00:00  processorder  \n",
       "1          HLT    580.0  2025-04-11 00:21:00     NO STATUS  \n",
       "2          PCE  30500.0  2025-04-11 06:00:00  processorder  "
      ]
     },
     "metadata": {},
     "output_type": "display_data"
    },
    {
     "name": "stdout",
     "output_type": "stream",
     "text": [
      "\n",
      "input_stock.csv - Sample Data After Cleaning:\n"
     ]
    },
    {
     "data": {
      "text/html": [
       "<div>\n",
       "<style scoped>\n",
       "    .dataframe tbody tr th:only-of-type {\n",
       "        vertical-align: middle;\n",
       "    }\n",
       "\n",
       "    .dataframe tbody tr th {\n",
       "        vertical-align: top;\n",
       "    }\n",
       "\n",
       "    .dataframe thead th {\n",
       "        text-align: right;\n",
       "    }\n",
       "</style>\n",
       "<table border=\"1\" class=\"dataframe\">\n",
       "  <thead>\n",
       "    <tr style=\"text-align: right;\">\n",
       "      <th></th>\n",
       "      <th>material_code</th>\n",
       "      <th>material_sk</th>\n",
       "      <th>storage_location_code</th>\n",
       "      <th>plant_sk</th>\n",
       "      <th>plant_code</th>\n",
       "      <th>valuated_stock_hl</th>\n",
       "      <th>shelf_life_expiration_ts</th>\n",
       "    </tr>\n",
       "  </thead>\n",
       "  <tbody>\n",
       "    <tr>\n",
       "      <th>0</th>\n",
       "      <td>66638</td>\n",
       "      <td>41950</td>\n",
       "      <td>4014</td>\n",
       "      <td>13688</td>\n",
       "      <td>IT12</td>\n",
       "      <td>9.0</td>\n",
       "      <td>2025-04-05 00:00:00</td>\n",
       "    </tr>\n",
       "    <tr>\n",
       "      <th>1</th>\n",
       "      <td>7587279</td>\n",
       "      <td>130491</td>\n",
       "      <td>1010</td>\n",
       "      <td>133</td>\n",
       "      <td>BE06</td>\n",
       "      <td>1.42</td>\n",
       "      <td>1900-01-01 00:00:00</td>\n",
       "    </tr>\n",
       "    <tr>\n",
       "      <th>2</th>\n",
       "      <td>66638</td>\n",
       "      <td>41950</td>\n",
       "      <td>4015</td>\n",
       "      <td>13688</td>\n",
       "      <td>IT12</td>\n",
       "      <td>21.6</td>\n",
       "      <td>2025-04-05 00:00:00</td>\n",
       "    </tr>\n",
       "  </tbody>\n",
       "</table>\n",
       "</div>"
      ],
      "text/plain": [
       "  material_code material_sk storage_location_code plant_sk plant_code  \\\n",
       "0         66638       41950                  4014    13688       IT12   \n",
       "1       7587279      130491                  1010      133       BE06   \n",
       "2         66638       41950                  4015    13688       IT12   \n",
       "\n",
       "  valuated_stock_hl shelf_life_expiration_ts  \n",
       "0               9.0      2025-04-05 00:00:00  \n",
       "1              1.42      1900-01-01 00:00:00  \n",
       "2              21.6      2025-04-05 00:00:00  "
      ]
     },
     "metadata": {},
     "output_type": "display_data"
    },
    {
     "name": "stdout",
     "output_type": "stream",
     "text": [
      "\n",
      "input_UOM_full.csv - Sample Data After Cleaning:\n"
     ]
    },
    {
     "data": {
      "text/html": [
       "<div>\n",
       "<style scoped>\n",
       "    .dataframe tbody tr th:only-of-type {\n",
       "        vertical-align: middle;\n",
       "    }\n",
       "\n",
       "    .dataframe tbody tr th {\n",
       "        vertical-align: top;\n",
       "    }\n",
       "\n",
       "    .dataframe thead th {\n",
       "        text-align: right;\n",
       "    }\n",
       "</style>\n",
       "<table border=\"1\" class=\"dataframe\">\n",
       "  <thead>\n",
       "    <tr style=\"text-align: right;\">\n",
       "      <th></th>\n",
       "      <th>material_code</th>\n",
       "      <th>material_sk</th>\n",
       "      <th>target_unit_of_measure_code</th>\n",
       "      <th>conversion_numerator</th>\n",
       "      <th>conversion_denumerator</th>\n",
       "    </tr>\n",
       "  </thead>\n",
       "  <tbody>\n",
       "    <tr>\n",
       "      <th>0</th>\n",
       "      <td>185</td>\n",
       "      <td>92</td>\n",
       "      <td>PAL</td>\n",
       "      <td>70.0</td>\n",
       "      <td>1.0</td>\n",
       "    </tr>\n",
       "    <tr>\n",
       "      <th>1</th>\n",
       "      <td>80</td>\n",
       "      <td>10</td>\n",
       "      <td>PAL</td>\n",
       "      <td>8.0</td>\n",
       "      <td>1.0</td>\n",
       "    </tr>\n",
       "    <tr>\n",
       "      <th>2</th>\n",
       "      <td>26</td>\n",
       "      <td>6</td>\n",
       "      <td>PAL</td>\n",
       "      <td>70.0</td>\n",
       "      <td>1.0</td>\n",
       "    </tr>\n",
       "  </tbody>\n",
       "</table>\n",
       "</div>"
      ],
      "text/plain": [
       "  material_code material_sk target_unit_of_measure_code conversion_numerator  \\\n",
       "0           185          92                         PAL                 70.0   \n",
       "1            80          10                         PAL                  8.0   \n",
       "2            26           6                         PAL                 70.0   \n",
       "\n",
       "  conversion_denumerator  \n",
       "0                    1.0  \n",
       "1                    1.0  \n",
       "2                    1.0  "
      ]
     },
     "metadata": {},
     "output_type": "display_data"
    },
    {
     "name": "stdout",
     "output_type": "stream",
     "text": [
      "\n",
      "input_UOM_weight.csv - Sample Data After Cleaning:\n"
     ]
    },
    {
     "data": {
      "text/html": [
       "<div>\n",
       "<style scoped>\n",
       "    .dataframe tbody tr th:only-of-type {\n",
       "        vertical-align: middle;\n",
       "    }\n",
       "\n",
       "    .dataframe tbody tr th {\n",
       "        vertical-align: top;\n",
       "    }\n",
       "\n",
       "    .dataframe thead th {\n",
       "        text-align: right;\n",
       "    }\n",
       "</style>\n",
       "<table border=\"1\" class=\"dataframe\">\n",
       "  <thead>\n",
       "    <tr style=\"text-align: right;\">\n",
       "      <th></th>\n",
       "      <th>material_code</th>\n",
       "      <th>pal_weight_kg</th>\n",
       "    </tr>\n",
       "  </thead>\n",
       "  <tbody>\n",
       "    <tr>\n",
       "      <th>0</th>\n",
       "      <td>100298</td>\n",
       "      <td>1005.76</td>\n",
       "    </tr>\n",
       "    <tr>\n",
       "      <th>1</th>\n",
       "      <td>100584</td>\n",
       "      <td>936.0</td>\n",
       "    </tr>\n",
       "    <tr>\n",
       "      <th>2</th>\n",
       "      <td>100787</td>\n",
       "      <td>928.0</td>\n",
       "    </tr>\n",
       "  </tbody>\n",
       "</table>\n",
       "</div>"
      ],
      "text/plain": [
       "  material_code pal_weight_kg\n",
       "0        100298       1005.76\n",
       "1        100584         936.0\n",
       "2        100787         928.0"
      ]
     },
     "metadata": {},
     "output_type": "display_data"
    }
   ],
   "source": [
    "# Step 3: Data Cleaning & Standardization\n",
    "\n",
    "# Function to clean column names & values\n",
    "def clean_dataframe(df):\n",
    "    df.columns = df.columns.str.strip()  # Remove leading/trailing spaces in column names\n",
    "    df = df.applymap(lambda x: x.strip() if isinstance(x, str) else x)  # Strip spaces in string values\n",
    "    return df\n",
    "\n",
    "# Apply cleaning to all datasets\n",
    "for file, df in dataframes.items():\n",
    "    dataframes[file] = clean_dataframe(df)\n",
    "    print(f\"Cleaned {file}\")\n",
    "\n",
    "# Verify updates\n",
    "for file, df in dataframes.items():\n",
    "    print(f\"\\n{file} - Sample Data After Cleaning:\")\n",
    "    display(df.head(3))\n"
   ]
  },
  {
   "cell_type": "code",
   "execution_count": 4,
   "metadata": {
    "execution": {
     "iopub.execute_input": "2025-04-10T07:36:03.393471Z",
     "iopub.status.busy": "2025-04-10T07:36:03.393471Z",
     "iopub.status.idle": "2025-04-10T07:36:03.714377Z",
     "shell.execute_reply": "2025-04-10T07:36:03.714377Z"
    }
   },
   "outputs": [
    {
     "name": "stdout",
     "output_type": "stream",
     "text": [
      "Checking Missing Values in Important Columns...\n",
      "\n",
      "input_Actual_production.csv - No Missing Values\n",
      "input_Inventory_policy.csv - No Missing Values\n"
     ]
    },
    {
     "name": "stdout",
     "output_type": "stream",
     "text": [
      "input_lcp_data.csv - No Missing Values\n",
      "\n",
      "input_Planned_loads.csv - Missing Values Found:\n"
     ]
    },
    {
     "data": {
      "text/html": [
       "<div>\n",
       "<style scoped>\n",
       "    .dataframe tbody tr th:only-of-type {\n",
       "        vertical-align: middle;\n",
       "    }\n",
       "\n",
       "    .dataframe tbody tr th {\n",
       "        vertical-align: top;\n",
       "    }\n",
       "\n",
       "    .dataframe thead th {\n",
       "        text-align: right;\n",
       "    }\n",
       "</style>\n",
       "<table border=\"1\" class=\"dataframe\">\n",
       "  <thead>\n",
       "    <tr style=\"text-align: right;\">\n",
       "      <th></th>\n",
       "      <th>Missing_Count</th>\n",
       "      <th>Missing_Percentage</th>\n",
       "    </tr>\n",
       "  </thead>\n",
       "  <tbody>\n",
       "    <tr>\n",
       "      <th>destination_slot_arrival</th>\n",
       "      <td>2679</td>\n",
       "      <td>92.70%</td>\n",
       "    </tr>\n",
       "    <tr>\n",
       "      <th>destination_slot_departure</th>\n",
       "      <td>2679</td>\n",
       "      <td>92.70%</td>\n",
       "    </tr>\n",
       "    <tr>\n",
       "      <th>RFRC_NUM12</th>\n",
       "      <td>185</td>\n",
       "      <td>6.40%</td>\n",
       "    </tr>\n",
       "  </tbody>\n",
       "</table>\n",
       "</div>"
      ],
      "text/plain": [
       "                            Missing_Count Missing_Percentage\n",
       "destination_slot_arrival             2679             92.70%\n",
       "destination_slot_departure           2679             92.70%\n",
       "RFRC_NUM12                            185              6.40%"
      ]
     },
     "metadata": {},
     "output_type": "display_data"
    },
    {
     "name": "stdout",
     "output_type": "stream",
     "text": [
      "input_Planned_production.csv - No Missing Values\n",
      "\n",
      "input_stock.csv - Missing Values Found:\n"
     ]
    },
    {
     "data": {
      "text/html": [
       "<div>\n",
       "<style scoped>\n",
       "    .dataframe tbody tr th:only-of-type {\n",
       "        vertical-align: middle;\n",
       "    }\n",
       "\n",
       "    .dataframe tbody tr th {\n",
       "        vertical-align: top;\n",
       "    }\n",
       "\n",
       "    .dataframe thead th {\n",
       "        text-align: right;\n",
       "    }\n",
       "</style>\n",
       "<table border=\"1\" class=\"dataframe\">\n",
       "  <thead>\n",
       "    <tr style=\"text-align: right;\">\n",
       "      <th></th>\n",
       "      <th>Missing_Count</th>\n",
       "      <th>Missing_Percentage</th>\n",
       "    </tr>\n",
       "  </thead>\n",
       "  <tbody>\n",
       "    <tr>\n",
       "      <th>shelf_life_expiration_ts</th>\n",
       "      <td>24431</td>\n",
       "      <td>35.39%</td>\n",
       "    </tr>\n",
       "  </tbody>\n",
       "</table>\n",
       "</div>"
      ],
      "text/plain": [
       "                          Missing_Count Missing_Percentage\n",
       "shelf_life_expiration_ts          24431             35.39%"
      ]
     },
     "metadata": {},
     "output_type": "display_data"
    },
    {
     "name": "stdout",
     "output_type": "stream",
     "text": [
      "input_UOM_full.csv - No Missing Values\n",
      "input_UOM_weight.csv - No Missing Values\n"
     ]
    },
    {
     "data": {
      "text/plain": [
       "{'input_Planned_loads.csv':                             Missing_Count Missing_Percentage\n",
       " destination_slot_arrival             2679             92.70%\n",
       " destination_slot_departure           2679             92.70%\n",
       " RFRC_NUM12                            185              6.40%,\n",
       " 'input_stock.csv':                           Missing_Count Missing_Percentage\n",
       " shelf_life_expiration_ts          24431             35.39%}"
      ]
     },
     "execution_count": 4,
     "metadata": {},
     "output_type": "execute_result"
    }
   ],
   "source": [
    "# Identify Missing Values in Each Dataset\n",
    "\n",
    "print(\"Checking Missing Values in Important Columns...\\n\")\n",
    "\n",
    "missing_summary = {}\n",
    "\n",
    "for file, df in dataframes.items():\n",
    "    missing_count = df.isnull().sum()  # Count missing values\n",
    "    missing_percentage = (missing_count / len(df)) * 100 # Convert to percentage\n",
    "    missing_percentage = missing_percentage.apply(lambda x: f\"{x:.2f}%\")\n",
    "    \n",
    "    # Filter columns with missing values\n",
    "    missing_data = pd.DataFrame({'Missing_Count': missing_count, 'Missing_Percentage': missing_percentage})\n",
    "    missing_data = missing_data[missing_data['Missing_Count'] > 0]\n",
    "    \n",
    "    if not missing_data.empty:\n",
    "        missing_summary[file] = missing_data\n",
    "        print(f\"\\n{file} - Missing Values Found:\")\n",
    "        display(missing_data)\n",
    "    else:\n",
    "        print(f\"{file} - No Missing Values\")\n",
    "\n",
    "# Store summary for reference\n",
    "missing_summary\n"
   ]
  },
  {
   "cell_type": "markdown",
   "metadata": {},
   "source": [
    "### Input Stock Preprocessing"
   ]
  },
  {
   "cell_type": "code",
   "execution_count": 5,
   "metadata": {
    "execution": {
     "iopub.execute_input": "2025-04-10T07:36:03.716913Z",
     "iopub.status.busy": "2025-04-10T07:36:03.716913Z",
     "iopub.status.idle": "2025-04-10T07:36:03.755232Z",
     "shell.execute_reply": "2025-04-10T07:36:03.755232Z"
    }
   },
   "outputs": [
    {
     "name": "stdout",
     "output_type": "stream",
     "text": [
      "Loaded and retained required columns for input_stock.csv:"
     ]
    },
    {
     "name": "stdout",
     "output_type": "stream",
     "text": [
      "\n",
      "['material_code', 'material_sk', 'storage_location_code', 'plant_sk', 'plant_code', 'valuated_stock_hl', 'shelf_life_expiration_ts']\n"
     ]
    }
   ],
   "source": [
    "# Load input_stock.csv and Select Required Columns\n",
    "\n",
    "# Define the dataset name\n",
    "file_name = \"input_stock.csv\"\n",
    "df_stock = dataframes[file_name]\n",
    "required_columns_stock = [\"material_code\", \"material_sk\", \"storage_location_code\", \"plant_sk\", \"plant_code\", \"valuated_stock_hl\",\"shelf_life_expiration_ts\"]\n",
    "df_stock = df_stock[required_columns_stock]\n",
    "\n",
    "# Store updated DataFrame\n",
    "dataframes[file_name] = df_stock\n",
    "\n",
    "# Display confirmation\n",
    "print(f\"Loaded and retained required columns for {file_name}:\")\n",
    "print(list(df_stock.columns))\n"
   ]
  },
  {
   "cell_type": "markdown",
   "metadata": {},
   "source": [
    "#### Data Type Validation"
   ]
  },
  {
   "cell_type": "code",
   "execution_count": 6,
   "metadata": {
    "execution": {
     "iopub.execute_input": "2025-04-10T07:36:03.759320Z",
     "iopub.status.busy": "2025-04-10T07:36:03.759320Z",
     "iopub.status.idle": "2025-04-10T07:36:03.899927Z",
     "shell.execute_reply": "2025-04-10T07:36:03.898879Z"
    }
   },
   "outputs": [
    {
     "name": "stdout",
     "output_type": "stream",
     "text": [
      "Data Type Mismatches Found:\n",
      "   - Column: material_code, Found: object, Expected: Int64\n",
      "   - Column: material_sk, Found: object, Expected: Int64\n",
      "   - Column: plant_sk, Found: object, Expected: Int64\n",
      "   - Column: valuated_stock_hl, Found: object, Expected: float64\n"
     ]
    }
   ],
   "source": [
    "# Detect Data Type Mismatches in input_stock.csv\n",
    "\n",
    "# Define expected data types\n",
    "expected_dtypes = {\n",
    "    \"material_code\": \"Int64\",\n",
    "    \"material_sk\": \"Int64\",\n",
    "    \"plant_sk\": \"Int64\",\n",
    "    \"plant_code\": \"object\",\n",
    "    \"valuated_stock_hl\": \"float64\",\n",
    "    \"shelf_life_expiration_ts\": \"datetime64[ns]\"\n",
    "}\n",
    "\n",
    "# Convert 'shelf_life_expiration_ts' to datetime format\n",
    "df_stock[\"shelf_life_expiration_ts\"] = pd.to_datetime(df_stock[\"shelf_life_expiration_ts\"], errors='coerce')\n",
    "\n",
    "# Check actual dtypes\n",
    "dtype_mismatches = {}\n",
    "\n",
    "for col, expected_dtype in expected_dtypes.items():\n",
    "    actual_dtype = df_stock[col].dtype\n",
    "    if actual_dtype != expected_dtype:\n",
    "        dtype_mismatches[col] = (actual_dtype, expected_dtype)\n",
    "\n",
    "# Display results\n",
    "if dtype_mismatches:\n",
    "    print(\"Data Type Mismatches Found:\")\n",
    "    for col, (actual, expected) in dtype_mismatches.items():\n",
    "        print(f\"   - Column: {col}, Found: {actual}, Expected: {expected}\")\n",
    "else:\n",
    "    print(\"All Columns Have Correct Data Types.\")\n"
   ]
  },
  {
   "cell_type": "markdown",
   "metadata": {},
   "source": [
    "#### Data type mismatches are handled"
   ]
  },
  {
   "cell_type": "code",
   "execution_count": 7,
   "metadata": {
    "execution": {
     "iopub.execute_input": "2025-04-10T07:36:03.902066Z",
     "iopub.status.busy": "2025-04-10T07:36:03.902066Z",
     "iopub.status.idle": "2025-04-10T07:36:04.068775Z",
     "shell.execute_reply": "2025-04-10T07:36:04.068775Z"
    }
   },
   "outputs": [
    {
     "name": "stdout",
     "output_type": "stream",
     "text": [
      "Data Types Fixed.\n"
     ]
    }
   ],
   "source": [
    "# Handle Data Type Mismatches in input_stock.csv\n",
    "\n",
    "if dtype_mismatches:\n",
    "    # Convert columns to correct types\n",
    "    for col, (_, expected_dtype) in dtype_mismatches.items():\n",
    "        df_stock[col] = df_stock[col].astype(expected_dtype, errors=\"ignore\")\n",
    "    \n",
    "    print(\"Data Types Fixed.\")\n",
    "\n",
    "# Store updated DataFrame\n",
    "dataframes[file_name] = df_stock\n"
   ]
  },
  {
   "cell_type": "markdown",
   "metadata": {},
   "source": [
    "#### Filtering based on Expiration date"
   ]
  },
  {
   "cell_type": "code",
   "execution_count": 8,
   "metadata": {
    "execution": {
     "iopub.execute_input": "2025-04-10T07:36:04.091600Z",
     "iopub.status.busy": "2025-04-10T07:36:04.091600Z",
     "iopub.status.idle": "2025-04-10T07:36:04.219556Z",
     "shell.execute_reply": "2025-04-10T07:36:04.219556Z"
    }
   },
   "outputs": [
    {
     "name": "stdout",
     "output_type": "stream",
     "text": [
      "Detecting Expired Stock in input_stock.csv\n",
      "Expired Stock Found: 15068 rows (21.83%)\n"
     ]
    }
   ],
   "source": [
    "from datetime import datetime\n",
    "\n",
    "# Step: Detect Expired Stock Before Filtering\n",
    "print(\"Detecting Expired Stock in input_stock.csv\")\n",
    "\n",
    "# Convert expiration date column to datetime format\n",
    "df_stock['shelf_life_expiration_ts'] = pd.to_datetime(df_stock['shelf_life_expiration_ts'], errors='coerce')\n",
    "\n",
    "# Get the current run date (assuming today)\n",
    "run_date = datetime.today()\n",
    "\n",
    "# Count expired stock\n",
    "expired_stock_count = (df_stock['shelf_life_expiration_ts'] < run_date).sum()\n",
    "expired_stock_percentage = (expired_stock_count / len(df_stock)) * 100\n",
    "\n",
    "print(f\"Expired Stock Found: {expired_stock_count} rows ({expired_stock_percentage:.2f}%)\")\n"
   ]
  },
  {
   "cell_type": "code",
   "execution_count": 9,
   "metadata": {
    "execution": {
     "iopub.execute_input": "2025-04-10T07:36:04.227128Z",
     "iopub.status.busy": "2025-04-10T07:36:04.219556Z",
     "iopub.status.idle": "2025-04-10T07:36:04.278314Z",
     "shell.execute_reply": "2025-04-10T07:36:04.276566Z"
    }
   },
   "outputs": [
    {
     "name": "stdout",
     "output_type": "stream",
     "text": [
      "After filtering non-expired stock: 28087 rows kept.\n"
     ]
    }
   ],
   "source": [
    "from datetime import datetime\n",
    "\n",
    "# Convert expiration date column to datetime format\n",
    "df_stock['shelf_life_expiration_ts'] = pd.to_datetime(df_stock['shelf_life_expiration_ts'], errors='coerce')\n",
    "\n",
    "# Get the current run date (assuming today)\n",
    "run_date = datetime.today()\n",
    "\n",
    "# Filter out expired stock and update df_stock directly\n",
    "df_stock = df_stock[df_stock['shelf_life_expiration_ts'] >= run_date]\n",
    "\n",
    "print(f\"After filtering non-expired stock: {len(df_stock)} rows kept.\")\n"
   ]
  },
  {
   "cell_type": "markdown",
   "metadata": {},
   "source": [
    "#### Missing Values"
   ]
  },
  {
   "cell_type": "code",
   "execution_count": 10,
   "metadata": {
    "execution": {
     "iopub.execute_input": "2025-04-10T07:36:04.280367Z",
     "iopub.status.busy": "2025-04-10T07:36:04.280367Z",
     "iopub.status.idle": "2025-04-10T07:36:04.305386Z",
     "shell.execute_reply": "2025-04-10T07:36:04.305386Z"
    }
   },
   "outputs": [
    {
     "name": "stdout",
     "output_type": "stream",
     "text": [
      "\n",
      "No Missing Values Found in input_stock.csv."
     ]
    },
    {
     "name": "stdout",
     "output_type": "stream",
     "text": [
      "\n"
     ]
    }
   ],
   "source": [
    "# Detect Missing Values in input_stock.csv\n",
    "\n",
    "# Check for missing values\n",
    "missing_count = df_stock.isnull().sum()\n",
    "missing_percentage = (missing_count / len(df_stock)) * 100  \n",
    "missing_data = pd.DataFrame({'Missing_Count': missing_count, 'Missing_Percentage': missing_percentage})\n",
    "missing_data = missing_data[missing_data['Missing_Count'] > 0]\n",
    "\n",
    "# Display results\n",
    "if not missing_data.empty:\n",
    "    print(f\"\\nMissing Values Found in {file_name}:\\n\")\n",
    "    missing_data[\"Missing_Percentage\"] = missing_data[\"Missing_Percentage\"].apply(lambda x: f\"{x:.2f}%\")\n",
    "    \n",
    "    display(missing_data)\n",
    "else:\n",
    "    print(f\"\\nNo Missing Values Found in {file_name}.\")\n"
   ]
  },
  {
   "cell_type": "markdown",
   "metadata": {},
   "source": [
    "#### Duplicates"
   ]
  },
  {
   "cell_type": "code",
   "execution_count": 11,
   "metadata": {
    "execution": {
     "iopub.execute_input": "2025-04-10T07:36:04.311016Z",
     "iopub.status.busy": "2025-04-10T07:36:04.311016Z",
     "iopub.status.idle": "2025-04-10T07:36:04.410388Z",
     "shell.execute_reply": "2025-04-10T07:36:04.408336Z"
    }
   },
   "outputs": [
    {
     "name": "stdout",
     "output_type": "stream",
     "text": [
      "Duplicate Rows in input_stock.csv: 551 (1.96%)\n"
     ]
    }
   ],
   "source": [
    "# Detect Duplicates in input_stock.csv\n",
    "\n",
    "# Check for duplicate rows\n",
    "duplicate_count = df_stock.duplicated().sum()\n",
    "duplicate_percentage = (duplicate_count / len(df_stock)) * 100  \n",
    "\n",
    "# Display results\n",
    "print(f\"Duplicate Rows in {file_name}: {duplicate_count} ({duplicate_percentage:.2f}%)\")\n"
   ]
  },
  {
   "cell_type": "markdown",
   "metadata": {},
   "source": [
    "#### Duplicates grouping Material_sk and Plant_sk"
   ]
  },
  {
   "cell_type": "code",
   "execution_count": 12,
   "metadata": {
    "execution": {
     "iopub.execute_input": "2025-04-10T07:36:04.412417Z",
     "iopub.status.busy": "2025-04-10T07:36:04.412417Z",
     "iopub.status.idle": "2025-04-10T07:36:04.549630Z",
     "shell.execute_reply": "2025-04-10T07:36:04.549630Z"
    }
   },
   "outputs": [
    {
     "name": "stdout",
     "output_type": "stream",
     "text": [
      "Duplicate (plant_sk, material_sk) pairs found in input_stock.csv: 20211 (71.96%)\n"
     ]
    },
    {
     "data": {
      "text/html": [
       "<div>\n",
       "<style scoped>\n",
       "    .dataframe tbody tr th:only-of-type {\n",
       "        vertical-align: middle;\n",
       "    }\n",
       "\n",
       "    .dataframe tbody tr th {\n",
       "        vertical-align: top;\n",
       "    }\n",
       "\n",
       "    .dataframe thead th {\n",
       "        text-align: right;\n",
       "    }\n",
       "</style>\n",
       "<table border=\"1\" class=\"dataframe\">\n",
       "  <thead>\n",
       "    <tr style=\"text-align: right;\">\n",
       "      <th></th>\n",
       "      <th>material_code</th>\n",
       "      <th>material_sk</th>\n",
       "      <th>storage_location_code</th>\n",
       "      <th>plant_sk</th>\n",
       "      <th>plant_code</th>\n",
       "      <th>valuated_stock_hl</th>\n",
       "      <th>shelf_life_expiration_ts</th>\n",
       "    </tr>\n",
       "  </thead>\n",
       "  <tbody>\n",
       "    <tr>\n",
       "      <th>16626</th>\n",
       "      <td>3410</td>\n",
       "      <td>745</td>\n",
       "      <td>1000</td>\n",
       "      <td>15</td>\n",
       "      <td>AT02</td>\n",
       "      <td>21.6000</td>\n",
       "      <td>2026-02-10</td>\n",
       "    </tr>\n",
       "    <tr>\n",
       "      <th>18261</th>\n",
       "      <td>3410</td>\n",
       "      <td>745</td>\n",
       "      <td>1000</td>\n",
       "      <td>15</td>\n",
       "      <td>AT02</td>\n",
       "      <td>24.0000</td>\n",
       "      <td>2026-03-05</td>\n",
       "    </tr>\n",
       "    <tr>\n",
       "      <th>33333</th>\n",
       "      <td>3410</td>\n",
       "      <td>745</td>\n",
       "      <td>4003</td>\n",
       "      <td>15</td>\n",
       "      <td>AT02</td>\n",
       "      <td>38.4000</td>\n",
       "      <td>2025-04-17</td>\n",
       "    </tr>\n",
       "    <tr>\n",
       "      <th>68220</th>\n",
       "      <td>3410</td>\n",
       "      <td>745</td>\n",
       "      <td>4000</td>\n",
       "      <td>15</td>\n",
       "      <td>AT02</td>\n",
       "      <td>0.3000</td>\n",
       "      <td>2025-12-04</td>\n",
       "    </tr>\n",
       "    <tr>\n",
       "      <th>2962</th>\n",
       "      <td>3493</td>\n",
       "      <td>1667</td>\n",
       "      <td>1000</td>\n",
       "      <td>15</td>\n",
       "      <td>AT02</td>\n",
       "      <td>68.0000</td>\n",
       "      <td>2026-03-31</td>\n",
       "    </tr>\n",
       "    <tr>\n",
       "      <th>...</th>\n",
       "      <td>...</td>\n",
       "      <td>...</td>\n",
       "      <td>...</td>\n",
       "      <td>...</td>\n",
       "      <td>...</td>\n",
       "      <td>...</td>\n",
       "      <td>...</td>\n",
       "    </tr>\n",
       "    <tr>\n",
       "      <th>68891</th>\n",
       "      <td>99154</td>\n",
       "      <td>1978110</td>\n",
       "      <td>1010</td>\n",
       "      <td>16202</td>\n",
       "      <td>IE06</td>\n",
       "      <td>28.5120</td>\n",
       "      <td>2026-01-31</td>\n",
       "    </tr>\n",
       "    <tr>\n",
       "      <th>65759</th>\n",
       "      <td>99661</td>\n",
       "      <td>2043526</td>\n",
       "      <td>1010</td>\n",
       "      <td>16202</td>\n",
       "      <td>IE06</td>\n",
       "      <td>5.9400</td>\n",
       "      <td>2026-06-30</td>\n",
       "    </tr>\n",
       "    <tr>\n",
       "      <th>65770</th>\n",
       "      <td>99661</td>\n",
       "      <td>2043526</td>\n",
       "      <td>1010</td>\n",
       "      <td>16202</td>\n",
       "      <td>IE06</td>\n",
       "      <td>5.9400</td>\n",
       "      <td>2026-06-30</td>\n",
       "    </tr>\n",
       "    <tr>\n",
       "      <th>68758</th>\n",
       "      <td>99662</td>\n",
       "      <td>2043586</td>\n",
       "      <td>1010</td>\n",
       "      <td>16202</td>\n",
       "      <td>IE06</td>\n",
       "      <td>5.7024</td>\n",
       "      <td>2026-09-30</td>\n",
       "    </tr>\n",
       "    <tr>\n",
       "      <th>68759</th>\n",
       "      <td>99662</td>\n",
       "      <td>2043586</td>\n",
       "      <td>1010</td>\n",
       "      <td>16202</td>\n",
       "      <td>IE06</td>\n",
       "      <td>22.8096</td>\n",
       "      <td>2026-08-31</td>\n",
       "    </tr>\n",
       "  </tbody>\n",
       "</table>\n",
       "<p>20211 rows � 7 columns</p>\n",
       "</div>"
      ],
      "text/plain": [
       "       material_code  material_sk storage_location_code  plant_sk plant_code  \\\n",
       "16626           3410          745                  1000        15       AT02   \n",
       "18261           3410          745                  1000        15       AT02   \n",
       "33333           3410          745                  4003        15       AT02   \n",
       "68220           3410          745                  4000        15       AT02   \n",
       "2962            3493         1667                  1000        15       AT02   \n",
       "...              ...          ...                   ...       ...        ...   \n",
       "68891          99154      1978110                  1010     16202       IE06   \n",
       "65759          99661      2043526                  1010     16202       IE06   \n",
       "65770          99661      2043526                  1010     16202       IE06   \n",
       "68758          99662      2043586                  1010     16202       IE06   \n",
       "68759          99662      2043586                  1010     16202       IE06   \n",
       "\n",
       "       valuated_stock_hl shelf_life_expiration_ts  \n",
       "16626            21.6000               2026-02-10  \n",
       "18261            24.0000               2026-03-05  \n",
       "33333            38.4000               2025-04-17  \n",
       "68220             0.3000               2025-12-04  \n",
       "2962             68.0000               2026-03-31  \n",
       "...                  ...                      ...  \n",
       "68891            28.5120               2026-01-31  \n",
       "65759             5.9400               2026-06-30  \n",
       "65770             5.9400               2026-06-30  \n",
       "68758             5.7024               2026-09-30  \n",
       "68759            22.8096               2026-08-31  \n",
       "\n",
       "[20211 rows x 7 columns]"
      ]
     },
     "metadata": {},
     "output_type": "display_data"
    }
   ],
   "source": [
    "# Detect Duplicates Based on (plant_sk, material_sk)\n",
    "duplicate_stock = df_stock.duplicated(subset=['plant_sk', 'material_sk'], keep=False)\n",
    "\n",
    "# Count duplicate rows\n",
    "duplicate_count = duplicate_stock.sum()\n",
    "duplicate_percentage = (duplicate_count / len(df_stock)) * 100\n",
    "\n",
    "print(f\"Duplicate (plant_sk, material_sk) pairs found in input_stock.csv: {duplicate_count} ({duplicate_percentage:.2f}%)\")\n",
    "\n",
    "# Display duplicate records if found\n",
    "if duplicate_count > 0:\n",
    "    display(df_stock[duplicate_stock].sort_values(by=['plant_sk', 'material_sk']))\n",
    "else:\n",
    "    print(\"No duplicate (plant_sk, material_sk) pairs found.\")\n"
   ]
  },
  {
   "cell_type": "markdown",
   "metadata": {},
   "source": [
    "##### These duplicates caused by differnt valuated_stock_hl"
   ]
  },
  {
   "cell_type": "code",
   "execution_count": 13,
   "metadata": {
    "execution": {
     "iopub.execute_input": "2025-04-10T07:36:04.555325Z",
     "iopub.status.busy": "2025-04-10T07:36:04.555325Z",
     "iopub.status.idle": "2025-04-10T07:36:04.626630Z",
     "shell.execute_reply": "2025-04-10T07:36:04.625096Z"
    }
   },
   "outputs": [
    {
     "name": "stdout",
     "output_type": "stream",
     "text": [
      "Stock value differences found in 2778 (plant_sk, material_sk) groups."
     ]
    },
    {
     "name": "stdout",
     "output_type": "stream",
     "text": [
      "\n"
     ]
    },
    {
     "data": {
      "text/html": [
       "<div>\n",
       "<style scoped>\n",
       "    .dataframe tbody tr th:only-of-type {\n",
       "        vertical-align: middle;\n",
       "    }\n",
       "\n",
       "    .dataframe tbody tr th {\n",
       "        vertical-align: top;\n",
       "    }\n",
       "\n",
       "    .dataframe thead th {\n",
       "        text-align: right;\n",
       "    }\n",
       "</style>\n",
       "<table border=\"1\" class=\"dataframe\">\n",
       "  <thead>\n",
       "    <tr style=\"text-align: right;\">\n",
       "      <th></th>\n",
       "      <th>plant_sk</th>\n",
       "      <th>material_sk</th>\n",
       "      <th>valuated_stock_hl</th>\n",
       "    </tr>\n",
       "  </thead>\n",
       "  <tbody>\n",
       "    <tr>\n",
       "      <th>0</th>\n",
       "      <td>15</td>\n",
       "      <td>745</td>\n",
       "      <td>4</td>\n",
       "    </tr>\n",
       "    <tr>\n",
       "      <th>1</th>\n",
       "      <td>15</td>\n",
       "      <td>1667</td>\n",
       "      <td>16</td>\n",
       "    </tr>\n",
       "    <tr>\n",
       "      <th>2</th>\n",
       "      <td>15</td>\n",
       "      <td>1797</td>\n",
       "      <td>2</td>\n",
       "    </tr>\n",
       "    <tr>\n",
       "      <th>3</th>\n",
       "      <td>15</td>\n",
       "      <td>2130</td>\n",
       "      <td>3</td>\n",
       "    </tr>\n",
       "    <tr>\n",
       "      <th>5</th>\n",
       "      <td>15</td>\n",
       "      <td>3448</td>\n",
       "      <td>5</td>\n",
       "    </tr>\n",
       "    <tr>\n",
       "      <th>6</th>\n",
       "      <td>15</td>\n",
       "      <td>4802</td>\n",
       "      <td>2</td>\n",
       "    </tr>\n",
       "    <tr>\n",
       "      <th>7</th>\n",
       "      <td>15</td>\n",
       "      <td>4977</td>\n",
       "      <td>4</td>\n",
       "    </tr>\n",
       "    <tr>\n",
       "      <th>8</th>\n",
       "      <td>15</td>\n",
       "      <td>5091</td>\n",
       "      <td>9</td>\n",
       "    </tr>\n",
       "    <tr>\n",
       "      <th>10</th>\n",
       "      <td>15</td>\n",
       "      <td>7264</td>\n",
       "      <td>3</td>\n",
       "    </tr>\n",
       "    <tr>\n",
       "      <th>11</th>\n",
       "      <td>15</td>\n",
       "      <td>9937</td>\n",
       "      <td>3</td>\n",
       "    </tr>\n",
       "  </tbody>\n",
       "</table>\n",
       "</div>"
      ],
      "text/plain": [
       "    plant_sk  material_sk  valuated_stock_hl\n",
       "0         15          745                  4\n",
       "1         15         1667                 16\n",
       "2         15         1797                  2\n",
       "3         15         2130                  3\n",
       "5         15         3448                  5\n",
       "6         15         4802                  2\n",
       "7         15         4977                  4\n",
       "8         15         5091                  9\n",
       "10        15         7264                  3\n",
       "11        15         9937                  3"
      ]
     },
     "metadata": {},
     "output_type": "display_data"
    }
   ],
   "source": [
    "# Analyze Duplicate Stock Entries\n",
    "\n",
    "# Group by plant_sk and material_sk to check stock variations\n",
    "stock_variation = df_stock[df_stock.duplicated(subset=['plant_sk', 'material_sk'], keep=False)] \\\n",
    "    .groupby(['plant_sk', 'material_sk'])['valuated_stock_hl'].nunique().reset_index()\n",
    "\n",
    "# Count cases where the stock values differ\n",
    "stock_value_mismatch = stock_variation[stock_variation['valuated_stock_hl'] > 1]\n",
    "\n",
    "# Display summary\n",
    "print(f\"Stock value differences found in {len(stock_value_mismatch)} (plant_sk, material_sk) groups.\")\n",
    "\n",
    "# Show a few mismatches for analysis\n",
    "display(stock_value_mismatch.head(10))\n"
   ]
  },
  {
   "cell_type": "markdown",
   "metadata": {},
   "source": [
    "#### Handling these duplicates by aggregating based on code and sk and saving to Stock.csv"
   ]
  },
  {
   "cell_type": "code",
   "execution_count": 14,
   "metadata": {
    "execution": {
     "iopub.execute_input": "2025-04-10T07:36:04.632634Z",
     "iopub.status.busy": "2025-04-10T07:36:04.631633Z",
     "iopub.status.idle": "2025-04-10T07:36:04.884223Z",
     "shell.execute_reply": "2025-04-10T07:36:04.884223Z"
    }
   },
   "outputs": [
    {
     "name": "stdout",
     "output_type": "stream",
     "text": [
      "Opening Stock aggregated and saved to ./PRE_PROCESSED_DATA/04. April 2025/10_04_2025 preprocessed data/2025_04_10_13_03_07 preprocessed data/stock.csv\n"
     ]
    }
   ],
   "source": [
    "import os\n",
    "\n",
    "# Group by relevant keys and sum opening stock\n",
    "df_opening_stock = df_stock.groupby(\n",
    "    [\"material_code\", \"material_sk\", \"plant_sk\", \"plant_code\"], as_index=False\n",
    ")[\"valuated_stock_hl\"].sum()\n",
    "\n",
    "# Rename column for clarity\n",
    "df_opening_stock.rename(columns={\"valuated_stock_hl\": \"Opening_Stock_hl\"}, inplace=True)\n",
    "\n",
    "# Define the path to save\n",
    "stock_file_path = os.path.join(preprocessed_path, \"stock.csv\")\n",
    "\n",
    "# Save to CSV\n",
    "df_opening_stock.to_csv(stock_file_path, index=False)\n",
    "\n",
    "print(f\"Opening Stock aggregated and saved to {stock_file_path}\")\n"
   ]
  },
  {
   "cell_type": "code",
   "execution_count": 15,
   "metadata": {
    "execution": {
     "iopub.execute_input": "2025-04-10T07:36:04.889851Z",
     "iopub.status.busy": "2025-04-10T07:36:04.889851Z",
     "iopub.status.idle": "2025-04-10T07:36:04.984299Z",
     "shell.execute_reply": "2025-04-10T07:36:04.981586Z"
    }
   },
   "outputs": [
    {
     "data": {
      "text/html": [
       "<div>\n",
       "<style scoped>\n",
       "    .dataframe tbody tr th:only-of-type {\n",
       "        vertical-align: middle;\n",
       "    }\n",
       "\n",
       "    .dataframe tbody tr th {\n",
       "        vertical-align: top;\n",
       "    }\n",
       "\n",
       "    .dataframe thead th {\n",
       "        text-align: right;\n",
       "    }\n",
       "</style>\n",
       "<table border=\"1\" class=\"dataframe\">\n",
       "  <thead>\n",
       "    <tr style=\"text-align: right;\">\n",
       "      <th></th>\n",
       "      <th>material_code</th>\n",
       "      <th>material_sk</th>\n",
       "      <th>plant_sk</th>\n",
       "      <th>Opening_Stock_hl</th>\n",
       "    </tr>\n",
       "  </thead>\n",
       "  <tbody>\n",
       "    <tr>\n",
       "      <th>count</th>\n",
       "      <td>10692.0</td>\n",
       "      <td>10692.0</td>\n",
       "      <td>10692.0</td>\n",
       "      <td>10692.000000</td>\n",
       "    </tr>\n",
       "    <tr>\n",
       "      <th>mean</th>\n",
       "      <td>8277140.708941</td>\n",
       "      <td>1093245.112888</td>\n",
       "      <td>2689.199682</td>\n",
       "      <td>316.040139</td>\n",
       "    </tr>\n",
       "    <tr>\n",
       "      <th>std</th>\n",
       "      <td>70032311.485315</td>\n",
       "      <td>2874738.748599</td>\n",
       "      <td>3578.828733</td>\n",
       "      <td>1796.564605</td>\n",
       "    </tr>\n",
       "    <tr>\n",
       "      <th>min</th>\n",
       "      <td>3337.0</td>\n",
       "      <td>685.0</td>\n",
       "      <td>15.0</td>\n",
       "      <td>0.003500</td>\n",
       "    </tr>\n",
       "    <tr>\n",
       "      <th>25%</th>\n",
       "      <td>75952.25</td>\n",
       "      <td>47934.75</td>\n",
       "      <td>1002.0</td>\n",
       "      <td>1.305000</td>\n",
       "    </tr>\n",
       "    <tr>\n",
       "      <th>50%</th>\n",
       "      <td>105193.0</td>\n",
       "      <td>87469.0</td>\n",
       "      <td>1810.0</td>\n",
       "      <td>7.440000</td>\n",
       "    </tr>\n",
       "    <tr>\n",
       "      <th>75%</th>\n",
       "      <td>7545058.0</td>\n",
       "      <td>979021.0</td>\n",
       "      <td>2641.0</td>\n",
       "      <td>68.400607</td>\n",
       "    </tr>\n",
       "    <tr>\n",
       "      <th>max</th>\n",
       "      <td>999009541.0</td>\n",
       "      <td>17356819.0</td>\n",
       "      <td>16202.0</td>\n",
       "      <td>79400.816000</td>\n",
       "    </tr>\n",
       "  </tbody>\n",
       "</table>\n",
       "</div>"
      ],
      "text/plain": [
       "         material_code     material_sk     plant_sk  Opening_Stock_hl\n",
       "count          10692.0         10692.0      10692.0      10692.000000\n",
       "mean    8277140.708941  1093245.112888  2689.199682        316.040139\n",
       "std    70032311.485315  2874738.748599  3578.828733       1796.564605\n",
       "min             3337.0           685.0         15.0          0.003500\n",
       "25%           75952.25        47934.75       1002.0          1.305000\n",
       "50%           105193.0         87469.0       1810.0          7.440000\n",
       "75%          7545058.0        979021.0       2641.0         68.400607\n",
       "max        999009541.0      17356819.0      16202.0      79400.816000"
      ]
     },
     "execution_count": 15,
     "metadata": {},
     "output_type": "execute_result"
    }
   ],
   "source": [
    "df_opening_stock.describe()"
   ]
  },
  {
   "cell_type": "markdown",
   "metadata": {},
   "source": [
    "#### Aggregation Verification"
   ]
  },
  {
   "cell_type": "code",
   "execution_count": 16,
   "metadata": {
    "execution": {
     "iopub.execute_input": "2025-04-10T07:36:04.992306Z",
     "iopub.status.busy": "2025-04-10T07:36:04.991311Z",
     "iopub.status.idle": "2025-04-10T07:36:05.206629Z",
     "shell.execute_reply": "2025-04-10T07:36:05.204547Z"
    }
   },
   "outputs": [
    {
     "name": "stdout",
     "output_type": "stream",
     "text": [
      "Mismatch detected in summed values: 2.798805631698542e-11\n"
     ]
    }
   ],
   "source": [
    "# Verify aggregation consistency\n",
    "check_aggregation = df_stock.groupby([\"material_code\", \"material_sk\", \"plant_sk\", \"plant_code\"])[\"valuated_stock_hl\"].sum()\n",
    "\n",
    "# Load the saved stock.csv\n",
    "df_saved_stock = pd.read_csv(stock_file_path)\n",
    "\n",
    "# Compare summed values\n",
    "mismatch = (df_saved_stock.set_index([\"material_code\", \"material_sk\", \"plant_sk\", \"plant_code\"])[\"Opening_Stock_hl\"] - check_aggregation).abs().sum()\n",
    "\n",
    "if mismatch == 0:\n",
    "    print(\"Aggregated stock values match perfectly with stock.csv!\")\n",
    "else:\n",
    "    print(f\"Mismatch detected in summed values: {mismatch}\")\n"
   ]
  },
  {
   "cell_type": "markdown",
   "metadata": {},
   "source": [
    "#### Stock at Risk based on expiration date"
   ]
  },
  {
   "cell_type": "code",
   "execution_count": 17,
   "metadata": {
    "execution": {
     "iopub.execute_input": "2025-04-10T07:36:05.214680Z",
     "iopub.status.busy": "2025-04-10T07:36:05.214680Z",
     "iopub.status.idle": "2025-04-10T07:36:05.320081Z",
     "shell.execute_reply": "2025-04-10T07:36:05.320081Z"
    }
   },
   "outputs": [
    {
     "name": "stdout",
     "output_type": "stream",
     "text": [
      "Stock at Risk Found: 1416 rows (5.04%)\n"
     ]
    }
   ],
   "source": [
    "from datetime import datetime, timedelta\n",
    "\n",
    "# Define stock-at-risk threshold (Run Date + 60 Days)\n",
    "stock_risk_threshold = run_date + timedelta(days=60)\n",
    "\n",
    "# Detect stock at risk\n",
    "at_risk_stock = df_stock[df_stock['shelf_life_expiration_ts'] < stock_risk_threshold]\n",
    "\n",
    "# Calculate percentage\n",
    "at_risk_count = len(at_risk_stock)\n",
    "at_risk_percentage = (at_risk_count / len(df_stock)) * 100\n",
    "\n",
    "print(f\"Stock at Risk Found: {at_risk_count} rows ({at_risk_percentage:.2f}%)\")\n"
   ]
  },
  {
   "cell_type": "markdown",
   "metadata": {},
   "source": [
    "##### Even though we filtered out based on expiration date, still there are stock which are about to expire in next 60 days "
   ]
  },
  {
   "cell_type": "markdown",
   "metadata": {},
   "source": [
    "#### Storing stock at risk to obs_df.csv"
   ]
  },
  {
   "cell_type": "code",
   "execution_count": 18,
   "metadata": {
    "execution": {
     "iopub.execute_input": "2025-04-10T07:36:05.328733Z",
     "iopub.status.busy": "2025-04-10T07:36:05.326670Z",
     "iopub.status.idle": "2025-04-10T07:36:05.374422Z",
     "shell.execute_reply": "2025-04-10T07:36:05.374422Z"
    }
   },
   "outputs": [
    {
     "name": "stdout",
     "output_type": "stream",
     "text": [
      "Obsolescence Data aggregated and saved to ./PRE_PROCESSED_DATA/04. April 2025/10_04_2025 preprocessed data/2025_04_10_13_03_07 preprocessed data/obs_df.csv"
     ]
    },
    {
     "name": "stdout",
     "output_type": "stream",
     "text": [
      "\n"
     ]
    }
   ],
   "source": [
    "import os\n",
    "\n",
    "# Aggregate stock at risk\n",
    "df_obs_stock = at_risk_stock.groupby(\n",
    "    [\"material_code\", \"plant_code\", \"material_sk\", \"plant_sk\"], as_index=False\n",
    ")[\"valuated_stock_hl\"].sum()\n",
    "\n",
    "# Rename column for clarity\n",
    "df_obs_stock.rename(columns={\"valuated_stock_hl\": \"Stock_At_Risk_hl\"}, inplace=True)\n",
    "\n",
    "# Define file path & save\n",
    "obs_file_path = os.path.join(preprocessed_path, \"obs_df.csv\")\n",
    "df_obs_stock.to_csv(obs_file_path, index=False)\n",
    "\n",
    "print(f\"Obsolescence Data aggregated and saved to {obs_file_path}\")\n"
   ]
  },
  {
   "cell_type": "markdown",
   "metadata": {},
   "source": [
    "### Input Inventory Policy Preprocessing "
   ]
  },
  {
   "cell_type": "code",
   "execution_count": 19,
   "metadata": {
    "execution": {
     "iopub.execute_input": "2025-04-10T07:36:05.379526Z",
     "iopub.status.busy": "2025-04-10T07:36:05.379526Z",
     "iopub.status.idle": "2025-04-10T07:36:05.410088Z",
     "shell.execute_reply": "2025-04-10T07:36:05.407971Z"
    }
   },
   "outputs": [
    {
     "data": {
      "text/html": [
       "<div>\n",
       "<style scoped>\n",
       "    .dataframe tbody tr th:only-of-type {\n",
       "        vertical-align: middle;\n",
       "    }\n",
       "\n",
       "    .dataframe tbody tr th {\n",
       "        vertical-align: top;\n",
       "    }\n",
       "\n",
       "    .dataframe thead th {\n",
       "        text-align: right;\n",
       "    }\n",
       "</style>\n",
       "<table border=\"1\" class=\"dataframe\">\n",
       "  <thead>\n",
       "    <tr style=\"text-align: right;\">\n",
       "      <th></th>\n",
       "      <th>plant_sk</th>\n",
       "      <th>material_sk</th>\n",
       "      <th>plant_code</th>\n",
       "      <th>material_code</th>\n",
       "      <th>target_opening_stock</th>\n",
       "      <th>maximum_stock</th>\n",
       "    </tr>\n",
       "  </thead>\n",
       "  <tbody>\n",
       "    <tr>\n",
       "      <th>0</th>\n",
       "      <td>1941</td>\n",
       "      <td>1876258</td>\n",
       "      <td>NL03</td>\n",
       "      <td>107494</td>\n",
       "      <td>300.0</td>\n",
       "      <td>810.210226</td>\n",
       "    </tr>\n",
       "    <tr>\n",
       "      <th>1</th>\n",
       "      <td>2566</td>\n",
       "      <td>3480</td>\n",
       "      <td>DE02</td>\n",
       "      <td>6365</td>\n",
       "      <td>47.968987</td>\n",
       "      <td>240.031882</td>\n",
       "    </tr>\n",
       "    <tr>\n",
       "      <th>2</th>\n",
       "      <td>2641</td>\n",
       "      <td>59933</td>\n",
       "      <td>NL08</td>\n",
       "      <td>94885</td>\n",
       "      <td>0.414761</td>\n",
       "      <td>1.121469</td>\n",
       "    </tr>\n",
       "    <tr>\n",
       "      <th>3</th>\n",
       "      <td>1975</td>\n",
       "      <td>3649</td>\n",
       "      <td>BE07</td>\n",
       "      <td>11385</td>\n",
       "      <td>419.86467</td>\n",
       "      <td>1533.959265</td>\n",
       "    </tr>\n",
       "    <tr>\n",
       "      <th>4</th>\n",
       "      <td>1130</td>\n",
       "      <td>4764</td>\n",
       "      <td>NL17</td>\n",
       "      <td>17495</td>\n",
       "      <td>0.700671</td>\n",
       "      <td>3.35605</td>\n",
       "    </tr>\n",
       "    <tr>\n",
       "      <th>5</th>\n",
       "      <td>573</td>\n",
       "      <td>64192</td>\n",
       "      <td>DE05</td>\n",
       "      <td>83748</td>\n",
       "      <td>1.7985</td>\n",
       "      <td>2.644726</td>\n",
       "    </tr>\n",
       "    <tr>\n",
       "      <th>6</th>\n",
       "      <td>1941</td>\n",
       "      <td>6437</td>\n",
       "      <td>NL03</td>\n",
       "      <td>11606</td>\n",
       "      <td>1621.291513</td>\n",
       "      <td>8143.826021</td>\n",
       "    </tr>\n",
       "    <tr>\n",
       "      <th>7</th>\n",
       "      <td>3712</td>\n",
       "      <td>813</td>\n",
       "      <td>LU05</td>\n",
       "      <td>3372</td>\n",
       "      <td>1.012</td>\n",
       "      <td>3.462858</td>\n",
       "    </tr>\n",
       "    <tr>\n",
       "      <th>8</th>\n",
       "      <td>133</td>\n",
       "      <td>16450</td>\n",
       "      <td>BE06</td>\n",
       "      <td>34808</td>\n",
       "      <td>2.2248</td>\n",
       "      <td>2.675128</td>\n",
       "    </tr>\n",
       "    <tr>\n",
       "      <th>9</th>\n",
       "      <td>1332</td>\n",
       "      <td>52369</td>\n",
       "      <td>BE11</td>\n",
       "      <td>91708</td>\n",
       "      <td>0.0</td>\n",
       "      <td>10.105715</td>\n",
       "    </tr>\n",
       "  </tbody>\n",
       "</table>\n",
       "</div>"
      ],
      "text/plain": [
       "  plant_sk material_sk plant_code material_code target_opening_stock  \\\n",
       "0     1941     1876258       NL03        107494                300.0   \n",
       "1     2566        3480       DE02          6365            47.968987   \n",
       "2     2641       59933       NL08         94885             0.414761   \n",
       "3     1975        3649       BE07         11385            419.86467   \n",
       "4     1130        4764       NL17         17495             0.700671   \n",
       "5      573       64192       DE05         83748               1.7985   \n",
       "6     1941        6437       NL03         11606          1621.291513   \n",
       "7     3712         813       LU05          3372                1.012   \n",
       "8      133       16450       BE06         34808               2.2248   \n",
       "9     1332       52369       BE11         91708                  0.0   \n",
       "\n",
       "  maximum_stock  \n",
       "0    810.210226  \n",
       "1    240.031882  \n",
       "2      1.121469  \n",
       "3   1533.959265  \n",
       "4       3.35605  \n",
       "5      2.644726  \n",
       "6   8143.826021  \n",
       "7      3.462858  \n",
       "8      2.675128  \n",
       "9     10.105715  "
      ]
     },
     "metadata": {},
     "output_type": "display_data"
    },
    {
     "name": "stdout",
     "output_type": "stream",
     "text": [
      "['plant_sk', 'material_sk', 'plant_code', 'material_code', 'target_opening_stock', 'maximum_stock']\n"
     ]
    }
   ],
   "source": [
    "#loading the file \n",
    "file_name = \"input_Inventory_policy.csv\"\n",
    "df_inventory_policy = dataframes[file_name]\n",
    "\n",
    "# Important columns\n",
    "required_columns_inventory = [\"plant_sk\",\"material_sk\", \"plant_code\", \"material_code\",\"target_opening_stock\",\"maximum_stock\"]\n",
    "df_inventory_policy = df_inventory_policy[required_columns_inventory]\n",
    "dataframes[file_name] = df_inventory_policy\n",
    "\n",
    "# display results \n",
    "display(df_inventory_policy.head(10))\n",
    "print(list(df_inventory_policy.columns))"
   ]
  },
  {
   "cell_type": "markdown",
   "metadata": {},
   "source": [
    "#### Missing values"
   ]
  },
  {
   "cell_type": "code",
   "execution_count": 20,
   "metadata": {
    "execution": {
     "iopub.execute_input": "2025-04-10T07:36:05.410088Z",
     "iopub.status.busy": "2025-04-10T07:36:05.410088Z",
     "iopub.status.idle": "2025-04-10T07:36:05.433311Z",
     "shell.execute_reply": "2025-04-10T07:36:05.433311Z"
    }
   },
   "outputs": [
    {
     "name": "stdout",
     "output_type": "stream",
     "text": [
      "\n",
      "No Missing Values Found in input_Inventory_policy.csv\n"
     ]
    }
   ],
   "source": [
    "# missing values in inventory policy\n",
    "missing_count = df_inventory_policy.isnull().sum()\n",
    "missing_percentage = (missing_count/len(df_inventory_policy))*100\n",
    "\n",
    "# displaying the results\n",
    "missing_data = pd.DataFrame({\"missing_count\":missing_count, \"missing_percentage\":missing_percentage})\n",
    "missing_data = missing_data[missing_data['missing_count'] > 0]\n",
    "\n",
    "if not missing_data.empty:\n",
    "    print(f\"\\nMissing Values Found in {file_name}:\\n\")\n",
    "    \n",
    "    missing_data[\"Missing_Percentage\"] = missing_data[\"Missing_Percentage\"].apply(lambda x: f\"{x:.2f}%\")\n",
    "    \n",
    "    display(missing_data)\n",
    "else:\n",
    "    print(f\"\\nNo Missing Values Found in {file_name}\")"
   ]
  },
  {
   "cell_type": "markdown",
   "metadata": {},
   "source": [
    "#### Duplicates"
   ]
  },
  {
   "cell_type": "code",
   "execution_count": 21,
   "metadata": {
    "execution": {
     "iopub.execute_input": "2025-04-10T07:36:05.440417Z",
     "iopub.status.busy": "2025-04-10T07:36:05.440417Z",
     "iopub.status.idle": "2025-04-10T07:36:05.461504Z",
     "shell.execute_reply": "2025-04-10T07:36:05.459518Z"
    }
   },
   "outputs": [
    {
     "name": "stdout",
     "output_type": "stream",
     "text": [
      "Duplicate Rows in input_Inventory_policy.csv: 0 (0.00%)\n",
      "No duplicate rows found.\n"
     ]
    }
   ],
   "source": [
    "# Step 3: Detect Duplicates in input_Inventory_policy.csv\n",
    "\n",
    "# Identify exact duplicate rows\n",
    "duplicate_count = df_inventory_policy.duplicated().sum()\n",
    "duplicate_percentage = (duplicate_count / len(df_inventory_policy)) * 100  \n",
    "\n",
    "print(f\"Duplicate Rows in {file_name}: {duplicate_count} ({duplicate_percentage:.2f}%)\")\n",
    "\n",
    "# Display duplicate records if found\n",
    "if duplicate_count > 0:\n",
    "    display(df_inventory_policy[df_inventory_policy.duplicated(keep=False)].sort_values(by=df_inventory_policy.columns.tolist()))\n",
    "else:\n",
    "    print(\"No duplicate rows found.\")\n"
   ]
  },
  {
   "cell_type": "markdown",
   "metadata": {},
   "source": [
    "#### Data Type Validation"
   ]
  },
  {
   "cell_type": "code",
   "execution_count": 22,
   "metadata": {
    "execution": {
     "iopub.execute_input": "2025-04-10T07:36:05.467505Z",
     "iopub.status.busy": "2025-04-10T07:36:05.466504Z",
     "iopub.status.idle": "2025-04-10T07:36:05.914857Z",
     "shell.execute_reply": "2025-04-10T07:36:05.495097Z"
    }
   },
   "outputs": [
    {
     "name": "stdout",
     "output_type": "stream",
     "text": [
      "Data Type Mismatches Found:\n",
      "   - Column: plant_sk, Found: object, Expected: Int64\n",
      "   - Column: material_sk, Found: object, Expected: Int64\n",
      "   - Column: material_code, Found: object, Expected: Int64\n",
      "   - Column: target_opening_stock, Found: object, Expected: float64\n",
      "   - Column: maximum_stock, Found: object, Expected: float64\n",
      "Data Types Fixed.\n"
     ]
    }
   ],
   "source": [
    "# Data Type Validation for input_Inventory_policy.csv\n",
    "\n",
    "# Define expected data types\n",
    "expected_dtypes = {\n",
    "    \"plant_sk\": \"Int64\",\n",
    "    \"material_sk\": \"Int64\",\n",
    "    \"plant_code\": \"object\",\n",
    "    \"material_code\": \"Int64\",\n",
    "    \"target_opening_stock\": \"float64\",\n",
    "    \"maximum_stock\": \"float64\"\n",
    "}\n",
    "\n",
    "# Check actual dtypes\n",
    "dtype_mismatches = {}\n",
    "\n",
    "for col, expected_dtype in expected_dtypes.items():\n",
    "    actual_dtype = df_inventory_policy[col].dtype\n",
    "    if actual_dtype != expected_dtype:\n",
    "        dtype_mismatches[col] = (actual_dtype, expected_dtype)\n",
    "\n",
    "# Display results\n",
    "if dtype_mismatches:\n",
    "    print(\"Data Type Mismatches Found:\")\n",
    "    for col, (actual, expected) in dtype_mismatches.items():\n",
    "        print(f\"   - Column: {col}, Found: {actual}, Expected: {expected}\")\n",
    "\n",
    "    # Convert to correct types\n",
    "    df_inventory_policy = df_inventory_policy.astype(expected_dtypes)\n",
    "    print(\"Data Types Fixed.\")\n",
    "else:\n",
    "    print(\"All Columns Have Correct Data Types.\")\n",
    "\n",
    "# Store updated DataFrame\n",
    "dataframes[\"input_Inventory_policy.csv\"] = df_inventory_policy\n"
   ]
  },
  {
   "cell_type": "markdown",
   "metadata": {},
   "source": [
    "#### Non Negative "
   ]
  },
  {
   "cell_type": "code",
   "execution_count": 23,
   "metadata": {
    "execution": {
     "iopub.execute_input": "2025-04-10T07:36:05.922860Z",
     "iopub.status.busy": "2025-04-10T07:36:05.920860Z",
     "iopub.status.idle": "2025-04-10T07:36:05.958392Z",
     "shell.execute_reply": "2025-04-10T07:36:05.955395Z"
    }
   },
   "outputs": [
    {
     "name": "stdout",
     "output_type": "stream",
     "text": [
      "Found 1525 (28.90%) rows with negative values in target_opening_stock or maximum_stock.\n"
     ]
    },
    {
     "data": {
      "text/html": [
       "<div>\n",
       "<style scoped>\n",
       "    .dataframe tbody tr th:only-of-type {\n",
       "        vertical-align: middle;\n",
       "    }\n",
       "\n",
       "    .dataframe tbody tr th {\n",
       "        vertical-align: top;\n",
       "    }\n",
       "\n",
       "    .dataframe thead th {\n",
       "        text-align: right;\n",
       "    }\n",
       "</style>\n",
       "<table border=\"1\" class=\"dataframe\">\n",
       "  <thead>\n",
       "    <tr style=\"text-align: right;\">\n",
       "      <th></th>\n",
       "      <th>plant_sk</th>\n",
       "      <th>material_sk</th>\n",
       "      <th>plant_code</th>\n",
       "      <th>material_code</th>\n",
       "      <th>target_opening_stock</th>\n",
       "      <th>maximum_stock</th>\n",
       "    </tr>\n",
       "  </thead>\n",
       "  <tbody>\n",
       "    <tr>\n",
       "      <th>9</th>\n",
       "      <td>1332</td>\n",
       "      <td>52369</td>\n",
       "      <td>BE11</td>\n",
       "      <td>91708</td>\n",
       "      <td>0.0000</td>\n",
       "      <td>10.105715</td>\n",
       "    </tr>\n",
       "    <tr>\n",
       "      <th>13</th>\n",
       "      <td>2566</td>\n",
       "      <td>1296</td>\n",
       "      <td>DE02</td>\n",
       "      <td>3452</td>\n",
       "      <td>0.0000</td>\n",
       "      <td>7814.182200</td>\n",
       "    </tr>\n",
       "    <tr>\n",
       "      <th>14</th>\n",
       "      <td>62</td>\n",
       "      <td>27955</td>\n",
       "      <td>BE22</td>\n",
       "      <td>48938</td>\n",
       "      <td>0.0000</td>\n",
       "      <td>185.351397</td>\n",
       "    </tr>\n",
       "    <tr>\n",
       "      <th>15</th>\n",
       "      <td>2566</td>\n",
       "      <td>64393</td>\n",
       "      <td>DE02</td>\n",
       "      <td>92984</td>\n",
       "      <td>0.0000</td>\n",
       "      <td>83.213900</td>\n",
       "    </tr>\n",
       "    <tr>\n",
       "      <th>23</th>\n",
       "      <td>85</td>\n",
       "      <td>2272</td>\n",
       "      <td>BE02</td>\n",
       "      <td>10093</td>\n",
       "      <td>0.0000</td>\n",
       "      <td>233.233796</td>\n",
       "    </tr>\n",
       "    <tr>\n",
       "      <th>29</th>\n",
       "      <td>142</td>\n",
       "      <td>1547</td>\n",
       "      <td>BE04</td>\n",
       "      <td>3411</td>\n",
       "      <td>0.0000</td>\n",
       "      <td>997.995993</td>\n",
       "    </tr>\n",
       "    <tr>\n",
       "      <th>30</th>\n",
       "      <td>2857</td>\n",
       "      <td>7751</td>\n",
       "      <td>NL02</td>\n",
       "      <td>18694</td>\n",
       "      <td>0.0000</td>\n",
       "      <td>1741.505527</td>\n",
       "    </tr>\n",
       "    <tr>\n",
       "      <th>35</th>\n",
       "      <td>573</td>\n",
       "      <td>48958</td>\n",
       "      <td>DE05</td>\n",
       "      <td>91339</td>\n",
       "      <td>1084.3894</td>\n",
       "      <td>0.000000</td>\n",
       "    </tr>\n",
       "    <tr>\n",
       "      <th>38</th>\n",
       "      <td>4766</td>\n",
       "      <td>12210</td>\n",
       "      <td>DE06</td>\n",
       "      <td>21410</td>\n",
       "      <td>0.0000</td>\n",
       "      <td>12.792444</td>\n",
       "    </tr>\n",
       "    <tr>\n",
       "      <th>39</th>\n",
       "      <td>3262</td>\n",
       "      <td>49567</td>\n",
       "      <td>NL14</td>\n",
       "      <td>94864</td>\n",
       "      <td>0.0000</td>\n",
       "      <td>2.891247</td>\n",
       "    </tr>\n",
       "  </tbody>\n",
       "</table>\n",
       "</div>"
      ],
      "text/plain": [
       "    plant_sk  material_sk plant_code  material_code  target_opening_stock  \\\n",
       "9       1332        52369       BE11          91708                0.0000   \n",
       "13      2566         1296       DE02           3452                0.0000   \n",
       "14        62        27955       BE22          48938                0.0000   \n",
       "15      2566        64393       DE02          92984                0.0000   \n",
       "23        85         2272       BE02          10093                0.0000   \n",
       "29       142         1547       BE04           3411                0.0000   \n",
       "30      2857         7751       NL02          18694                0.0000   \n",
       "35       573        48958       DE05          91339             1084.3894   \n",
       "38      4766        12210       DE06          21410                0.0000   \n",
       "39      3262        49567       NL14          94864                0.0000   \n",
       "\n",
       "    maximum_stock  \n",
       "9       10.105715  \n",
       "13    7814.182200  \n",
       "14     185.351397  \n",
       "15      83.213900  \n",
       "23     233.233796  \n",
       "29     997.995993  \n",
       "30    1741.505527  \n",
       "35       0.000000  \n",
       "38      12.792444  \n",
       "39       2.891247  "
      ]
     },
     "metadata": {},
     "output_type": "display_data"
    }
   ],
   "source": [
    "# Detect Negative Values in input_Inventory_policy.csv\n",
    "\n",
    "# Check for negative values in relevant columns\n",
    "negative_values = df_inventory_policy[\n",
    "    (df_inventory_policy[\"target_opening_stock\"] <= 0) |\n",
    "    (df_inventory_policy[\"maximum_stock\"] <= 0)\n",
    "]\n",
    "\n",
    "# Display results\n",
    "if not negative_values.empty:\n",
    "    negative_count = len(negative_values)\n",
    "    negative_percentage = (negative_count / len(df_inventory_policy)) * 100\n",
    "    print(f\"Found {negative_count} ({negative_percentage:.2f}%) rows with negative values in target_opening_stock or maximum_stock.\")\n",
    "    \n",
    "    # Show sample\n",
    "    display(negative_values.head(10))\n",
    "else:\n",
    "    print(\"No Negative Values Found in target_opening_stock or maximum_stock.\")\n"
   ]
  },
  {
   "cell_type": "markdown",
   "metadata": {},
   "source": [
    "#### Remove rows where maximum_stock is <= 0"
   ]
  },
  {
   "cell_type": "code",
   "execution_count": 24,
   "metadata": {
    "execution": {
     "iopub.execute_input": "2025-04-10T07:36:05.964394Z",
     "iopub.status.busy": "2025-04-10T07:36:05.963393Z",
     "iopub.status.idle": "2025-04-10T07:36:05.978342Z",
     "shell.execute_reply": "2025-04-10T07:36:05.977345Z"
    }
   },
   "outputs": [
    {
     "name": "stdout",
     "output_type": "stream",
     "text": [
      "Removed 265 rows (5.02%) where maximum_stock was 0.\n",
      "Rows remaining after removal: 5012\n"
     ]
    }
   ],
   "source": [
    "# Remove rows where maximum_stock is 0\n",
    "initial_count = len(df_inventory_policy)\n",
    "df_inventory_policy = df_inventory_policy[df_inventory_policy[\"maximum_stock\"] > 0]\n",
    "\n",
    "# Count and calculate percentage of removed rows\n",
    "removed_rows = initial_count - len(df_inventory_policy)\n",
    "removed_percentage = (removed_rows / initial_count) * 100\n",
    "\n",
    "# Display results\n",
    "print(f\"Removed {removed_rows} rows ({removed_percentage:.2f}%) where maximum_stock was 0.\")\n",
    "print(f\"Rows remaining after removal: {len(df_inventory_policy)}\")\n"
   ]
  },
  {
   "cell_type": "markdown",
   "metadata": {},
   "source": [
    "#### Stock constraint target_opening_stock < maximum_stock"
   ]
  },
  {
   "cell_type": "code",
   "execution_count": 25,
   "metadata": {
    "execution": {
     "iopub.execute_input": "2025-04-10T07:36:05.986344Z",
     "iopub.status.busy": "2025-04-10T07:36:05.986344Z",
     "iopub.status.idle": "2025-04-10T07:36:06.023343Z",
     "shell.execute_reply": "2025-04-10T07:36:06.021346Z"
    }
   },
   "outputs": [
    {
     "name": "stdout",
     "output_type": "stream",
     "text": [
      "Found 8 rows (0.16%) where maximum_stock is less than target_opening_stock.\n"
     ]
    },
    {
     "data": {
      "text/html": [
       "<div>\n",
       "<style scoped>\n",
       "    .dataframe tbody tr th:only-of-type {\n",
       "        vertical-align: middle;\n",
       "    }\n",
       "\n",
       "    .dataframe tbody tr th {\n",
       "        vertical-align: top;\n",
       "    }\n",
       "\n",
       "    .dataframe thead th {\n",
       "        text-align: right;\n",
       "    }\n",
       "</style>\n",
       "<table border=\"1\" class=\"dataframe\">\n",
       "  <thead>\n",
       "    <tr style=\"text-align: right;\">\n",
       "      <th></th>\n",
       "      <th>plant_sk</th>\n",
       "      <th>material_sk</th>\n",
       "      <th>plant_code</th>\n",
       "      <th>material_code</th>\n",
       "      <th>target_opening_stock</th>\n",
       "      <th>maximum_stock</th>\n",
       "    </tr>\n",
       "  </thead>\n",
       "  <tbody>\n",
       "    <tr>\n",
       "      <th>256</th>\n",
       "      <td>753</td>\n",
       "      <td>1889576</td>\n",
       "      <td>GB67</td>\n",
       "      <td>107725</td>\n",
       "      <td>9.871000</td>\n",
       "      <td>7.127129</td>\n",
       "    </tr>\n",
       "    <tr>\n",
       "      <th>482</th>\n",
       "      <td>3262</td>\n",
       "      <td>59933</td>\n",
       "      <td>NL14</td>\n",
       "      <td>94885</td>\n",
       "      <td>1.505186</td>\n",
       "      <td>1.046799</td>\n",
       "    </tr>\n",
       "    <tr>\n",
       "      <th>2140</th>\n",
       "      <td>16105</td>\n",
       "      <td>36225</td>\n",
       "      <td>FR11</td>\n",
       "      <td>65716</td>\n",
       "      <td>112.116659</td>\n",
       "      <td>42.110773</td>\n",
       "    </tr>\n",
       "    <tr>\n",
       "      <th>3740</th>\n",
       "      <td>13670</td>\n",
       "      <td>36225</td>\n",
       "      <td>FR10</td>\n",
       "      <td>65716</td>\n",
       "      <td>61.443176</td>\n",
       "      <td>14.936489</td>\n",
       "    </tr>\n",
       "    <tr>\n",
       "      <th>4267</th>\n",
       "      <td>1941</td>\n",
       "      <td>30431</td>\n",
       "      <td>NL03</td>\n",
       "      <td>58458</td>\n",
       "      <td>17.735640</td>\n",
       "      <td>14.857732</td>\n",
       "    </tr>\n",
       "    <tr>\n",
       "      <th>4324</th>\n",
       "      <td>2373</td>\n",
       "      <td>1878588</td>\n",
       "      <td>IT11</td>\n",
       "      <td>102960</td>\n",
       "      <td>20.500400</td>\n",
       "      <td>18.357442</td>\n",
       "    </tr>\n",
       "    <tr>\n",
       "      <th>4424</th>\n",
       "      <td>4072</td>\n",
       "      <td>40562</td>\n",
       "      <td>BE37</td>\n",
       "      <td>59873</td>\n",
       "      <td>106.378920</td>\n",
       "      <td>87.659894</td>\n",
       "    </tr>\n",
       "    <tr>\n",
       "      <th>4781</th>\n",
       "      <td>753</td>\n",
       "      <td>1874873</td>\n",
       "      <td>GB67</td>\n",
       "      <td>104192</td>\n",
       "      <td>87.038900</td>\n",
       "      <td>73.893857</td>\n",
       "    </tr>\n",
       "  </tbody>\n",
       "</table>\n",
       "</div>"
      ],
      "text/plain": [
       "      plant_sk  material_sk plant_code  material_code  target_opening_stock  \\\n",
       "256        753      1889576       GB67         107725              9.871000   \n",
       "482       3262        59933       NL14          94885              1.505186   \n",
       "2140     16105        36225       FR11          65716            112.116659   \n",
       "3740     13670        36225       FR10          65716             61.443176   \n",
       "4267      1941        30431       NL03          58458             17.735640   \n",
       "4324      2373      1878588       IT11         102960             20.500400   \n",
       "4424      4072        40562       BE37          59873            106.378920   \n",
       "4781       753      1874873       GB67         104192             87.038900   \n",
       "\n",
       "      maximum_stock  \n",
       "256        7.127129  \n",
       "482        1.046799  \n",
       "2140      42.110773  \n",
       "3740      14.936489  \n",
       "4267      14.857732  \n",
       "4324      18.357442  \n",
       "4424      87.659894  \n",
       "4781      73.893857  "
      ]
     },
     "metadata": {},
     "output_type": "display_data"
    }
   ],
   "source": [
    "# Detect where maximum_stock is less than target_opening_stock\n",
    "invalid_stock = df_inventory_policy[df_inventory_policy[\"maximum_stock\"] < df_inventory_policy[\"target_opening_stock\"]]\n",
    "\n",
    "# Count and calculate percentage\n",
    "invalid_count = len(invalid_stock)\n",
    "invalid_percentage = (invalid_count / len(df_inventory_policy)) * 100\n",
    "\n",
    "# Display results\n",
    "if invalid_count > 0:\n",
    "    print(f\"Found {invalid_count} rows ({invalid_percentage:.2f}%) where maximum_stock is less than target_opening_stock.\")\n",
    "    display(invalid_stock)\n",
    "else:\n",
    "    print(\"All rows satisfy the constraint: maximum_stock >= target_opening_stock.\")\n"
   ]
  },
  {
   "cell_type": "markdown",
   "metadata": {},
   "source": [
    "#### Filtering invalid rows based on stock constraint"
   ]
  },
  {
   "cell_type": "code",
   "execution_count": 26,
   "metadata": {
    "execution": {
     "iopub.execute_input": "2025-04-10T07:36:06.029341Z",
     "iopub.status.busy": "2025-04-10T07:36:06.028343Z",
     "iopub.status.idle": "2025-04-10T07:36:06.041579Z",
     "shell.execute_reply": "2025-04-10T07:36:06.040580Z"
    }
   },
   "outputs": [
    {
     "name": "stdout",
     "output_type": "stream",
     "text": [
      "Removed 8 rows (0.16%) where maximum_stock was less than target_opening_stock.\n",
      "Final Rows Remaining: 5004\n"
     ]
    }
   ],
   "source": [
    "# Remove rows violating the constraint\n",
    "initial_count = len(df_inventory_policy)\n",
    "df_inventory_policy = df_inventory_policy[df_inventory_policy[\"maximum_stock\"] >= df_inventory_policy[\"target_opening_stock\"]]\n",
    "\n",
    "# Count and calculate percentage of removed rows\n",
    "removed_rows = initial_count - len(df_inventory_policy)\n",
    "removed_percentage = (removed_rows / initial_count) * 100\n",
    "\n",
    "# Display results\n",
    "print(f\"Removed {removed_rows} rows ({removed_percentage:.2f}%) where maximum_stock was less than target_opening_stock.\")\n",
    "print(f\"Final Rows Remaining: {len(df_inventory_policy)}\")\n"
   ]
  },
  {
   "cell_type": "markdown",
   "metadata": {},
   "source": [
    "#### Filtering rows based on specific plant codes "
   ]
  },
  {
   "cell_type": "code",
   "execution_count": 27,
   "metadata": {
    "execution": {
     "iopub.execute_input": "2025-04-10T07:36:06.046986Z",
     "iopub.status.busy": "2025-04-10T07:36:06.046790Z",
     "iopub.status.idle": "2025-04-10T07:36:06.077535Z",
     "shell.execute_reply": "2025-04-10T07:36:06.077535Z"
    }
   },
   "outputs": [
    {
     "name": "stdout",
     "output_type": "stream",
     "text": [
      "Removed 2 rows (0.04%) that did not match the GB plant filtering rule.\n",
      "Remaining Rows after filtering: 5002\n"
     ]
    }
   ],
   "source": [
    "# Define GB plant codes to retain\n",
    "gb_plants = {\"GB01\", \"GB02\", \"GB06\", \"GB28\", \"GB43\", \"GB50\", \"GB54\", \"GB67\", \"GB80\", \"GB81\", \"GB71\"}\n",
    "\n",
    "# Count before filtering\n",
    "initial_count = len(df_inventory_policy)\n",
    "\n",
    "# Apply filter\n",
    "df_inventory_policy = df_inventory_policy[\n",
    "    (df_inventory_policy[\"plant_code\"].isin(gb_plants)) | \n",
    "    (~df_inventory_policy[\"plant_code\"].str.startswith(\"GB\"))\n",
    "]\n",
    "\n",
    "# Count and calculate percentage of removed rows\n",
    "removed_rows = initial_count - len(df_inventory_policy)\n",
    "removed_percentage = (removed_rows / initial_count) * 100\n",
    "\n",
    "# Display results\n",
    "print(f\"Removed {removed_rows} rows ({removed_percentage:.2f}%) that did not match the GB plant filtering rule.\")\n",
    "print(f\"Remaining Rows after filtering: {len(df_inventory_policy)}\")\n"
   ]
  },
  {
   "cell_type": "markdown",
   "metadata": {},
   "source": [
    "#### Final saving of preprocessed data to inventory_policy.csv"
   ]
  },
  {
   "cell_type": "code",
   "execution_count": 28,
   "metadata": {
    "execution": {
     "iopub.execute_input": "2025-04-10T07:36:06.085718Z",
     "iopub.status.busy": "2025-04-10T07:36:06.083671Z",
     "iopub.status.idle": "2025-04-10T07:36:06.161973Z",
     "shell.execute_reply": "2025-04-10T07:36:06.159998Z"
    }
   },
   "outputs": [
    {
     "name": "stdout",
     "output_type": "stream",
     "text": [
      "Inventory Policy preprocessed and saved to ./PRE_PROCESSED_DATA/04. April 2025/10_04_2025 preprocessed data/2025_04_10_13_03_07 preprocessed data/inventory_policy.csv\n"
     ]
    }
   ],
   "source": [
    "# Define the path to save\n",
    "inventory_policy_path = os.path.join(preprocessed_path, \"inventory_policy.csv\")\n",
    "\n",
    "# Save to CSV\n",
    "df_inventory_policy.to_csv(inventory_policy_path, index=False)\n",
    "\n",
    "print(f\"Inventory Policy preprocessed and saved to {inventory_policy_path}\")\n"
   ]
  },
  {
   "cell_type": "markdown",
   "metadata": {},
   "source": [
    "### Input LCP Data Preprocessing"
   ]
  },
  {
   "cell_type": "code",
   "execution_count": 29,
   "metadata": {
    "execution": {
     "iopub.execute_input": "2025-04-10T07:36:06.168977Z",
     "iopub.status.busy": "2025-04-10T07:36:06.167975Z",
     "iopub.status.idle": "2025-04-10T07:36:06.212138Z",
     "shell.execute_reply": "2025-04-10T07:36:06.210120Z"
    }
   },
   "outputs": [
    {
     "data": {
      "text/html": [
       "<div>\n",
       "<style scoped>\n",
       "    .dataframe tbody tr th:only-of-type {\n",
       "        vertical-align: middle;\n",
       "    }\n",
       "\n",
       "    .dataframe tbody tr th {\n",
       "        vertical-align: top;\n",
       "    }\n",
       "\n",
       "    .dataframe thead th {\n",
       "        text-align: right;\n",
       "    }\n",
       "</style>\n",
       "<table border=\"1\" class=\"dataframe\">\n",
       "  <thead>\n",
       "    <tr style=\"text-align: right;\">\n",
       "      <th></th>\n",
       "      <th>material_sk</th>\n",
       "      <th>lcp_rank</th>\n",
       "      <th>material_code</th>\n",
       "      <th>origin_location_code</th>\n",
       "      <th>destination_location_code</th>\n",
       "      <th>release_week_id</th>\n",
       "      <th>ins_gmt_ts</th>\n",
       "      <th>origin_plant_sk</th>\n",
       "      <th>destination_plant_sk</th>\n",
       "    </tr>\n",
       "  </thead>\n",
       "  <tbody>\n",
       "    <tr>\n",
       "      <th>0</th>\n",
       "      <td>3769</td>\n",
       "      <td>2</td>\n",
       "      <td>11524</td>\n",
       "      <td>DE05</td>\n",
       "      <td>DE02</td>\n",
       "      <td>202451</td>\n",
       "      <td>20241227124946</td>\n",
       "      <td>573</td>\n",
       "      <td>2566</td>\n",
       "    </tr>\n",
       "    <tr>\n",
       "      <th>1</th>\n",
       "      <td>3480</td>\n",
       "      <td>1</td>\n",
       "      <td>6365</td>\n",
       "      <td>DE05</td>\n",
       "      <td>DE12</td>\n",
       "      <td>202451</td>\n",
       "      <td>20241227124946</td>\n",
       "      <td>573</td>\n",
       "      <td>520</td>\n",
       "    </tr>\n",
       "    <tr>\n",
       "      <th>2</th>\n",
       "      <td>1899</td>\n",
       "      <td>1</td>\n",
       "      <td>6590</td>\n",
       "      <td>DE05</td>\n",
       "      <td>DE06</td>\n",
       "      <td>202451</td>\n",
       "      <td>20241227124946</td>\n",
       "      <td>573</td>\n",
       "      <td>4766</td>\n",
       "    </tr>\n",
       "    <tr>\n",
       "      <th>3</th>\n",
       "      <td>2241</td>\n",
       "      <td>1</td>\n",
       "      <td>5733</td>\n",
       "      <td>DE05</td>\n",
       "      <td>DE02</td>\n",
       "      <td>202451</td>\n",
       "      <td>20241227124946</td>\n",
       "      <td>573</td>\n",
       "      <td>2566</td>\n",
       "    </tr>\n",
       "    <tr>\n",
       "      <th>4</th>\n",
       "      <td>3448</td>\n",
       "      <td>1</td>\n",
       "      <td>6490</td>\n",
       "      <td>DE46</td>\n",
       "      <td>DE06</td>\n",
       "      <td>202451</td>\n",
       "      <td>20241227124946</td>\n",
       "      <td>732</td>\n",
       "      <td>4766</td>\n",
       "    </tr>\n",
       "    <tr>\n",
       "      <th>5</th>\n",
       "      <td>1286</td>\n",
       "      <td>2</td>\n",
       "      <td>3337</td>\n",
       "      <td>BE50</td>\n",
       "      <td>BE22</td>\n",
       "      <td>202451</td>\n",
       "      <td>20241227124946</td>\n",
       "      <td>50</td>\n",
       "      <td>62</td>\n",
       "    </tr>\n",
       "    <tr>\n",
       "      <th>6</th>\n",
       "      <td>1884</td>\n",
       "      <td>1</td>\n",
       "      <td>5767</td>\n",
       "      <td>DE13</td>\n",
       "      <td>DE02</td>\n",
       "      <td>202451</td>\n",
       "      <td>20241227124946</td>\n",
       "      <td>1402</td>\n",
       "      <td>2566</td>\n",
       "    </tr>\n",
       "    <tr>\n",
       "      <th>7</th>\n",
       "      <td>813</td>\n",
       "      <td>3</td>\n",
       "      <td>3372</td>\n",
       "      <td>BE50</td>\n",
       "      <td>IT11</td>\n",
       "      <td>202451</td>\n",
       "      <td>20241227124946</td>\n",
       "      <td>50</td>\n",
       "      <td>2373</td>\n",
       "    </tr>\n",
       "    <tr>\n",
       "      <th>8</th>\n",
       "      <td>1233</td>\n",
       "      <td>1</td>\n",
       "      <td>3650</td>\n",
       "      <td>NL03</td>\n",
       "      <td>NL15</td>\n",
       "      <td>202451</td>\n",
       "      <td>20241227124946</td>\n",
       "      <td>1941</td>\n",
       "      <td>1002</td>\n",
       "    </tr>\n",
       "    <tr>\n",
       "      <th>9</th>\n",
       "      <td>2110</td>\n",
       "      <td>2</td>\n",
       "      <td>5716</td>\n",
       "      <td>DE05</td>\n",
       "      <td>DE12</td>\n",
       "      <td>202451</td>\n",
       "      <td>20241227124946</td>\n",
       "      <td>573</td>\n",
       "      <td>520</td>\n",
       "    </tr>\n",
       "  </tbody>\n",
       "</table>\n",
       "</div>"
      ],
      "text/plain": [
       "  material_sk lcp_rank material_code origin_location_code  \\\n",
       "0        3769        2         11524                 DE05   \n",
       "1        3480        1          6365                 DE05   \n",
       "2        1899        1          6590                 DE05   \n",
       "3        2241        1          5733                 DE05   \n",
       "4        3448        1          6490                 DE46   \n",
       "5        1286        2          3337                 BE50   \n",
       "6        1884        1          5767                 DE13   \n",
       "7         813        3          3372                 BE50   \n",
       "8        1233        1          3650                 NL03   \n",
       "9        2110        2          5716                 DE05   \n",
       "\n",
       "  destination_location_code release_week_id      ins_gmt_ts origin_plant_sk  \\\n",
       "0                      DE02          202451  20241227124946             573   \n",
       "1                      DE12          202451  20241227124946             573   \n",
       "2                      DE06          202451  20241227124946             573   \n",
       "3                      DE02          202451  20241227124946             573   \n",
       "4                      DE06          202451  20241227124946             732   \n",
       "5                      BE22          202451  20241227124946              50   \n",
       "6                      DE02          202451  20241227124946            1402   \n",
       "7                      IT11          202451  20241227124946              50   \n",
       "8                      NL15          202451  20241227124946            1941   \n",
       "9                      DE12          202451  20241227124946             573   \n",
       "\n",
       "  destination_plant_sk  \n",
       "0                 2566  \n",
       "1                  520  \n",
       "2                 4766  \n",
       "3                 2566  \n",
       "4                 4766  \n",
       "5                   62  \n",
       "6                 2566  \n",
       "7                 2373  \n",
       "8                 1002  \n",
       "9                  520  "
      ]
     },
     "metadata": {},
     "output_type": "display_data"
    },
    {
     "name": "stdout",
     "output_type": "stream",
     "text": [
      "['material_sk', 'lcp_rank', 'material_code', 'origin_location_code', 'destination_location_code', 'release_week_id', 'ins_gmt_ts', 'origin_plant_sk', 'destination_plant_sk']\n"
     ]
    }
   ],
   "source": [
    "#loading the file \n",
    "file_name = \"input_lcp_data.csv\"\n",
    "df_lcp_data = dataframes[file_name]\n",
    "\n",
    "# Important columns\n",
    "required_columns_lcp = [\"material_sk\", \"lcp_rank\", \"material_code\", \"origin_location_code\", \"destination_location_code\",\"release_week_id\",\"ins_gmt_ts\",\"origin_plant_sk\",\"destination_plant_sk\"]\n",
    "df_lcp_data = df_lcp_data[required_columns_lcp]\n",
    "dataframes[file_name] = df_lcp_data\n",
    "\n",
    "# display results \n",
    "display(df_lcp_data.head(10))\n",
    "print(list(df_lcp_data.columns))"
   ]
  },
  {
   "cell_type": "markdown",
   "metadata": {},
   "source": [
    "#### Missing Values"
   ]
  },
  {
   "cell_type": "code",
   "execution_count": 30,
   "metadata": {
    "execution": {
     "iopub.execute_input": "2025-04-10T07:36:06.511493Z",
     "iopub.status.busy": "2025-04-10T07:36:06.510492Z",
     "iopub.status.idle": "2025-04-10T07:36:06.760106Z",
     "shell.execute_reply": "2025-04-10T07:36:06.754090Z"
    }
   },
   "outputs": [
    {
     "name": "stdout",
     "output_type": "stream",
     "text": [
      "### Missing Values Check ###\n",
      "material_sk                  0\n",
      "lcp_rank                     0\n",
      "material_code                0\n",
      "origin_location_code         0\n",
      "destination_location_code    0\n",
      "release_week_id              0\n",
      "ins_gmt_ts                   0\n",
      "origin_plant_sk              0\n",
      "destination_plant_sk         0\n",
      "dtype: int64\n",
      "\n",
      "No missing values found in important columns.\n"
     ]
    }
   ],
   "source": [
    "# Checking for missing values in important columns\n",
    "#required_columns_lcp = [\"material_sk\", \"lcp_rank\", \"material_code\", \"origin_location_code\", \"destination_location_code\"]\n",
    "\n",
    "missing_values = df_lcp_data[required_columns_lcp].isnull().sum()\n",
    "\n",
    "print(\"### Missing Values Check ###\")\n",
    "print(missing_values)\n",
    "\n",
    "# Display rows with missing values if any\n",
    "missing_rows = df_lcp_data[df_lcp_data[required_columns_lcp].isnull().any(axis=1)]\n",
    "if not missing_rows.empty:\n",
    "    print(\"\\nRows with missing values:\")\n",
    "    display(missing_rows)\n",
    "else:\n",
    "    print(\"\\nNo missing values found in important columns.\")\n"
   ]
  },
  {
   "cell_type": "markdown",
   "metadata": {},
   "source": [
    "#### Data Type Validation"
   ]
  },
  {
   "cell_type": "code",
   "execution_count": 31,
   "metadata": {
    "execution": {
     "iopub.execute_input": "2025-04-10T07:36:06.766199Z",
     "iopub.status.busy": "2025-04-10T07:36:06.766199Z",
     "iopub.status.idle": "2025-04-10T07:36:06.776938Z",
     "shell.execute_reply": "2025-04-10T07:36:06.776938Z"
    }
   },
   "outputs": [
    {
     "name": "stdout",
     "output_type": "stream",
     "text": [
      "Columns with unexpected data types:\n",
      "- material_sk: Expected int64, Found object\n",
      "- lcp_rank: Expected int64, Found object\n",
      "- material_code: Expected int64, Found object\n",
      "- origin_plant_sk: Expected int64, Found object\n",
      "- destination_plant_sk: Expected int64, Found object\n"
     ]
    }
   ],
   "source": [
    "# Checking if each column has the expected data type\n",
    "expected_dtypes = {\n",
    "    \"material_sk\": \"int64\",\n",
    "    \"lcp_rank\": \"int64\",\n",
    "    \"material_code\": \"int64\",\n",
    "    \"origin_location_code\": \"object\",\n",
    "    \"destination_location_code\": \"object\",\n",
    "    \"origin_plant_sk\" : \"int64\",\n",
    "    \"destination_plant_sk\" : \"int64\"\n",
    "}\n",
    "\n",
    "# Identifying mismatched data types\n",
    "mismatched_types = {\n",
    "    col: df_lcp_data[col].dtype\n",
    "    for col in expected_dtypes\n",
    "    if df_lcp_data[col].dtype != expected_dtypes[col]\n",
    "}\n",
    "\n",
    "if mismatched_types:\n",
    "    print(\"Columns with unexpected data types:\")\n",
    "    for col, dtype in mismatched_types.items():\n",
    "        print(f\"- {col}: Expected {expected_dtypes[col]}, Found {dtype}\")\n",
    "else:\n",
    "    print(\"All important columns have the correct data types.\")\n",
    "\n"
   ]
  },
  {
   "cell_type": "markdown",
   "metadata": {},
   "source": [
    "#### Handling data mismatches"
   ]
  },
  {
   "cell_type": "code",
   "execution_count": 32,
   "metadata": {
    "execution": {
     "iopub.execute_input": "2025-04-10T07:36:06.784524Z",
     "iopub.status.busy": "2025-04-10T07:36:06.776938Z",
     "iopub.status.idle": "2025-04-10T07:36:07.824452Z",
     "shell.execute_reply": "2025-04-10T07:36:07.821453Z"
    }
   },
   "outputs": [
    {
     "name": "stdout",
     "output_type": "stream",
     "text": [
      "Data Types Fixed.\n"
     ]
    }
   ],
   "source": [
    "# Convert incorrect data types\n",
    "df_lcp_data[\"material_sk\"] = pd.to_numeric(df_lcp_data[\"material_sk\"], errors=\"coerce\")\n",
    "df_lcp_data[\"lcp_rank\"] = pd.to_numeric(df_lcp_data[\"lcp_rank\"], errors=\"coerce\")\n",
    "df_lcp_data[\"material_code\"] = pd.to_numeric(df_lcp_data[\"material_code\"], errors=\"coerce\")\n",
    "df_lcp_data[\"origin_plant_sk\"] = pd.to_numeric(df_lcp_data[\"origin_plant_sk\"], errors=\"coerce\")\n",
    "df_lcp_data[\"destination_plant_sk\"] = pd.to_numeric(df_lcp_data[\"destination_plant_sk\"], errors=\"coerce\")\n",
    "\n",
    "# Validate conversion\n",
    "print(\"Data Types Fixed.\")\n"
   ]
  },
  {
   "cell_type": "markdown",
   "metadata": {},
   "source": [
    "#### Non - Negative"
   ]
  },
  {
   "cell_type": "code",
   "execution_count": 33,
   "metadata": {
    "execution": {
     "iopub.execute_input": "2025-04-10T07:36:07.833670Z",
     "iopub.status.busy": "2025-04-10T07:36:07.833670Z",
     "iopub.status.idle": "2025-04-10T07:36:07.849268Z",
     "shell.execute_reply": "2025-04-10T07:36:07.849268Z"
    }
   },
   "outputs": [
    {
     "name": "stdout",
     "output_type": "stream",
     "text": [
      "All values in lcp_rank are positive.\n"
     ]
    }
   ],
   "source": [
    "# Checking for negative or zero values in lcp_rank\n",
    "invalid_lcp_rank = df_lcp_data[df_lcp_data[\"lcp_rank\"] <= 0]\n",
    "\n",
    "if not invalid_lcp_rank.empty:\n",
    "    print(\"Found rows with zero or negative values in lcp_rank:\")\n",
    "    display(invalid_lcp_rank)\n",
    "else:\n",
    "    print(\"All values in lcp_rank are positive.\")\n"
   ]
  },
  {
   "cell_type": "markdown",
   "metadata": {},
   "source": [
    "#### Duplicates"
   ]
  },
  {
   "cell_type": "code",
   "execution_count": 34,
   "metadata": {
    "execution": {
     "iopub.execute_input": "2025-04-10T07:36:07.853897Z",
     "iopub.status.busy": "2025-04-10T07:36:07.853897Z",
     "iopub.status.idle": "2025-04-10T07:36:07.985583Z",
     "shell.execute_reply": "2025-04-10T07:36:07.983492Z"
    }
   },
   "outputs": [
    {
     "name": "stdout",
     "output_type": "stream",
     "text": [
      "Found 79717 (98.54%) duplicate rows in lcp_data.\n"
     ]
    },
    {
     "data": {
      "text/html": [
       "<div>\n",
       "<style scoped>\n",
       "    .dataframe tbody tr th:only-of-type {\n",
       "        vertical-align: middle;\n",
       "    }\n",
       "\n",
       "    .dataframe tbody tr th {\n",
       "        vertical-align: top;\n",
       "    }\n",
       "\n",
       "    .dataframe thead th {\n",
       "        text-align: right;\n",
       "    }\n",
       "</style>\n",
       "<table border=\"1\" class=\"dataframe\">\n",
       "  <thead>\n",
       "    <tr style=\"text-align: right;\">\n",
       "      <th></th>\n",
       "      <th>material_sk</th>\n",
       "      <th>lcp_rank</th>\n",
       "      <th>material_code</th>\n",
       "      <th>origin_location_code</th>\n",
       "      <th>destination_location_code</th>\n",
       "      <th>release_week_id</th>\n",
       "      <th>ins_gmt_ts</th>\n",
       "      <th>origin_plant_sk</th>\n",
       "      <th>destination_plant_sk</th>\n",
       "    </tr>\n",
       "  </thead>\n",
       "  <tbody>\n",
       "    <tr>\n",
       "      <th>0</th>\n",
       "      <td>3769</td>\n",
       "      <td>2</td>\n",
       "      <td>11524</td>\n",
       "      <td>DE05</td>\n",
       "      <td>DE02</td>\n",
       "      <td>202451</td>\n",
       "      <td>20241227124946</td>\n",
       "      <td>573</td>\n",
       "      <td>2566</td>\n",
       "    </tr>\n",
       "    <tr>\n",
       "      <th>1</th>\n",
       "      <td>3480</td>\n",
       "      <td>1</td>\n",
       "      <td>6365</td>\n",
       "      <td>DE05</td>\n",
       "      <td>DE12</td>\n",
       "      <td>202451</td>\n",
       "      <td>20241227124946</td>\n",
       "      <td>573</td>\n",
       "      <td>520</td>\n",
       "    </tr>\n",
       "    <tr>\n",
       "      <th>2</th>\n",
       "      <td>1899</td>\n",
       "      <td>1</td>\n",
       "      <td>6590</td>\n",
       "      <td>DE05</td>\n",
       "      <td>DE06</td>\n",
       "      <td>202451</td>\n",
       "      <td>20241227124946</td>\n",
       "      <td>573</td>\n",
       "      <td>4766</td>\n",
       "    </tr>\n",
       "    <tr>\n",
       "      <th>3</th>\n",
       "      <td>2241</td>\n",
       "      <td>1</td>\n",
       "      <td>5733</td>\n",
       "      <td>DE05</td>\n",
       "      <td>DE02</td>\n",
       "      <td>202451</td>\n",
       "      <td>20241227124946</td>\n",
       "      <td>573</td>\n",
       "      <td>2566</td>\n",
       "    </tr>\n",
       "    <tr>\n",
       "      <th>4</th>\n",
       "      <td>3448</td>\n",
       "      <td>1</td>\n",
       "      <td>6490</td>\n",
       "      <td>DE46</td>\n",
       "      <td>DE06</td>\n",
       "      <td>202451</td>\n",
       "      <td>20241227124946</td>\n",
       "      <td>732</td>\n",
       "      <td>4766</td>\n",
       "    </tr>\n",
       "    <tr>\n",
       "      <th>5</th>\n",
       "      <td>1286</td>\n",
       "      <td>2</td>\n",
       "      <td>3337</td>\n",
       "      <td>BE50</td>\n",
       "      <td>BE22</td>\n",
       "      <td>202451</td>\n",
       "      <td>20241227124946</td>\n",
       "      <td>50</td>\n",
       "      <td>62</td>\n",
       "    </tr>\n",
       "    <tr>\n",
       "      <th>6</th>\n",
       "      <td>1884</td>\n",
       "      <td>1</td>\n",
       "      <td>5767</td>\n",
       "      <td>DE13</td>\n",
       "      <td>DE02</td>\n",
       "      <td>202451</td>\n",
       "      <td>20241227124946</td>\n",
       "      <td>1402</td>\n",
       "      <td>2566</td>\n",
       "    </tr>\n",
       "    <tr>\n",
       "      <th>7</th>\n",
       "      <td>813</td>\n",
       "      <td>3</td>\n",
       "      <td>3372</td>\n",
       "      <td>BE50</td>\n",
       "      <td>IT11</td>\n",
       "      <td>202451</td>\n",
       "      <td>20241227124946</td>\n",
       "      <td>50</td>\n",
       "      <td>2373</td>\n",
       "    </tr>\n",
       "    <tr>\n",
       "      <th>8</th>\n",
       "      <td>1233</td>\n",
       "      <td>1</td>\n",
       "      <td>3650</td>\n",
       "      <td>NL03</td>\n",
       "      <td>NL15</td>\n",
       "      <td>202451</td>\n",
       "      <td>20241227124946</td>\n",
       "      <td>1941</td>\n",
       "      <td>1002</td>\n",
       "    </tr>\n",
       "    <tr>\n",
       "      <th>9</th>\n",
       "      <td>2110</td>\n",
       "      <td>2</td>\n",
       "      <td>5716</td>\n",
       "      <td>DE05</td>\n",
       "      <td>DE12</td>\n",
       "      <td>202451</td>\n",
       "      <td>20241227124946</td>\n",
       "      <td>573</td>\n",
       "      <td>520</td>\n",
       "    </tr>\n",
       "  </tbody>\n",
       "</table>\n",
       "</div>"
      ],
      "text/plain": [
       "   material_sk  lcp_rank  material_code origin_location_code  \\\n",
       "0         3769         2          11524                 DE05   \n",
       "1         3480         1           6365                 DE05   \n",
       "2         1899         1           6590                 DE05   \n",
       "3         2241         1           5733                 DE05   \n",
       "4         3448         1           6490                 DE46   \n",
       "5         1286         2           3337                 BE50   \n",
       "6         1884         1           5767                 DE13   \n",
       "7          813         3           3372                 BE50   \n",
       "8         1233         1           3650                 NL03   \n",
       "9         2110         2           5716                 DE05   \n",
       "\n",
       "  destination_location_code release_week_id      ins_gmt_ts  origin_plant_sk  \\\n",
       "0                      DE02          202451  20241227124946              573   \n",
       "1                      DE12          202451  20241227124946              573   \n",
       "2                      DE06          202451  20241227124946              573   \n",
       "3                      DE02          202451  20241227124946              573   \n",
       "4                      DE06          202451  20241227124946              732   \n",
       "5                      BE22          202451  20241227124946               50   \n",
       "6                      DE02          202451  20241227124946             1402   \n",
       "7                      IT11          202451  20241227124946               50   \n",
       "8                      NL15          202451  20241227124946             1941   \n",
       "9                      DE12          202451  20241227124946              573   \n",
       "\n",
       "   destination_plant_sk  \n",
       "0                  2566  \n",
       "1                   520  \n",
       "2                  4766  \n",
       "3                  2566  \n",
       "4                  4766  \n",
       "5                    62  \n",
       "6                  2566  \n",
       "7                  2373  \n",
       "8                  1002  \n",
       "9                   520  "
      ]
     },
     "metadata": {},
     "output_type": "display_data"
    }
   ],
   "source": [
    "# Checking for duplicate rows in lcp_data based on key columns\n",
    "initial_count_lcp = len(df_lcp_data)\n",
    "\n",
    "# Identify duplicates based on key columns\n",
    "duplicates_lcp = df_lcp_data.duplicated(subset=[\"material_sk\", \"material_code\", \"origin_location_code\", \"destination_location_code\"], keep=False)\n",
    "\n",
    "# Count and calculate percentage\n",
    "duplicate_count = duplicates_lcp.sum()\n",
    "duplicate_percentage = (duplicate_count / initial_count_lcp) * 100  \n",
    "\n",
    "if duplicate_count > 0:\n",
    "    print(f\"Found {duplicate_count} ({duplicate_percentage:.2f}%) duplicate rows in lcp_data.\")\n",
    "    display(df_lcp_data[duplicates_lcp].head(10))  # Displaying a sample\n",
    "else:\n",
    "    print(\"No duplicates found in lcp_data.\")\n"
   ]
  },
  {
   "cell_type": "markdown",
   "metadata": {},
   "source": [
    "#### LCP Rank Validation"
   ]
  },
  {
   "cell_type": "code",
   "execution_count": 35,
   "metadata": {
    "execution": {
     "iopub.execute_input": "2025-04-10T07:36:07.985583Z",
     "iopub.status.busy": "2025-04-10T07:36:07.985583Z",
     "iopub.status.idle": "2025-04-10T07:36:08.345598Z",
     "shell.execute_reply": "2025-04-10T07:36:08.344599Z"
    }
   },
   "outputs": [
    {
     "name": "stdout",
     "output_type": "stream",
     "text": [
      "Found 40043 (49.50%) rows where the same material, origin, and destination have multiple lcp_ranks in the same release_week_id.\n"
     ]
    },
    {
     "data": {
      "text/html": [
       "<div>\n",
       "<style scoped>\n",
       "    .dataframe tbody tr th:only-of-type {\n",
       "        vertical-align: middle;\n",
       "    }\n",
       "\n",
       "    .dataframe tbody tr th {\n",
       "        vertical-align: top;\n",
       "    }\n",
       "\n",
       "    .dataframe thead th {\n",
       "        text-align: right;\n",
       "    }\n",
       "</style>\n",
       "<table border=\"1\" class=\"dataframe\">\n",
       "  <thead>\n",
       "    <tr style=\"text-align: right;\">\n",
       "      <th></th>\n",
       "      <th>material_sk</th>\n",
       "      <th>lcp_rank</th>\n",
       "      <th>material_code</th>\n",
       "      <th>origin_location_code</th>\n",
       "      <th>destination_location_code</th>\n",
       "      <th>release_week_id</th>\n",
       "      <th>ins_gmt_ts</th>\n",
       "      <th>origin_plant_sk</th>\n",
       "      <th>destination_plant_sk</th>\n",
       "    </tr>\n",
       "  </thead>\n",
       "  <tbody>\n",
       "    <tr>\n",
       "      <th>3889</th>\n",
       "      <td>685</td>\n",
       "      <td>1</td>\n",
       "      <td>3393</td>\n",
       "      <td>BE02</td>\n",
       "      <td>BE03</td>\n",
       "      <td>202508</td>\n",
       "      <td>20250221042329</td>\n",
       "      <td>85</td>\n",
       "      <td>73</td>\n",
       "    </tr>\n",
       "    <tr>\n",
       "      <th>4789</th>\n",
       "      <td>685</td>\n",
       "      <td>1</td>\n",
       "      <td>3393</td>\n",
       "      <td>BE02</td>\n",
       "      <td>BE03</td>\n",
       "      <td>202508</td>\n",
       "      <td>20250311074312</td>\n",
       "      <td>85</td>\n",
       "      <td>73</td>\n",
       "    </tr>\n",
       "    <tr>\n",
       "      <th>6589</th>\n",
       "      <td>685</td>\n",
       "      <td>1</td>\n",
       "      <td>3393</td>\n",
       "      <td>BE02</td>\n",
       "      <td>BE03</td>\n",
       "      <td>202512</td>\n",
       "      <td>20250319080954</td>\n",
       "      <td>85</td>\n",
       "      <td>73</td>\n",
       "    </tr>\n",
       "    <tr>\n",
       "      <th>7489</th>\n",
       "      <td>685</td>\n",
       "      <td>1</td>\n",
       "      <td>3393</td>\n",
       "      <td>BE02</td>\n",
       "      <td>BE03</td>\n",
       "      <td>202512</td>\n",
       "      <td>20250320133739</td>\n",
       "      <td>85</td>\n",
       "      <td>73</td>\n",
       "    </tr>\n",
       "    <tr>\n",
       "      <th>8389</th>\n",
       "      <td>685</td>\n",
       "      <td>1</td>\n",
       "      <td>3393</td>\n",
       "      <td>BE02</td>\n",
       "      <td>BE03</td>\n",
       "      <td>202512</td>\n",
       "      <td>20250321062306</td>\n",
       "      <td>85</td>\n",
       "      <td>73</td>\n",
       "    </tr>\n",
       "    <tr>\n",
       "      <th>4069</th>\n",
       "      <td>685</td>\n",
       "      <td>1</td>\n",
       "      <td>3393</td>\n",
       "      <td>BE02</td>\n",
       "      <td>BE04</td>\n",
       "      <td>202508</td>\n",
       "      <td>20250221042329</td>\n",
       "      <td>85</td>\n",
       "      <td>142</td>\n",
       "    </tr>\n",
       "    <tr>\n",
       "      <th>4969</th>\n",
       "      <td>685</td>\n",
       "      <td>1</td>\n",
       "      <td>3393</td>\n",
       "      <td>BE02</td>\n",
       "      <td>BE04</td>\n",
       "      <td>202508</td>\n",
       "      <td>20250311074312</td>\n",
       "      <td>85</td>\n",
       "      <td>142</td>\n",
       "    </tr>\n",
       "    <tr>\n",
       "      <th>6769</th>\n",
       "      <td>685</td>\n",
       "      <td>1</td>\n",
       "      <td>3393</td>\n",
       "      <td>BE02</td>\n",
       "      <td>BE04</td>\n",
       "      <td>202512</td>\n",
       "      <td>20250319080954</td>\n",
       "      <td>85</td>\n",
       "      <td>142</td>\n",
       "    </tr>\n",
       "    <tr>\n",
       "      <th>7669</th>\n",
       "      <td>685</td>\n",
       "      <td>1</td>\n",
       "      <td>3393</td>\n",
       "      <td>BE02</td>\n",
       "      <td>BE04</td>\n",
       "      <td>202512</td>\n",
       "      <td>20250320133739</td>\n",
       "      <td>85</td>\n",
       "      <td>142</td>\n",
       "    </tr>\n",
       "    <tr>\n",
       "      <th>8569</th>\n",
       "      <td>685</td>\n",
       "      <td>1</td>\n",
       "      <td>3393</td>\n",
       "      <td>BE02</td>\n",
       "      <td>BE04</td>\n",
       "      <td>202512</td>\n",
       "      <td>20250321062306</td>\n",
       "      <td>85</td>\n",
       "      <td>142</td>\n",
       "    </tr>\n",
       "  </tbody>\n",
       "</table>\n",
       "</div>"
      ],
      "text/plain": [
       "      material_sk  lcp_rank  material_code origin_location_code  \\\n",
       "3889          685         1           3393                 BE02   \n",
       "4789          685         1           3393                 BE02   \n",
       "6589          685         1           3393                 BE02   \n",
       "7489          685         1           3393                 BE02   \n",
       "8389          685         1           3393                 BE02   \n",
       "4069          685         1           3393                 BE02   \n",
       "4969          685         1           3393                 BE02   \n",
       "6769          685         1           3393                 BE02   \n",
       "7669          685         1           3393                 BE02   \n",
       "8569          685         1           3393                 BE02   \n",
       "\n",
       "     destination_location_code release_week_id      ins_gmt_ts  \\\n",
       "3889                      BE03          202508  20250221042329   \n",
       "4789                      BE03          202508  20250311074312   \n",
       "6589                      BE03          202512  20250319080954   \n",
       "7489                      BE03          202512  20250320133739   \n",
       "8389                      BE03          202512  20250321062306   \n",
       "4069                      BE04          202508  20250221042329   \n",
       "4969                      BE04          202508  20250311074312   \n",
       "6769                      BE04          202512  20250319080954   \n",
       "7669                      BE04          202512  20250320133739   \n",
       "8569                      BE04          202512  20250321062306   \n",
       "\n",
       "      origin_plant_sk  destination_plant_sk  \n",
       "3889               85                    73  \n",
       "4789               85                    73  \n",
       "6589               85                    73  \n",
       "7489               85                    73  \n",
       "8389               85                    73  \n",
       "4069               85                   142  \n",
       "4969               85                   142  \n",
       "6769               85                   142  \n",
       "7669               85                   142  \n",
       "8569               85                   142  "
      ]
     },
     "metadata": {},
     "output_type": "display_data"
    }
   ],
   "source": [
    "# Checking if the same material, origin, destination has multiple lcp_ranks in the same release_week_id\n",
    "initial_count_lcp = len(df_lcp_data)\n",
    "\n",
    "# Identify duplicates based on material, origin, destination, and release_week_id\n",
    "multiple_lcp_per_week = df_lcp_data.duplicated(\n",
    "    subset=[\"material_sk\", \"origin_location_code\", \"destination_location_code\", \"release_week_id\",\"origin_plant_sk\",\"destination_plant_sk\"], keep=False\n",
    ")\n",
    "\n",
    "# Count and calculate percentage\n",
    "multiple_lcp_count = multiple_lcp_per_week.sum()\n",
    "multiple_lcp_percentage = (multiple_lcp_count / initial_count_lcp) * 100  \n",
    "\n",
    "if multiple_lcp_count > 0:\n",
    "    print(f\"Found {multiple_lcp_count} ({multiple_lcp_percentage:.2f}%) rows where the same material, origin, and destination have multiple lcp_ranks in the same release_week_id.\")\n",
    "    \n",
    "    # Display sample data\n",
    "    display(df_lcp_data[multiple_lcp_per_week].sort_values(\n",
    "        [\"material_sk\", \"origin_location_code\", \"destination_location_code\",\"origin_plant_sk\",\"destination_plant_sk\", \"release_week_id\"]\n",
    "    ).head(10))  # Displaying a sample of 10 rows\n",
    "else:\n",
    "    print(\"No multiple lcp_rank values found for the same material and locations in the same release_week_id.\")\n"
   ]
  },
  {
   "cell_type": "markdown",
   "metadata": {},
   "source": [
    "#### Handling LCP rank by considering latest entries"
   ]
  },
  {
   "cell_type": "code",
   "execution_count": 36,
   "metadata": {
    "execution": {
     "iopub.execute_input": "2025-04-10T07:36:08.351600Z",
     "iopub.status.busy": "2025-04-10T07:36:08.350599Z",
     "iopub.status.idle": "2025-04-10T07:36:08.973755Z",
     "shell.execute_reply": "2025-04-10T07:36:08.965762Z"
    }
   },
   "outputs": [
    {
     "name": "stdout",
     "output_type": "stream",
     "text": [
      "Duplicate entries removed: 23805 rows (29.43%).\n",
      "Final Rows Remaining: 57093\n"
     ]
    }
   ],
   "source": [
    "# Store initial row count before removing duplicates\n",
    "initial_rows_lcp = len(df_lcp_data)\n",
    "\n",
    "# Convert ins_gmt_ts to numeric format for sorting (since it's stored as a string)\n",
    "df_lcp_data[\"ins_gmt_ts\"] = pd.to_numeric(df_lcp_data[\"ins_gmt_ts\"], errors=\"coerce\")\n",
    "\n",
    "# Sorting by material_sk, origin_location_code, destination_location_code, release_week_id and latest timestamp\n",
    "df_lcp_data = df_lcp_data.sort_values([\"material_sk\", \"origin_location_code\", \"destination_location_code\",\"origin_plant_sk\",\"destination_plant_sk\", \"release_week_id\", \"ins_gmt_ts\"], ascending=[True, True, True, True,True,True, False])\n",
    "\n",
    "# Dropping duplicates while keeping the latest entry based on ins_gmt_ts\n",
    "df_lcp_data = df_lcp_data.drop_duplicates(subset=[\"material_sk\", \"origin_location_code\", \"destination_location_code\", \"origin_plant_sk\", \"destination_plant_sk\", \"release_week_id\"], keep=\"first\")\n",
    "\n",
    "# Store final row count after removing duplicates\n",
    "final_rows_lcp = len(df_lcp_data)\n",
    "\n",
    "# Calculate removed rows and percentage\n",
    "rows_removed = initial_rows_lcp - final_rows_lcp\n",
    "percentage_removed = (rows_removed / initial_rows_lcp) * 100\n",
    "\n",
    "# Display results\n",
    "print(f\"Duplicate entries removed: {rows_removed} rows ({percentage_removed:.2f}%).\")\n",
    "print(f\"Final Rows Remaining: {final_rows_lcp}\")\n"
   ]
  },
  {
   "cell_type": "markdown",
   "metadata": {},
   "source": [
    "#### Final preprocessed data saved to lcp_data"
   ]
  },
  {
   "cell_type": "code",
   "execution_count": 37,
   "metadata": {
    "execution": {
     "iopub.execute_input": "2025-04-10T07:36:08.979754Z",
     "iopub.status.busy": "2025-04-10T07:36:08.978770Z",
     "iopub.status.idle": "2025-04-10T07:36:09.810172Z",
     "shell.execute_reply": "2025-04-10T07:36:09.810172Z"
    }
   },
   "outputs": [
    {
     "name": "stdout",
     "output_type": "stream",
     "text": [
      "Processed LCP data saved to: ./PRE_PROCESSED_DATA/04. April 2025/10_04_2025 preprocessed data/2025_04_10_13_03_07 preprocessed data/lcp_data.csv\n"
     ]
    }
   ],
   "source": [
    "import os\n",
    "\n",
    "# Define the file path for saving\n",
    "lcp_file_path = os.path.join(preprocessed_path, \"lcp_data.csv\")\n",
    "\n",
    "# Save the processed data\n",
    "df_lcp_data.to_csv(lcp_file_path, index=False)\n",
    "\n",
    "print(f\"Processed LCP data saved to: {lcp_file_path}\")\n"
   ]
  },
  {
   "cell_type": "markdown",
   "metadata": {},
   "source": [
    "### Input UOM Full Preprocessing"
   ]
  },
  {
   "cell_type": "code",
   "execution_count": 38,
   "metadata": {
    "execution": {
     "iopub.execute_input": "2025-04-10T07:36:09.815768Z",
     "iopub.status.busy": "2025-04-10T07:36:09.815768Z",
     "iopub.status.idle": "2025-04-10T07:36:09.856305Z",
     "shell.execute_reply": "2025-04-10T07:36:09.854263Z"
    }
   },
   "outputs": [
    {
     "name": "stdout",
     "output_type": "stream",
     "text": [
      "Loaded and retained required columns for input_UOM_full.csv:\n",
      "['material_code', 'material_sk', 'target_unit_of_measure_code', 'conversion_numerator', 'conversion_denumerator']\n"
     ]
    },
    {
     "data": {
      "text/html": [
       "<div>\n",
       "<style scoped>\n",
       "    .dataframe tbody tr th:only-of-type {\n",
       "        vertical-align: middle;\n",
       "    }\n",
       "\n",
       "    .dataframe tbody tr th {\n",
       "        vertical-align: top;\n",
       "    }\n",
       "\n",
       "    .dataframe thead th {\n",
       "        text-align: right;\n",
       "    }\n",
       "</style>\n",
       "<table border=\"1\" class=\"dataframe\">\n",
       "  <thead>\n",
       "    <tr style=\"text-align: right;\">\n",
       "      <th></th>\n",
       "      <th>material_code</th>\n",
       "      <th>material_sk</th>\n",
       "      <th>target_unit_of_measure_code</th>\n",
       "      <th>conversion_numerator</th>\n",
       "      <th>conversion_denumerator</th>\n",
       "    </tr>\n",
       "  </thead>\n",
       "  <tbody>\n",
       "    <tr>\n",
       "      <th>0</th>\n",
       "      <td>185</td>\n",
       "      <td>92</td>\n",
       "      <td>PAL</td>\n",
       "      <td>70.0</td>\n",
       "      <td>1.0</td>\n",
       "    </tr>\n",
       "    <tr>\n",
       "      <th>1</th>\n",
       "      <td>80</td>\n",
       "      <td>10</td>\n",
       "      <td>PAL</td>\n",
       "      <td>8.0</td>\n",
       "      <td>1.0</td>\n",
       "    </tr>\n",
       "    <tr>\n",
       "      <th>2</th>\n",
       "      <td>26</td>\n",
       "      <td>6</td>\n",
       "      <td>PAL</td>\n",
       "      <td>70.0</td>\n",
       "      <td>1.0</td>\n",
       "    </tr>\n",
       "    <tr>\n",
       "      <th>3</th>\n",
       "      <td>73</td>\n",
       "      <td>128</td>\n",
       "      <td>HL</td>\n",
       "      <td>5.0</td>\n",
       "      <td>1.0</td>\n",
       "    </tr>\n",
       "    <tr>\n",
       "      <th>4</th>\n",
       "      <td>18</td>\n",
       "      <td>13</td>\n",
       "      <td>HL</td>\n",
       "      <td>25.0</td>\n",
       "      <td>3.0</td>\n",
       "    </tr>\n",
       "  </tbody>\n",
       "</table>\n",
       "</div>"
      ],
      "text/plain": [
       "  material_code material_sk target_unit_of_measure_code conversion_numerator  \\\n",
       "0           185          92                         PAL                 70.0   \n",
       "1            80          10                         PAL                  8.0   \n",
       "2            26           6                         PAL                 70.0   \n",
       "3            73         128                          HL                  5.0   \n",
       "4            18          13                          HL                 25.0   \n",
       "\n",
       "  conversion_denumerator  \n",
       "0                    1.0  \n",
       "1                    1.0  \n",
       "2                    1.0  \n",
       "3                    1.0  \n",
       "4                    3.0  "
      ]
     },
     "metadata": {},
     "output_type": "display_data"
    }
   ],
   "source": [
    "# Load input_UOM_full.csv and Select Required Columns\n",
    "\n",
    "# Define the dataset name\n",
    "file_name = \"input_UOM_full.csv\"\n",
    "df_uom_full = dataframes[file_name]\n",
    "\n",
    "# Define required columns\n",
    "required_columns_uom = [\"material_code\", \"material_sk\", \"target_unit_of_measure_code\", \"conversion_numerator\", \"conversion_denumerator\"]\n",
    "\n",
    "# Retain only required columns\n",
    "df_uom_full = df_uom_full[required_columns_uom]\n",
    "\n",
    "# Store updated DataFrame\n",
    "dataframes[file_name] = df_uom_full\n",
    "\n",
    "# Display confirmation\n",
    "print(f\"Loaded and retained required columns for {file_name}:\")\n",
    "print(list(df_uom_full.columns))\n",
    "\n",
    "# Display first few rows\n",
    "display(df_uom_full.head())\n"
   ]
  },
  {
   "cell_type": "markdown",
   "metadata": {},
   "source": [
    "#### Detecting unique measure code"
   ]
  },
  {
   "cell_type": "code",
   "execution_count": 39,
   "metadata": {
    "execution": {
     "iopub.execute_input": "2025-04-10T07:36:09.857854Z",
     "iopub.status.busy": "2025-04-10T07:36:09.857854Z",
     "iopub.status.idle": "2025-04-10T07:36:09.898145Z",
     "shell.execute_reply": "2025-04-10T07:36:09.898145Z"
    }
   },
   "outputs": [
    {
     "name": "stdout",
     "output_type": "stream",
     "text": [
      "Unique Values in target_unit_of_measure_code: ['PAL' 'HL']\n",
      "All values in target_unit_of_measure_code are either 'HL' or 'PAL'.\n"
     ]
    }
   ],
   "source": [
    "# Detect if any values other than 'HL' and 'PAL' exist\n",
    "\n",
    "# Get unique values\n",
    "unique_uom = df_uom_full[\"target_unit_of_measure_code\"].unique()\n",
    "\n",
    "print(f\"Unique Values in target_unit_of_measure_code: {unique_uom}\")\n",
    "\n",
    "# Identify invalid values\n",
    "valid_uoms = [\"HL\", \"PAL\"]\n",
    "invalid_uoms = df_uom_full[~df_uom_full[\"target_unit_of_measure_code\"].isin(valid_uoms)]\n",
    "\n",
    "# Display results\n",
    "if not invalid_uoms.empty:\n",
    "    print(f\"Found {len(invalid_uoms)} rows with invalid target_unit_of_measure_code:\")\n",
    "    display(invalid_uoms[\"target_unit_of_measure_code\"].value_counts())\n",
    "else:\n",
    "    print(\"All values in target_unit_of_measure_code are either 'HL' or 'PAL'.\")\n"
   ]
  },
  {
   "cell_type": "markdown",
   "metadata": {},
   "source": [
    "#### Remove rows where unit measure code is not 'HL' and 'PAL'"
   ]
  },
  {
   "cell_type": "code",
   "execution_count": 40,
   "metadata": {
    "execution": {
     "iopub.execute_input": "2025-04-10T07:36:09.904739Z",
     "iopub.status.busy": "2025-04-10T07:36:09.904739Z",
     "iopub.status.idle": "2025-04-10T07:36:10.088820Z",
     "shell.execute_reply": "2025-04-10T07:36:10.085822Z"
    }
   },
   "outputs": [
    {
     "name": "stdout",
     "output_type": "stream",
     "text": [
      "Filter Applied: Kept 126813 rows (100.00%) out of 126813.\n"
     ]
    }
   ],
   "source": [
    "# Remove rows where target_unit_of_measure_code is NOT 'HL' or 'PAL'\n",
    "\n",
    "# Count before filtering\n",
    "initial_rows = len(df_uom_full)\n",
    "\n",
    "# Apply filter\n",
    "df_uom_full = df_uom_full[df_uom_full[\"target_unit_of_measure_code\"].isin([\"HL\", \"PAL\"])]\n",
    "\n",
    "# Count after filtering\n",
    "filtered_rows = len(df_uom_full)\n",
    "\n",
    "# Calculate percentage of rows retained\n",
    "retained_percentage = (filtered_rows / initial_rows) * 100\n",
    "\n",
    "print(f\"Filter Applied: Kept {filtered_rows} rows ({retained_percentage:.2f}%) out of {initial_rows}.\")\n"
   ]
  },
  {
   "cell_type": "markdown",
   "metadata": {},
   "source": [
    "#### Missing Values"
   ]
  },
  {
   "cell_type": "code",
   "execution_count": 41,
   "metadata": {
    "execution": {
     "iopub.execute_input": "2025-04-10T07:36:10.094969Z",
     "iopub.status.busy": "2025-04-10T07:36:10.093822Z",
     "iopub.status.idle": "2025-04-10T07:36:10.173969Z",
     "shell.execute_reply": "2025-04-10T07:36:10.173969Z"
    }
   },
   "outputs": [
    {
     "name": "stdout",
     "output_type": "stream",
     "text": [
      "\n",
      "No Missing Values Found in input_uom_full.csv.\n"
     ]
    }
   ],
   "source": [
    "# Detect Missing Values in input_UOM_full.csv\n",
    "\n",
    "# Count missing values\n",
    "missing_count = df_uom_full.isnull().sum()\n",
    "missing_percentage = (missing_count / len(df_uom_full)) * 100  \n",
    "\n",
    "# Filter only columns with missing values\n",
    "missing_data = pd.DataFrame({'Missing_Count': missing_count, 'Missing_Percentage': missing_percentage})\n",
    "missing_data = missing_data[missing_data['Missing_Count'] > 0]\n",
    "\n",
    "if not missing_data.empty:\n",
    "    print(\"\\nMissing Values Found in input_UOM_full.csv:\\n\")\n",
    "    missing_data[\"Missing_Percentage\"] = missing_data[\"Missing_Percentage\"].apply(lambda x: f\"{x:.2f}%\")\n",
    "    display(missing_data)\n",
    "else:\n",
    "    print(\"\\nNo Missing Values Found in input_uom_full.csv.\")\n"
   ]
  },
  {
   "cell_type": "markdown",
   "metadata": {},
   "source": [
    "#### Detecting Duplicates"
   ]
  },
  {
   "cell_type": "code",
   "execution_count": 42,
   "metadata": {
    "execution": {
     "iopub.execute_input": "2025-04-10T07:36:10.179582Z",
     "iopub.status.busy": "2025-04-10T07:36:10.179582Z",
     "iopub.status.idle": "2025-04-10T07:36:10.331715Z",
     "shell.execute_reply": "2025-04-10T07:36:10.330662Z"
    }
   },
   "outputs": [
    {
     "name": "stdout",
     "output_type": "stream",
     "text": [
      "\n",
      "Duplicate Rows in input_uom_full.csv: 0 (0.00%)\n",
      "\n",
      "No Duplicate Rows Found in input_uom_full.csv\n"
     ]
    }
   ],
   "source": [
    "# Detect Duplicate Rows in input_UOM_full.csv\n",
    "\n",
    "# Check for duplicates based on key columns\n",
    "duplicate_mask = df_uom_full.duplicated(subset=[\"material_sk\", \"material_code\", \"target_unit_of_measure_code\"], keep=False)\n",
    "\n",
    "# Count duplicate rows\n",
    "duplicate_count = duplicate_mask.sum()\n",
    "duplicate_percentage = (duplicate_count / len(df_uom_full)) * 100\n",
    "\n",
    "print(f\"\\nDuplicate Rows in input_uom_full.csv: {duplicate_count} ({duplicate_percentage:.2f}%)\")\n",
    "\n",
    "# Display duplicate records if found\n",
    "if duplicate_count > 0:\n",
    "    display(df_uom_full[duplicate_mask].sort_values(by=[\"material_sk\", \"material_code\", \"target_unit_of_measure_code\"]))\n",
    "else:\n",
    "    print(\"\\nNo Duplicate Rows Found in input_uom_full.csv\")\n"
   ]
  },
  {
   "cell_type": "markdown",
   "metadata": {},
   "source": [
    "#### Data Type Validation"
   ]
  },
  {
   "cell_type": "code",
   "execution_count": 43,
   "metadata": {
    "execution": {
     "iopub.execute_input": "2025-04-10T07:36:10.339762Z",
     "iopub.status.busy": "2025-04-10T07:36:10.331715Z",
     "iopub.status.idle": "2025-04-10T07:36:10.351937Z",
     "shell.execute_reply": "2025-04-10T07:36:10.350407Z"
    }
   },
   "outputs": [
    {
     "name": "stdout",
     "output_type": "stream",
     "text": [
      "Data Type Mismatches Found:\n",
      "   - Column: material_code, Found: object, Expected: Int64\n",
      "   - Column: material_sk, Found: object, Expected: Int64\n",
      "   - Column: conversion_numerator, Found: object, Expected: float64\n",
      "   - Column: conversion_denumerator, Found: object, Expected: float64\n"
     ]
    }
   ],
   "source": [
    "# Data Type Validation for input_UOM_full.csv\n",
    "\n",
    "# Define expected data types\n",
    "expected_dtypes = {\n",
    "    \"material_code\": \"Int64\",\n",
    "    \"material_sk\": \"Int64\",\n",
    "    \"target_unit_of_measure_code\": \"object\",\n",
    "    \"conversion_numerator\": \"float64\",\n",
    "    \"conversion_denumerator\": \"float64\"\n",
    "}\n",
    "\n",
    "# Identify mismatches\n",
    "dtype_mismatches = {\n",
    "    col: df_uom_full[col].dtype for col in expected_dtypes if df_uom_full[col].dtype != expected_dtypes[col]\n",
    "}\n",
    "\n",
    "# Display results\n",
    "if dtype_mismatches:\n",
    "    print(\"Data Type Mismatches Found:\")\n",
    "    for col, dtype in dtype_mismatches.items():\n",
    "        print(f\"   - Column: {col}, Found: {dtype}, Expected: {expected_dtypes[col]}\")\n",
    "else:\n",
    "    print(\"All Columns Have Correct Data Types.\")\n"
   ]
  },
  {
   "cell_type": "markdown",
   "metadata": {},
   "source": [
    "#### Handling data type mismatches"
   ]
  },
  {
   "cell_type": "code",
   "execution_count": 44,
   "metadata": {
    "execution": {
     "iopub.execute_input": "2025-04-10T07:36:10.358007Z",
     "iopub.status.busy": "2025-04-10T07:36:10.358007Z",
     "iopub.status.idle": "2025-04-10T07:36:11.571821Z",
     "shell.execute_reply": "2025-04-10T07:36:11.571821Z"
    }
   },
   "outputs": [
    {
     "name": "stdout",
     "output_type": "stream",
     "text": [
      "Data Types Fixed.\n"
     ]
    }
   ],
   "source": [
    "# Fixing Data Type Mismatches for input_UOM_full.csv\n",
    "\n",
    "# Convert columns to correct types\n",
    "df_uom_full[\"material_code\"] = pd.to_numeric(df_uom_full[\"material_code\"], errors=\"coerce\")\n",
    "df_uom_full[\"material_sk\"] = pd.to_numeric(df_uom_full[\"material_sk\"], errors=\"coerce\")\n",
    "df_uom_full[\"conversion_numerator\"] = pd.to_numeric(df_uom_full[\"conversion_numerator\"], errors=\"coerce\")\n",
    "df_uom_full[\"conversion_denumerator\"] = pd.to_numeric(df_uom_full[\"conversion_denumerator\"], errors=\"coerce\")\n",
    "\n",
    "# Store updated DataFrame\n",
    "dataframes[\"input_uom_full.csv\"] = df_uom_full\n",
    "\n",
    "print(\"Data Types Fixed.\")\n"
   ]
  },
  {
   "cell_type": "markdown",
   "metadata": {},
   "source": [
    "#### Negative values"
   ]
  },
  {
   "cell_type": "code",
   "execution_count": 45,
   "metadata": {
    "execution": {
     "iopub.execute_input": "2025-04-10T07:36:11.579368Z",
     "iopub.status.busy": "2025-04-10T07:36:11.571821Z",
     "iopub.status.idle": "2025-04-10T07:36:11.591543Z",
     "shell.execute_reply": "2025-04-10T07:36:11.591543Z"
    }
   },
   "outputs": [
    {
     "name": "stdout",
     "output_type": "stream",
     "text": [
      "No Negative Values Found in conversion_numerator or conversion_denumerator.\n"
     ]
    }
   ],
   "source": [
    "# Detect Negative Values in input_UOM_full.csv\n",
    "\n",
    "# Check for negative values in relevant columns\n",
    "negative_values = df_uom_full[\n",
    "    (df_uom_full[\"conversion_numerator\"] <= 0) | \n",
    "    (df_uom_full[\"conversion_denumerator\"] <= 0)\n",
    "]\n",
    "\n",
    "\n",
    "if not negative_values.empty:\n",
    "    negative_count = len(negative_values)\n",
    "    negative_percentage = (negative_count / len(df_uom_full)) * 100\n",
    "    print(f\"Found {negative_count} ({negative_percentage:.2f}%) rows with negative values in conversion_numerator or conversion_denumerator.\")\n",
    "    \n",
    "   \n",
    "    display(negative_values.head(10))\n",
    "else:\n",
    "    print(\"No Negative Values Found in conversion_numerator or conversion_denumerator.\")\n"
   ]
  },
  {
   "cell_type": "markdown",
   "metadata": {},
   "source": [
    "#### Detecting invalid values in conversion denumerator"
   ]
  },
  {
   "cell_type": "code",
   "execution_count": 46,
   "metadata": {
    "execution": {
     "iopub.execute_input": "2025-04-10T07:36:11.591543Z",
     "iopub.status.busy": "2025-04-10T07:36:11.591543Z",
     "iopub.status.idle": "2025-04-10T07:36:11.847661Z",
     "shell.execute_reply": "2025-04-10T07:36:11.607805Z"
    }
   },
   "outputs": [
    {
     "name": "stdout",
     "output_type": "stream",
     "text": [
      "No Zero Values Found in conversion_denumerator.\n"
     ]
    }
   ],
   "source": [
    "# Detect Zero Values in conversion_denumerator\n",
    "\n",
    "zero_denumerator = df_uom_full[df_uom_full[\"conversion_denumerator\"] == 0]\n",
    "\n",
    "# Display results\n",
    "if not zero_denumerator.empty:\n",
    "    zero_count = len(zero_denumerator)\n",
    "    zero_percentage = (zero_count / len(df_uom_full)) * 100\n",
    "    print(f\"Found {zero_count} ({zero_percentage:.2f}%) rows where conversion_denumerator is zero.\")\n",
    "    \n",
    "    # Show sample\n",
    "    display(zero_denumerator.head(10))\n",
    "else:\n",
    "    print(\"No Zero Values Found in conversion_denumerator.\")\n"
   ]
  },
  {
   "cell_type": "markdown",
   "metadata": {},
   "source": [
    "#### Final saving to uom_full.csv"
   ]
  },
  {
   "cell_type": "code",
   "execution_count": 47,
   "metadata": {
    "execution": {
     "iopub.execute_input": "2025-04-10T07:36:11.853370Z",
     "iopub.status.busy": "2025-04-10T07:36:11.853370Z",
     "iopub.status.idle": "2025-04-10T07:36:13.889829Z",
     "shell.execute_reply": "2025-04-10T07:36:13.887739Z"
    }
   },
   "outputs": [
    {
     "name": "stdout",
     "output_type": "stream",
     "text": [
      "Processed UOM Full data saved to ./PRE_PROCESSED_DATA/04. April 2025/10_04_2025 preprocessed data/2025_04_10_13_03_07 preprocessed data/uom_full.csv\n"
     ]
    }
   ],
   "source": [
    "\n",
    "uom_full_path = os.path.join(preprocessed_path, \"uom_full.csv\")\n",
    "\n",
    "df_uom_full.to_csv(uom_full_path, index=False)\n",
    "\n",
    "print(f\"Processed UOM Full data saved to {uom_full_path}\")\n"
   ]
  },
  {
   "cell_type": "markdown",
   "metadata": {},
   "source": [
    "### Input UOM Weight Preprocessing"
   ]
  },
  {
   "cell_type": "code",
   "execution_count": 48,
   "metadata": {
    "execution": {
     "iopub.execute_input": "2025-04-10T07:36:13.889829Z",
     "iopub.status.busy": "2025-04-10T07:36:13.889829Z",
     "iopub.status.idle": "2025-04-10T07:36:13.918124Z",
     "shell.execute_reply": "2025-04-10T07:36:13.917082Z"
    }
   },
   "outputs": [
    {
     "name": "stdout",
     "output_type": "stream",
     "text": [
      "Loaded and retained required columns for input_UOM_weight.csv:\n",
      "['material_code', 'pal_weight_kg']\n"
     ]
    },
    {
     "data": {
      "text/html": [
       "<div>\n",
       "<style scoped>\n",
       "    .dataframe tbody tr th:only-of-type {\n",
       "        vertical-align: middle;\n",
       "    }\n",
       "\n",
       "    .dataframe tbody tr th {\n",
       "        vertical-align: top;\n",
       "    }\n",
       "\n",
       "    .dataframe thead th {\n",
       "        text-align: right;\n",
       "    }\n",
       "</style>\n",
       "<table border=\"1\" class=\"dataframe\">\n",
       "  <thead>\n",
       "    <tr style=\"text-align: right;\">\n",
       "      <th></th>\n",
       "      <th>material_code</th>\n",
       "      <th>pal_weight_kg</th>\n",
       "    </tr>\n",
       "  </thead>\n",
       "  <tbody>\n",
       "    <tr>\n",
       "      <th>0</th>\n",
       "      <td>100298</td>\n",
       "      <td>1005.76</td>\n",
       "    </tr>\n",
       "    <tr>\n",
       "      <th>1</th>\n",
       "      <td>100584</td>\n",
       "      <td>936.0</td>\n",
       "    </tr>\n",
       "    <tr>\n",
       "      <th>2</th>\n",
       "      <td>100787</td>\n",
       "      <td>928.0</td>\n",
       "    </tr>\n",
       "    <tr>\n",
       "      <th>3</th>\n",
       "      <td>100036</td>\n",
       "      <td>770.2</td>\n",
       "    </tr>\n",
       "    <tr>\n",
       "      <th>4</th>\n",
       "      <td>100008</td>\n",
       "      <td>167.14</td>\n",
       "    </tr>\n",
       "  </tbody>\n",
       "</table>\n",
       "</div>"
      ],
      "text/plain": [
       "  material_code pal_weight_kg\n",
       "0        100298       1005.76\n",
       "1        100584         936.0\n",
       "2        100787         928.0\n",
       "3        100036         770.2\n",
       "4        100008        167.14"
      ]
     },
     "execution_count": 48,
     "metadata": {},
     "output_type": "execute_result"
    }
   ],
   "source": [
    "# Define the dataset name\n",
    "file_name = \"input_UOM_weight.csv\"\n",
    "df_uom_weight = dataframes[file_name]\n",
    "\n",
    "# Select only required columns\n",
    "required_columns_weight = [\"material_code\", \"pal_weight_kg\"]\n",
    "df_uom_weight = df_uom_weight[required_columns_weight]\n",
    "\n",
    "# Store updated DataFrame\n",
    "dataframes[file_name] = df_uom_weight\n",
    "\n",
    "# Display confirmation\n",
    "print(f\"Loaded and retained required columns for {file_name}:\")\n",
    "print(list(df_uom_weight.columns))\n",
    "\n",
    "# Display the first few rows\n",
    "df_uom_weight.head()\n"
   ]
  },
  {
   "cell_type": "markdown",
   "metadata": {},
   "source": [
    "#### Missing Values"
   ]
  },
  {
   "cell_type": "code",
   "execution_count": 49,
   "metadata": {
    "execution": {
     "iopub.execute_input": "2025-04-10T07:36:13.920419Z",
     "iopub.status.busy": "2025-04-10T07:36:13.920419Z",
     "iopub.status.idle": "2025-04-10T07:36:13.940711Z",
     "shell.execute_reply": "2025-04-10T07:36:13.938655Z"
    }
   },
   "outputs": [
    {
     "name": "stdout",
     "output_type": "stream",
     "text": [
      "\n",
      "No Missing Values Found in input_UOM_weight.csv.\n"
     ]
    }
   ],
   "source": [
    "# Check for missing values\n",
    "missing_count = df_uom_weight.isnull().sum()\n",
    "missing_percentage = (missing_count / len(df_uom_weight)) * 100  \n",
    "\n",
    "# Filter columns with missing values\n",
    "missing_data = pd.DataFrame({'Missing_Count': missing_count, 'Missing_Percentage': missing_percentage})\n",
    "missing_data = missing_data[missing_data['Missing_Count'] > 0]\n",
    "\n",
    "if not missing_data.empty:\n",
    "    print(f\"\\nMissing Values Found in {file_name}:\\n\")\n",
    "    \n",
    "    missing_data[\"Missing_Percentage\"] = missing_data[\"Missing_Percentage\"].apply(lambda x: f\"{x:.2f}%\")\n",
    "    \n",
    "    display(missing_data)\n",
    "else:\n",
    "    print(f\"\\nNo Missing Values Found in {file_name}.\")\n"
   ]
  },
  {
   "cell_type": "markdown",
   "metadata": {},
   "source": [
    "#### Duplicates"
   ]
  },
  {
   "cell_type": "code",
   "execution_count": 50,
   "metadata": {
    "execution": {
     "iopub.execute_input": "2025-04-10T07:36:13.940711Z",
     "iopub.status.busy": "2025-04-10T07:36:13.940711Z",
     "iopub.status.idle": "2025-04-10T07:36:13.962506Z",
     "shell.execute_reply": "2025-04-10T07:36:13.960781Z"
    }
   },
   "outputs": [
    {
     "name": "stdout",
     "output_type": "stream",
     "text": [
      "Duplicate Rows in input_UOM_weight.csv: 0 (0.00%)\n",
      "\n",
      "No Duplicate Rows Found in input_UOM_weight.csv\n"
     ]
    }
   ],
   "source": [
    "# Check for duplicate rows\n",
    "duplicate_count = df_uom_weight.duplicated().sum()\n",
    "duplicate_percentage = (duplicate_count / len(df_uom_weight)) * 100  \n",
    "\n",
    "print(f\"Duplicate Rows in {file_name}: {duplicate_count} ({duplicate_percentage:.2f}%)\")\n",
    "\n",
    "if duplicate_count > 0:\n",
    "    display(df_uom_weight[df_uom_weight.duplicated()])\n",
    "else:\n",
    "    print(f\"\\nNo Duplicate Rows Found in {file_name}\")\n"
   ]
  },
  {
   "cell_type": "markdown",
   "metadata": {},
   "source": [
    "#### Data Types Validation"
   ]
  },
  {
   "cell_type": "code",
   "execution_count": 51,
   "metadata": {
    "execution": {
     "iopub.execute_input": "2025-04-10T07:36:13.968505Z",
     "iopub.status.busy": "2025-04-10T07:36:13.967518Z",
     "iopub.status.idle": "2025-04-10T07:36:13.979141Z",
     "shell.execute_reply": "2025-04-10T07:36:13.977144Z"
    }
   },
   "outputs": [
    {
     "name": "stdout",
     "output_type": "stream",
     "text": [
      "Data Type Mismatches Found:\n",
      "   - Column: material_code, Found: object, Expected: Int64\n",
      "   - Column: pal_weight_kg, Found: object, Expected: float64\n"
     ]
    }
   ],
   "source": [
    "# Define expected data types\n",
    "expected_dtypes = {\n",
    "    \"material_code\": \"Int64\",\n",
    "    \"pal_weight_kg\": \"float64\"\n",
    "}\n",
    "\n",
    "# Check actual dtypes\n",
    "dtype_mismatches = {}\n",
    "\n",
    "for col, expected_dtype in expected_dtypes.items():\n",
    "    actual_dtype = df_uom_weight[col].dtype\n",
    "    if actual_dtype != expected_dtype:\n",
    "        dtype_mismatches[col] = (actual_dtype, expected_dtype)\n",
    "\n",
    "# Display results\n",
    "if dtype_mismatches:\n",
    "    print(\"Data Type Mismatches Found:\")\n",
    "    for col, (actual, expected) in dtype_mismatches.items():\n",
    "        print(f\"   - Column: {col}, Found: {actual}, Expected: {expected}\")\n",
    "else:\n",
    "    print(\"All Columns Have Correct Data Types.\")\n"
   ]
  },
  {
   "cell_type": "markdown",
   "metadata": {},
   "source": [
    "#### Handling Data Type Mismatches"
   ]
  },
  {
   "cell_type": "code",
   "execution_count": 52,
   "metadata": {
    "execution": {
     "iopub.execute_input": "2025-04-10T07:36:13.984281Z",
     "iopub.status.busy": "2025-04-10T07:36:13.984142Z",
     "iopub.status.idle": "2025-04-10T07:36:14.023002Z",
     "shell.execute_reply": "2025-04-10T07:36:14.023002Z"
    }
   },
   "outputs": [
    {
     "name": "stdout",
     "output_type": "stream",
     "text": [
      "Data Types Fixed.\n"
     ]
    }
   ],
   "source": [
    "# Convert data types\n",
    "df_uom_weight[\"material_code\"] = pd.to_numeric(df_uom_weight[\"material_code\"], errors=\"coerce\")\n",
    "df_uom_weight[\"pal_weight_kg\"] = pd.to_numeric(df_uom_weight[\"pal_weight_kg\"], errors=\"coerce\")\n",
    "\n",
    "# Confirm Fix\n",
    "print(\"Data Types Fixed.\")\n"
   ]
  },
  {
   "cell_type": "code",
   "execution_count": 53,
   "metadata": {
    "execution": {
     "iopub.execute_input": "2025-04-10T07:36:14.033114Z",
     "iopub.status.busy": "2025-04-10T07:36:14.033114Z",
     "iopub.status.idle": "2025-04-10T07:36:14.103946Z",
     "shell.execute_reply": "2025-04-10T07:36:14.083693Z"
    }
   },
   "outputs": [
    {
     "name": "stdout",
     "output_type": "stream",
     "text": [
      "No Negative or Zero Values Found in pal_weight_kg.\n"
     ]
    }
   ],
   "source": [
    "# Check for negative or zero values in pal_weight_kg\n",
    "invalid_weights = df_uom_weight[df_uom_weight[\"pal_weight_kg\"] <= 0]\n",
    "\n",
    "if not invalid_weights.empty:\n",
    "    invalid_count = len(invalid_weights)\n",
    "    invalid_percentage = (invalid_count / len(df_uom_weight)) * 100\n",
    "    print(f\"Found {invalid_count} ({invalid_percentage:.2f}%) rows with non-positive values in pal_weight_kg.\")\n",
    "    \n",
    "    # Show sample\n",
    "    display(invalid_weights.head(10))\n",
    "else:\n",
    "    print(\"No Negative or Zero Values Found in pal_weight_kg.\")\n"
   ]
  },
  {
   "cell_type": "code",
   "execution_count": 54,
   "metadata": {
    "execution": {
     "iopub.execute_input": "2025-04-10T07:36:14.170301Z",
     "iopub.status.busy": "2025-04-10T07:36:14.165303Z",
     "iopub.status.idle": "2025-04-10T07:36:14.237990Z",
     "shell.execute_reply": "2025-04-10T07:36:14.237990Z"
    }
   },
   "outputs": [
    {
     "name": "stdout",
     "output_type": "stream",
     "text": [
      "Processed UOM Weight data saved to ./PRE_PROCESSED_DATA/04. April 2025/10_04_2025 preprocessed data/2025_04_10_13_03_07 preprocessed data/uom_weight.csv\n"
     ]
    }
   ],
   "source": [
    "# Define the output file path\n",
    "uom_weight_file_path = os.path.join(preprocessed_path, \"uom_weight.csv\")\n",
    "\n",
    "# Save to CSV\n",
    "df_uom_weight.to_csv(uom_weight_file_path, index=False)\n",
    "\n",
    "print(f\"Processed UOM Weight data saved to {uom_weight_file_path}\")\n"
   ]
  },
  {
   "cell_type": "markdown",
   "metadata": {},
   "source": [
    "### Merging UOM full and weights "
   ]
  },
  {
   "cell_type": "code",
   "execution_count": 55,
   "metadata": {
    "execution": {
     "iopub.execute_input": "2025-04-10T07:36:14.244584Z",
     "iopub.status.busy": "2025-04-10T07:36:14.244584Z",
     "iopub.status.idle": "2025-04-10T07:36:14.576605Z",
     "shell.execute_reply": "2025-04-10T07:36:14.576605Z"
    }
   },
   "outputs": [
    {
     "name": "stdout",
     "output_type": "stream",
     "text": [
      "Outer Join Completed: 126838 rows.\n"
     ]
    },
    {
     "data": {
      "text/html": [
       "<div>\n",
       "<style scoped>\n",
       "    .dataframe tbody tr th:only-of-type {\n",
       "        vertical-align: middle;\n",
       "    }\n",
       "\n",
       "    .dataframe tbody tr th {\n",
       "        vertical-align: top;\n",
       "    }\n",
       "\n",
       "    .dataframe thead th {\n",
       "        text-align: right;\n",
       "    }\n",
       "</style>\n",
       "<table border=\"1\" class=\"dataframe\">\n",
       "  <thead>\n",
       "    <tr style=\"text-align: right;\">\n",
       "      <th></th>\n",
       "      <th>material_code</th>\n",
       "      <th>material_sk</th>\n",
       "      <th>target_unit_of_measure_code</th>\n",
       "      <th>conversion_numerator</th>\n",
       "      <th>conversion_denumerator</th>\n",
       "      <th>pal_weight_kg</th>\n",
       "    </tr>\n",
       "  </thead>\n",
       "  <tbody>\n",
       "    <tr>\n",
       "      <th>0</th>\n",
       "      <td>1.0</td>\n",
       "      <td>1.0</td>\n",
       "      <td>HL</td>\n",
       "      <td>10.0</td>\n",
       "      <td>1.0</td>\n",
       "      <td>NaN</td>\n",
       "    </tr>\n",
       "    <tr>\n",
       "      <th>1</th>\n",
       "      <td>1.0</td>\n",
       "      <td>1.0</td>\n",
       "      <td>PAL</td>\n",
       "      <td>55.0</td>\n",
       "      <td>1.0</td>\n",
       "      <td>NaN</td>\n",
       "    </tr>\n",
       "    <tr>\n",
       "      <th>2</th>\n",
       "      <td>2.0</td>\n",
       "      <td>49.0</td>\n",
       "      <td>PAL</td>\n",
       "      <td>55.0</td>\n",
       "      <td>1.0</td>\n",
       "      <td>NaN</td>\n",
       "    </tr>\n",
       "    <tr>\n",
       "      <th>3</th>\n",
       "      <td>2.0</td>\n",
       "      <td>49.0</td>\n",
       "      <td>HL</td>\n",
       "      <td>10.0</td>\n",
       "      <td>1.0</td>\n",
       "      <td>NaN</td>\n",
       "    </tr>\n",
       "    <tr>\n",
       "      <th>4</th>\n",
       "      <td>3.0</td>\n",
       "      <td>9.0</td>\n",
       "      <td>HL</td>\n",
       "      <td>25.0</td>\n",
       "      <td>3.0</td>\n",
       "      <td>NaN</td>\n",
       "    </tr>\n",
       "  </tbody>\n",
       "</table>\n",
       "</div>"
      ],
      "text/plain": [
       "   material_code  material_sk target_unit_of_measure_code  \\\n",
       "0            1.0          1.0                          HL   \n",
       "1            1.0          1.0                         PAL   \n",
       "2            2.0         49.0                         PAL   \n",
       "3            2.0         49.0                          HL   \n",
       "4            3.0          9.0                          HL   \n",
       "\n",
       "   conversion_numerator  conversion_denumerator  pal_weight_kg  \n",
       "0                  10.0                     1.0            NaN  \n",
       "1                  55.0                     1.0            NaN  \n",
       "2                  55.0                     1.0            NaN  \n",
       "3                  10.0                     1.0            NaN  \n",
       "4                  25.0                     3.0            NaN  "
      ]
     },
     "execution_count": 55,
     "metadata": {},
     "output_type": "execute_result"
    }
   ],
   "source": [
    "# Load preprocessed UOM Full and UOM Weight data\n",
    "uom_full_path = os.path.join(preprocessed_path, \"uom_full.csv\")\n",
    "uom_weight_path = os.path.join(preprocessed_path, \"uom_weight.csv\")\n",
    "\n",
    "df_uom_full = pd.read_csv(uom_full_path)\n",
    "df_uom_weight = pd.read_csv(uom_weight_path)\n",
    "\n",
    "# Perform outer join on 'material_code'\n",
    "df_uom_merged = df_uom_full.merge(df_uom_weight, on=\"material_code\", how=\"outer\")\n",
    "\n",
    "# Display result\n",
    "print(f\"Outer Join Completed: {len(df_uom_merged)} rows.\")\n",
    "df_uom_merged.head()\n"
   ]
  },
  {
   "cell_type": "markdown",
   "metadata": {},
   "source": [
    "#### Merge and drop null values"
   ]
  },
  {
   "cell_type": "code",
   "execution_count": 56,
   "metadata": {
    "execution": {
     "iopub.execute_input": "2025-04-10T07:36:14.581216Z",
     "iopub.status.busy": "2025-04-10T07:36:14.581216Z",
     "iopub.status.idle": "2025-04-10T07:36:14.626666Z",
     "shell.execute_reply": "2025-04-10T07:36:14.624668Z"
    }
   },
   "outputs": [
    {
     "name": "stdout",
     "output_type": "stream",
     "text": [
      "Missing values before dropping: 101653 (13.36%)\n",
      "Missing values after dropping: 0\n",
      "Rows remaining after drop: 25261 (19.92% of original data retained)\n",
      "Rows dropped: 101577 (80.08%)\n"
     ]
    }
   ],
   "source": [
    "# Count total rows before dropping\n",
    "total_rows_before = len(df_uom_merged)\n",
    "\n",
    "# Count missing values before dropping\n",
    "missing_counts = df_uom_merged.isnull().sum()\n",
    "missing_total = missing_counts.sum()\n",
    "missing_percentage = (missing_total / (total_rows_before * len(df_uom_merged.columns))) * 100\n",
    "\n",
    "print(f\"Missing values before dropping: {missing_total} ({missing_percentage:.2f}%)\")\n",
    "\n",
    "# Drop rows where any column is null\n",
    "df_uom_merged.dropna(how='any', inplace=True)\n",
    "\n",
    "# Count total rows after dropping\n",
    "total_rows_after = len(df_uom_merged)\n",
    "rows_dropped = total_rows_before - total_rows_after\n",
    "rows_dropped_percentage = (rows_dropped / total_rows_before) * 100\n",
    "\n",
    "# Count missing values after dropping\n",
    "missing_total_after = df_uom_merged.isnull().sum().sum()\n",
    "\n",
    "print(f\"Missing values after dropping: {missing_total_after}\")\n",
    "print(f\"Rows remaining after drop: {total_rows_after} ({100 - rows_dropped_percentage:.2f}% of original data retained)\")\n",
    "print(f\"Rows dropped: {rows_dropped} ({rows_dropped_percentage:.2f}%)\")\n"
   ]
  },
  {
   "cell_type": "markdown",
   "metadata": {},
   "source": [
    "#### Save to the uom_df.csv"
   ]
  },
  {
   "cell_type": "code",
   "execution_count": 57,
   "metadata": {
    "execution": {
     "iopub.execute_input": "2025-04-10T07:36:14.635666Z",
     "iopub.status.busy": "2025-04-10T07:36:14.634667Z",
     "iopub.status.idle": "2025-04-10T07:36:14.912911Z",
     "shell.execute_reply": "2025-04-10T07:36:14.912911Z"
    }
   },
   "outputs": [
    {
     "name": "stdout",
     "output_type": "stream",
     "text": [
      "Final Processed UOM Data saved to ./PRE_PROCESSED_DATA/04. April 2025/10_04_2025 preprocessed data/2025_04_10_13_03_07 preprocessed data/uom_df.csv\n"
     ]
    }
   ],
   "source": [
    "# Define the output file path\n",
    "uom_df_file_path = os.path.join(preprocessed_path, \"uom_df.csv\")\n",
    "\n",
    "# Save to CSV\n",
    "df_uom_merged.to_csv(uom_df_file_path, index=False)\n",
    "\n",
    "print(f\"Final Processed UOM Data saved to {uom_df_file_path}\")\n"
   ]
  },
  {
   "cell_type": "code",
   "execution_count": 58,
   "metadata": {
    "execution": {
     "iopub.execute_input": "2025-04-10T07:36:14.917038Z",
     "iopub.status.busy": "2025-04-10T07:36:14.917038Z",
     "iopub.status.idle": "2025-04-10T07:36:14.967707Z",
     "shell.execute_reply": "2025-04-10T07:36:14.965708Z"
    }
   },
   "outputs": [
    {
     "name": "stdout",
     "output_type": "stream",
     "text": [
      "PC_HL Conversion Ratio Computed.\n"
     ]
    },
    {
     "data": {
      "text/html": [
       "<div>\n",
       "<style scoped>\n",
       "    .dataframe tbody tr th:only-of-type {\n",
       "        vertical-align: middle;\n",
       "    }\n",
       "\n",
       "    .dataframe tbody tr th {\n",
       "        vertical-align: top;\n",
       "    }\n",
       "\n",
       "    .dataframe thead th {\n",
       "        text-align: right;\n",
       "    }\n",
       "</style>\n",
       "<table border=\"1\" class=\"dataframe\">\n",
       "  <thead>\n",
       "    <tr style=\"text-align: right;\">\n",
       "      <th></th>\n",
       "      <th>material_code</th>\n",
       "      <th>material_sk</th>\n",
       "      <th>target_unit_of_measure_code</th>\n",
       "      <th>conversion_numerator</th>\n",
       "      <th>conversion_denumerator</th>\n",
       "      <th>pal_weight_kg</th>\n",
       "      <th>PC_HL_Conversion</th>\n",
       "    </tr>\n",
       "  </thead>\n",
       "  <tbody>\n",
       "    <tr>\n",
       "      <th>143</th>\n",
       "      <td>73.0</td>\n",
       "      <td>128.0</td>\n",
       "      <td>HL</td>\n",
       "      <td>5.0</td>\n",
       "      <td>1.0</td>\n",
       "      <td>545.0</td>\n",
       "      <td>0.200000</td>\n",
       "    </tr>\n",
       "    <tr>\n",
       "      <th>144</th>\n",
       "      <td>73.0</td>\n",
       "      <td>128.0</td>\n",
       "      <td>PAL</td>\n",
       "      <td>20.0</td>\n",
       "      <td>1.0</td>\n",
       "      <td>545.0</td>\n",
       "      <td>0.050000</td>\n",
       "    </tr>\n",
       "    <tr>\n",
       "      <th>339</th>\n",
       "      <td>171.0</td>\n",
       "      <td>368.0</td>\n",
       "      <td>HL</td>\n",
       "      <td>10.0</td>\n",
       "      <td>3.0</td>\n",
       "      <td>354.6</td>\n",
       "      <td>0.300000</td>\n",
       "    </tr>\n",
       "    <tr>\n",
       "      <th>340</th>\n",
       "      <td>171.0</td>\n",
       "      <td>368.0</td>\n",
       "      <td>PAL</td>\n",
       "      <td>8.0</td>\n",
       "      <td>1.0</td>\n",
       "      <td>354.6</td>\n",
       "      <td>0.125000</td>\n",
       "    </tr>\n",
       "    <tr>\n",
       "      <th>343</th>\n",
       "      <td>173.0</td>\n",
       "      <td>282.0</td>\n",
       "      <td>HL</td>\n",
       "      <td>10.0</td>\n",
       "      <td>3.0</td>\n",
       "      <td>354.6</td>\n",
       "      <td>0.300000</td>\n",
       "    </tr>\n",
       "    <tr>\n",
       "      <th>344</th>\n",
       "      <td>173.0</td>\n",
       "      <td>282.0</td>\n",
       "      <td>PAL</td>\n",
       "      <td>8.0</td>\n",
       "      <td>1.0</td>\n",
       "      <td>354.6</td>\n",
       "      <td>0.125000</td>\n",
       "    </tr>\n",
       "    <tr>\n",
       "      <th>1662</th>\n",
       "      <td>3290.0</td>\n",
       "      <td>692.0</td>\n",
       "      <td>HL</td>\n",
       "      <td>50.0</td>\n",
       "      <td>3.0</td>\n",
       "      <td>1050.0</td>\n",
       "      <td>0.060000</td>\n",
       "    </tr>\n",
       "    <tr>\n",
       "      <th>1663</th>\n",
       "      <td>3290.0</td>\n",
       "      <td>692.0</td>\n",
       "      <td>PAL</td>\n",
       "      <td>70.0</td>\n",
       "      <td>1.0</td>\n",
       "      <td>1050.0</td>\n",
       "      <td>0.014286</td>\n",
       "    </tr>\n",
       "    <tr>\n",
       "      <th>1664</th>\n",
       "      <td>3291.0</td>\n",
       "      <td>899.0</td>\n",
       "      <td>PAL</td>\n",
       "      <td>70.0</td>\n",
       "      <td>1.0</td>\n",
       "      <td>1048.0</td>\n",
       "      <td>0.014286</td>\n",
       "    </tr>\n",
       "    <tr>\n",
       "      <th>1665</th>\n",
       "      <td>3291.0</td>\n",
       "      <td>899.0</td>\n",
       "      <td>HL</td>\n",
       "      <td>50.0</td>\n",
       "      <td>3.0</td>\n",
       "      <td>1048.0</td>\n",
       "      <td>0.060000</td>\n",
       "    </tr>\n",
       "    <tr>\n",
       "      <th>1666</th>\n",
       "      <td>3292.0</td>\n",
       "      <td>1021.0</td>\n",
       "      <td>PAL</td>\n",
       "      <td>8.0</td>\n",
       "      <td>1.0</td>\n",
       "      <td>355.0</td>\n",
       "      <td>0.125000</td>\n",
       "    </tr>\n",
       "    <tr>\n",
       "      <th>1667</th>\n",
       "      <td>3292.0</td>\n",
       "      <td>1021.0</td>\n",
       "      <td>HL</td>\n",
       "      <td>10.0</td>\n",
       "      <td>3.0</td>\n",
       "      <td>355.0</td>\n",
       "      <td>0.300000</td>\n",
       "    </tr>\n",
       "    <tr>\n",
       "      <th>1678</th>\n",
       "      <td>3337.0</td>\n",
       "      <td>1286.0</td>\n",
       "      <td>HL</td>\n",
       "      <td>1250.0</td>\n",
       "      <td>99.0</td>\n",
       "      <td>975.0</td>\n",
       "      <td>0.079200</td>\n",
       "    </tr>\n",
       "    <tr>\n",
       "      <th>1679</th>\n",
       "      <td>3337.0</td>\n",
       "      <td>1286.0</td>\n",
       "      <td>PAL</td>\n",
       "      <td>60.0</td>\n",
       "      <td>1.0</td>\n",
       "      <td>975.0</td>\n",
       "      <td>0.016667</td>\n",
       "    </tr>\n",
       "    <tr>\n",
       "      <th>1680</th>\n",
       "      <td>3338.0</td>\n",
       "      <td>1527.0</td>\n",
       "      <td>HL</td>\n",
       "      <td>1250.0</td>\n",
       "      <td>99.0</td>\n",
       "      <td>982.0</td>\n",
       "      <td>0.079200</td>\n",
       "    </tr>\n",
       "    <tr>\n",
       "      <th>1681</th>\n",
       "      <td>3338.0</td>\n",
       "      <td>1527.0</td>\n",
       "      <td>PAL</td>\n",
       "      <td>60.0</td>\n",
       "      <td>1.0</td>\n",
       "      <td>982.0</td>\n",
       "      <td>0.016667</td>\n",
       "    </tr>\n",
       "    <tr>\n",
       "      <th>1682</th>\n",
       "      <td>3339.0</td>\n",
       "      <td>950.0</td>\n",
       "      <td>PAL</td>\n",
       "      <td>60.0</td>\n",
       "      <td>1.0</td>\n",
       "      <td>992.0</td>\n",
       "      <td>0.016667</td>\n",
       "    </tr>\n",
       "    <tr>\n",
       "      <th>1683</th>\n",
       "      <td>3339.0</td>\n",
       "      <td>950.0</td>\n",
       "      <td>HL</td>\n",
       "      <td>1250.0</td>\n",
       "      <td>99.0</td>\n",
       "      <td>992.0</td>\n",
       "      <td>0.079200</td>\n",
       "    </tr>\n",
       "    <tr>\n",
       "      <th>1684</th>\n",
       "      <td>3340.0</td>\n",
       "      <td>1039.0</td>\n",
       "      <td>PAL</td>\n",
       "      <td>60.0</td>\n",
       "      <td>1.0</td>\n",
       "      <td>992.0</td>\n",
       "      <td>0.016667</td>\n",
       "    </tr>\n",
       "    <tr>\n",
       "      <th>1685</th>\n",
       "      <td>3340.0</td>\n",
       "      <td>1039.0</td>\n",
       "      <td>HL</td>\n",
       "      <td>1250.0</td>\n",
       "      <td>99.0</td>\n",
       "      <td>992.0</td>\n",
       "      <td>0.079200</td>\n",
       "    </tr>\n",
       "  </tbody>\n",
       "</table>\n",
       "</div>"
      ],
      "text/plain": [
       "      material_code  material_sk target_unit_of_measure_code  \\\n",
       "143            73.0        128.0                          HL   \n",
       "144            73.0        128.0                         PAL   \n",
       "339           171.0        368.0                          HL   \n",
       "340           171.0        368.0                         PAL   \n",
       "343           173.0        282.0                          HL   \n",
       "344           173.0        282.0                         PAL   \n",
       "1662         3290.0        692.0                          HL   \n",
       "1663         3290.0        692.0                         PAL   \n",
       "1664         3291.0        899.0                         PAL   \n",
       "1665         3291.0        899.0                          HL   \n",
       "1666         3292.0       1021.0                         PAL   \n",
       "1667         3292.0       1021.0                          HL   \n",
       "1678         3337.0       1286.0                          HL   \n",
       "1679         3337.0       1286.0                         PAL   \n",
       "1680         3338.0       1527.0                          HL   \n",
       "1681         3338.0       1527.0                         PAL   \n",
       "1682         3339.0        950.0                         PAL   \n",
       "1683         3339.0        950.0                          HL   \n",
       "1684         3340.0       1039.0                         PAL   \n",
       "1685         3340.0       1039.0                          HL   \n",
       "\n",
       "      conversion_numerator  conversion_denumerator  pal_weight_kg  \\\n",
       "143                    5.0                     1.0          545.0   \n",
       "144                   20.0                     1.0          545.0   \n",
       "339                   10.0                     3.0          354.6   \n",
       "340                    8.0                     1.0          354.6   \n",
       "343                   10.0                     3.0          354.6   \n",
       "344                    8.0                     1.0          354.6   \n",
       "1662                  50.0                     3.0         1050.0   \n",
       "1663                  70.0                     1.0         1050.0   \n",
       "1664                  70.0                     1.0         1048.0   \n",
       "1665                  50.0                     3.0         1048.0   \n",
       "1666                   8.0                     1.0          355.0   \n",
       "1667                  10.0                     3.0          355.0   \n",
       "1678                1250.0                    99.0          975.0   \n",
       "1679                  60.0                     1.0          975.0   \n",
       "1680                1250.0                    99.0          982.0   \n",
       "1681                  60.0                     1.0          982.0   \n",
       "1682                  60.0                     1.0          992.0   \n",
       "1683                1250.0                    99.0          992.0   \n",
       "1684                  60.0                     1.0          992.0   \n",
       "1685                1250.0                    99.0          992.0   \n",
       "\n",
       "      PC_HL_Conversion  \n",
       "143           0.200000  \n",
       "144           0.050000  \n",
       "339           0.300000  \n",
       "340           0.125000  \n",
       "343           0.300000  \n",
       "344           0.125000  \n",
       "1662          0.060000  \n",
       "1663          0.014286  \n",
       "1664          0.014286  \n",
       "1665          0.060000  \n",
       "1666          0.125000  \n",
       "1667          0.300000  \n",
       "1678          0.079200  \n",
       "1679          0.016667  \n",
       "1680          0.079200  \n",
       "1681          0.016667  \n",
       "1682          0.016667  \n",
       "1683          0.079200  \n",
       "1684          0.016667  \n",
       "1685          0.079200  "
      ]
     },
     "metadata": {},
     "output_type": "display_data"
    }
   ],
   "source": [
    "# Step: Compute PC_HL Conversion Ratio\n",
    "\n",
    "# Avoid division by zero\n",
    "df_uom_merged = df_uom_merged[df_uom_merged[\"conversion_denumerator\"] != 0]\n",
    "\n",
    "# Calculate conversion ratio\n",
    "df_uom_merged[\"PC_HL_Conversion\"] = df_uom_merged[\"conversion_denumerator\"] / df_uom_merged[\"conversion_numerator\"]\n",
    "\n",
    "# Display summary\n",
    "print(\"PC_HL Conversion Ratio Computed.\")\n",
    "display(df_uom_merged.head(20))\n"
   ]
  },
  {
   "cell_type": "code",
   "execution_count": 59,
   "metadata": {
    "execution": {
     "iopub.execute_input": "2025-04-10T07:36:14.972709Z",
     "iopub.status.busy": "2025-04-10T07:36:14.972709Z",
     "iopub.status.idle": "2025-04-10T07:36:15.363399Z",
     "shell.execute_reply": "2025-04-10T07:36:15.362353Z"
    }
   },
   "outputs": [
    {
     "name": "stdout",
     "output_type": "stream",
     "text": [
      "Processed UOM data saved to ./PRE_PROCESSED_DATA/04. April 2025/10_04_2025 preprocessed data/2025_04_10_13_03_07 preprocessed data/uom_df.csv\n"
     ]
    }
   ],
   "source": [
    "# Step: Save Processed UOM Data\n",
    "\n",
    "# Define save path\n",
    "uom_file_path = os.path.join(preprocessed_path, \"uom_df.csv\")\n",
    "\n",
    "# Save to CSV\n",
    "df_uom_merged.to_csv(uom_file_path, index=False)\n",
    "\n",
    "print(f\"Processed UOM data saved to {uom_file_path}\")\n"
   ]
  },
  {
   "cell_type": "markdown",
   "metadata": {},
   "source": [
    "### Input Planned Production Preprocessing"
   ]
  },
  {
   "cell_type": "code",
   "execution_count": 60,
   "metadata": {
    "execution": {
     "iopub.execute_input": "2025-04-10T07:36:15.365451Z",
     "iopub.status.busy": "2025-04-10T07:36:15.365451Z",
     "iopub.status.idle": "2025-04-10T07:36:15.414087Z",
     "shell.execute_reply": "2025-04-10T07:36:15.395846Z"
    }
   },
   "outputs": [
    {
     "name": "stdout",
     "output_type": "stream",
     "text": [
      "Loaded and retained required columns for input_Planned_production.csv:\n",
      "['duration', 'end_outflow_ts', 'material_sk', 'material_code', 'plant_sk', 'plant_code', 'product_unit', 'quantity', 'start_inflow_ts', 'status']\n"
     ]
    }
   ],
   "source": [
    "# Define the dataset name\n",
    "file_name = \"input_Planned_production.csv\"\n",
    "df_planned_production = dataframes[file_name]\n",
    "\n",
    "# Define required columns\n",
    "required_columns_planned_production = [\n",
    "    \"duration\", \"end_outflow_ts\", \"material_sk\", \"material_code\",\n",
    "    \"plant_sk\", \"plant_code\", \"product_unit\", \"quantity\",\n",
    "    \"start_inflow_ts\", \"status\"\n",
    "]\n",
    "\n",
    "# Retain only necessary columns\n",
    "df_planned_production = df_planned_production[required_columns_planned_production]\n",
    "\n",
    "# Store updated DataFrame\n",
    "dataframes[file_name] = df_planned_production\n",
    "\n",
    "# Display confirmation\n",
    "print(f\"Loaded and retained required columns for {file_name}:\")\n",
    "print(list(df_planned_production.columns))\n"
   ]
  },
  {
   "cell_type": "markdown",
   "metadata": {},
   "source": [
    "#### Data Type Validation"
   ]
  },
  {
   "cell_type": "code",
   "execution_count": 61,
   "metadata": {
    "execution": {
     "iopub.execute_input": "2025-04-10T07:36:15.416135Z",
     "iopub.status.busy": "2025-04-10T07:36:15.416135Z",
     "iopub.status.idle": "2025-04-10T07:36:15.434265Z",
     "shell.execute_reply": "2025-04-10T07:36:15.432715Z"
    }
   },
   "outputs": [
    {
     "name": "stdout",
     "output_type": "stream",
     "text": [
      "Data Type Mismatches Found:\n",
      "   - Column: plant_sk, Found: object, Expected: Int64\n",
      "   - Column: material_sk, Found: object, Expected: Int64\n",
      "   - Column: material_code, Found: object, Expected: Int64\n",
      "   - Column: start_inflow_ts, Found: object, Expected: datetime64[ns]\n",
      "   - Column: end_outflow_ts, Found: object, Expected: datetime64[ns]\n",
      "   - Column: quantity, Found: object, Expected: float64\n",
      "   - Column: duration, Found: object, Expected: float64\n"
     ]
    }
   ],
   "source": [
    "# Detect Data Type Mismatches\n",
    "\n",
    "# Define expected data types\n",
    "expected_dtypes = {\n",
    "    \"plant_sk\": \"Int64\",\n",
    "    \"material_sk\": \"Int64\",\n",
    "    \"material_code\": \"Int64\",\n",
    "    \"plant_code\": \"object\",\n",
    "    \"start_inflow_ts\": \"datetime64[ns]\",\n",
    "    \"end_outflow_ts\": \"datetime64[ns]\",\n",
    "    \"quantity\": \"float64\",\n",
    "    \"product_unit\": \"object\",\n",
    "    \"duration\": \"float64\",\n",
    "    \"status\": \"object\"\n",
    "}\n",
    "\n",
    "# Check actual dtypes\n",
    "dtype_mismatches = {}\n",
    "\n",
    "for col, expected_dtype in expected_dtypes.items():\n",
    "    actual_dtype = df_planned_production[col].dtype\n",
    "    if actual_dtype != expected_dtype:\n",
    "        dtype_mismatches[col] = (actual_dtype, expected_dtype)\n",
    "\n",
    "# Display results\n",
    "if dtype_mismatches:\n",
    "    print(\"Data Type Mismatches Found:\")\n",
    "    for col, (actual, expected) in dtype_mismatches.items():\n",
    "        print(f\"   - Column: {col}, Found: {actual}, Expected: {expected}\")\n",
    "else:\n",
    "    print(\"All Columns Have Correct Data Types.\")\n"
   ]
  },
  {
   "cell_type": "markdown",
   "metadata": {},
   "source": [
    "#### Handling data type mismatches "
   ]
  },
  {
   "cell_type": "code",
   "execution_count": 62,
   "metadata": {
    "execution": {
     "iopub.execute_input": "2025-04-10T07:36:15.436312Z",
     "iopub.status.busy": "2025-04-10T07:36:15.436312Z",
     "iopub.status.idle": "2025-04-10T07:36:15.466885Z",
     "shell.execute_reply": "2025-04-10T07:36:15.465884Z"
    }
   },
   "outputs": [
    {
     "name": "stdout",
     "output_type": "stream",
     "text": [
      "Data Types Fixed.\n"
     ]
    }
   ],
   "source": [
    "# Fix Data Type Mismatches\n",
    "\n",
    "# Convert to correct types\n",
    "df_planned_production[\"plant_sk\"] = pd.to_numeric(df_planned_production[\"plant_sk\"], errors=\"coerce\")\n",
    "df_planned_production[\"material_sk\"] = pd.to_numeric(df_planned_production[\"material_sk\"], errors=\"coerce\")\n",
    "df_planned_production[\"material_code\"] = pd.to_numeric(df_planned_production[\"material_code\"], errors=\"coerce\")\n",
    "df_planned_production[\"quantity\"] = pd.to_numeric(df_planned_production[\"quantity\"], errors=\"coerce\")\n",
    "df_planned_production[\"duration\"] = pd.to_numeric(df_planned_production[\"duration\"], errors=\"coerce\")\n",
    "\n",
    "# Convert timestamps to datetime format\n",
    "df_planned_production[\"start_inflow_ts\"] = pd.to_datetime(df_planned_production[\"start_inflow_ts\"], errors=\"coerce\")\n",
    "df_planned_production[\"end_outflow_ts\"] = pd.to_datetime(df_planned_production[\"end_outflow_ts\"], errors=\"coerce\")\n",
    "\n",
    "print(\"Data Types Fixed.\")\n"
   ]
  },
  {
   "cell_type": "markdown",
   "metadata": {},
   "source": [
    "#### Missing Values"
   ]
  },
  {
   "cell_type": "code",
   "execution_count": 63,
   "metadata": {
    "execution": {
     "iopub.execute_input": "2025-04-10T07:36:15.472884Z",
     "iopub.status.busy": "2025-04-10T07:36:15.471883Z",
     "iopub.status.idle": "2025-04-10T07:36:15.496679Z",
     "shell.execute_reply": "2025-04-10T07:36:15.495682Z"
    }
   },
   "outputs": [
    {
     "name": "stdout",
     "output_type": "stream",
     "text": [
      "Checking Missing Values in input_Planned_production.csv\n",
      "\n",
      "Missing Values Found in input_Planned_production.csv:\n"
     ]
    },
    {
     "data": {
      "text/html": [
       "<div>\n",
       "<style scoped>\n",
       "    .dataframe tbody tr th:only-of-type {\n",
       "        vertical-align: middle;\n",
       "    }\n",
       "\n",
       "    .dataframe tbody tr th {\n",
       "        vertical-align: top;\n",
       "    }\n",
       "\n",
       "    .dataframe thead th {\n",
       "        text-align: right;\n",
       "    }\n",
       "</style>\n",
       "<table border=\"1\" class=\"dataframe\">\n",
       "  <thead>\n",
       "    <tr style=\"text-align: right;\">\n",
       "      <th></th>\n",
       "      <th>Missing_Count</th>\n",
       "      <th>Missing_Percentage</th>\n",
       "    </tr>\n",
       "  </thead>\n",
       "  <tbody>\n",
       "    <tr>\n",
       "      <th>material_code</th>\n",
       "      <td>65</td>\n",
       "      <td>10.20%</td>\n",
       "    </tr>\n",
       "  </tbody>\n",
       "</table>\n",
       "</div>"
      ],
      "text/plain": [
       "               Missing_Count Missing_Percentage\n",
       "material_code             65             10.20%"
      ]
     },
     "metadata": {},
     "output_type": "display_data"
    }
   ],
   "source": [
    "# Detect Missing Values\n",
    "print(f\"Checking Missing Values in {file_name}\\n\")\n",
    "\n",
    "# Count missing values\n",
    "missing_count = df_planned_production.isnull().sum()\n",
    "missing_percentage = (missing_count / len(df_planned_production)) * 100\n",
    "\n",
    "# Filter only columns with missing values\n",
    "missing_data = pd.DataFrame({'Missing_Count': missing_count, 'Missing_Percentage': missing_percentage})\n",
    "missing_data = missing_data[missing_data[\"Missing_Count\"] > 0]\n",
    "\n",
    "# Display results\n",
    "if not missing_data.empty:\n",
    "    missing_data[\"Missing_Percentage\"] = missing_data[\"Missing_Percentage\"].apply(lambda x: f\"{x:.2f}%\")\n",
    "    print(f\"Missing Values Found in {file_name}:\")\n",
    "    display(missing_data)\n",
    "else:\n",
    "    print(f\"No Missing Values Found in {file_name}.\")\n"
   ]
  },
  {
   "cell_type": "markdown",
   "metadata": {},
   "source": [
    "#### Duplicates"
   ]
  },
  {
   "cell_type": "code",
   "execution_count": 64,
   "metadata": {
    "execution": {
     "iopub.execute_input": "2025-04-10T07:36:15.500682Z",
     "iopub.status.busy": "2025-04-10T07:36:15.500682Z",
     "iopub.status.idle": "2025-04-10T07:36:15.518655Z",
     "shell.execute_reply": "2025-04-10T07:36:15.518655Z"
    }
   },
   "outputs": [
    {
     "name": "stdout",
     "output_type": "stream",
     "text": [
      "Duplicate (plant_sk, material_sk, start_inflow_ts, end_outflow_ts) pairs found: 0 (0.00%)\n",
      "No duplicates found.\n"
     ]
    }
   ],
   "source": [
    "# Detect Duplicate Entries Based on (plant_sk, material_sk, start_inflow_ts, end_outflow_ts)\n",
    "\n",
    "# Convert timestamps to datetime for proper validation\n",
    "df_planned_production[\"start_inflow_ts\"] = pd.to_datetime(df_planned_production[\"start_inflow_ts\"], errors=\"coerce\")\n",
    "df_planned_production[\"end_outflow_ts\"] = pd.to_datetime(df_planned_production[\"end_outflow_ts\"], errors=\"coerce\")\n",
    "\n",
    "# Detect duplicates based on material, plant, and timestamps\n",
    "duplicate_entries = df_planned_production.duplicated(\n",
    "    subset=[\"plant_sk\", \"material_sk\", \"start_inflow_ts\", \"end_outflow_ts\"], keep=False\n",
    ")\n",
    "\n",
    "# Count and percentage of duplicates\n",
    "duplicate_count = duplicate_entries.sum()\n",
    "duplicate_percentage = (duplicate_count / len(df_planned_production)) * 100\n",
    "\n",
    "print(f\"Duplicate (plant_sk, material_sk, start_inflow_ts, end_outflow_ts) pairs found: {duplicate_count} ({duplicate_percentage:.2f}%)\")\n",
    "\n",
    "# Display sample duplicate entries\n",
    "if duplicate_count > 0:\n",
    "    display(df_planned_production[duplicate_entries].sort_values([\"plant_sk\", \"material_sk\", \"start_inflow_ts\"]).head(10))\n",
    "else:\n",
    "    print(\"No duplicates found.\")\n"
   ]
  },
  {
   "cell_type": "code",
   "execution_count": 65,
   "metadata": {
    "execution": {
     "iopub.execute_input": "2025-04-10T07:36:15.525704Z",
     "iopub.status.busy": "2025-04-10T07:36:15.518655Z",
     "iopub.status.idle": "2025-04-10T07:36:15.549516Z",
     "shell.execute_reply": "2025-04-10T07:36:15.549516Z"
    }
   },
   "outputs": [
    {
     "name": "stdout",
     "output_type": "stream",
     "text": [
      "All duplicate rows are exact copies (safe to remove)."
     ]
    },
    {
     "name": "stdout",
     "output_type": "stream",
     "text": [
      "\n"
     ]
    }
   ],
   "source": [
    "# Group by duplicate keys and check if other columns have different values\n",
    "duplicate_groups = df_planned_production[duplicate_entries].groupby(\n",
    "    [\"plant_sk\", \"material_sk\", \"start_inflow_ts\", \"end_outflow_ts\"]\n",
    ").agg({\n",
    "    \"quantity\": \"nunique\",\n",
    "    \"status\": \"nunique\",\n",
    "    \"product_unit\": \"nunique\",\n",
    "    \"duration\": \"nunique\"\n",
    "})\n",
    "\n",
    "# Display cases where values differ in any column\n",
    "mismatched_values = duplicate_groups[(duplicate_groups > 1).any(axis=1)]\n",
    "if not mismatched_values.empty:\n",
    "    print(\"Some duplicates have different values in 'quantity', 'status', 'product_unit', or 'duration'.\")\n",
    "    display(mismatched_values)\n",
    "else:\n",
    "    print(\"All duplicate rows are exact copies (safe to remove).\")\n"
   ]
  },
  {
   "cell_type": "markdown",
   "metadata": {},
   "source": [
    "#### Filtering based on latest entries "
   ]
  },
  {
   "cell_type": "code",
   "execution_count": 66,
   "metadata": {
    "execution": {
     "iopub.execute_input": "2025-04-10T07:36:15.556090Z",
     "iopub.status.busy": "2025-04-10T07:36:15.556090Z",
     "iopub.status.idle": "2025-04-10T07:36:15.579378Z",
     "shell.execute_reply": "2025-04-10T07:36:15.579378Z"
    }
   },
   "outputs": [
    {
     "name": "stdout",
     "output_type": "stream",
     "text": [
      "Kept the latest planned production entry based on start_inflow_ts."
     ]
    },
    {
     "name": "stdout",
     "output_type": "stream",
     "text": [
      "\n"
     ]
    }
   ],
   "source": [
    "# Ensure timestamps are in datetime format\n",
    "df_planned_production[\"start_inflow_ts\"] = pd.to_datetime(df_planned_production[\"start_inflow_ts\"])\n",
    "df_planned_production[\"end_outflow_ts\"] = pd.to_datetime(df_planned_production[\"end_outflow_ts\"])\n",
    "\n",
    "# Sort by start_inflow_ts and drop duplicates, keeping the latest entry\n",
    "df_planned_production = df_planned_production.sort_values(\"start_inflow_ts\").drop_duplicates(\n",
    "    subset=[\"plant_sk\", \"material_sk\", \"start_inflow_ts\", \"end_outflow_ts\"],\n",
    "    keep=\"last\"\n",
    ")\n",
    "\n",
    "print(\"Kept the latest planned production entry based on start_inflow_ts.\")\n"
   ]
  },
  {
   "cell_type": "markdown",
   "metadata": {},
   "source": [
    "#### Verification"
   ]
  },
  {
   "cell_type": "code",
   "execution_count": 67,
   "metadata": {
    "execution": {
     "iopub.execute_input": "2025-04-10T07:36:15.586421Z",
     "iopub.status.busy": "2025-04-10T07:36:15.579378Z",
     "iopub.status.idle": "2025-04-10T07:36:15.596492Z",
     "shell.execute_reply": "2025-04-10T07:36:15.595452Z"
    }
   },
   "outputs": [
    {
     "name": "stdout",
     "output_type": "stream",
     "text": [
      "Remaining duplicates: 0\n"
     ]
    }
   ],
   "source": [
    "remaining_duplicates = df_planned_production.duplicated(\n",
    "    subset=[\"plant_sk\", \"material_sk\", \"start_inflow_ts\", \"end_outflow_ts\"], keep=False\n",
    ")\n",
    "print(f\"Remaining duplicates: {remaining_duplicates.sum()}\")\n"
   ]
  },
  {
   "cell_type": "code",
   "execution_count": 68,
   "metadata": {
    "execution": {
     "iopub.execute_input": "2025-04-10T07:36:15.596492Z",
     "iopub.status.busy": "2025-04-10T07:36:15.596492Z",
     "iopub.status.idle": "2025-04-10T07:36:15.615215Z",
     "shell.execute_reply": "2025-04-10T07:36:15.613555Z"
    }
   },
   "outputs": [
    {
     "name": "stdout",
     "output_type": "stream",
     "text": [
      "Unique product units: ['HLT' 'PCE' 'hl' 'min' 'CIP' 'minutes']\n"
     ]
    }
   ],
   "source": [
    "# Check unique values in product_unit column\n",
    "unique_units = df_planned_production[\"product_unit\"].unique()\n",
    "print(\"Unique product units:\", unique_units)\n"
   ]
  },
  {
   "cell_type": "code",
   "execution_count": 69,
   "metadata": {
    "execution": {
     "iopub.execute_input": "2025-04-10T07:36:15.621611Z",
     "iopub.status.busy": "2025-04-10T07:36:15.620610Z",
     "iopub.status.idle": "2025-04-10T07:36:15.651313Z",
     "shell.execute_reply": "2025-04-10T07:36:15.651313Z"
    }
   },
   "outputs": [
    {
     "name": "stdout",
     "output_type": "stream",
     "text": [
      "Rows with non-PCE product units: 462 (72.53%)\n"
     ]
    },
    {
     "data": {
      "text/plain": [
       "product_unit\n",
       "HLT        429\n",
       "CIP         11\n",
       "hl          10\n",
       "minutes      7\n",
       "min          5\n",
       "Name: count, dtype: int64"
      ]
     },
     "metadata": {},
     "output_type": "display_data"
    }
   ],
   "source": [
    "# Count rows that will be removed\n",
    "non_pce_rows = df_planned_production[df_planned_production[\"product_unit\"] != \"PCE\"]\n",
    "non_pce_count = len(non_pce_rows)\n",
    "non_pce_percentage = (non_pce_count / len(df_planned_production)) * 100\n",
    "\n",
    "print(f\"Rows with non-PCE product units: {non_pce_count} ({non_pce_percentage:.2f}%)\")\n",
    "display(non_pce_rows[\"product_unit\"].value_counts())\n"
   ]
  },
  {
   "cell_type": "markdown",
   "metadata": {},
   "source": [
    "#### Filtering based on product unit 'PCE'"
   ]
  },
  {
   "cell_type": "code",
   "execution_count": 70,
   "metadata": {
    "execution": {
     "iopub.execute_input": "2025-04-10T07:36:15.656862Z",
     "iopub.status.busy": "2025-04-10T07:36:15.656862Z",
     "iopub.status.idle": "2025-04-10T07:36:15.669013Z",
     "shell.execute_reply": "2025-04-10T07:36:15.667477Z"
    }
   },
   "outputs": [
    {
     "name": "stdout",
     "output_type": "stream",
     "text": [
      "Filter Applied: Kept 175 rows (27.47%) out of 637.\n"
     ]
    }
   ],
   "source": [
    "# Apply Filtering to Keep Only PCE Product Units\n",
    "initial_count_planned_production = len(df_planned_production)\n",
    "df_planned_production = df_planned_production[df_planned_production[\"product_unit\"] == \"PCE\"]\n",
    "\n",
    "# Calculate remaining rows and percentage\n",
    "remaining_rows = len(df_planned_production)\n",
    "remaining_percentage = (remaining_rows / initial_count_planned_production) * 100\n",
    "\n",
    "# Display confirmation\n",
    "print(f\"Filter Applied: Kept {remaining_rows} rows ({remaining_percentage:.2f}%) out of {initial_count_planned_production}.\")\n"
   ]
  },
  {
   "cell_type": "markdown",
   "metadata": {},
   "source": [
    "#### Multi-Day production filtering"
   ]
  },
  {
   "cell_type": "code",
   "execution_count": 71,
   "metadata": {
    "execution": {
     "iopub.execute_input": "2025-04-10T07:36:15.669013Z",
     "iopub.status.busy": "2025-04-10T07:36:15.669013Z",
     "iopub.status.idle": "2025-04-10T07:36:15.721377Z",
     "shell.execute_reply": "2025-04-10T07:36:15.720322Z"
    }
   },
   "outputs": [
    {
     "name": "stdout",
     "output_type": "stream",
     "text": [
      "Multi-Day Production Events Found: 101 (57.71%)\n"
     ]
    },
    {
     "data": {
      "text/html": [
       "<div>\n",
       "<style scoped>\n",
       "    .dataframe tbody tr th:only-of-type {\n",
       "        vertical-align: middle;\n",
       "    }\n",
       "\n",
       "    .dataframe tbody tr th {\n",
       "        vertical-align: top;\n",
       "    }\n",
       "\n",
       "    .dataframe thead th {\n",
       "        text-align: right;\n",
       "    }\n",
       "</style>\n",
       "<table border=\"1\" class=\"dataframe\">\n",
       "  <thead>\n",
       "    <tr style=\"text-align: right;\">\n",
       "      <th></th>\n",
       "      <th>duration</th>\n",
       "      <th>end_outflow_ts</th>\n",
       "      <th>material_sk</th>\n",
       "      <th>material_code</th>\n",
       "      <th>plant_sk</th>\n",
       "      <th>plant_code</th>\n",
       "      <th>product_unit</th>\n",
       "      <th>quantity</th>\n",
       "      <th>start_inflow_ts</th>\n",
       "      <th>status</th>\n",
       "    </tr>\n",
       "  </thead>\n",
       "  <tbody>\n",
       "    <tr>\n",
       "      <th>432</th>\n",
       "      <td>3056.0</td>\n",
       "      <td>2025-04-11 08:56:00</td>\n",
       "      <td>35047</td>\n",
       "      <td>53478.0</td>\n",
       "      <td>73</td>\n",
       "      <td>BE03</td>\n",
       "      <td>PCE</td>\n",
       "      <td>69280.000000</td>\n",
       "      <td>2025-04-09 06:00:00</td>\n",
       "      <td>running</td>\n",
       "    </tr>\n",
       "    <tr>\n",
       "      <th>134</th>\n",
       "      <td>1112.0</td>\n",
       "      <td>2025-04-10 00:32:00</td>\n",
       "      <td>3505</td>\n",
       "      <td>5688.0</td>\n",
       "      <td>2566</td>\n",
       "      <td>DE02</td>\n",
       "      <td>PCE</td>\n",
       "      <td>21000.000000</td>\n",
       "      <td>2025-04-09 06:00:00</td>\n",
       "      <td>processorder</td>\n",
       "    </tr>\n",
       "    <tr>\n",
       "      <th>204</th>\n",
       "      <td>1293.0</td>\n",
       "      <td>2025-04-10 03:33:00</td>\n",
       "      <td>5091</td>\n",
       "      <td>6485.0</td>\n",
       "      <td>4766</td>\n",
       "      <td>DE06</td>\n",
       "      <td>PCE</td>\n",
       "      <td>16000.000000</td>\n",
       "      <td>2025-04-09 06:00:00</td>\n",
       "      <td>processorder</td>\n",
       "    </tr>\n",
       "    <tr>\n",
       "      <th>250</th>\n",
       "      <td>1924.0</td>\n",
       "      <td>2025-04-10 14:04:00</td>\n",
       "      <td>30442</td>\n",
       "      <td>61743.0</td>\n",
       "      <td>73</td>\n",
       "      <td>BE03</td>\n",
       "      <td>PCE</td>\n",
       "      <td>46504.000000</td>\n",
       "      <td>2025-04-09 06:00:00</td>\n",
       "      <td>running</td>\n",
       "    </tr>\n",
       "    <tr>\n",
       "      <th>470</th>\n",
       "      <td>1235.0</td>\n",
       "      <td>2025-04-10 02:35:00</td>\n",
       "      <td>42945</td>\n",
       "      <td>73296.0</td>\n",
       "      <td>4766</td>\n",
       "      <td>DE06</td>\n",
       "      <td>PCE</td>\n",
       "      <td>25000.000000</td>\n",
       "      <td>2025-04-09 06:00:00</td>\n",
       "      <td>processorder</td>\n",
       "    </tr>\n",
       "    <tr>\n",
       "      <th>337</th>\n",
       "      <td>1387.0</td>\n",
       "      <td>2025-04-10 05:07:00</td>\n",
       "      <td>1877515</td>\n",
       "      <td>107699.0</td>\n",
       "      <td>142</td>\n",
       "      <td>BE04</td>\n",
       "      <td>PCE</td>\n",
       "      <td>38146.000000</td>\n",
       "      <td>2025-04-09 06:00:00</td>\n",
       "      <td>running</td>\n",
       "    </tr>\n",
       "    <tr>\n",
       "      <th>20</th>\n",
       "      <td>1405.0</td>\n",
       "      <td>2025-04-10 05:25:00</td>\n",
       "      <td>1882678</td>\n",
       "      <td>103544.0</td>\n",
       "      <td>2566</td>\n",
       "      <td>DE02</td>\n",
       "      <td>PCE</td>\n",
       "      <td>28500.000000</td>\n",
       "      <td>2025-04-09 06:00:00</td>\n",
       "      <td>processorder</td>\n",
       "    </tr>\n",
       "    <tr>\n",
       "      <th>354</th>\n",
       "      <td>1184.0</td>\n",
       "      <td>2025-04-10 01:44:00</td>\n",
       "      <td>4977</td>\n",
       "      <td>21389.0</td>\n",
       "      <td>4766</td>\n",
       "      <td>DE06</td>\n",
       "      <td>PCE</td>\n",
       "      <td>6300.000000</td>\n",
       "      <td>2025-04-09 06:00:00</td>\n",
       "      <td>processorder</td>\n",
       "    </tr>\n",
       "    <tr>\n",
       "      <th>499</th>\n",
       "      <td>1905.0</td>\n",
       "      <td>2025-04-10 13:45:00</td>\n",
       "      <td>1889501</td>\n",
       "      <td>100626.0</td>\n",
       "      <td>142</td>\n",
       "      <td>BE04</td>\n",
       "      <td>PCE</td>\n",
       "      <td>1143.400024</td>\n",
       "      <td>2025-04-09 06:00:00</td>\n",
       "      <td>processorder</td>\n",
       "    </tr>\n",
       "    <tr>\n",
       "      <th>421</th>\n",
       "      <td>1193.0</td>\n",
       "      <td>2025-04-10 01:53:00</td>\n",
       "      <td>1880479</td>\n",
       "      <td>107911.0</td>\n",
       "      <td>142</td>\n",
       "      <td>BE04</td>\n",
       "      <td>PCE</td>\n",
       "      <td>64455.000000</td>\n",
       "      <td>2025-04-09 06:00:00</td>\n",
       "      <td>running</td>\n",
       "    </tr>\n",
       "  </tbody>\n",
       "</table>\n",
       "</div>"
      ],
      "text/plain": [
       "     duration      end_outflow_ts  material_sk  material_code  plant_sk  \\\n",
       "432    3056.0 2025-04-11 08:56:00        35047        53478.0        73   \n",
       "134    1112.0 2025-04-10 00:32:00         3505         5688.0      2566   \n",
       "204    1293.0 2025-04-10 03:33:00         5091         6485.0      4766   \n",
       "250    1924.0 2025-04-10 14:04:00        30442        61743.0        73   \n",
       "470    1235.0 2025-04-10 02:35:00        42945        73296.0      4766   \n",
       "337    1387.0 2025-04-10 05:07:00      1877515       107699.0       142   \n",
       "20     1405.0 2025-04-10 05:25:00      1882678       103544.0      2566   \n",
       "354    1184.0 2025-04-10 01:44:00         4977        21389.0      4766   \n",
       "499    1905.0 2025-04-10 13:45:00      1889501       100626.0       142   \n",
       "421    1193.0 2025-04-10 01:53:00      1880479       107911.0       142   \n",
       "\n",
       "    plant_code product_unit      quantity     start_inflow_ts        status  \n",
       "432       BE03          PCE  69280.000000 2025-04-09 06:00:00       running  \n",
       "134       DE02          PCE  21000.000000 2025-04-09 06:00:00  processorder  \n",
       "204       DE06          PCE  16000.000000 2025-04-09 06:00:00  processorder  \n",
       "250       BE03          PCE  46504.000000 2025-04-09 06:00:00       running  \n",
       "470       DE06          PCE  25000.000000 2025-04-09 06:00:00  processorder  \n",
       "337       BE04          PCE  38146.000000 2025-04-09 06:00:00       running  \n",
       "20        DE02          PCE  28500.000000 2025-04-09 06:00:00  processorder  \n",
       "354       DE06          PCE   6300.000000 2025-04-09 06:00:00  processorder  \n",
       "499       BE04          PCE   1143.400024 2025-04-09 06:00:00  processorder  \n",
       "421       BE04          PCE  64455.000000 2025-04-09 06:00:00       running  "
      ]
     },
     "metadata": {},
     "output_type": "display_data"
    }
   ],
   "source": [
    "# Detect Multi-Day Production Events  \n",
    "\n",
    "import pandas as pd\n",
    "\n",
    "# Identify rows where the start and end timestamps fall on different calendar days\n",
    "df_planned_production[\"start_inflow_ts\"] = pd.to_datetime(df_planned_production[\"start_inflow_ts\"], errors=\"coerce\")\n",
    "df_planned_production[\"end_outflow_ts\"] = pd.to_datetime(df_planned_production[\"end_outflow_ts\"], errors=\"coerce\")\n",
    "\n",
    "# Identify multi-day production (different dates for start and end)\n",
    "multi_day_production = df_planned_production[\n",
    "    df_planned_production[\"start_inflow_ts\"].dt.date != df_planned_production[\"end_outflow_ts\"].dt.date\n",
    "]\n",
    "\n",
    "# Count and percentage of multi-day records\n",
    "multi_day_count = len(multi_day_production)\n",
    "multi_day_percentage = (multi_day_count / len(df_planned_production)) * 100\n",
    "\n",
    "print(f\"Multi-Day Production Events Found: {multi_day_count} ({multi_day_percentage:.2f}%)\")\n",
    "\n",
    "# Display a few samples if found\n",
    "if multi_day_count > 0:\n",
    "    display(multi_day_production.head(10))\n",
    "else:\n",
    "    print(\"No Multi-Day Production Events Found.\")\n"
   ]
  },
  {
   "cell_type": "code",
   "execution_count": 72,
   "metadata": {
    "execution": {
     "iopub.execute_input": "2025-04-10T07:36:15.723422Z",
     "iopub.status.busy": "2025-04-10T07:36:15.723422Z",
     "iopub.status.idle": "2025-04-10T07:36:15.735673Z",
     "shell.execute_reply": "2025-04-10T07:36:15.735673Z"
    }
   },
   "outputs": [],
   "source": [
    "df_planned_production[\"duration\"] = pd.to_numeric(df_planned_production[\"duration\"], errors=\"coerce\")\n",
    "df_planned_production[\"quantity\"] = pd.to_numeric(df_planned_production[\"quantity\"], errors=\"coerce\")\n"
   ]
  },
  {
   "cell_type": "markdown",
   "metadata": {},
   "source": [
    "#### Splittinng Multi-day production into multiple rows"
   ]
  },
  {
   "cell_type": "code",
   "execution_count": 73,
   "metadata": {
    "execution": {
     "iopub.execute_input": "2025-04-10T07:36:15.741790Z",
     "iopub.status.busy": "2025-04-10T07:36:15.735673Z",
     "iopub.status.idle": "2025-04-10T07:36:15.812687Z",
     "shell.execute_reply": "2025-04-10T07:36:15.812687Z"
    }
   },
   "outputs": [
    {
     "name": "stdout",
     "output_type": "stream",
     "text": [
      "\n",
      "DEBUG: Processing Row -> Start: 2025-04-09 06:00:00, End: 2025-04-11 08:56:00"
     ]
    },
    {
     "name": "stdout",
     "output_type": "stream",
     "text": [
      "\n",
      "DEBUG: Total Duration (minutes): 3056.0, Total Quantity: 69280.0\n",
      "DEBUG: duration_today = 1080.0, quantity_today = 24483.769633507854\n",
      "DEBUG: duration_today = 1440.0, quantity_today = 32645.02617801047\n",
      "DEBUG: duration_today = 536.0, quantity_today = 12151.204188481675\n",
      "\n",
      "DEBUG: Processing Row -> Start: 2025-04-09 06:00:00, End: 2025-04-10 00:32:00\n",
      "DEBUG: Total Duration (minutes): 1112.0, Total Quantity: 21000.0\n",
      "DEBUG: duration_today = 1080.0, quantity_today = 20395.68345323741\n",
      "DEBUG: duration_today = 32.0, quantity_today = 604.31654676259\n",
      "\n",
      "DEBUG: Processing Row -> Start: 2025-04-09 06:00:00, End: 2025-04-10 03:33:00\n",
      "DEBUG: Total Duration (minutes): 1293.0, Total Quantity: 16000.0\n",
      "DEBUG: duration_today = 1080.0, quantity_today = 13364.269141531322\n",
      "DEBUG: duration_today = 213.0, quantity_today = 2635.7308584686775\n",
      "\n",
      "DEBUG: Processing Row -> Start: 2025-04-09 06:00:00, End: 2025-04-10 14:04:00\n",
      "DEBUG: Total Duration (minutes): 1924.0, Total Quantity: 46504.0\n",
      "DEBUG: duration_today = 1080.0, quantity_today = 26104.116424116426\n",
      "DEBUG: duration_today = 844.0, quantity_today = 20399.883575883578\n",
      "\n",
      "DEBUG: Processing Row -> Start: 2025-04-09 06:00:00, End: 2025-04-10 02:35:00\n",
      "DEBUG: Total Duration (minutes): 1235.0, Total Quantity: 25000.0\n",
      "DEBUG: duration_today = 1080.0, quantity_today = 21862.348178137654\n",
      "DEBUG: duration_today = 155.0, quantity_today = 3137.651821862348\n",
      "\n",
      "DEBUG: Processing Row -> Start: 2025-04-09 06:00:00, End: 2025-04-10 05:07:00\n",
      "DEBUG: Total Duration (minutes): 1387.0, Total Quantity: 38146.0\n",
      "DEBUG: duration_today = 1080.0, quantity_today = 29702.725306416723\n",
      "DEBUG: duration_today = 307.0, quantity_today = 8443.274693583273\n",
      "\n",
      "DEBUG: Processing Row -> Start: 2025-04-09 06:00:00, End: 2025-04-10 05:25:00\n",
      "DEBUG: Total Duration (minutes): 1405.0, Total Quantity: 28500.0\n",
      "DEBUG: duration_today = 1080.0, quantity_today = 21907.47330960854\n",
      "DEBUG: duration_today = 325.0, quantity_today = 6592.526690391459\n",
      "\n",
      "DEBUG: Processing Row -> Start: 2025-04-09 06:00:00, End: 2025-04-10 01:44:00\n",
      "DEBUG: Total Duration (minutes): 1184.0, Total Quantity: 6300.0\n",
      "DEBUG: duration_today = 1080.0, quantity_today = 5746.621621621622\n",
      "DEBUG: duration_today = 104.0, quantity_today = 553.3783783783784\n",
      "\n",
      "DEBUG: Processing Row -> Start: 2025-04-09 06:00:00, End: 2025-04-10 13:45:00\n",
      "DEBUG: Total Duration (minutes): 1905.0, Total Quantity: 1143.400024\n",
      "DEBUG: duration_today = 1080.0, quantity_today = 648.2267852598425\n",
      "DEBUG: duration_today = 825.0, quantity_today = 495.1732387401575\n",
      "\n",
      "DEBUG: Processing Row -> Start: 2025-04-09 06:00:00, End: 2025-04-10 01:53:00\n",
      "DEBUG: Total Duration (minutes): 1193.0, Total Quantity: 64455.0\n",
      "DEBUG: duration_today = 1080.0, quantity_today = 58349.8742665549\n",
      "DEBUG: duration_today = 113.0, quantity_today = 6105.125733445097\n",
      "\n",
      "DEBUG: Processing Row -> Start: 2025-04-09 06:15:00, End: 2025-04-10 05:26:00\n",
      "DEBUG: Total Duration (minutes): 1391.0, Total Quantity: 56000.0\n",
      "DEBUG: duration_today = 1065.0, quantity_today = 42875.62904385334\n",
      "DEBUG: duration_today = 326.0, quantity_today = 13124.370956146657\n",
      "\n",
      "DEBUG: Processing Row -> Start: 2025-04-09 07:00:00, End: 2025-04-10 09:00:00\n",
      "DEBUG: Total Duration (minutes): 1560.0, Total Quantity: 95550.0\n",
      "DEBUG: duration_today = 1020.0, quantity_today = 62475.0\n",
      "DEBUG: duration_today = 540.0, quantity_today = 33075.0\n",
      "\n",
      "DEBUG: Processing Row -> Start: 2025-04-09 07:30:00, End: 2025-04-11 17:04:00\n",
      "DEBUG: Total Duration (minutes): 3454.0, Total Quantity: 445106.0\n",
      "DEBUG: duration_today = 990.0, quantity_today = 127578.15286624203\n",
      "DEBUG: duration_today = 1440.0, quantity_today = 185568.2223508975\n",
      "DEBUG: duration_today = 1024.0, quantity_today = 131959.62478286045\n",
      "\n",
      "DEBUG: Processing Row -> Start: 2025-04-09 07:32:00, End: 2025-04-10 11:34:00\n",
      "DEBUG: Total Duration (minutes): 1682.0, Total Quantity: 20138.222656\n",
      "DEBUG: duration_today = 988.0, quantity_today = 11829.11057320333\n",
      "DEBUG: duration_today = 694.0, quantity_today = 8309.112082796672\n",
      "\n",
      "DEBUG: Processing Row -> Start: 2025-04-09 09:00:00, End: 2025-04-10 04:33:00\n",
      "DEBUG: Total Duration (minutes): 1173.0, Total Quantity: 22000.0\n",
      "DEBUG: duration_today = 900.0, quantity_today = 16879.79539641944\n",
      "DEBUG: duration_today = 273.0, quantity_today = 5120.204603580562\n",
      "\n",
      "DEBUG: Processing Row -> Start: 2025-04-09 09:45:00, End: 2025-04-10 05:21:00\n",
      "DEBUG: Total Duration (minutes): 1176.0, Total Quantity: 25500.0\n",
      "DEBUG: duration_today = 855.0, quantity_today = 18539.54081632653\n",
      "DEBUG: duration_today = 321.0, quantity_today = 6960.459183673469\n",
      "\n",
      "DEBUG: Processing Row -> Start: 2025-04-09 10:00:00, End: 2025-04-10 05:11:00\n",
      "DEBUG: Total Duration (minutes): 1151.0, Total Quantity: 25000.0\n",
      "DEBUG: duration_today = 840.0, quantity_today = 18245.004344048655\n",
      "DEBUG: duration_today = 311.0, quantity_today = 6754.9956559513475\n",
      "\n",
      "DEBUG: Processing Row -> Start: 2025-04-09 12:00:00, End: 2025-04-13 23:59:00\n",
      "DEBUG: Total Duration (minutes): 6479.0, Total Quantity: 208623.796875\n",
      "DEBUG: duration_today = 720.0, quantity_today = 23183.999652724186\n",
      "DEBUG: duration_today = 1440.0, quantity_today = 46367.99930544837\n",
      "DEBUG: duration_today = 1440.0, quantity_today = 46367.99930544837\n",
      "DEBUG: duration_today = 1440.0, quantity_today = 46367.99930544837\n",
      "DEBUG: duration_today = 1439.0, quantity_today = 46335.7993059307\n",
      "\n",
      "DEBUG: Processing Row -> Start: 2025-04-09 13:45:00, End: 2025-04-10 05:00:00\n",
      "DEBUG: Total Duration (minutes): 915.0, Total Quantity: 55586.25\n",
      "DEBUG: duration_today = 615.0, quantity_today = 37361.25\n",
      "DEBUG: duration_today = 300.0, quantity_today = 18225.0\n",
      "\n",
      "DEBUG: Processing Row -> Start: 2025-04-09 13:45:00, End: 2025-04-10 05:55:00\n",
      "DEBUG: Total Duration (minutes): 970.0, Total Quantity: 20000.0\n",
      "DEBUG: duration_today = 615.0, quantity_today = 12680.41237113402\n",
      "DEBUG: duration_today = 355.0, quantity_today = 7319.587628865979\n",
      "\n",
      "DEBUG: Processing Row -> Start: 2025-04-09 14:00:00, End: 2025-04-10 14:00:00\n",
      "DEBUG: Total Duration (minutes): 1440.0, Total Quantity: 15288.0\n",
      "DEBUG: duration_today = 600.0, quantity_today = 6370.0\n",
      "DEBUG: duration_today = 840.0, quantity_today = 8918.0\n",
      "\n",
      "DEBUG: Processing Row -> Start: 2025-04-09 14:07:00, End: 2025-04-10 09:30:00\n",
      "DEBUG: Total Duration (minutes): 1163.0, Total Quantity: 10080.0\n",
      "DEBUG: duration_today = 593.0, quantity_today = 5139.673258813414\n",
      "DEBUG: duration_today = 570.0, quantity_today = 4940.326741186586\n",
      "\n",
      "DEBUG: Processing Row -> Start: 2025-04-09 14:30:00, End: 2025-04-10 05:44:00\n",
      "DEBUG: Total Duration (minutes): 914.0, Total Quantity: 20086.0\n",
      "DEBUG: duration_today = 570.0, quantity_today = 12526.280087527353\n",
      "DEBUG: duration_today = 344.0, quantity_today = 7559.719912472648\n",
      "\n",
      "DEBUG: Processing Row -> Start: 2025-04-09 14:43:00, End: 2025-04-10 01:08:00\n",
      "DEBUG: Total Duration (minutes): 625.0, Total Quantity: 12502.201172\n",
      "DEBUG: duration_today = 557.0, quantity_today = 11141.9616844864\n",
      "DEBUG: duration_today = 68.0, quantity_today = 1360.2394875136\n"
     ]
    },
    {
     "name": "stdout",
     "output_type": "stream",
     "text": [
      "\n",
      "DEBUG: Processing Row -> Start: 2025-04-09 15:40:00, End: 2025-04-10 16:45:00\n",
      "DEBUG: Total Duration (minutes): 1505.0, Total Quantity: 33011.0\n",
      "DEBUG: duration_today = 500.0, quantity_today = 10967.109634551496\n",
      "DEBUG: duration_today = 1005.0, quantity_today = 22043.890365448508\n",
      "\n",
      "DEBUG: Processing Row -> Start: 2025-04-09 16:32:00, End: 2025-04-10 09:11:00\n",
      "DEBUG: Total Duration (minutes): 999.0, Total Quantity: 20161.0\n",
      "DEBUG: duration_today = 448.0, quantity_today = 9041.169169169169\n",
      "DEBUG: duration_today = 551.0, quantity_today = 11119.830830830831\n",
      "\n",
      "DEBUG: Processing Row -> Start: 2025-04-09 16:45:00, End: 2025-04-10 02:44:00\n",
      "DEBUG: Total Duration (minutes): 599.0, Total Quantity: 13944.0\n",
      "DEBUG: duration_today = 435.0, quantity_today = 10126.27712854758\n",
      "DEBUG: duration_today = 164.0, quantity_today = 3817.722871452421\n",
      "\n",
      "DEBUG: Processing Row -> Start: 2025-04-09 17:00:00, End: 2025-04-11 07:32:00\n",
      "DEBUG: Total Duration (minutes): 2312.0, Total Quantity: 109092.890625\n",
      "DEBUG: duration_today = 420.0, quantity_today = 19817.912656790657\n",
      "DEBUG: duration_today = 1440.0, quantity_today = 67947.12910899654\n",
      "DEBUG: duration_today = 452.0, quantity_today = 21327.8488592128\n",
      "\n",
      "DEBUG: Processing Row -> Start: 2025-04-09 17:49:00, End: 2025-04-10 16:01:00\n",
      "DEBUG: Total Duration (minutes): 1332.0, Total Quantity: 28431.373047\n",
      "DEBUG: duration_today = 371.0, quantity_today = 7918.948498826578\n",
      "DEBUG: duration_today = 961.0, quantity_today = 20512.424548173425\n",
      "\n",
      "DEBUG: Processing Row -> Start: 2025-04-09 17:52:00, End: 2025-04-10 05:53:00\n",
      "DEBUG: Total Duration (minutes): 721.0, Total Quantity: 17500.0\n",
      "DEBUG: duration_today = 368.0, quantity_today = 8932.038834951456\n",
      "DEBUG: duration_today = 353.0, quantity_today = 8567.961165048544\n",
      "\n",
      "DEBUG: Processing Row -> Start: 2025-04-09 18:13:00, End: 2025-04-10 14:00:00\n",
      "DEBUG: Total Duration (minutes): 1187.0, Total Quantity: 8457.375\n",
      "DEBUG: duration_today = 347.0, quantity_today = 2472.375\n",
      "DEBUG: duration_today = 840.0, quantity_today = 5985.0\n",
      "\n",
      "DEBUG: Processing Row -> Start: 2025-04-09 18:15:00, End: 2025-04-10 05:13:00\n",
      "DEBUG: Total Duration (minutes): 658.0, Total Quantity: 13500.0\n",
      "DEBUG: duration_today = 345.0, quantity_today = 7078.267477203647\n",
      "DEBUG: duration_today = 313.0, quantity_today = 6421.732522796353\n",
      "\n",
      "DEBUG: Processing Row -> Start: 2025-04-09 18:31:00, End: 2025-04-10 09:34:00\n",
      "DEBUG: Total Duration (minutes): 903.0, Total Quantity: 31613.0\n",
      "DEBUG: duration_today = 329.0, quantity_today = 11517.91472868217\n",
      "DEBUG: duration_today = 574.0, quantity_today = 20095.08527131783\n",
      "\n",
      "DEBUG: Processing Row -> Start: 2025-04-09 18:48:00, End: 2025-04-10 11:15:00\n",
      "DEBUG: Total Duration (minutes): 987.0, Total Quantity: 25253.0\n",
      "DEBUG: duration_today = 312.0, quantity_today = 7982.711246200608\n",
      "DEBUG: duration_today = 675.0, quantity_today = 17270.288753799392\n",
      "\n",
      "DEBUG: Processing Row -> Start: 2025-04-09 19:00:00, End: 2025-04-10 14:00:00\n",
      "DEBUG: Total Duration (minutes): 1140.0, Total Quantity: 57000.0\n",
      "DEBUG: duration_today = 300.0, quantity_today = 15000.0\n",
      "DEBUG: duration_today = 840.0, quantity_today = 42000.0\n",
      "\n",
      "DEBUG: Processing Row -> Start: 2025-04-09 20:01:00, End: 2025-04-10 05:29:00\n",
      "DEBUG: Total Duration (minutes): 568.0, Total Quantity: 7900.0\n",
      "DEBUG: duration_today = 239.0, quantity_today = 3324.1197183098593\n",
      "DEBUG: duration_today = 329.0, quantity_today = 4575.880281690141\n",
      "\n",
      "DEBUG: Processing Row -> Start: 2025-04-09 21:34:00, End: 2025-04-10 04:43:00\n",
      "DEBUG: Total Duration (minutes): 429.0, Total Quantity: 2469.565186\n",
      "DEBUG: duration_today = 146.0, quantity_today = 840.4580819487179\n",
      "DEBUG: duration_today = 283.0, quantity_today = 1629.1071040512818\n",
      "\n",
      "DEBUG: Processing Row -> Start: 2025-04-09 22:00:00, End: 2025-04-10 00:44:00\n",
      "DEBUG: Total Duration (minutes): 164.0, Total Quantity: 2000.166626\n",
      "DEBUG: duration_today = 120.0, quantity_today = 1463.536555609756\n",
      "DEBUG: duration_today = 44.0, quantity_today = 536.6300703902439\n",
      "\n",
      "DEBUG: Processing Row -> Start: 2025-04-09 22:55:00, End: 2025-04-10 01:14:00\n",
      "DEBUG: Total Duration (minutes): 139.0, Total Quantity: 1000.0\n",
      "DEBUG: duration_today = 65.0, quantity_today = 467.62589928057554\n",
      "DEBUG: duration_today = 74.0, quantity_today = 532.3741007194245\n",
      "\n",
      "DEBUG: Processing Row -> Start: 2025-04-09 23:00:00, End: 2025-04-10 09:00:00\n",
      "DEBUG: Total Duration (minutes): 600.0, Total Quantity: 39480.0\n",
      "DEBUG: duration_today = 60.0, quantity_today = 3948.0\n",
      "DEBUG: duration_today = 540.0, quantity_today = 35532.0\n",
      "\n",
      "DEBUG: Processing Row -> Start: 2025-04-09 23:03:00, End: 2025-04-10 10:51:00\n",
      "DEBUG: Total Duration (minutes): 708.0, Total Quantity: 9917.536133\n",
      "DEBUG: duration_today = 57.0, quantity_today = 798.4457056228813\n",
      "DEBUG: duration_today = 651.0, quantity_today = 9119.090427377118\n",
      "\n",
      "DEBUG: Processing Row -> Start: 2025-04-09 23:07:00, End: 2025-04-10 00:22:00\n",
      "DEBUG: Total Duration (minutes): 75.0, Total Quantity: 1000.0\n",
      "DEBUG: duration_today = 53.0, quantity_today = 706.6666666666666\n",
      "DEBUG: duration_today = 22.0, quantity_today = 293.3333333333333\n",
      "\n",
      "DEBUG: Processing Row -> Start: 2025-04-09 23:21:00, End: 2025-04-10 06:03:00\n",
      "DEBUG: Total Duration (minutes): 402.0, Total Quantity: 9000.0\n",
      "DEBUG: duration_today = 39.0, quantity_today = 873.134328358209\n",
      "DEBUG: duration_today = 363.0, quantity_today = 8126.865671641792\n",
      "\n",
      "DEBUG: Processing Row -> Start: 2025-04-09 23:58:00, End: 2025-04-10 02:14:00\n",
      "DEBUG: Total Duration (minutes): 136.0, Total Quantity: 833.0\n",
      "DEBUG: duration_today = 2.0, quantity_today = 12.25\n",
      "DEBUG: duration_today = 134.0, quantity_today = 820.75\n",
      "\n",
      "DEBUG: Processing Row -> Start: 2025-04-10 05:45:00, End: 2025-04-11 05:10:00\n",
      "DEBUG: Total Duration (minutes): 1405.0, Total Quantity: 28500.0\n",
      "DEBUG: duration_today = 1095.0, quantity_today = 22211.743772241993\n",
      "DEBUG: duration_today = 310.0, quantity_today = 6288.256227758007\n",
      "\n",
      "DEBUG: Processing Row -> Start: 2025-04-10 06:00:00, End: 2025-04-11 03:31:00\n",
      "DEBUG: Total Duration (minutes): 1291.0, Total Quantity: 52000.0\n",
      "DEBUG: duration_today = 1080.0, quantity_today = 43501.161890007745\n",
      "DEBUG: duration_today = 211.0, quantity_today = 8498.838109992254\n",
      "\n",
      "DEBUG: Processing Row -> Start: 2025-04-10 06:00:00, End: 2025-04-11 03:25:00\n",
      "DEBUG: Total Duration (minutes): 1285.0, Total Quantity: 26000.0\n",
      "DEBUG: duration_today = 1080.0, quantity_today = 21852.14007782101\n",
      "DEBUG: duration_today = 205.0, quantity_today = 4147.859922178988\n",
      "\n",
      "DEBUG: Processing Row -> Start: 2025-04-10 06:00:00, End: 2025-04-11 03:33:00\n",
      "DEBUG: Total Duration (minutes): 1293.0, Total Quantity: 16000.0\n",
      "DEBUG: duration_today = 1080.0, quantity_today = 13364.269141531322\n",
      "DEBUG: duration_today = 213.0, quantity_today = 2635.7308584686775\n",
      "\n",
      "DEBUG: Processing Row -> Start: 2025-04-10 06:00:00, End: 2025-04-11 05:27:00\n",
      "DEBUG: Total Duration (minutes): 1407.0, Total Quantity: 29000.0\n",
      "DEBUG: duration_today = 1080.0, quantity_today = 22260.127931769723\n",
      "DEBUG: duration_today = 327.0, quantity_today = 6739.872068230277\n",
      "\n",
      "DEBUG: Processing Row -> Start: 2025-04-10 06:00:00, End: 2025-04-11 05:04:00\n",
      "DEBUG: Total Duration (minutes): 1384.0, Total Quantity: 29000.0\n",
      "DEBUG: duration_today = 1080.0, quantity_today = 22630.057803468208\n",
      "DEBUG: duration_today = 304.0, quantity_today = 6369.9421965317915\n",
      "\n",
      "DEBUG: Processing Row -> Start: 2025-04-10 06:00:00, End: 2025-04-11 05:28:00\n",
      "DEBUG: Total Duration (minutes): 1408.0, Total Quantity: 31500.0\n",
      "DEBUG: duration_today = 1080.0, quantity_today = 24161.93181818182\n",
      "DEBUG: duration_today = 328.0, quantity_today = 7338.068181818181\n",
      "\n",
      "DEBUG: Processing Row -> Start: 2025-04-10 06:00:00, End: 2025-04-11 05:21:00\n",
      "DEBUG: Total Duration (minutes): 1401.0, Total Quantity: 34000.0\n",
      "DEBUG: duration_today = 1080.0, quantity_today = 26209.850107066384\n",
      "DEBUG: duration_today = 321.0, quantity_today = 7790.149892933619\n",
      "\n",
      "DEBUG: Processing Row -> Start: 2025-04-10 06:13:00, End: 2025-04-11 12:42:00\n",
      "DEBUG: Total Duration (minutes): 1829.0, Total Quantity: 10519.0\n",
      "DEBUG: duration_today = 1067.0, quantity_today = 6136.562602515036\n",
      "DEBUG: duration_today = 762.0, quantity_today = 4382.437397484964\n",
      "\n",
      "DEBUG: Processing Row -> Start: 2025-04-10 11:51:00, End: 2025-04-11 01:10:00\n",
      "DEBUG: Total Duration (minutes): 799.0, Total Quantity: 11901.042969\n",
      "DEBUG: duration_today = 729.0, quantity_today = 10858.398403505633\n",
      "DEBUG: duration_today = 70.0, quantity_today = 1042.644565494368\n",
      "\n",
      "DEBUG: Processing Row -> Start: 2025-04-10 12:30:00, End: 2025-04-11 07:26:00\n",
      "DEBUG: Total Duration (minutes): 1136.0, Total Quantity: 22727.0\n",
      "DEBUG: duration_today = 690.0, quantity_today = 13804.25176056338\n",
      "DEBUG: duration_today = 446.0, quantity_today = 8922.74823943662\n",
      "\n",
      "DEBUG: Processing Row -> Start: 2025-04-10 13:31:00, End: 2025-04-11 00:40:00\n",
      "DEBUG: Total Duration (minutes): 669.0, Total Quantity: 4800.0\n",
      "DEBUG: duration_today = 629.0, quantity_today = 4513.004484304933\n",
      "DEBUG: duration_today = 40.0, quantity_today = 286.99551569506724\n",
      "\n",
      "DEBUG: Processing Row -> Start: 2025-04-10 14:00:00, End: 2025-04-11 05:46:00\n",
      "DEBUG: Total Duration (minutes): 946.0, Total Quantity: 20500.0\n",
      "DEBUG: duration_today = 600.0, quantity_today = 13002.114164904862\n",
      "DEBUG: duration_today = 346.0, quantity_today = 7497.885835095137\n",
      "\n",
      "DEBUG: Processing Row -> Start: 2025-04-10 15:00:00, End: 2025-04-11 03:03:00\n",
      "DEBUG: Total Duration (minutes): 723.0, Total Quantity: 43926.75\n",
      "DEBUG: duration_today = 540.0, quantity_today = 32808.36099585062\n",
      "DEBUG: duration_today = 183.0, quantity_today = 11118.389004149378\n",
      "\n",
      "DEBUG: Processing Row -> Start: 2025-04-10 15:00:00, End: 2025-04-12 02:11:00\n",
      "DEBUG: Total Duration (minutes): 2111.0, Total Quantity: 1266.800049\n",
      "DEBUG: duration_today = 540.0, quantity_today = 324.05117312174326\n",
      "DEBUG: duration_today = 1440.0, quantity_today = 864.136461657982\n",
      "DEBUG: duration_today = 131.0, quantity_today = 78.61241422027474\n",
      "\n",
      "DEBUG: Processing Row -> Start: 2025-04-10 15:00:00, End: 2025-04-12 06:17:00\n",
      "DEBUG: Total Duration (minutes): 2357.0, Total Quantity: 16795.625\n",
      "DEBUG: duration_today = 540.0, quantity_today = 3847.95820958846\n",
      "DEBUG: duration_today = 1440.0, quantity_today = 10261.221892235893\n",
      "DEBUG: duration_today = 377.0, quantity_today = 2686.444898175647\n",
      "\n",
      "DEBUG: Processing Row -> Start: 2025-04-10 15:00:00, End: 2025-04-11 05:00:00\n",
      "DEBUG: Total Duration (minutes): 840.0, Total Quantity: 25200.0\n",
      "DEBUG: duration_today = 540.0, quantity_today = 16200.000000000002\n",
      "DEBUG: duration_today = 300.0, quantity_today = 9000.0\n",
      "\n",
      "DEBUG: Processing Row -> Start: 2025-04-10 15:34:00, End: 2025-04-13 23:59:00\n",
      "DEBUG: Total Duration (minutes): 4825.0, Total Quantity: 209083.328125\n",
      "DEBUG: duration_today = 506.0, quantity_today = 21926.66612046632\n",
      "DEBUG: duration_today = 1440.0, quantity_today = 62399.99844559585\n",
      "DEBUG: duration_today = 1440.0, quantity_today = 62399.99844559585\n",
      "DEBUG: duration_today = 1439.0, quantity_today = 62356.665113341965\n",
      "\n",
      "DEBUG: Processing Row -> Start: 2025-04-10 16:58:00, End: 2025-04-11 01:13:00\n",
      "DEBUG: Total Duration (minutes): 495.0, Total Quantity: 4380.0\n",
      "DEBUG: duration_today = 422.0, quantity_today = 3734.0606060606065\n",
      "DEBUG: duration_today = 73.0, quantity_today = 645.939393939394\n",
      "\n",
      "DEBUG: Processing Row -> Start: 2025-04-10 17:00:00, End: 2025-04-12 02:16:00\n",
      "DEBUG: Total Duration (minutes): 1996.0, Total Quantity: 122289.25\n",
      "DEBUG: duration_today = 420.0, quantity_today = 25732.206913827653\n",
      "DEBUG: duration_today = 1440.0, quantity_today = 88224.70941883768\n",
      "DEBUG: duration_today = 136.0, quantity_today = 8332.33366733467\n",
      "\n",
      "DEBUG: Processing Row -> Start: 2025-04-10 17:00:00, End: 2025-04-11 05:16:00\n",
      "DEBUG: Total Duration (minutes): 736.0, Total Quantity: 16000.0\n",
      "DEBUG: duration_today = 420.0, quantity_today = 9130.434782608696\n",
      "DEBUG: duration_today = 316.0, quantity_today = 6869.565217391305\n",
      "\n",
      "DEBUG: Processing Row -> Start: 2025-04-10 18:00:00, End: 2025-04-11 02:58:00\n",
      "DEBUG: Total Duration (minutes): 538.0, Total Quantity: 11815.0\n",
      "DEBUG: duration_today = 360.0, quantity_today = 7905.947955390335\n",
      "DEBUG: duration_today = 178.0, quantity_today = 3909.0520446096657\n",
      "\n",
      "DEBUG: Processing Row -> Start: 2025-04-10 18:26:00, End: 2025-04-11 03:50:00\n",
      "DEBUG: Total Duration (minutes): 564.0, Total Quantity: 3000.0\n",
      "DEBUG: duration_today = 334.0, quantity_today = 1776.595744680851\n",
      "DEBUG: duration_today = 230.0, quantity_today = 1223.404255319149\n",
      "\n",
      "DEBUG: Processing Row -> Start: 2025-04-10 18:39:00, End: 2025-04-11 01:44:00\n",
      "DEBUG: Total Duration (minutes): 425.0, Total Quantity: 14876.303711\n",
      "DEBUG: duration_today = 321.0, quantity_today = 11235.984685249412\n",
      "DEBUG: duration_today = 104.0, quantity_today = 3640.3190257505885\n",
      "\n",
      "DEBUG: Processing Row -> Start: 2025-04-10 19:01:00, End: 2025-04-12 01:47:00\n",
      "DEBUG: Total Duration (minutes): 1846.0, Total Quantity: 47385.621094\n",
      "DEBUG: duration_today = 299.0, quantity_today = 7675.135811000001\n",
      "DEBUG: duration_today = 1440.0, quantity_today = 36963.864775384616\n",
      "DEBUG: duration_today = 107.0, quantity_today = 2746.6205076153847\n",
      "\n",
      "DEBUG: Processing Row -> Start: 2025-04-10 19:16:00, End: 2025-04-11 05:32:00\n",
      "DEBUG: Total Duration (minutes): 616.0, Total Quantity: 11939.0\n",
      "DEBUG: duration_today = 284.0, quantity_today = 5504.3441558441555\n",
      "DEBUG: duration_today = 332.0, quantity_today = 6434.6558441558445\n",
      "\n",
      "DEBUG: Processing Row -> Start: 2025-04-10 20:03:00, End: 2025-04-11 01:18:00\n",
      "DEBUG: Total Duration (minutes): 315.0, Total Quantity: 29744.0\n",
      "DEBUG: duration_today = 237.0, quantity_today = 22378.819047619047\n",
      "DEBUG: duration_today = 78.0, quantity_today = 7365.1809523809525\n",
      "\n",
      "DEBUG: Processing Row -> Start: 2025-04-10 21:47:00, End: 2025-04-11 05:19:00\n",
      "DEBUG: Total Duration (minutes): 452.0, Total Quantity: 10000.0\n",
      "DEBUG: duration_today = 133.0, quantity_today = 2942.477876106195\n",
      "DEBUG: duration_today = 319.0, quantity_today = 7057.522123893806\n",
      "\n",
      "DEBUG: Processing Row -> Start: 2025-04-10 21:58:00, End: 2025-04-11 02:41:00\n",
      "DEBUG: Total Duration (minutes): 283.0, Total Quantity: 6374.0\n",
      "DEBUG: duration_today = 122.0, quantity_today = 2747.802120141343\n",
      "DEBUG: duration_today = 161.0, quantity_today = 3626.1978798586574\n",
      "\n",
      "DEBUG: Processing Row -> Start: 2025-04-10 22:00:00, End: 2025-04-11 04:56:00\n",
      "DEBUG: Total Duration (minutes): 416.0, Total Quantity: 2500.0\n",
      "DEBUG: duration_today = 120.0, quantity_today = 721.1538461538461\n",
      "DEBUG: duration_today = 296.0, quantity_today = 1778.8461538461538\n",
      "\n",
      "DEBUG: Processing Row -> Start: 2025-04-10 22:04:00, End: 2025-04-11 03:33:00\n",
      "DEBUG: Total Duration (minutes): 329.0, Total Quantity: 11003.0\n",
      "DEBUG: duration_today = 116.0, quantity_today = 3879.4772036474164\n",
      "DEBUG: duration_today = 213.0, quantity_today = 7123.522796352583\n",
      "\n",
      "DEBUG: Processing Row -> Start: 2025-04-10 22:05:00, End: 2025-04-11 03:34:00\n",
      "DEBUG: Total Duration (minutes): 329.0, Total Quantity: 11004.0\n",
      "DEBUG: duration_today = 115.0, quantity_today = 3846.3829787234044\n",
      "DEBUG: duration_today = 214.0, quantity_today = 7157.6170212765965\n",
      "\n",
      "DEBUG: Processing Row -> Start: 2025-04-10 22:29:00, End: 2025-04-11 06:58:00\n",
      "DEBUG: Total Duration (minutes): 509.0, Total Quantity: 4418.016113\n",
      "DEBUG: duration_today = 91.0, quantity_today = 789.8614268821218\n",
      "DEBUG: duration_today = 418.0, quantity_today = 3628.1546861178776\n",
      "\n",
      "DEBUG: Processing Row -> Start: 2025-04-10 22:49:00, End: 2025-04-11 20:41:00\n",
      "DEBUG: Total Duration (minutes): 1312.0, Total Quantity: 50324.0\n",
      "DEBUG: duration_today = 71.0, quantity_today = 2723.326219512195\n",
      "DEBUG: duration_today = 1241.0, quantity_today = 47600.67378048781\n",
      "\n",
      "DEBUG: Processing Row -> Start: 2025-04-11 02:17:00, End: 2025-04-12 02:11:00\n",
      "DEBUG: Total Duration (minutes): 1434.0, Total Quantity: 19607.84375\n",
      "DEBUG: duration_today = 1303.0, quantity_today = 17816.611161959554\n",
      "DEBUG: duration_today = 131.0, quantity_today = 1791.2325880404464\n",
      "\n",
      "DEBUG: Processing Row -> Start: 2025-04-11 06:00:00, End: 2025-04-12 03:33:00\n",
      "DEBUG: Total Duration (minutes): 1293.0, Total Quantity: 16000.0\n",
      "DEBUG: duration_today = 1080.0, quantity_today = 13364.269141531322\n",
      "DEBUG: duration_today = 213.0, quantity_today = 2635.7308584686775\n",
      "\n",
      "DEBUG: Processing Row -> Start: 2025-04-11 06:00:00, End: 2025-04-12 04:15:00\n",
      "DEBUG: Total Duration (minutes): 1335.0, Total Quantity: 29000.0\n",
      "DEBUG: duration_today = 1080.0, quantity_today = 23460.67415730337\n",
      "DEBUG: duration_today = 255.0, quantity_today = 5539.3258426966295\n",
      "\n",
      "DEBUG: Processing Row -> Start: 2025-04-11 06:00:00, End: 2025-04-12 05:27:00\n",
      "DEBUG: Total Duration (minutes): 1407.0, Total Quantity: 29000.0\n",
      "DEBUG: duration_today = 1080.0, quantity_today = 22260.127931769723\n",
      "DEBUG: duration_today = 327.0, quantity_today = 6739.872068230277\n",
      "\n",
      "DEBUG: Processing Row -> Start: 2025-04-11 06:00:00, End: 2025-04-12 05:25:00\n",
      "DEBUG: Total Duration (minutes): 1405.0, Total Quantity: 28500.0\n",
      "DEBUG: duration_today = 1080.0, quantity_today = 21907.47330960854\n",
      "DEBUG: duration_today = 325.0, quantity_today = 6592.526690391459\n",
      "\n",
      "DEBUG: Processing Row -> Start: 2025-04-11 06:00:00, End: 2025-04-12 05:27:00\n",
      "DEBUG: Total Duration (minutes): 1407.0, Total Quantity: 30500.0\n",
      "DEBUG: duration_today = 1080.0, quantity_today = 23411.513859275055\n",
      "DEBUG: duration_today = 327.0, quantity_today = 7088.486140724946\n",
      "\n",
      "DEBUG: Processing Row -> Start: 2025-04-11 08:32:00, End: 2025-04-12 05:02:00\n",
      "DEBUG: Total Duration (minutes): 1230.0, Total Quantity: 32727.867188\n",
      "DEBUG: duration_today = 928.0, quantity_today = 24692.24451257236\n",
      "DEBUG: duration_today = 302.0, quantity_today = 8035.622675427642\n",
      "\n",
      "DEBUG: Processing Row -> Start: 2025-04-11 08:56:00, End: 2025-04-13 01:20:00\n",
      "DEBUG: Total Duration (minutes): 2424.0, Total Quantity: 50505.0\n",
      "DEBUG: duration_today = 904.0, quantity_today = 18835.19801980198\n",
      "DEBUG: duration_today = 1440.0, quantity_today = 30002.9702970297\n",
      "DEBUG: duration_today = 80.0, quantity_today = 1666.8316831683167\n",
      "\n",
      "DEBUG: Processing Row -> Start: 2025-04-11 08:59:00, End: 2025-04-12 09:27:00\n",
      "DEBUG: Total Duration (minutes): 1468.0, Total Quantity: 28409.0\n",
      "DEBUG: duration_today = 901.0, quantity_today = 17436.314032697548\n",
      "DEBUG: duration_today = 567.0, quantity_today = 10972.685967302452\n",
      "\n",
      "DEBUG: Processing Row -> Start: 2025-04-11 14:20:00, End: 2025-04-13 07:53:00\n",
      "DEBUG: Total Duration (minutes): 2493.0, Total Quantity: 74790.0\n",
      "DEBUG: duration_today = 580.0, quantity_today = 17400.0\n",
      "DEBUG: duration_today = 1440.0, quantity_today = 43200.0\n",
      "DEBUG: duration_today = 473.0, quantity_today = 14190.0\n",
      "\n",
      "DEBUG: Processing Row -> Start: 2025-04-11 14:41:00, End: 2025-04-12 15:46:00\n",
      "DEBUG: Total Duration (minutes): 1505.0, Total Quantity: 33011.0\n",
      "DEBUG: duration_today = 559.0, quantity_today = 12261.228571428572\n",
      "DEBUG: duration_today = 946.0, quantity_today = 20749.77142857143\n",
      "\n",
      "DEBUG: Processing Row -> Start: 2025-04-11 14:56:00, End: 2025-04-13 23:59:00\n",
      "DEBUG: Total Duration (minutes): 3423.0, Total Quantity: 108395.0\n",
      "DEBUG: duration_today = 544.0, quantity_today = 17226.666666666668\n",
      "DEBUG: duration_today = 1440.0, quantity_today = 45600.0\n",
      "DEBUG: duration_today = 1439.0, quantity_today = 45568.333333333336\n",
      "\n",
      "DEBUG: Processing Row -> Start: 2025-04-11 15:14:00, End: 2025-04-13 17:09:00\n",
      "DEBUG: Total Duration (minutes): 2995.0, Total Quantity: 98636.0\n",
      "DEBUG: duration_today = 526.0, quantity_today = 17323.05041736227\n",
      "DEBUG: duration_today = 1440.0, quantity_today = 47424.320534223705\n",
      "DEBUG: duration_today = 1029.0, quantity_today = 33888.62904841402\n",
      "\n",
      "DEBUG: Processing Row -> Start: 2025-04-11 16:00:00, End: 2025-04-12 04:21:00\n",
      "DEBUG: Total Duration (minutes): 741.0, Total Quantity: 15000.0\n",
      "DEBUG: duration_today = 480.0, quantity_today = 9716.599190283401\n",
      "DEBUG: duration_today = 261.0, quantity_today = 5283.400809716599\n",
      "\n",
      "DEBUG: Processing Row -> Start: 2025-04-11 18:36:00, End: 2025-04-14 02:44:00\n",
      "DEBUG: Total Duration (minutes): 3368.0, Total Quantity: 218095.0\n",
      "DEBUG: duration_today = 324.0, quantity_today = 20980.635391923992\n",
      "DEBUG: duration_today = 1440.0, quantity_today = 93247.26840855107\n",
      "DEBUG: duration_today = 1440.0, quantity_today = 93247.26840855107\n",
      "DEBUG: duration_today = 164.0, quantity_today = 10619.827790973872\n",
      "\n",
      "DEBUG: Processing Row -> Start: 2025-04-11 18:59:00, End: 2025-04-12 04:53:00\n",
      "DEBUG: Total Duration (minutes): 594.0, Total Quantity: 12889.0\n",
      "DEBUG: duration_today = 301.0, quantity_today = 6531.2946127946125\n",
      "DEBUG: duration_today = 293.0, quantity_today = 6357.705387205387\n",
      "\n",
      "DEBUG: Processing Row -> Start: 2025-04-11 19:28:00, End: 2025-04-12 14:29:00\n",
      "DEBUG: Total Duration (minutes): 1141.0, Total Quantity: 29100.0\n",
      "DEBUG: duration_today = 272.0, quantity_today = 6937.072743207712\n",
      "DEBUG: duration_today = 869.0, quantity_today = 22162.927256792285\n",
      "\n",
      "DEBUG: Processing Row -> Start: 2025-04-11 19:48:00, End: 2025-04-12 00:41:00\n",
      "DEBUG: Total Duration (minutes): 293.0, Total Quantity: 7190.0\n",
      "DEBUG: duration_today = 252.0, quantity_today = 6183.890784982936\n",
      "DEBUG: duration_today = 41.0, quantity_today = 1006.1092150170648\n",
      "\n",
      "DEBUG: Processing Row -> Start: 2025-04-11 21:00:00, End: 2025-04-12 05:33:00\n",
      "DEBUG: Total Duration (minutes): 513.0, Total Quantity: 4450.0\n",
      "DEBUG: duration_today = 180.0, quantity_today = 1561.4035087719296\n",
      "DEBUG: duration_today = 333.0, quantity_today = 2888.59649122807\n",
      "\n",
      "DEBUG: Processing Row -> Start: 2025-04-11 21:45:00, End: 2025-04-13 04:36:00\n",
      "DEBUG: Total Duration (minutes): 1851.0, Total Quantity: 25267.0\n",
      "DEBUG: duration_today = 135.0, quantity_today = 1842.8119935170178\n",
      "DEBUG: duration_today = 1440.0, quantity_today = 19656.661264181523\n",
      "DEBUG: duration_today = 276.0, quantity_today = 3767.5267423014584\n",
      "\n",
      "DEBUG: Processing Row -> Start: 2025-04-11 22:01:00, End: 2025-04-13 13:25:00\n",
      "DEBUG: Total Duration (minutes): 2364.0, Total Quantity: 56800.0\n",
      "DEBUG: duration_today = 119.0, quantity_today = 2859.2216582064298\n",
      "DEBUG: duration_today = 1440.0, quantity_today = 34598.98477157361\n",
      "DEBUG: duration_today = 805.0, quantity_today = 19341.79357021997\n",
      "\n",
      "DEBUG: Processing Row -> Start: 2025-04-11 22:36:00, End: 2025-04-12 05:17:00\n",
      "DEBUG: Total Duration (minutes): 401.0, Total Quantity: 21307.0\n",
      "DEBUG: duration_today = 84.0, quantity_today = 4463.311720698254\n",
      "DEBUG: duration_today = 317.0, quantity_today = 16843.688279301743\n",
      "\n",
      "DEBUG: Processing Row -> Start: 2025-04-11 23:49:00, End: 2025-04-13 05:32:00\n",
      "DEBUG: Total Duration (minutes): 1783.0, Total Quantity: 56818.0\n",
      "DEBUG: duration_today = 11.0, quantity_today = 350.5316881660124\n",
      "DEBUG: duration_today = 1440.0, quantity_today = 45887.78463264162\n",
      "DEBUG: duration_today = 332.0, quantity_today = 10579.683679192372\n"
     ]
    }
   ],
   "source": [
    "import pandas as pd\n",
    "from datetime import datetime, timedelta\n",
    "\n",
    "def split_rows_adjusted(df):\n",
    "    \"\"\"\n",
    "    Function to split multi-day production into multiple rows\n",
    "    and allocate quantity proportionally using the existing 'duration' column.\n",
    "    \"\"\"\n",
    "    new_rows = []\n",
    "\n",
    "    for _, row in df.iterrows():\n",
    "        start_ts = row[\"start_inflow_ts\"]\n",
    "        end_ts = row[\"end_outflow_ts\"]\n",
    "        total_duration = row[\"duration\"]  # Use given duration column\n",
    "        total_quantity = row[\"quantity\"]\n",
    "\n",
    "        # Debugging Print Statements\n",
    "        print(f\"\\nDEBUG: Processing Row -> Start: {start_ts}, End: {end_ts}\")\n",
    "        print(f\"DEBUG: Total Duration (minutes): {total_duration}, Total Quantity: {total_quantity}\")\n",
    "\n",
    "        # Ensure total_duration is positive\n",
    "        if total_duration <= 0:\n",
    "            print(f\"Warning: Invalid duration detected for row: {row}\")\n",
    "            continue\n",
    "\n",
    "        current_ts = start_ts\n",
    "        allocated_quantity = 0  # Track allocated quantity for correction\n",
    "\n",
    "        while current_ts < end_ts:\n",
    "            midnight_ts = datetime.combine(current_ts.date() + timedelta(days=1), datetime.min.time())\n",
    "\n",
    "            # Determine the end time for the current row\n",
    "            split_end_ts = min(midnight_ts, end_ts)\n",
    "\n",
    "            # Compute the duration for the current row from the 'duration' column\n",
    "            duration_today = (split_end_ts - current_ts).total_seconds() / 60  # Convert to minutes\n",
    "\n",
    "            # Safe Division (Avoid ZeroDivisionError)\n",
    "            quantity_today = (duration_today / max(total_duration, 1e-6)) * total_quantity\n",
    "            allocated_quantity += quantity_today  # Track total allocated quantity\n",
    "\n",
    "            print(f\"DEBUG: duration_today = {duration_today}, quantity_today = {quantity_today}\")\n",
    "\n",
    "            # Append new row\n",
    "            new_rows.append({\n",
    "                \"plant_sk\": row[\"plant_sk\"],\n",
    "                \"material_sk\": row[\"material_sk\"],\n",
    "                \"material_code\": row[\"material_code\"],\n",
    "                \"plant_code\": row[\"plant_code\"],\n",
    "                \"start_inflow_ts\": current_ts,\n",
    "                \"end_outflow_ts\": split_end_ts,\n",
    "                \"duration\": duration_today,\n",
    "                \"quantity\": quantity_today,\n",
    "                \"product_unit\": row[\"product_unit\"],\n",
    "                \"status\": row[\"status\"]\n",
    "            })\n",
    "\n",
    "            # Move to the next segment\n",
    "            current_ts = split_end_ts\n",
    "\n",
    "        # **Apply Correction to Last Row**\n",
    "        quantity_mismatch = total_quantity - allocated_quantity\n",
    "        if abs(quantity_mismatch) > 1e-6:  # If there's a mismatch\n",
    "            new_rows[-1][\"quantity\"] += quantity_mismatch  # Adjust last row to absorb mismatch\n",
    "            print(f\"Correction Applied: Adjusted last row by {quantity_mismatch}\")\n",
    "\n",
    "    return pd.DataFrame(new_rows)\n",
    "\n",
    "# Apply the function\n",
    "df_multi_day_split = split_rows_adjusted(multi_day_production)\n"
   ]
  },
  {
   "cell_type": "markdown",
   "metadata": {},
   "source": [
    "#### Merging one-day and multi-day rows"
   ]
  },
  {
   "cell_type": "code",
   "execution_count": 74,
   "metadata": {
    "execution": {
     "iopub.execute_input": "2025-04-10T07:36:15.812687Z",
     "iopub.status.busy": "2025-04-10T07:36:15.812687Z",
     "iopub.status.idle": "2025-04-10T07:36:15.827668Z",
     "shell.execute_reply": "2025-04-10T07:36:15.827668Z"
    }
   },
   "outputs": [
    {
     "name": "stdout",
     "output_type": "stream",
     "text": [
      "Multi-day production split applied. Final rows: 297\n"
     ]
    }
   ],
   "source": [
    "# Remove original multi-day rows and add the new split rows\n",
    "df_planned_production = df_planned_production.drop(multi_day_production.index).reset_index(drop=True)\n",
    "df_planned_production = pd.concat([df_planned_production, df_multi_day_split], ignore_index=True)\n",
    "\n",
    "print(f\"Multi-day production split applied. Final rows: {len(df_planned_production)}\")\n"
   ]
  },
  {
   "cell_type": "markdown",
   "metadata": {},
   "source": [
    "#### Final saving to planned production"
   ]
  },
  {
   "cell_type": "code",
   "execution_count": 75,
   "metadata": {
    "execution": {
     "iopub.execute_input": "2025-04-10T07:36:15.827668Z",
     "iopub.status.busy": "2025-04-10T07:36:15.827668Z",
     "iopub.status.idle": "2025-04-10T07:36:15.879095Z",
     "shell.execute_reply": "2025-04-10T07:36:15.879095Z"
    }
   },
   "outputs": [
    {
     "name": "stdout",
     "output_type": "stream",
     "text": [
      "Processed Planned Production data saved to ./PRE_PROCESSED_DATA/04. April 2025/10_04_2025 preprocessed data/2025_04_10_13_03_07 preprocessed data/planned_production.csv\n"
     ]
    }
   ],
   "source": [
    "planned_production_path = os.path.join(preprocessed_path, \"planned_production.csv\")\n",
    "df_planned_production.to_csv(planned_production_path, index=False)\n",
    "print(f\"Processed Planned Production data saved to {planned_production_path}\")\n"
   ]
  },
  {
   "cell_type": "markdown",
   "metadata": {},
   "source": [
    "#### Verification of multi-day splits"
   ]
  },
  {
   "cell_type": "code",
   "execution_count": 76,
   "metadata": {
    "execution": {
     "iopub.execute_input": "2025-04-10T07:36:15.882607Z",
     "iopub.status.busy": "2025-04-10T07:36:15.882607Z",
     "iopub.status.idle": "2025-04-10T07:36:15.892903Z",
     "shell.execute_reply": "2025-04-10T07:36:15.892903Z"
    }
   },
   "outputs": [
    {
     "name": "stdout",
     "output_type": "stream",
     "text": [
      "Initial Rows Before Split: 101\n",
      "Final Rows After Split: 297\n"
     ]
    }
   ],
   "source": [
    "# Initial and final row count comparison\n",
    "print(f\"Initial Rows Before Split: {len(multi_day_production)}\")\n",
    "print(f\"Final Rows After Split: {len(df_planned_production)}\")\n"
   ]
  },
  {
   "cell_type": "markdown",
   "metadata": {},
   "source": [
    "#### Verifying start inflow < end outflow"
   ]
  },
  {
   "cell_type": "code",
   "execution_count": 77,
   "metadata": {
    "execution": {
     "iopub.execute_input": "2025-04-10T07:36:15.892903Z",
     "iopub.status.busy": "2025-04-10T07:36:15.892903Z",
     "iopub.status.idle": "2025-04-10T07:36:15.915842Z",
     "shell.execute_reply": "2025-04-10T07:36:15.915842Z"
    }
   },
   "outputs": [
    {
     "name": "stdout",
     "output_type": "stream",
     "text": [
      "All timestamps are correctly ordered.\n"
     ]
    }
   ],
   "source": [
    "# Check if start_inflow_ts is always before end_outflow_ts\n",
    "invalid_timestamps = df_planned_production[df_planned_production[\"start_inflow_ts\"] >= df_planned_production[\"end_outflow_ts\"]]\n",
    "\n",
    "if not invalid_timestamps.empty:\n",
    "    print(\"Found incorrect timestamps after splitting:\")\n",
    "    display(invalid_timestamps)\n",
    "else:\n",
    "    print(\"All timestamps are correctly ordered.\")\n"
   ]
  },
  {
   "cell_type": "markdown",
   "metadata": {},
   "source": [
    "#### Quantity mismatches before and after splits"
   ]
  },
  {
   "cell_type": "code",
   "execution_count": 78,
   "metadata": {
    "execution": {
     "iopub.execute_input": "2025-04-10T07:36:15.915842Z",
     "iopub.status.busy": "2025-04-10T07:36:15.915842Z",
     "iopub.status.idle": "2025-04-10T07:36:15.963583Z",
     "shell.execute_reply": "2025-04-10T07:36:15.962566Z"
    }
   },
   "outputs": [
    {
     "name": "stdout",
     "output_type": "stream",
     "text": [
      "Quantity mismatch detected after rounding:"
     ]
    },
    {
     "name": "stdout",
     "output_type": "stream",
     "text": [
      "\n"
     ]
    },
    {
     "data": {
      "text/plain": [
       "material_sk  plant_sk\n",
       "1667         4766        13000.000000\n",
       "2130         2566        14000.000000\n",
       "2580         2566         5000.000000\n",
       "13443        4766         1700.000000\n",
       "16787        2566        14000.000000\n",
       "37306        142             0.000100\n",
       "41166        73              0.000125\n",
       "41580        142         20010.000000\n",
       "42945        4766        10000.000000\n",
       "47482        1810        30717.000100\n",
       "49997        482          8129.000000\n",
       "56863        2566        10000.000000\n",
       "1879911      142          1043.000000\n",
       "1892023      142          3651.000000\n",
       "1895427      2566        10000.000000\n",
       "1902576      2566        18000.000000\n",
       "1978413      1810        16802.000000\n",
       "1978473      1810        14999.999900\n",
       "Name: quantity, dtype: float64"
      ]
     },
     "metadata": {},
     "output_type": "display_data"
    }
   ],
   "source": [
    "import numpy as np\n",
    "\n",
    "# Ensure rounding happens at every calculation step\n",
    "df_planned_production[\"quantity\"] = df_planned_production[\"quantity\"].round(4)\n",
    "\n",
    "# Compute the total quantity before and after processing\n",
    "original_qty = multi_day_production.groupby([\"material_sk\", \"plant_sk\"])[\"quantity\"].sum()\n",
    "split_qty = df_planned_production.groupby([\"material_sk\", \"plant_sk\"])[\"quantity\"].sum()\n",
    "\n",
    "# Compare differences and allow small floating-point errors\n",
    "quantity_mismatch = (original_qty - split_qty).abs()\n",
    "\n",
    "# Set a small threshold for floating-point precision issues\n",
    "mismatch_threshold = 1e-4  # Adjust this if needed\n",
    "\n",
    "# Check if mismatches are significant\n",
    "significant_mismatches = quantity_mismatch[quantity_mismatch > mismatch_threshold]\n",
    "\n",
    "if significant_mismatches.sum() > 0:\n",
    "    print(\"Quantity mismatch detected after rounding:\")\n",
    "    display(significant_mismatches)\n",
    "else:\n",
    "    print(\"Total quantity is correctly distributed after rounding.\")\n"
   ]
  },
  {
   "cell_type": "markdown",
   "metadata": {},
   "source": [
    "#### Detecting Overlaps in times "
   ]
  },
  {
   "cell_type": "code",
   "execution_count": 79,
   "metadata": {
    "execution": {
     "iopub.execute_input": "2025-04-10T07:36:15.967584Z",
     "iopub.status.busy": "2025-04-10T07:36:15.967584Z",
     "iopub.status.idle": "2025-04-10T07:36:15.981819Z",
     "shell.execute_reply": "2025-04-10T07:36:15.979810Z"
    }
   },
   "outputs": [
    {
     "name": "stdout",
     "output_type": "stream",
     "text": [
      "No overlapping production periods detected.\n"
     ]
    }
   ],
   "source": [
    "overlapping_production = df_planned_production.sort_values([\"material_sk\", \"start_inflow_ts\"]).duplicated(\n",
    "    subset=[\"material_sk\", \"plant_sk\", \"start_inflow_ts\", \"end_outflow_ts\"], keep=False\n",
    ")\n",
    "\n",
    "if overlapping_production.any():\n",
    "    print(\"Overlapping production periods found:\")\n",
    "    display(df_planned_production[overlapping_production])\n",
    "else:\n",
    "    print(\"No overlapping production periods detected.\")\n"
   ]
  },
  {
   "cell_type": "markdown",
   "metadata": {},
   "source": [
    "#### Transformation based on product unit"
   ]
  },
  {
   "cell_type": "code",
   "execution_count": 80,
   "metadata": {
    "execution": {
     "iopub.execute_input": "2025-04-10T07:36:15.986311Z",
     "iopub.status.busy": "2025-04-10T07:36:15.986311Z",
     "iopub.status.idle": "2025-04-10T07:36:15.998181Z",
     "shell.execute_reply": "2025-04-10T07:36:15.998181Z"
    }
   },
   "outputs": [
    {
     "name": "stdout",
     "output_type": "stream",
     "text": [
      "Unique product_unit values before transformation: ['PCE']\n",
      "Rows requiring transformation (PCE to HL): 297 (100.00%)\n"
     ]
    }
   ],
   "source": [
    "# Detect Product Units for Transformation  \n",
    "\n",
    "# Check unique product_unit values before transformation  \n",
    "unique_units = df_planned_production[\"product_unit\"].unique()  \n",
    "print(\"Unique product_unit values before transformation:\", unique_units)  \n",
    "\n",
    "# Count rows where transformation is needed  \n",
    "pce_rows = df_planned_production[df_planned_production[\"product_unit\"] == \"PCE\"]  \n",
    "pce_count = len(pce_rows)  \n",
    "pce_percentage = (pce_count / len(df_planned_production)) * 100  \n",
    "\n",
    "print(f\"Rows requiring transformation (PCE to HL): {pce_count} ({pce_percentage:.2f}%)\")  \n"
   ]
  },
  {
   "cell_type": "markdown",
   "metadata": {},
   "source": [
    "#### Converting PCE to HL"
   ]
  },
  {
   "cell_type": "code",
   "execution_count": 81,
   "metadata": {
    "execution": {
     "iopub.execute_input": "2025-04-10T07:36:15.998181Z",
     "iopub.status.busy": "2025-04-10T07:36:15.998181Z",
     "iopub.status.idle": "2025-04-10T07:36:16.028579Z",
     "shell.execute_reply": "2025-04-10T07:36:16.028579Z"
    }
   },
   "outputs": [
    {
     "name": "stdout",
     "output_type": "stream",
     "text": [
      "Product unit transformation applied successfully.\n"
     ]
    }
   ],
   "source": [
    "# Filter UOM table to retain only HL conversion factors\n",
    "df_uom_filtered = df_uom_merged[df_uom_merged[\"target_unit_of_measure_code\"] == \"HL\"]\n",
    "\n",
    "# Merge with the filtered UOM table\n",
    "df_planned_production = df_planned_production.merge(\n",
    "    df_uom_filtered[[\"material_sk\", \"PC_HL_Conversion\"]],\n",
    "    on=\"material_sk\",\n",
    "    how=\"left\"\n",
    ")\n",
    "\n",
    "# Convert PCE to HL using the conversion ratio\n",
    "df_planned_production[\"Production_HL\"] = df_planned_production.apply(\n",
    "    lambda row: row[\"quantity\"] * row[\"PC_HL_Conversion\"]\n",
    "    if row[\"product_unit\"] == \"PCE\" else row[\"quantity\"],\n",
    "    axis=1\n",
    ")\n",
    "\n",
    "# Drop the original \"quantity\" column and rename the transformed one\n",
    "#df_planned_production.drop(columns=[\"quantity\"], inplace=True)\n",
    "df_planned_production.rename(columns={\"Production_HL\": \"quantity_HL\"}, inplace=True)\n",
    "\n",
    "print(\"Product unit transformation applied successfully.\")\n"
   ]
  },
  {
   "cell_type": "markdown",
   "metadata": {},
   "source": [
    "#### Verifying quantity after conversion by detecting nulls "
   ]
  },
  {
   "cell_type": "code",
   "execution_count": 82,
   "metadata": {
    "execution": {
     "iopub.execute_input": "2025-04-10T07:36:16.028579Z",
     "iopub.status.busy": "2025-04-10T07:36:16.028579Z",
     "iopub.status.idle": "2025-04-10T07:36:16.041037Z",
     "shell.execute_reply": "2025-04-10T07:36:16.041037Z"
    }
   },
   "outputs": [
    {
     "name": "stdout",
     "output_type": "stream",
     "text": [
      "Missing Values in quantity: 0 (0.00%)\n",
      "No Missing Values in Quantity.\n"
     ]
    }
   ],
   "source": [
    "# Step: Detect Null Values in Production_HL\n",
    "missing_production_hl = df_planned_production[\"quantity_HL\"].isnull().sum()\n",
    "missing_percentage = (missing_production_hl / len(df_planned_production)) * 100\n",
    "\n",
    "print(f\"Missing Values in quantity: {missing_production_hl} ({missing_percentage:.2f}%)\")\n",
    "\n",
    "# Display affected rows if any exist\n",
    "if missing_production_hl > 0:\n",
    "    display(df_planned_production[df_planned_production[\"quantity_HL\"].isnull()])\n",
    "else:\n",
    "    print(\"No Missing Values in Quantity.\")\n"
   ]
  },
  {
   "cell_type": "code",
   "execution_count": 83,
   "metadata": {
    "execution": {
     "iopub.execute_input": "2025-04-10T07:36:16.041037Z",
     "iopub.status.busy": "2025-04-10T07:36:16.041037Z",
     "iopub.status.idle": "2025-04-10T07:36:16.056613Z",
     "shell.execute_reply": "2025-04-10T07:36:16.056613Z"
    }
   },
   "outputs": [
    {
     "name": "stdout",
     "output_type": "stream",
     "text": [
      "Missing Values in quantity after dropping: 0\n"
     ]
    }
   ],
   "source": [
    "# Drop rows where quantity is null\n",
    "df_planned_production = df_planned_production.dropna(subset=[\"quantity_HL\"])\n",
    "\n",
    "# Verify that missing values are removed\n",
    "missing_production_hl = df_planned_production[\"quantity_HL\"].isnull().sum()\n",
    "print(f\"Missing Values in quantity after dropping: {missing_production_hl}\")\n"
   ]
  },
  {
   "cell_type": "markdown",
   "metadata": {},
   "source": [
    "#### Defining current runtime"
   ]
  },
  {
   "cell_type": "code",
   "execution_count": 84,
   "metadata": {
    "execution": {
     "iopub.execute_input": "2025-04-10T07:36:16.072256Z",
     "iopub.status.busy": "2025-04-10T07:36:16.072256Z",
     "iopub.status.idle": "2025-04-10T07:36:16.083458Z",
     "shell.execute_reply": "2025-04-10T07:36:16.083458Z"
    }
   },
   "outputs": [
    {
     "name": "stdout",
     "output_type": "stream",
     "text": [
      "Run Time (Naive): 2025-04-10 13:06:16.072256\n"
     ]
    }
   ],
   "source": [
    "from datetime import datetime, timedelta\n",
    "\n",
    "# Define the reference run time (assuming current time for now)\n",
    "run_time_naive = datetime.now()\n",
    "\n",
    "# Display the reference time\n",
    "print(f\"Run Time (Naive): {run_time_naive}\")\n"
   ]
  },
  {
   "cell_type": "markdown",
   "metadata": {},
   "source": [
    "#### Filtering Ongoing or Future Production"
   ]
  },
  {
   "cell_type": "code",
   "execution_count": 85,
   "metadata": {
    "execution": {
     "iopub.execute_input": "2025-04-10T07:36:16.083458Z",
     "iopub.status.busy": "2025-04-10T07:36:16.083458Z",
     "iopub.status.idle": "2025-04-10T07:36:16.110641Z",
     "shell.execute_reply": "2025-04-10T07:36:16.110641Z"
    }
   },
   "outputs": [
    {
     "name": "stdout",
     "output_type": "stream",
     "text": [
      "Ongoing/Future Production Filter Applied: 84 rows retained.\n",
      "Ongoing Production Data Saved to: ./PRE_PROCESSED_DATA/04. April 2025/10_04_2025 preprocessed data/2025_04_10_13_03_07 preprocessed data/planned_production.csv\n"
     ]
    }
   ],
   "source": [
    "# Convert timestamps to datetime format for comparison\n",
    "df_planned_production[\"start_inflow_ts\"] = pd.to_datetime(df_planned_production[\"start_inflow_ts\"], errors=\"coerce\")\n",
    "df_planned_production[\"end_outflow_ts\"] = pd.to_datetime(df_planned_production[\"end_outflow_ts\"], errors=\"coerce\")\n",
    "\n",
    "# Define the filtering conditions\n",
    "ongoing_production = df_planned_production[\n",
    "    (df_planned_production[\"start_inflow_ts\"] >= run_time_naive - timedelta(hours=3)) &\n",
    "    (df_planned_production[\"end_outflow_ts\"] <= (run_time_naive + timedelta(days=1)))\n",
    "]\n",
    "\n",
    "# Display results\n",
    "print(f\"Ongoing/Future Production Filter Applied: {len(ongoing_production)} rows retained.\")\n",
    "\n",
    "# Store filtered dataset for ongoing production\n",
    "ongoing_production_file = os.path.join(preprocessed_path, \"planned_production.csv\")\n",
    "ongoing_production.to_csv(ongoing_production_file, index=False)\n",
    "print(f\"Ongoing Production Data Saved to: {ongoing_production_file}\")\n"
   ]
  },
  {
   "cell_type": "markdown",
   "metadata": {},
   "source": [
    "#### Filtering Completed Production"
   ]
  },
  {
   "cell_type": "code",
   "execution_count": 86,
   "metadata": {
    "execution": {
     "iopub.execute_input": "2025-04-10T07:36:16.110641Z",
     "iopub.status.busy": "2025-04-10T07:36:16.110641Z",
     "iopub.status.idle": "2025-04-10T07:36:16.145711Z",
     "shell.execute_reply": "2025-04-10T07:36:16.145711Z"
    }
   },
   "outputs": [
    {
     "name": "stdout",
     "output_type": "stream",
     "text": [
      "Completed Production Filter Applied: 39 rows retained.\n",
      "Completed Production Data Saved to: ./PRE_PROCESSED_DATA/04. April 2025/10_04_2025 preprocessed data/2025_04_10_13_03_07 preprocessed data/completed_production.csv\n"
     ]
    }
   ],
   "source": [
    "# Define the filtering conditions\n",
    "completed_production = df_planned_production[\n",
    "    (df_planned_production[\"end_outflow_ts\"] <= run_time_naive - timedelta(hours=3)) &\n",
    "    (df_planned_production[\"start_inflow_ts\"] >= run_time_naive.replace(hour=0, minute=0, second=0, microsecond=0))\n",
    "]\n",
    "\n",
    "# Display results\n",
    "print(f\"Completed Production Filter Applied: {len(completed_production)} rows retained.\")\n",
    "\n",
    "# Store filtered dataset for completed production\n",
    "completed_production_file = os.path.join(preprocessed_path, \"completed_production.csv\")\n",
    "completed_production.to_csv(completed_production_file, index=False)\n",
    "print(f\"Completed Production Data Saved to: {completed_production_file}\")\n"
   ]
  },
  {
   "cell_type": "markdown",
   "metadata": {},
   "source": [
    "### Input Actual Production Preprocessing"
   ]
  },
  {
   "cell_type": "code",
   "execution_count": 87,
   "metadata": {
    "execution": {
     "iopub.execute_input": "2025-04-10T07:36:16.145711Z",
     "iopub.status.busy": "2025-04-10T07:36:16.145711Z",
     "iopub.status.idle": "2025-04-10T07:36:16.160847Z",
     "shell.execute_reply": "2025-04-10T07:36:16.160847Z"
    }
   },
   "outputs": [
    {
     "name": "stdout",
     "output_type": "stream",
     "text": [
      "Loaded and retained required columns for input_Actual_production.csv:\n",
      "['plant_sk', 'plant_code', 'material_sk', 'material_code', 'actual_quantity']\n"
     ]
    }
   ],
   "source": [
    "# Define dataset name\n",
    "file_name = \"input_Actual_production.csv\"\n",
    "df_actual_production = dataframes[file_name]\n",
    "\n",
    "# Retain only relevant columns\n",
    "required_columns_actual_production = [\n",
    "    \"plant_sk\", \"plant_code\", \"material_sk\", \"material_code\", \"actual_quantity\"\n",
    "]\n",
    "df_actual_production = df_actual_production[required_columns_actual_production]\n",
    "\n",
    "# Store updated DataFrame\n",
    "dataframes[file_name] = df_actual_production\n",
    "\n",
    "# Display confirmation\n",
    "print(f\"Loaded and retained required columns for {file_name}:\")\n",
    "print(list(df_actual_production.columns))\n"
   ]
  },
  {
   "cell_type": "code",
   "execution_count": 88,
   "metadata": {
    "execution": {
     "iopub.execute_input": "2025-04-10T07:36:16.160847Z",
     "iopub.status.busy": "2025-04-10T07:36:16.160847Z",
     "iopub.status.idle": "2025-04-10T07:36:16.192784Z",
     "shell.execute_reply": "2025-04-10T07:36:16.192784Z"
    }
   },
   "outputs": [
    {
     "data": {
      "text/html": [
       "<div>\n",
       "<style scoped>\n",
       "    .dataframe tbody tr th:only-of-type {\n",
       "        vertical-align: middle;\n",
       "    }\n",
       "\n",
       "    .dataframe tbody tr th {\n",
       "        vertical-align: top;\n",
       "    }\n",
       "\n",
       "    .dataframe thead th {\n",
       "        text-align: right;\n",
       "    }\n",
       "</style>\n",
       "<table border=\"1\" class=\"dataframe\">\n",
       "  <thead>\n",
       "    <tr style=\"text-align: right;\">\n",
       "      <th></th>\n",
       "      <th>plant_sk</th>\n",
       "      <th>plant_code</th>\n",
       "      <th>material_sk</th>\n",
       "      <th>material_code</th>\n",
       "      <th>actual_quantity</th>\n",
       "    </tr>\n",
       "  </thead>\n",
       "  <tbody>\n",
       "    <tr>\n",
       "      <th>count</th>\n",
       "      <td>66</td>\n",
       "      <td>66</td>\n",
       "      <td>66</td>\n",
       "      <td>66</td>\n",
       "      <td>66</td>\n",
       "    </tr>\n",
       "    <tr>\n",
       "      <th>unique</th>\n",
       "      <td>12</td>\n",
       "      <td>12</td>\n",
       "      <td>61</td>\n",
       "      <td>61</td>\n",
       "      <td>65</td>\n",
       "    </tr>\n",
       "    <tr>\n",
       "      <th>top</th>\n",
       "      <td>2566</td>\n",
       "      <td>DE02</td>\n",
       "      <td>1814</td>\n",
       "      <td>5687</td>\n",
       "      <td>5520.0</td>\n",
       "    </tr>\n",
       "    <tr>\n",
       "      <th>freq</th>\n",
       "      <td>13</td>\n",
       "      <td>13</td>\n",
       "      <td>2</td>\n",
       "      <td>2</td>\n",
       "      <td>2</td>\n",
       "    </tr>\n",
       "  </tbody>\n",
       "</table>\n",
       "</div>"
      ],
      "text/plain": [
       "       plant_sk plant_code material_sk material_code actual_quantity\n",
       "count        66         66          66            66              66\n",
       "unique       12         12          61            61              65\n",
       "top        2566       DE02        1814          5687          5520.0\n",
       "freq         13         13           2             2               2"
      ]
     },
     "execution_count": 88,
     "metadata": {},
     "output_type": "execute_result"
    }
   ],
   "source": [
    "df_actual_production.describe()"
   ]
  },
  {
   "cell_type": "markdown",
   "metadata": {},
   "source": [
    "#### Missing Values"
   ]
  },
  {
   "cell_type": "code",
   "execution_count": 89,
   "metadata": {
    "execution": {
     "iopub.execute_input": "2025-04-10T07:36:16.192784Z",
     "iopub.status.busy": "2025-04-10T07:36:16.192784Z",
     "iopub.status.idle": "2025-04-10T07:36:16.210990Z",
     "shell.execute_reply": "2025-04-10T07:36:16.210990Z"
    }
   },
   "outputs": [
    {
     "name": "stdout",
     "output_type": "stream",
     "text": [
      "No Missing Values Found in input_Actual_production.csv. (Total Rows: 66)\n"
     ]
    }
   ],
   "source": [
    "# Calculate missing values\n",
    "missing_values = df_actual_production.isnull().sum()\n",
    "total_rows = len(df_actual_production)\n",
    "\n",
    "# Calculate percentage of missing values\n",
    "missing_percentage = (missing_values / total_rows) * 100\n",
    "\n",
    "# Combine both counts and percentages\n",
    "missing_summary = pd.DataFrame({\n",
    "    \"Missing Values\": missing_values,\n",
    "    \"Percentage (%)\": missing_percentage\n",
    "})\n",
    "\n",
    "# Display results\n",
    "if missing_values.any():\n",
    "    print(\"Missing Values Found:\")\n",
    "    display(missing_summary[missing_summary[\"Missing Values\"] > 0])\n",
    "else:\n",
    "    print(f\"No Missing Values Found in input_Actual_production.csv. (Total Rows: {total_rows})\")\n"
   ]
  },
  {
   "cell_type": "markdown",
   "metadata": {},
   "source": [
    "#### Duplicates"
   ]
  },
  {
   "cell_type": "code",
   "execution_count": 90,
   "metadata": {
    "execution": {
     "iopub.execute_input": "2025-04-10T07:36:16.210990Z",
     "iopub.status.busy": "2025-04-10T07:36:16.210990Z",
     "iopub.status.idle": "2025-04-10T07:36:16.237694Z",
     "shell.execute_reply": "2025-04-10T07:36:16.237694Z"
    }
   },
   "outputs": [
    {
     "name": "stdout",
     "output_type": "stream",
     "text": [
      "Duplicate (plant_sk, material_sk) pairs found in input_Actual_production.csv: 8 (12.12%)\n"
     ]
    },
    {
     "data": {
      "text/html": [
       "<div>\n",
       "<style scoped>\n",
       "    .dataframe tbody tr th:only-of-type {\n",
       "        vertical-align: middle;\n",
       "    }\n",
       "\n",
       "    .dataframe tbody tr th {\n",
       "        vertical-align: top;\n",
       "    }\n",
       "\n",
       "    .dataframe thead th {\n",
       "        text-align: right;\n",
       "    }\n",
       "</style>\n",
       "<table border=\"1\" class=\"dataframe\">\n",
       "  <thead>\n",
       "    <tr style=\"text-align: right;\">\n",
       "      <th></th>\n",
       "      <th>plant_sk</th>\n",
       "      <th>plant_code</th>\n",
       "      <th>material_sk</th>\n",
       "      <th>material_code</th>\n",
       "      <th>actual_quantity</th>\n",
       "    </tr>\n",
       "  </thead>\n",
       "  <tbody>\n",
       "    <tr>\n",
       "      <th>46</th>\n",
       "      <td>2566</td>\n",
       "      <td>DE02</td>\n",
       "      <td>1869181</td>\n",
       "      <td>107861</td>\n",
       "      <td>6402.0</td>\n",
       "    </tr>\n",
       "    <tr>\n",
       "      <th>51</th>\n",
       "      <td>2566</td>\n",
       "      <td>DE02</td>\n",
       "      <td>1869181</td>\n",
       "      <td>107861</td>\n",
       "      <td>2436.0</td>\n",
       "    </tr>\n",
       "    <tr>\n",
       "      <th>58</th>\n",
       "      <td>2566</td>\n",
       "      <td>DE02</td>\n",
       "      <td>1895427</td>\n",
       "      <td>104114</td>\n",
       "      <td>140.0</td>\n",
       "    </tr>\n",
       "    <tr>\n",
       "      <th>61</th>\n",
       "      <td>2566</td>\n",
       "      <td>DE02</td>\n",
       "      <td>1895427</td>\n",
       "      <td>104114</td>\n",
       "      <td>7910.0</td>\n",
       "    </tr>\n",
       "    <tr>\n",
       "      <th>63</th>\n",
       "      <td>2566</td>\n",
       "      <td>DE02</td>\n",
       "      <td>1902576</td>\n",
       "      <td>105356</td>\n",
       "      <td>189.0</td>\n",
       "    </tr>\n",
       "    <tr>\n",
       "      <th>65</th>\n",
       "      <td>2566</td>\n",
       "      <td>DE02</td>\n",
       "      <td>1902576</td>\n",
       "      <td>105356</td>\n",
       "      <td>8568.0</td>\n",
       "    </tr>\n",
       "    <tr>\n",
       "      <th>14</th>\n",
       "      <td>2566</td>\n",
       "      <td>DE02</td>\n",
       "      <td>2130</td>\n",
       "      <td>5691</td>\n",
       "      <td>5280.0</td>\n",
       "    </tr>\n",
       "    <tr>\n",
       "      <th>24</th>\n",
       "      <td>2566</td>\n",
       "      <td>DE02</td>\n",
       "      <td>2130</td>\n",
       "      <td>5691</td>\n",
       "      <td>1200.0</td>\n",
       "    </tr>\n",
       "  </tbody>\n",
       "</table>\n",
       "</div>"
      ],
      "text/plain": [
       "   plant_sk plant_code material_sk material_code actual_quantity\n",
       "46     2566       DE02     1869181        107861          6402.0\n",
       "51     2566       DE02     1869181        107861          2436.0\n",
       "58     2566       DE02     1895427        104114           140.0\n",
       "61     2566       DE02     1895427        104114          7910.0\n",
       "63     2566       DE02     1902576        105356           189.0\n",
       "65     2566       DE02     1902576        105356          8568.0\n",
       "14     2566       DE02        2130          5691          5280.0\n",
       "24     2566       DE02        2130          5691          1200.0"
      ]
     },
     "metadata": {},
     "output_type": "display_data"
    }
   ],
   "source": [
    "#  Detecting Duplicates in input_Actual_production.csv\n",
    "\n",
    "# Find duplicates based on plant_sk and material_sk\n",
    "duplicate_rows = df_actual_production.duplicated(subset=[\"plant_sk\", \"material_sk\"], keep=False)\n",
    "\n",
    "# Count duplicates\n",
    "num_duplicates = duplicate_rows.sum()\n",
    "duplicate_percentage = (num_duplicates / len(df_actual_production)) * 100\n",
    "\n",
    "# Display results\n",
    "print(f\"Duplicate (plant_sk, material_sk) pairs found in {file_name}: {num_duplicates} ({duplicate_percentage:.2f}%)\")\n",
    "\n",
    "# Show duplicate entries if found\n",
    "if num_duplicates > 0:\n",
    "    display(df_actual_production[duplicate_rows].sort_values([\"plant_sk\", \"material_sk\"]))\n",
    "else:\n",
    "    print(\"No duplicates found based on plant_sk and material_sk.\")\n"
   ]
  },
  {
   "cell_type": "markdown",
   "metadata": {},
   "source": [
    "#### Handling duplicate values by summing up the actual quantity"
   ]
  },
  {
   "cell_type": "code",
   "execution_count": 91,
   "metadata": {
    "execution": {
     "iopub.execute_input": "2025-04-10T07:36:16.237694Z",
     "iopub.status.busy": "2025-04-10T07:36:16.237694Z",
     "iopub.status.idle": "2025-04-10T07:36:16.293006Z",
     "shell.execute_reply": "2025-04-10T07:36:16.290990Z"
    }
   },
   "outputs": [
    {
     "name": "stdout",
     "output_type": "stream",
     "text": [
      "Duplicates handled. Remaining rows in input_Actual_production.csv: 62"
     ]
    },
    {
     "name": "stdout",
     "output_type": "stream",
     "text": [
      "\n"
     ]
    },
    {
     "data": {
      "text/html": [
       "<div>\n",
       "<style scoped>\n",
       "    .dataframe tbody tr th:only-of-type {\n",
       "        vertical-align: middle;\n",
       "    }\n",
       "\n",
       "    .dataframe tbody tr th {\n",
       "        vertical-align: top;\n",
       "    }\n",
       "\n",
       "    .dataframe thead th {\n",
       "        text-align: right;\n",
       "    }\n",
       "</style>\n",
       "<table border=\"1\" class=\"dataframe\">\n",
       "  <thead>\n",
       "    <tr style=\"text-align: right;\">\n",
       "      <th></th>\n",
       "      <th>plant_sk</th>\n",
       "      <th>material_sk</th>\n",
       "      <th>plant_code</th>\n",
       "      <th>material_code</th>\n",
       "      <th>actual_quantity</th>\n",
       "    </tr>\n",
       "  </thead>\n",
       "  <tbody>\n",
       "    <tr>\n",
       "      <th>0</th>\n",
       "      <td>142</td>\n",
       "      <td>1868373</td>\n",
       "      <td>BE04</td>\n",
       "      <td>108083</td>\n",
       "      <td>10320.0</td>\n",
       "    </tr>\n",
       "    <tr>\n",
       "      <th>1</th>\n",
       "      <td>142</td>\n",
       "      <td>1877515</td>\n",
       "      <td>BE04</td>\n",
       "      <td>107699</td>\n",
       "      <td>12600.0</td>\n",
       "    </tr>\n",
       "    <tr>\n",
       "      <th>2</th>\n",
       "      <td>142</td>\n",
       "      <td>1879911</td>\n",
       "      <td>BE04</td>\n",
       "      <td>107281</td>\n",
       "      <td>16005.0</td>\n",
       "    </tr>\n",
       "    <tr>\n",
       "      <th>3</th>\n",
       "      <td>142</td>\n",
       "      <td>1880479</td>\n",
       "      <td>BE04</td>\n",
       "      <td>107911</td>\n",
       "      <td>3016.0</td>\n",
       "    </tr>\n",
       "    <tr>\n",
       "      <th>4</th>\n",
       "      <td>142</td>\n",
       "      <td>1885428</td>\n",
       "      <td>BE04</td>\n",
       "      <td>106369</td>\n",
       "      <td>28812.0</td>\n",
       "    </tr>\n",
       "  </tbody>\n",
       "</table>\n",
       "</div>"
      ],
      "text/plain": [
       "  plant_sk material_sk plant_code material_code actual_quantity\n",
       "0      142     1868373       BE04        108083         10320.0\n",
       "1      142     1877515       BE04        107699         12600.0\n",
       "2      142     1879911       BE04        107281         16005.0\n",
       "3      142     1880479       BE04        107911          3016.0\n",
       "4      142     1885428       BE04        106369         28812.0"
      ]
     },
     "metadata": {},
     "output_type": "display_data"
    }
   ],
   "source": [
    "# Handling Duplicates in input_Actual_production.csv\n",
    "\n",
    "# Group by plant_sk and material_sk and sum actual_quantity\n",
    "df_actual_production = df_actual_production.groupby([\"plant_sk\", \"material_sk\"], as_index=False).agg({\n",
    "    \"plant_code\": \"first\", \n",
    "    \"material_code\": \"first\",  \n",
    "    \"actual_quantity\": \"sum\"  \n",
    "})\n",
    "\n",
    "# Store the cleaned data\n",
    "dataframes[\"input_Actual_production.csv\"] = df_actual_production\n",
    "\n",
    "# Display result\n",
    "print(f\"Duplicates handled. Remaining rows in input_Actual_production.csv: {len(df_actual_production)}\")\n",
    "display(df_actual_production.head())\n"
   ]
  },
  {
   "cell_type": "markdown",
   "metadata": {},
   "source": [
    "#### Data type validation"
   ]
  },
  {
   "cell_type": "code",
   "execution_count": 92,
   "metadata": {
    "execution": {
     "iopub.execute_input": "2025-04-10T07:36:16.296538Z",
     "iopub.status.busy": "2025-04-10T07:36:16.296538Z",
     "iopub.status.idle": "2025-04-10T07:36:16.309556Z",
     "shell.execute_reply": "2025-04-10T07:36:16.309556Z"
    }
   },
   "outputs": [
    {
     "name": "stdout",
     "output_type": "stream",
     "text": [
      "Data Type Mismatches Found:\n",
      "   - Column: plant_sk, Found: object, Expected: Int64\n",
      "   - Column: material_sk, Found: object, Expected: Int64\n",
      "   - Column: material_code, Found: object, Expected: Int64\n",
      "   - Column: actual_quantity, Found: object, Expected: float64\n"
     ]
    }
   ],
   "source": [
    "# Data Type Validation for input_Actual_production.csv\n",
    "\n",
    "# Define expected data types\n",
    "expected_dtypes = {\n",
    "    \"plant_sk\": \"Int64\",\n",
    "    \"plant_code\": \"object\",\n",
    "    \"material_sk\": \"Int64\",\n",
    "    \"material_code\": \"Int64\",\n",
    "    \"actual_quantity\": \"float64\"\n",
    "}\n",
    "\n",
    "# Check actual dtypes\n",
    "dtype_mismatches = {}\n",
    "\n",
    "for col, expected_dtype in expected_dtypes.items():\n",
    "    actual_dtype = df_actual_production[col].dtype\n",
    "    if actual_dtype != expected_dtype:\n",
    "        dtype_mismatches[col] = (actual_dtype, expected_dtype)\n",
    "\n",
    "# Display results\n",
    "if dtype_mismatches:\n",
    "    print(\"Data Type Mismatches Found:\")\n",
    "    for col, (actual, expected) in dtype_mismatches.items():\n",
    "        print(f\"   - Column: {col}, Found: {actual}, Expected: {expected}\")\n",
    "else:\n",
    "    print(\"All Columns Have Correct Data Types.\")\n"
   ]
  },
  {
   "cell_type": "markdown",
   "metadata": {},
   "source": [
    "#### Fixed data type validation errors"
   ]
  },
  {
   "cell_type": "code",
   "execution_count": 93,
   "metadata": {
    "execution": {
     "iopub.execute_input": "2025-04-10T07:36:16.309556Z",
     "iopub.status.busy": "2025-04-10T07:36:16.309556Z",
     "iopub.status.idle": "2025-04-10T07:36:16.333126Z",
     "shell.execute_reply": "2025-04-10T07:36:16.333126Z"
    }
   },
   "outputs": [
    {
     "name": "stdout",
     "output_type": "stream",
     "text": [
      "Data Types Fixed.\n"
     ]
    }
   ],
   "source": [
    "# Handling Data Type Mismatches for input_Actual_production.csv\n",
    "\n",
    "# Convert data types\n",
    "df_actual_production[\"plant_sk\"] = pd.to_numeric(df_actual_production[\"plant_sk\"], errors=\"coerce\")\n",
    "df_actual_production[\"material_sk\"] = pd.to_numeric(df_actual_production[\"material_sk\"], errors=\"coerce\")\n",
    "df_actual_production[\"material_code\"] = pd.to_numeric(df_actual_production[\"material_code\"], errors=\"coerce\")\n",
    "df_actual_production[\"actual_quantity\"] = pd.to_numeric(df_actual_production[\"actual_quantity\"], errors=\"coerce\")\n",
    "\n",
    "# Store updated DataFrame\n",
    "dataframes[\"input_Actual_production.csv\"] = df_actual_production\n",
    "\n",
    "print(\"Data Types Fixed.\")\n"
   ]
  },
  {
   "cell_type": "markdown",
   "metadata": {},
   "source": [
    "#### Non-Negative validation"
   ]
  },
  {
   "cell_type": "code",
   "execution_count": 94,
   "metadata": {
    "execution": {
     "iopub.execute_input": "2025-04-10T07:36:16.333126Z",
     "iopub.status.busy": "2025-04-10T07:36:16.333126Z",
     "iopub.status.idle": "2025-04-10T07:36:16.362923Z",
     "shell.execute_reply": "2025-04-10T07:36:16.362923Z"
    }
   },
   "outputs": [
    {
     "name": "stdout",
     "output_type": "stream",
     "text": [
      "No Negative Values Found in actual_quantity.\n"
     ]
    }
   ],
   "source": [
    "#  Detect Negative Values in actual_quantity\n",
    "\n",
    "# Check for negative values in actual_quantity\n",
    "negative_values = df_actual_production[df_actual_production[\"actual_quantity\"] < 0]\n",
    "\n",
    "# Display results\n",
    "if not negative_values.empty:\n",
    "    print(f\"Negative Values Found in actual_quantity: {len(negative_values)} ({(len(negative_values) / len(df_actual_production)) * 100:.2f}%)\")\n",
    "    display(negative_values)\n",
    "else:\n",
    "    print(\"No Negative Values Found in actual_quantity.\")\n"
   ]
  },
  {
   "cell_type": "markdown",
   "metadata": {},
   "source": [
    "#### Verifying same material production in same plant for multiple times"
   ]
  },
  {
   "cell_type": "code",
   "execution_count": 95,
   "metadata": {
    "execution": {
     "iopub.execute_input": "2025-04-10T07:36:16.362923Z",
     "iopub.status.busy": "2025-04-10T07:36:16.362923Z",
     "iopub.status.idle": "2025-04-10T07:36:16.393527Z",
     "shell.execute_reply": "2025-04-10T07:36:16.393527Z"
    }
   },
   "outputs": [
    {
     "name": "stdout",
     "output_type": "stream",
     "text": [
      "No duplicate material production found in the same plant.\n"
     ]
    }
   ],
   "source": [
    "# Checking if the same material is produced multiple times in the same plant\n",
    "duplicate_production = df_actual_production.groupby(['plant_sk', 'material_sk']).size().reset_index(name='count')\n",
    "duplicate_production = duplicate_production[duplicate_production['count'] > 1]\n",
    "\n",
    "if not duplicate_production.empty:\n",
    "    print(\"Materials produced multiple times in the same plant:\")\n",
    "    display(duplicate_production)\n",
    "else:\n",
    "    print(\"No duplicate material production found in the same plant.\")\n"
   ]
  },
  {
   "cell_type": "markdown",
   "metadata": {},
   "source": [
    "#### Converting PC to HL using UOM PC_HL_conversion"
   ]
  },
  {
   "cell_type": "code",
   "execution_count": 96,
   "metadata": {
    "execution": {
     "iopub.execute_input": "2025-04-10T07:36:16.393527Z",
     "iopub.status.busy": "2025-04-10T07:36:16.393527Z",
     "iopub.status.idle": "2025-04-10T07:36:16.434525Z",
     "shell.execute_reply": "2025-04-10T07:36:16.434525Z"
    }
   },
   "outputs": [
    {
     "name": "stdout",
     "output_type": "stream",
     "text": [
      "Missing PC_HL_Conversion Ratios: 3 rows (2.48%)\n"
     ]
    }
   ],
   "source": [
    "# Merge actual production with UOM data to get PC_HL_Conversion\n",
    "df_actual_production = df_actual_production.merge(\n",
    "    df_uom_merged[[\"material_sk\", \"PC_HL_Conversion\"]],\n",
    "    on=\"material_sk\",\n",
    "    how=\"left\"\n",
    ")\n",
    "\n",
    "# Check for missing conversion ratios\n",
    "missing_conversion = df_actual_production[\"PC_HL_Conversion\"].isna().sum()\n",
    "missing_percentage = (missing_conversion / len(df_actual_production)) * 100\n",
    "\n",
    "print(f\"Missing PC_HL_Conversion Ratios: {missing_conversion} rows ({missing_percentage:.2f}%)\")\n"
   ]
  },
  {
   "cell_type": "code",
   "execution_count": 97,
   "metadata": {
    "execution": {
     "iopub.execute_input": "2025-04-10T07:36:16.434525Z",
     "iopub.status.busy": "2025-04-10T07:36:16.434525Z",
     "iopub.status.idle": "2025-04-10T07:36:16.473883Z",
     "shell.execute_reply": "2025-04-10T07:36:16.472889Z"
    }
   },
   "outputs": [
    {
     "name": "stdout",
     "output_type": "stream",
     "text": [
      "Production quantity successfully converted to HL.\n"
     ]
    }
   ],
   "source": [
    "# Convert actual production to HL\n",
    "df_actual_production[\"actual_quantity_HL\"] = df_actual_production[\"actual_quantity\"] * df_actual_production[\"PC_HL_Conversion\"]\n",
    "\n",
    "# Drop the original actual_quantity column (optional)\n",
    "df_actual_production.drop(columns=[\"actual_quantity\"], inplace=True)\n",
    "\n",
    "# Rename the new column\n",
    "df_actual_production.rename(columns={\"actual_quantity_HL\": \"Production_HL\"}, inplace=True)\n",
    "\n",
    "print(\"Production quantity successfully converted to HL.\")\n"
   ]
  },
  {
   "cell_type": "code",
   "execution_count": 98,
   "metadata": {
    "execution": {
     "iopub.execute_input": "2025-04-10T07:36:16.484099Z",
     "iopub.status.busy": "2025-04-10T07:36:16.481886Z",
     "iopub.status.idle": "2025-04-10T07:36:16.502965Z",
     "shell.execute_reply": "2025-04-10T07:36:16.501946Z"
    }
   },
   "outputs": [
    {
     "data": {
      "text/html": [
       "<div>\n",
       "<style scoped>\n",
       "    .dataframe tbody tr th:only-of-type {\n",
       "        vertical-align: middle;\n",
       "    }\n",
       "\n",
       "    .dataframe tbody tr th {\n",
       "        vertical-align: top;\n",
       "    }\n",
       "\n",
       "    .dataframe thead th {\n",
       "        text-align: right;\n",
       "    }\n",
       "</style>\n",
       "<table border=\"1\" class=\"dataframe\">\n",
       "  <thead>\n",
       "    <tr style=\"text-align: right;\">\n",
       "      <th></th>\n",
       "      <th>plant_sk</th>\n",
       "      <th>material_sk</th>\n",
       "      <th>plant_code</th>\n",
       "      <th>material_code</th>\n",
       "      <th>PC_HL_Conversion</th>\n",
       "      <th>Production_HL</th>\n",
       "    </tr>\n",
       "  </thead>\n",
       "  <tbody>\n",
       "    <tr>\n",
       "      <th>24</th>\n",
       "      <td>16369</td>\n",
       "      <td>16135682</td>\n",
       "      <td>CI01</td>\n",
       "      <td>9950043</td>\n",
       "      <td>NaN</td>\n",
       "      <td>NaN</td>\n",
       "    </tr>\n",
       "    <tr>\n",
       "      <th>25</th>\n",
       "      <td>16417</td>\n",
       "      <td>16135729</td>\n",
       "      <td>CI02</td>\n",
       "      <td>9950900</td>\n",
       "      <td>NaN</td>\n",
       "      <td>NaN</td>\n",
       "    </tr>\n",
       "    <tr>\n",
       "      <th>26</th>\n",
       "      <td>16417</td>\n",
       "      <td>5579437</td>\n",
       "      <td>CI02</td>\n",
       "      <td>9950903</td>\n",
       "      <td>NaN</td>\n",
       "      <td>NaN</td>\n",
       "    </tr>\n",
       "  </tbody>\n",
       "</table>\n",
       "</div>"
      ],
      "text/plain": [
       "    plant_sk  material_sk plant_code  material_code  PC_HL_Conversion  \\\n",
       "24     16369     16135682       CI01        9950043               NaN   \n",
       "25     16417     16135729       CI02        9950900               NaN   \n",
       "26     16417      5579437       CI02        9950903               NaN   \n",
       "\n",
       "    Production_HL  \n",
       "24            NaN  \n",
       "25            NaN  \n",
       "26            NaN  "
      ]
     },
     "metadata": {},
     "output_type": "display_data"
    }
   ],
   "source": [
    "# Display rows with missing PC_HL_Conversion\n",
    "missing_conversion_rows = df_actual_production[df_actual_production[\"PC_HL_Conversion\"].isna()]\n",
    "display(missing_conversion_rows)\n"
   ]
  },
  {
   "cell_type": "code",
   "execution_count": 99,
   "metadata": {
    "execution": {
     "iopub.execute_input": "2025-04-10T07:36:16.508964Z",
     "iopub.status.busy": "2025-04-10T07:36:16.508964Z",
     "iopub.status.idle": "2025-04-10T07:36:16.518510Z",
     "shell.execute_reply": "2025-04-10T07:36:16.518510Z"
    }
   },
   "outputs": [
    {
     "name": "stdout",
     "output_type": "stream",
     "text": [
      "Removed 3 rows with missing conversion ratios. Remaining rows: 118\n"
     ]
    }
   ],
   "source": [
    "# Remove rows with missing conversion ratios\n",
    "df_actual_production = df_actual_production.dropna(subset=[\"PC_HL_Conversion\"]).reset_index(drop=True)\n",
    "\n",
    "print(f\"Removed {missing_conversion} rows with missing conversion ratios. Remaining rows: {len(df_actual_production)}\")\n"
   ]
  },
  {
   "cell_type": "code",
   "execution_count": 100,
   "metadata": {
    "execution": {
     "iopub.execute_input": "2025-04-10T07:36:16.518510Z",
     "iopub.status.busy": "2025-04-10T07:36:16.518510Z",
     "iopub.status.idle": "2025-04-10T07:36:16.540871Z",
     "shell.execute_reply": "2025-04-10T07:36:16.540871Z"
    }
   },
   "outputs": [
    {
     "name": "stdout",
     "output_type": "stream",
     "text": [
      "DataFrames concatenated. Total rows before deduplication: 157\n"
     ]
    }
   ],
   "source": [
    "# Load completed_production.csv\n",
    "completed_production_path = os.path.join(preprocessed_path, \"completed_production.csv\")\n",
    "df_completed_production = pd.read_csv(completed_production_path)\n",
    "\n",
    "# Concatenate actual and completed production\n",
    "df_combined_production = pd.concat([df_actual_production, df_completed_production], ignore_index=True)\n",
    "\n",
    "print(f\"DataFrames concatenated. Total rows before deduplication: {len(df_combined_production)}\")\n"
   ]
  },
  {
   "cell_type": "code",
   "execution_count": 101,
   "metadata": {
    "execution": {
     "iopub.execute_input": "2025-04-10T07:36:16.540871Z",
     "iopub.status.busy": "2025-04-10T07:36:16.540871Z",
     "iopub.status.idle": "2025-04-10T07:36:16.567265Z",
     "shell.execute_reply": "2025-04-10T07:36:16.567265Z"
    }
   },
   "outputs": [
    {
     "name": "stdout",
     "output_type": "stream",
     "text": [
      "Found 147 duplicate rows (93.63%).\n"
     ]
    }
   ],
   "source": [
    "# Detect duplicate production entries\n",
    "duplicate_rows = df_combined_production.duplicated(\n",
    "    subset=[\"plant_sk\", \"plant_code\", \"material_sk\", \"material_code\"], keep=False\n",
    ")\n",
    "\n",
    "# Count duplicates\n",
    "duplicate_count = duplicate_rows.sum()\n",
    "duplicate_percentage = (duplicate_count / len(df_combined_production)) * 100\n",
    "\n",
    "print(f\"Found {duplicate_count} duplicate rows ({duplicate_percentage:.2f}%).\")\n"
   ]
  },
  {
   "cell_type": "code",
   "execution_count": 102,
   "metadata": {
    "execution": {
     "iopub.execute_input": "2025-04-10T07:36:16.567265Z",
     "iopub.status.busy": "2025-04-10T07:36:16.567265Z",
     "iopub.status.idle": "2025-04-10T07:36:16.589624Z",
     "shell.execute_reply": "2025-04-10T07:36:16.589624Z"
    }
   },
   "outputs": [
    {
     "name": "stdout",
     "output_type": "stream",
     "text": [
      "Duplicates removed. Remaining rows: 69\n"
     ]
    }
   ],
   "source": [
    "# Drop duplicates, keeping the first occurrence\n",
    "df_combined_production = df_combined_production.drop_duplicates(\n",
    "    subset=[\"plant_sk\", \"plant_code\", \"material_sk\", \"material_code\"], keep=\"first\"\n",
    ").reset_index(drop=True)\n",
    "\n",
    "print(f\"Duplicates removed. Remaining rows: {len(df_combined_production)}\")\n"
   ]
  },
  {
   "cell_type": "markdown",
   "metadata": {},
   "source": [
    "#### Filtering to required columns "
   ]
  },
  {
   "cell_type": "code",
   "execution_count": 103,
   "metadata": {
    "execution": {
     "iopub.execute_input": "2025-04-10T07:36:16.589624Z",
     "iopub.status.busy": "2025-04-10T07:36:16.589624Z",
     "iopub.status.idle": "2025-04-10T07:36:16.604377Z",
     "shell.execute_reply": "2025-04-10T07:36:16.604377Z"
    }
   },
   "outputs": [
    {
     "name": "stdout",
     "output_type": "stream",
     "text": [
      "Retained required columns for actual_production.csv:\n",
      "['plant_sk', 'plant_code', 'material_sk', 'material_code', 'Production_HL']\n"
     ]
    }
   ],
   "source": [
    "# Define the required columns\n",
    "required_columns_production = [\"plant_sk\", \"plant_code\", \"material_sk\", \"material_code\", \"Production_HL\"]\n",
    "\n",
    "# Subset the DataFrame\n",
    "df_actual_production = df_combined_production[required_columns_production]\n",
    "\n",
    "# Display confirmation\n",
    "print(f\"Retained required columns for actual_production.csv:\")\n",
    "print(list(df_actual_production.columns))\n"
   ]
  },
  {
   "cell_type": "markdown",
   "metadata": {},
   "source": [
    "#### Dropping Null values "
   ]
  },
  {
   "cell_type": "code",
   "execution_count": 104,
   "metadata": {
    "execution": {
     "iopub.execute_input": "2025-04-10T07:36:16.604377Z",
     "iopub.status.busy": "2025-04-10T07:36:16.604377Z",
     "iopub.status.idle": "2025-04-10T07:36:16.628154Z",
     "shell.execute_reply": "2025-04-10T07:36:16.626138Z"
    }
   },
   "outputs": [
    {
     "name": "stdout",
     "output_type": "stream",
     "text": [
      "Missing values before dropping: 14 (4.06%)\n",
      "Missing values after dropping: 0 (0.00%)\n",
      "Rows remaining after drop: 55 (79.71% of original rows retained)\n"
     ]
    }
   ],
   "source": [
    "# Detect missing values before dropping\n",
    "missing_before = df_actual_production.isnull().sum().sum()\n",
    "total_rows_before = len(df_actual_production)\n",
    "missing_percentage = (missing_before / (total_rows_before * len(df_actual_production.columns))) * 100\n",
    "\n",
    "print(f\"Missing values before dropping: {missing_before} ({missing_percentage:.2f}%)\")\n",
    "\n",
    "# Drop rows where any of the selected columns have null values\n",
    "df_actual_production = df_actual_production.dropna(how=\"any\").reset_index(drop=True)\n",
    "\n",
    "# Detect missing values after dropping\n",
    "missing_after = df_actual_production.isnull().sum().sum()\n",
    "total_rows_after = len(df_actual_production)\n",
    "remaining_percentage = (total_rows_after / total_rows_before) * 100\n",
    "\n",
    "print(f\"Missing values after dropping: {missing_after} (0.00%)\")\n",
    "print(f\"Rows remaining after drop: {total_rows_after} ({remaining_percentage:.2f}% of original rows retained)\")\n"
   ]
  },
  {
   "cell_type": "markdown",
   "metadata": {},
   "source": [
    "#### Final saving preprocessed data to actual production"
   ]
  },
  {
   "cell_type": "code",
   "execution_count": 105,
   "metadata": {
    "execution": {
     "iopub.execute_input": "2025-04-10T07:36:16.634154Z",
     "iopub.status.busy": "2025-04-10T07:36:16.633170Z",
     "iopub.status.idle": "2025-04-10T07:36:16.660729Z",
     "shell.execute_reply": "2025-04-10T07:36:16.660729Z"
    }
   },
   "outputs": [
    {
     "name": "stdout",
     "output_type": "stream",
     "text": [
      "Processed Actual Production Data Saved to: ./PRE_PROCESSED_DATA/04. April 2025/10_04_2025 preprocessed data/2025_04_10_13_03_07 preprocessed data/actual_production.csv"
     ]
    },
    {
     "name": "stdout",
     "output_type": "stream",
     "text": [
      "\n"
     ]
    }
   ],
   "source": [
    "# Define save path\n",
    "actual_production_path = os.path.join(preprocessed_path, \"actual_production.csv\")\n",
    "\n",
    "# Save to CSV\n",
    "df_actual_production.to_csv(actual_production_path, index=False)\n",
    "\n",
    "print(f\"Processed Actual Production Data Saved to: {actual_production_path}\")\n"
   ]
  },
  {
   "cell_type": "markdown",
   "metadata": {},
   "source": [
    "### Input Planned Loads Preprocessing"
   ]
  },
  {
   "cell_type": "code",
   "execution_count": 106,
   "metadata": {
    "execution": {
     "iopub.execute_input": "2025-04-10T07:36:16.660729Z",
     "iopub.status.busy": "2025-04-10T07:36:16.660729Z",
     "iopub.status.idle": "2025-04-10T07:36:16.697669Z",
     "shell.execute_reply": "2025-04-10T07:36:16.697669Z"
    }
   },
   "outputs": [
    {
     "name": "stdout",
     "output_type": "stream",
     "text": [
      "Loaded and retained required columns for input_Planned_loads.csv:\n",
      "['delivery_sk', 'actual_quantity', 'unit_of_measure_code', 'plant_code', 'transportation_planning_priority', 'material_sk', 'material_code', 'load_id', 'origin_slot_arrival', 'origin_slot_departure', 'destination_slot_arrival', 'destination_slot_departure', 'RFRC_NUM12', 'origin', 'destination', 'movement_type']\n"
     ]
    },
    {
     "data": {
      "text/html": [
       "<div>\n",
       "<style scoped>\n",
       "    .dataframe tbody tr th:only-of-type {\n",
       "        vertical-align: middle;\n",
       "    }\n",
       "\n",
       "    .dataframe tbody tr th {\n",
       "        vertical-align: top;\n",
       "    }\n",
       "\n",
       "    .dataframe thead th {\n",
       "        text-align: right;\n",
       "    }\n",
       "</style>\n",
       "<table border=\"1\" class=\"dataframe\">\n",
       "  <thead>\n",
       "    <tr style=\"text-align: right;\">\n",
       "      <th></th>\n",
       "      <th>delivery_sk</th>\n",
       "      <th>actual_quantity</th>\n",
       "      <th>unit_of_measure_code</th>\n",
       "      <th>plant_code</th>\n",
       "      <th>transportation_planning_priority</th>\n",
       "      <th>material_sk</th>\n",
       "      <th>material_code</th>\n",
       "      <th>load_id</th>\n",
       "      <th>origin_slot_arrival</th>\n",
       "      <th>origin_slot_departure</th>\n",
       "      <th>destination_slot_arrival</th>\n",
       "      <th>destination_slot_departure</th>\n",
       "      <th>RFRC_NUM12</th>\n",
       "      <th>origin</th>\n",
       "      <th>destination</th>\n",
       "      <th>movement_type</th>\n",
       "    </tr>\n",
       "  </thead>\n",
       "  <tbody>\n",
       "    <tr>\n",
       "      <th>0</th>\n",
       "      <td>81728721</td>\n",
       "      <td>4680.0</td>\n",
       "      <td>PC</td>\n",
       "      <td>GB01</td>\n",
       "      <td>01</td>\n",
       "      <td>1977870</td>\n",
       "      <td>99150</td>\n",
       "      <td>34718714</td>\n",
       "      <td>2025-04-10 08:00:00</td>\n",
       "      <td>2025-04-10 08:30:00</td>\n",
       "      <td>NaN</td>\n",
       "      <td>NaN</td>\n",
       "      <td>0021820530</td>\n",
       "      <td>GB01</td>\n",
       "      <td>29585614</td>\n",
       "      <td>SO</td>\n",
       "    </tr>\n",
       "    <tr>\n",
       "      <th>1</th>\n",
       "      <td>81649724</td>\n",
       "      <td>26.0</td>\n",
       "      <td>PC</td>\n",
       "      <td>GB67</td>\n",
       "      <td>01</td>\n",
       "      <td>1869080</td>\n",
       "      <td>108741</td>\n",
       "      <td>34714811</td>\n",
       "      <td>2025-04-10 16:00:00</td>\n",
       "      <td>2025-04-10 17:00:00</td>\n",
       "      <td>NaN</td>\n",
       "      <td>NaN</td>\n",
       "      <td>0021806479</td>\n",
       "      <td>GB67</td>\n",
       "      <td>29586301</td>\n",
       "      <td>SO</td>\n",
       "    </tr>\n",
       "    <tr>\n",
       "      <th>2</th>\n",
       "      <td>81697215</td>\n",
       "      <td>450.0</td>\n",
       "      <td>PC</td>\n",
       "      <td>GB02</td>\n",
       "      <td>01</td>\n",
       "      <td>1978473</td>\n",
       "      <td>99148</td>\n",
       "      <td>34716589</td>\n",
       "      <td>2025-04-10 15:00:00</td>\n",
       "      <td>2025-04-10 15:30:00</td>\n",
       "      <td>NaN</td>\n",
       "      <td>NaN</td>\n",
       "      <td>0021816790</td>\n",
       "      <td>GB02</td>\n",
       "      <td>29586299</td>\n",
       "      <td>SO</td>\n",
       "    </tr>\n",
       "    <tr>\n",
       "      <th>3</th>\n",
       "      <td>81687441</td>\n",
       "      <td>195.0</td>\n",
       "      <td>PC</td>\n",
       "      <td>GB01</td>\n",
       "      <td>00</td>\n",
       "      <td>1877163</td>\n",
       "      <td>105485</td>\n",
       "      <td>34716430</td>\n",
       "      <td>2025-04-10 17:00:00</td>\n",
       "      <td>2025-04-10 17:30:00</td>\n",
       "      <td>NaN</td>\n",
       "      <td>NaN</td>\n",
       "      <td>0021809360</td>\n",
       "      <td>GB01</td>\n",
       "      <td>29586017</td>\n",
       "      <td>SO</td>\n",
       "    </tr>\n",
       "    <tr>\n",
       "      <th>4</th>\n",
       "      <td>81608824</td>\n",
       "      <td>8.0</td>\n",
       "      <td>PC</td>\n",
       "      <td>GB02</td>\n",
       "      <td>12</td>\n",
       "      <td>10093</td>\n",
       "      <td>15519</td>\n",
       "      <td>34711607</td>\n",
       "      <td>2025-04-11 20:00:00</td>\n",
       "      <td>2025-04-11 20:30:00</td>\n",
       "      <td>2025-04-12 03:00:00</td>\n",
       "      <td>2025-04-12 03:30:00</td>\n",
       "      <td>4508593686</td>\n",
       "      <td>GB02</td>\n",
       "      <td>GB01</td>\n",
       "      <td>STO</td>\n",
       "    </tr>\n",
       "  </tbody>\n",
       "</table>\n",
       "</div>"
      ],
      "text/plain": [
       "  delivery_sk actual_quantity unit_of_measure_code plant_code  \\\n",
       "0    81728721          4680.0                   PC       GB01   \n",
       "1    81649724            26.0                   PC       GB67   \n",
       "2    81697215           450.0                   PC       GB02   \n",
       "3    81687441           195.0                   PC       GB01   \n",
       "4    81608824             8.0                   PC       GB02   \n",
       "\n",
       "  transportation_planning_priority material_sk material_code   load_id  \\\n",
       "0                               01     1977870         99150  34718714   \n",
       "1                               01     1869080        108741  34714811   \n",
       "2                               01     1978473         99148  34716589   \n",
       "3                               00     1877163        105485  34716430   \n",
       "4                               12       10093         15519  34711607   \n",
       "\n",
       "   origin_slot_arrival origin_slot_departure destination_slot_arrival  \\\n",
       "0  2025-04-10 08:00:00   2025-04-10 08:30:00                      NaN   \n",
       "1  2025-04-10 16:00:00   2025-04-10 17:00:00                      NaN   \n",
       "2  2025-04-10 15:00:00   2025-04-10 15:30:00                      NaN   \n",
       "3  2025-04-10 17:00:00   2025-04-10 17:30:00                      NaN   \n",
       "4  2025-04-11 20:00:00   2025-04-11 20:30:00      2025-04-12 03:00:00   \n",
       "\n",
       "  destination_slot_departure  RFRC_NUM12 origin destination movement_type  \n",
       "0                        NaN  0021820530   GB01    29585614            SO  \n",
       "1                        NaN  0021806479   GB67    29586301            SO  \n",
       "2                        NaN  0021816790   GB02    29586299            SO  \n",
       "3                        NaN  0021809360   GB01    29586017            SO  \n",
       "4        2025-04-12 03:30:00  4508593686   GB02        GB01           STO  "
      ]
     },
     "execution_count": 106,
     "metadata": {},
     "output_type": "execute_result"
    }
   ],
   "source": [
    "# Define dataset name\n",
    "file_name = \"input_Planned_loads.csv\"\n",
    "df_planned_loads = dataframes[file_name]\n",
    "required_columns_planned_loads = [\n",
    "    \"delivery_sk\", \"actual_quantity\", \"unit_of_measure_code\", \"plant_code\",\n",
    "    \"transportation_planning_priority\", \"material_sk\", \"material_code\", \"load_id\",\n",
    "    \"origin_slot_arrival\", \"origin_slot_departure\", \"destination_slot_arrival\",\n",
    "    \"destination_slot_departure\", \"RFRC_NUM12\", \"origin\", \"destination\", \"movement_type\"\n",
    "]\n",
    "df_planned_loads = df_planned_loads[required_columns_planned_loads]\n",
    "\n",
    "# Store updated DataFrame\n",
    "dataframes[file_name] = df_planned_loads\n",
    "print(f\"Loaded and retained required columns for {file_name}:\")\n",
    "print(list(df_planned_loads.columns))\n",
    "\n",
    "# Show first few rows\n",
    "df_planned_loads.head()\n"
   ]
  },
  {
   "cell_type": "markdown",
   "metadata": {},
   "source": [
    "#### Missing values "
   ]
  },
  {
   "cell_type": "code",
   "execution_count": 107,
   "metadata": {
    "execution": {
     "iopub.execute_input": "2025-04-10T07:36:16.703719Z",
     "iopub.status.busy": "2025-04-10T07:36:16.703719Z",
     "iopub.status.idle": "2025-04-10T07:36:16.730069Z",
     "shell.execute_reply": "2025-04-10T07:36:16.730069Z"
    }
   },
   "outputs": [
    {
     "name": "stdout",
     "output_type": "stream",
     "text": [
      "Missing Values Detected:\n"
     ]
    },
    {
     "data": {
      "text/html": [
       "<div>\n",
       "<style scoped>\n",
       "    .dataframe tbody tr th:only-of-type {\n",
       "        vertical-align: middle;\n",
       "    }\n",
       "\n",
       "    .dataframe tbody tr th {\n",
       "        vertical-align: top;\n",
       "    }\n",
       "\n",
       "    .dataframe thead th {\n",
       "        text-align: right;\n",
       "    }\n",
       "</style>\n",
       "<table border=\"1\" class=\"dataframe\">\n",
       "  <thead>\n",
       "    <tr style=\"text-align: right;\">\n",
       "      <th></th>\n",
       "      <th>Missing Count</th>\n",
       "      <th>Percentage</th>\n",
       "    </tr>\n",
       "  </thead>\n",
       "  <tbody>\n",
       "    <tr>\n",
       "      <th>destination_slot_arrival</th>\n",
       "      <td>2679</td>\n",
       "      <td>92.698962</td>\n",
       "    </tr>\n",
       "    <tr>\n",
       "      <th>destination_slot_departure</th>\n",
       "      <td>2679</td>\n",
       "      <td>92.698962</td>\n",
       "    </tr>\n",
       "    <tr>\n",
       "      <th>RFRC_NUM12</th>\n",
       "      <td>185</td>\n",
       "      <td>6.401384</td>\n",
       "    </tr>\n",
       "  </tbody>\n",
       "</table>\n",
       "</div>"
      ],
      "text/plain": [
       "                            Missing Count  Percentage\n",
       "destination_slot_arrival             2679   92.698962\n",
       "destination_slot_departure           2679   92.698962\n",
       "RFRC_NUM12                            185    6.401384"
      ]
     },
     "metadata": {},
     "output_type": "display_data"
    }
   ],
   "source": [
    "# Detect missing values in each column\n",
    "missing_values = df_planned_loads.isnull().sum()\n",
    "missing_percentage = (missing_values / len(df_planned_loads)) * 100\n",
    "\n",
    "# Display missing values where count > 0\n",
    "missing_df = missing_values[missing_values > 0].to_frame(name=\"Missing Count\")\n",
    "missing_df[\"Percentage\"] = missing_percentage[missing_values > 0]\n",
    "\n",
    "if not missing_df.empty:\n",
    "    print(\"Missing Values Detected:\")\n",
    "    display(missing_df)\n",
    "else:\n",
    "    print(\"No Missing Values Found in input_Planned_loads.csv.\")\n"
   ]
  },
  {
   "cell_type": "markdown",
   "metadata": {},
   "source": [
    "#### Data type validation"
   ]
  },
  {
   "cell_type": "code",
   "execution_count": 108,
   "metadata": {
    "execution": {
     "iopub.execute_input": "2025-04-10T07:36:16.736210Z",
     "iopub.status.busy": "2025-04-10T07:36:16.736210Z",
     "iopub.status.idle": "2025-04-10T07:36:16.751233Z",
     "shell.execute_reply": "2025-04-10T07:36:16.751233Z"
    }
   },
   "outputs": [
    {
     "name": "stdout",
     "output_type": "stream",
     "text": [
      "Data Type Mismatches Found:\n",
      "   - Column: delivery_sk, Found: object, Expected: int64\n",
      "   - Column: actual_quantity, Found: object, Expected: float64\n",
      "   - Column: transportation_planning_priority, Found: object, Expected: int64\n",
      "   - Column: material_sk, Found: object, Expected: int64\n",
      "   - Column: material_code, Found: object, Expected: int64\n",
      "   - Column: load_id, Found: object, Expected: int64\n",
      "   - Column: origin_slot_arrival, Found: object, Expected: datetime64[ns]\n",
      "   - Column: origin_slot_departure, Found: object, Expected: datetime64[ns]\n",
      "   - Column: destination_slot_arrival, Found: object, Expected: datetime64[ns]\n",
      "   - Column: destination_slot_departure, Found: object, Expected: datetime64[ns]\n",
      "   - Column: RFRC_NUM12, Found: object, Expected: float64\n"
     ]
    }
   ],
   "source": [
    "# Define expected data types\n",
    "expected_dtypes = {\n",
    "    \"delivery_sk\": \"int64\",\n",
    "    \"actual_quantity\": \"float64\",\n",
    "    \"unit_of_measure_code\": \"object\",\n",
    "    \"plant_code\": \"object\",\n",
    "    \"transportation_planning_priority\": \"int64\",\n",
    "    \"material_sk\": \"int64\",\n",
    "    \"material_code\": \"int64\",\n",
    "    \"load_id\": \"int64\",\n",
    "    \"origin_slot_arrival\": \"datetime64[ns]\",\n",
    "    \"origin_slot_departure\": \"datetime64[ns]\",\n",
    "    \"destination_slot_arrival\": \"datetime64[ns]\",\n",
    "    \"destination_slot_departure\": \"datetime64[ns]\",\n",
    "    \"RFRC_NUM12\": \"float64\",\n",
    "    \"origin\": \"object\",\n",
    "    \"destination\": \"object\",\n",
    "    \"movement_type\": \"object\"\n",
    "}\n",
    "\n",
    "# Identify mismatches\n",
    "mismatched_types = {\n",
    "    col: df_planned_loads[col].dtype\n",
    "    for col in expected_dtypes\n",
    "    if df_planned_loads[col].dtype != expected_dtypes[col]\n",
    "}\n",
    "\n",
    "# Display results\n",
    "if mismatched_types:\n",
    "    print(\"Data Type Mismatches Found:\")\n",
    "    for col, dtype in mismatched_types.items():\n",
    "        print(f\"   - Column: {col}, Found: {dtype}, Expected: {expected_dtypes[col]}\")\n",
    "else:\n",
    "    print(\"All Columns Have Correct Data Types.\")\n"
   ]
  },
  {
   "cell_type": "markdown",
   "metadata": {},
   "source": [
    "#### Fixing data type issues "
   ]
  },
  {
   "cell_type": "code",
   "execution_count": 109,
   "metadata": {
    "execution": {
     "iopub.execute_input": "2025-04-10T07:36:16.756392Z",
     "iopub.status.busy": "2025-04-10T07:36:16.756392Z",
     "iopub.status.idle": "2025-04-10T07:36:16.822730Z",
     "shell.execute_reply": "2025-04-10T07:36:16.820730Z"
    }
   },
   "outputs": [
    {
     "name": "stdout",
     "output_type": "stream",
     "text": [
      "Data Types Fixed.\n"
     ]
    }
   ],
   "source": [
    "# Fix Data Type Mismatches\n",
    "df_planned_loads[\"delivery_sk\"] = pd.to_numeric(df_planned_loads[\"delivery_sk\"], errors=\"coerce\")\n",
    "df_planned_loads[\"actual_quantity\"] = pd.to_numeric(df_planned_loads[\"actual_quantity\"], errors=\"coerce\")\n",
    "df_planned_loads[\"transportation_planning_priority\"] = pd.to_numeric(df_planned_loads[\"transportation_planning_priority\"], errors=\"coerce\")\n",
    "df_planned_loads[\"material_sk\"] = pd.to_numeric(df_planned_loads[\"material_sk\"], errors=\"coerce\")\n",
    "df_planned_loads[\"material_code\"] = pd.to_numeric(df_planned_loads[\"material_code\"], errors=\"coerce\")\n",
    "df_planned_loads[\"load_id\"] = pd.to_numeric(df_planned_loads[\"load_id\"], errors=\"coerce\")\n",
    "df_planned_loads[\"RFRC_NUM12\"] = pd.to_numeric(df_planned_loads[\"RFRC_NUM12\"], errors=\"coerce\")\n",
    "\n",
    "# Convert datetime columns\n",
    "datetime_cols = [\"origin_slot_arrival\", \"origin_slot_departure\", \"destination_slot_arrival\", \"destination_slot_departure\"]\n",
    "for col in datetime_cols:\n",
    "    df_planned_loads[col] = pd.to_datetime(df_planned_loads[col], errors=\"coerce\")\n",
    "\n",
    "print(\"Data Types Fixed.\")\n"
   ]
  },
  {
   "cell_type": "markdown",
   "metadata": {},
   "source": [
    "#### Duplicates"
   ]
  },
  {
   "cell_type": "code",
   "execution_count": 110,
   "metadata": {
    "execution": {
     "iopub.execute_input": "2025-04-10T07:36:16.856279Z",
     "iopub.status.busy": "2025-04-10T07:36:16.856169Z",
     "iopub.status.idle": "2025-04-10T07:36:16.930493Z",
     "shell.execute_reply": "2025-04-10T07:36:16.930493Z"
    }
   },
   "outputs": [
    {
     "name": "stdout",
     "output_type": "stream",
     "text": [
      "Duplicate Rows Found: 303 (10.48%)\n"
     ]
    },
    {
     "data": {
      "text/html": [
       "<div>\n",
       "<style scoped>\n",
       "    .dataframe tbody tr th:only-of-type {\n",
       "        vertical-align: middle;\n",
       "    }\n",
       "\n",
       "    .dataframe tbody tr th {\n",
       "        vertical-align: top;\n",
       "    }\n",
       "\n",
       "    .dataframe thead th {\n",
       "        text-align: right;\n",
       "    }\n",
       "</style>\n",
       "<table border=\"1\" class=\"dataframe\">\n",
       "  <thead>\n",
       "    <tr style=\"text-align: right;\">\n",
       "      <th></th>\n",
       "      <th>delivery_sk</th>\n",
       "      <th>actual_quantity</th>\n",
       "      <th>unit_of_measure_code</th>\n",
       "      <th>plant_code</th>\n",
       "      <th>transportation_planning_priority</th>\n",
       "      <th>material_sk</th>\n",
       "      <th>material_code</th>\n",
       "      <th>load_id</th>\n",
       "      <th>origin_slot_arrival</th>\n",
       "      <th>origin_slot_departure</th>\n",
       "      <th>destination_slot_arrival</th>\n",
       "      <th>destination_slot_departure</th>\n",
       "      <th>RFRC_NUM12</th>\n",
       "      <th>origin</th>\n",
       "      <th>destination</th>\n",
       "      <th>movement_type</th>\n",
       "    </tr>\n",
       "  </thead>\n",
       "  <tbody>\n",
       "    <tr>\n",
       "      <th>45</th>\n",
       "      <td>81701229</td>\n",
       "      <td>104.0</td>\n",
       "      <td>PC</td>\n",
       "      <td>GB02</td>\n",
       "      <td>1</td>\n",
       "      <td>28437</td>\n",
       "      <td>62651</td>\n",
       "      <td>34716845</td>\n",
       "      <td>2025-04-10 05:00:00</td>\n",
       "      <td>2025-04-10 05:30:00</td>\n",
       "      <td>NaT</td>\n",
       "      <td>NaT</td>\n",
       "      <td>21818005.0</td>\n",
       "      <td>GB02</td>\n",
       "      <td>29753937</td>\n",
       "      <td>SO</td>\n",
       "    </tr>\n",
       "    <tr>\n",
       "      <th>50</th>\n",
       "      <td>81692444</td>\n",
       "      <td>810.0</td>\n",
       "      <td>PC</td>\n",
       "      <td>GB01</td>\n",
       "      <td>1</td>\n",
       "      <td>51692</td>\n",
       "      <td>71219</td>\n",
       "      <td>34716459</td>\n",
       "      <td>2025-04-10 05:00:00</td>\n",
       "      <td>2025-04-10 05:30:00</td>\n",
       "      <td>NaT</td>\n",
       "      <td>NaT</td>\n",
       "      <td>21817158.0</td>\n",
       "      <td>GB01</td>\n",
       "      <td>29586298</td>\n",
       "      <td>SO</td>\n",
       "    </tr>\n",
       "    <tr>\n",
       "      <th>70</th>\n",
       "      <td>81710348</td>\n",
       "      <td>96.0</td>\n",
       "      <td>PC</td>\n",
       "      <td>GB01</td>\n",
       "      <td>1</td>\n",
       "      <td>68572</td>\n",
       "      <td>92223</td>\n",
       "      <td>34718004</td>\n",
       "      <td>2025-04-10 03:00:00</td>\n",
       "      <td>2025-04-10 03:30:00</td>\n",
       "      <td>NaT</td>\n",
       "      <td>NaT</td>\n",
       "      <td>21819290.0</td>\n",
       "      <td>GB01</td>\n",
       "      <td>40105060</td>\n",
       "      <td>SO</td>\n",
       "    </tr>\n",
       "    <tr>\n",
       "      <th>93</th>\n",
       "      <td>81668168</td>\n",
       "      <td>300.0</td>\n",
       "      <td>PC</td>\n",
       "      <td>GB02</td>\n",
       "      <td>1</td>\n",
       "      <td>1875675</td>\n",
       "      <td>102772</td>\n",
       "      <td>34715044</td>\n",
       "      <td>2025-04-10 06:00:00</td>\n",
       "      <td>2025-04-10 06:30:00</td>\n",
       "      <td>NaT</td>\n",
       "      <td>NaT</td>\n",
       "      <td>21813671.0</td>\n",
       "      <td>GB02</td>\n",
       "      <td>29585616</td>\n",
       "      <td>SO</td>\n",
       "    </tr>\n",
       "    <tr>\n",
       "      <th>98</th>\n",
       "      <td>81710499</td>\n",
       "      <td>120.0</td>\n",
       "      <td>PC</td>\n",
       "      <td>GB01</td>\n",
       "      <td>1</td>\n",
       "      <td>12111</td>\n",
       "      <td>15614</td>\n",
       "      <td>34718009</td>\n",
       "      <td>2025-04-10 05:00:00</td>\n",
       "      <td>2025-04-10 05:30:00</td>\n",
       "      <td>NaT</td>\n",
       "      <td>NaT</td>\n",
       "      <td>21819492.0</td>\n",
       "      <td>GB01</td>\n",
       "      <td>40105060</td>\n",
       "      <td>SO</td>\n",
       "    </tr>\n",
       "    <tr>\n",
       "      <th>105</th>\n",
       "      <td>81701229</td>\n",
       "      <td>1.0</td>\n",
       "      <td>PC</td>\n",
       "      <td>GB02</td>\n",
       "      <td>1</td>\n",
       "      <td>28437</td>\n",
       "      <td>62651</td>\n",
       "      <td>34716845</td>\n",
       "      <td>2025-04-10 05:00:00</td>\n",
       "      <td>2025-04-10 05:30:00</td>\n",
       "      <td>NaT</td>\n",
       "      <td>NaT</td>\n",
       "      <td>21818005.0</td>\n",
       "      <td>GB02</td>\n",
       "      <td>29753937</td>\n",
       "      <td>SO</td>\n",
       "    </tr>\n",
       "    <tr>\n",
       "      <th>110</th>\n",
       "      <td>81692444</td>\n",
       "      <td>450.0</td>\n",
       "      <td>PC</td>\n",
       "      <td>GB01</td>\n",
       "      <td>1</td>\n",
       "      <td>47482</td>\n",
       "      <td>71242</td>\n",
       "      <td>34716459</td>\n",
       "      <td>2025-04-10 05:00:00</td>\n",
       "      <td>2025-04-10 05:30:00</td>\n",
       "      <td>NaT</td>\n",
       "      <td>NaT</td>\n",
       "      <td>21817158.0</td>\n",
       "      <td>GB01</td>\n",
       "      <td>29586298</td>\n",
       "      <td>SO</td>\n",
       "    </tr>\n",
       "    <tr>\n",
       "      <th>117</th>\n",
       "      <td>81697118</td>\n",
       "      <td>210.0</td>\n",
       "      <td>PC</td>\n",
       "      <td>GB02</td>\n",
       "      <td>1</td>\n",
       "      <td>28437</td>\n",
       "      <td>62651</td>\n",
       "      <td>34716591</td>\n",
       "      <td>2025-04-10 03:00:00</td>\n",
       "      <td>2025-04-10 03:30:00</td>\n",
       "      <td>NaT</td>\n",
       "      <td>NaT</td>\n",
       "      <td>21817451.0</td>\n",
       "      <td>GB02</td>\n",
       "      <td>29585416</td>\n",
       "      <td>SO</td>\n",
       "    </tr>\n",
       "    <tr>\n",
       "      <th>137</th>\n",
       "      <td>81700882</td>\n",
       "      <td>1680.0</td>\n",
       "      <td>PC</td>\n",
       "      <td>GB28</td>\n",
       "      <td>1</td>\n",
       "      <td>73796</td>\n",
       "      <td>93980</td>\n",
       "      <td>34716737</td>\n",
       "      <td>2025-04-10 05:00:00</td>\n",
       "      <td>2025-04-10 06:00:00</td>\n",
       "      <td>NaT</td>\n",
       "      <td>NaT</td>\n",
       "      <td>21818415.0</td>\n",
       "      <td>GB28</td>\n",
       "      <td>29585508</td>\n",
       "      <td>SO</td>\n",
       "    </tr>\n",
       "    <tr>\n",
       "      <th>153</th>\n",
       "      <td>81668168</td>\n",
       "      <td>150.0</td>\n",
       "      <td>PC</td>\n",
       "      <td>GB02</td>\n",
       "      <td>1</td>\n",
       "      <td>1875675</td>\n",
       "      <td>102772</td>\n",
       "      <td>34715044</td>\n",
       "      <td>2025-04-10 06:00:00</td>\n",
       "      <td>2025-04-10 06:30:00</td>\n",
       "      <td>NaT</td>\n",
       "      <td>NaT</td>\n",
       "      <td>21813671.0</td>\n",
       "      <td>GB02</td>\n",
       "      <td>29585616</td>\n",
       "      <td>SO</td>\n",
       "    </tr>\n",
       "  </tbody>\n",
       "</table>\n",
       "</div>"
      ],
      "text/plain": [
       "     delivery_sk  actual_quantity unit_of_measure_code plant_code  \\\n",
       "45      81701229            104.0                   PC       GB02   \n",
       "50      81692444            810.0                   PC       GB01   \n",
       "70      81710348             96.0                   PC       GB01   \n",
       "93      81668168            300.0                   PC       GB02   \n",
       "98      81710499            120.0                   PC       GB01   \n",
       "105     81701229              1.0                   PC       GB02   \n",
       "110     81692444            450.0                   PC       GB01   \n",
       "117     81697118            210.0                   PC       GB02   \n",
       "137     81700882           1680.0                   PC       GB28   \n",
       "153     81668168            150.0                   PC       GB02   \n",
       "\n",
       "     transportation_planning_priority  material_sk  material_code   load_id  \\\n",
       "45                                  1        28437          62651  34716845   \n",
       "50                                  1        51692          71219  34716459   \n",
       "70                                  1        68572          92223  34718004   \n",
       "93                                  1      1875675         102772  34715044   \n",
       "98                                  1        12111          15614  34718009   \n",
       "105                                 1        28437          62651  34716845   \n",
       "110                                 1        47482          71242  34716459   \n",
       "117                                 1        28437          62651  34716591   \n",
       "137                                 1        73796          93980  34716737   \n",
       "153                                 1      1875675         102772  34715044   \n",
       "\n",
       "    origin_slot_arrival origin_slot_departure destination_slot_arrival  \\\n",
       "45  2025-04-10 05:00:00   2025-04-10 05:30:00                      NaT   \n",
       "50  2025-04-10 05:00:00   2025-04-10 05:30:00                      NaT   \n",
       "70  2025-04-10 03:00:00   2025-04-10 03:30:00                      NaT   \n",
       "93  2025-04-10 06:00:00   2025-04-10 06:30:00                      NaT   \n",
       "98  2025-04-10 05:00:00   2025-04-10 05:30:00                      NaT   \n",
       "105 2025-04-10 05:00:00   2025-04-10 05:30:00                      NaT   \n",
       "110 2025-04-10 05:00:00   2025-04-10 05:30:00                      NaT   \n",
       "117 2025-04-10 03:00:00   2025-04-10 03:30:00                      NaT   \n",
       "137 2025-04-10 05:00:00   2025-04-10 06:00:00                      NaT   \n",
       "153 2025-04-10 06:00:00   2025-04-10 06:30:00                      NaT   \n",
       "\n",
       "    destination_slot_departure  RFRC_NUM12 origin destination movement_type  \n",
       "45                         NaT  21818005.0   GB02    29753937            SO  \n",
       "50                         NaT  21817158.0   GB01    29586298            SO  \n",
       "70                         NaT  21819290.0   GB01    40105060            SO  \n",
       "93                         NaT  21813671.0   GB02    29585616            SO  \n",
       "98                         NaT  21819492.0   GB01    40105060            SO  \n",
       "105                        NaT  21818005.0   GB02    29753937            SO  \n",
       "110                        NaT  21817158.0   GB01    29586298            SO  \n",
       "117                        NaT  21817451.0   GB02    29585416            SO  \n",
       "137                        NaT  21818415.0   GB28    29585508            SO  \n",
       "153                        NaT  21813671.0   GB02    29585616            SO  "
      ]
     },
     "metadata": {},
     "output_type": "display_data"
    }
   ],
   "source": [
    "# Detect duplicate rows based on key columns\n",
    "duplicate_rows = df_planned_loads.duplicated(\n",
    "    subset=[\"RFRC_NUM12\", \"load_id\", \"movement_type\", \"transportation_planning_priority\",\n",
    "    \"origin\", \"destination\", \"origin_slot_arrival\", \"origin_slot_departure\",\n",
    "    \"destination_slot_arrival\", \"destination_slot_departure\", \"material_sk\",\n",
    "    \"material_code\", \"unit_of_measure_code\"],\n",
    "    keep=False\n",
    ")\n",
    "\n",
    "duplicate_count = duplicate_rows.sum()\n",
    "duplicate_percentage = (duplicate_count / len(df_planned_loads)) * 100\n",
    "\n",
    "print(f\"Duplicate Rows Found: {duplicate_count} ({duplicate_percentage:.2f}%)\")\n",
    "\n",
    "# Display a few duplicate rows for analysis\n",
    "if duplicate_count > 0:\n",
    "    display(df_planned_loads[duplicate_rows].head(10))\n",
    "else:\n",
    "    print(\"No duplicate rows found.\")\n"
   ]
  },
  {
   "cell_type": "markdown",
   "metadata": {},
   "source": [
    "#### Aggregation using actual quantity"
   ]
  },
  {
   "cell_type": "code",
   "execution_count": 111,
   "metadata": {
    "execution": {
     "iopub.execute_input": "2025-04-10T07:36:16.963950Z",
     "iopub.status.busy": "2025-04-10T07:36:16.952035Z",
     "iopub.status.idle": "2025-04-10T07:36:17.032861Z",
     "shell.execute_reply": "2025-04-10T07:36:17.031811Z"
    }
   },
   "outputs": [
    {
     "name": "stdout",
     "output_type": "stream",
     "text": [
      "Aggregation completed. Remaining rows: 195\n"
     ]
    },
    {
     "data": {
      "text/html": [
       "<div>\n",
       "<style scoped>\n",
       "    .dataframe tbody tr th:only-of-type {\n",
       "        vertical-align: middle;\n",
       "    }\n",
       "\n",
       "    .dataframe tbody tr th {\n",
       "        vertical-align: top;\n",
       "    }\n",
       "\n",
       "    .dataframe thead th {\n",
       "        text-align: right;\n",
       "    }\n",
       "</style>\n",
       "<table border=\"1\" class=\"dataframe\">\n",
       "  <thead>\n",
       "    <tr style=\"text-align: right;\">\n",
       "      <th></th>\n",
       "      <th>RFRC_NUM12</th>\n",
       "      <th>load_id</th>\n",
       "      <th>movement_type</th>\n",
       "      <th>transportation_planning_priority</th>\n",
       "      <th>origin</th>\n",
       "      <th>destination</th>\n",
       "      <th>origin_slot_arrival</th>\n",
       "      <th>origin_slot_departure</th>\n",
       "      <th>destination_slot_arrival</th>\n",
       "      <th>destination_slot_departure</th>\n",
       "      <th>material_sk</th>\n",
       "      <th>material_code</th>\n",
       "      <th>plant_code</th>\n",
       "      <th>unit_of_measure_code</th>\n",
       "      <th>actual_quantity</th>\n",
       "    </tr>\n",
       "  </thead>\n",
       "  <tbody>\n",
       "    <tr>\n",
       "      <th>0</th>\n",
       "      <td>4.508588e+09</td>\n",
       "      <td>34707610</td>\n",
       "      <td>STO</td>\n",
       "      <td>12</td>\n",
       "      <td>GB02</td>\n",
       "      <td>GB01</td>\n",
       "      <td>2025-04-10 22:30:00</td>\n",
       "      <td>2025-04-10 23:00:00</td>\n",
       "      <td>2025-04-11 03:00:00</td>\n",
       "      <td>2025-04-11 03:30:00</td>\n",
       "      <td>1009912</td>\n",
       "      <td>51399758</td>\n",
       "      <td>GB02</td>\n",
       "      <td>KG</td>\n",
       "      <td>736.0</td>\n",
       "    </tr>\n",
       "    <tr>\n",
       "      <th>1</th>\n",
       "      <td>4.508593e+09</td>\n",
       "      <td>34709785</td>\n",
       "      <td>STO</td>\n",
       "      <td>13</td>\n",
       "      <td>GB28</td>\n",
       "      <td>CH01</td>\n",
       "      <td>2025-04-11 08:00:00</td>\n",
       "      <td>2025-04-11 09:00:00</td>\n",
       "      <td>2025-04-15 09:00:00</td>\n",
       "      <td>2025-04-15 10:00:00</td>\n",
       "      <td>1873371</td>\n",
       "      <td>107643</td>\n",
       "      <td>GB28</td>\n",
       "      <td>PC</td>\n",
       "      <td>2340.0</td>\n",
       "    </tr>\n",
       "    <tr>\n",
       "      <th>2</th>\n",
       "      <td>4.508593e+09</td>\n",
       "      <td>34709786</td>\n",
       "      <td>STO</td>\n",
       "      <td>13</td>\n",
       "      <td>GB28</td>\n",
       "      <td>CH01</td>\n",
       "      <td>2025-04-10 11:00:00</td>\n",
       "      <td>2025-04-10 12:00:00</td>\n",
       "      <td>2025-04-14 07:00:00</td>\n",
       "      <td>2025-04-14 08:00:00</td>\n",
       "      <td>1873371</td>\n",
       "      <td>107643</td>\n",
       "      <td>GB28</td>\n",
       "      <td>PC</td>\n",
       "      <td>2340.0</td>\n",
       "    </tr>\n",
       "    <tr>\n",
       "      <th>3</th>\n",
       "      <td>4.508594e+09</td>\n",
       "      <td>34710108</td>\n",
       "      <td>STO</td>\n",
       "      <td>12</td>\n",
       "      <td>GB01</td>\n",
       "      <td>GB02</td>\n",
       "      <td>2025-04-11 17:00:00</td>\n",
       "      <td>2025-04-11 17:30:00</td>\n",
       "      <td>2025-04-11 22:00:00</td>\n",
       "      <td>2025-04-11 22:30:00</td>\n",
       "      <td>36746</td>\n",
       "      <td>49799</td>\n",
       "      <td>GB01</td>\n",
       "      <td>PC</td>\n",
       "      <td>72.0</td>\n",
       "    </tr>\n",
       "    <tr>\n",
       "      <th>4</th>\n",
       "      <td>4.508594e+09</td>\n",
       "      <td>34710108</td>\n",
       "      <td>STO</td>\n",
       "      <td>12</td>\n",
       "      <td>GB01</td>\n",
       "      <td>GB02</td>\n",
       "      <td>2025-04-11 17:00:00</td>\n",
       "      <td>2025-04-11 17:30:00</td>\n",
       "      <td>2025-04-11 22:00:00</td>\n",
       "      <td>2025-04-11 22:30:00</td>\n",
       "      <td>1907157</td>\n",
       "      <td>107750</td>\n",
       "      <td>GB01</td>\n",
       "      <td>PC</td>\n",
       "      <td>1320.0</td>\n",
       "    </tr>\n",
       "    <tr>\n",
       "      <th>5</th>\n",
       "      <td>4.508594e+09</td>\n",
       "      <td>34710108</td>\n",
       "      <td>STO</td>\n",
       "      <td>12</td>\n",
       "      <td>GB01</td>\n",
       "      <td>GB02</td>\n",
       "      <td>2025-04-11 17:00:00</td>\n",
       "      <td>2025-04-11 17:30:00</td>\n",
       "      <td>2025-04-11 22:00:00</td>\n",
       "      <td>2025-04-11 22:30:00</td>\n",
       "      <td>1983159</td>\n",
       "      <td>99214</td>\n",
       "      <td>GB01</td>\n",
       "      <td>PC</td>\n",
       "      <td>1368.0</td>\n",
       "    </tr>\n",
       "    <tr>\n",
       "      <th>6</th>\n",
       "      <td>4.508594e+09</td>\n",
       "      <td>34710214</td>\n",
       "      <td>STO</td>\n",
       "      <td>11</td>\n",
       "      <td>GB02</td>\n",
       "      <td>GB67</td>\n",
       "      <td>2025-04-10 12:00:00</td>\n",
       "      <td>2025-04-10 12:30:00</td>\n",
       "      <td>2025-04-10 14:00:00</td>\n",
       "      <td>2025-04-10 15:00:00</td>\n",
       "      <td>49997</td>\n",
       "      <td>62275</td>\n",
       "      <td>GB02</td>\n",
       "      <td>PC</td>\n",
       "      <td>432.0</td>\n",
       "    </tr>\n",
       "    <tr>\n",
       "      <th>7</th>\n",
       "      <td>4.508594e+09</td>\n",
       "      <td>34710214</td>\n",
       "      <td>STO</td>\n",
       "      <td>11</td>\n",
       "      <td>GB02</td>\n",
       "      <td>GB67</td>\n",
       "      <td>2025-04-10 12:00:00</td>\n",
       "      <td>2025-04-10 12:30:00</td>\n",
       "      <td>2025-04-10 14:00:00</td>\n",
       "      <td>2025-04-10 15:00:00</td>\n",
       "      <td>1876455</td>\n",
       "      <td>102785</td>\n",
       "      <td>GB02</td>\n",
       "      <td>PC</td>\n",
       "      <td>1170.0</td>\n",
       "    </tr>\n",
       "    <tr>\n",
       "      <th>8</th>\n",
       "      <td>4.508594e+09</td>\n",
       "      <td>34710214</td>\n",
       "      <td>STO</td>\n",
       "      <td>11</td>\n",
       "      <td>GB02</td>\n",
       "      <td>GB67</td>\n",
       "      <td>2025-04-10 12:00:00</td>\n",
       "      <td>2025-04-10 12:30:00</td>\n",
       "      <td>2025-04-10 14:00:00</td>\n",
       "      <td>2025-04-10 15:00:00</td>\n",
       "      <td>1895214</td>\n",
       "      <td>107437</td>\n",
       "      <td>GB02</td>\n",
       "      <td>PC</td>\n",
       "      <td>1000.0</td>\n",
       "    </tr>\n",
       "    <tr>\n",
       "      <th>9</th>\n",
       "      <td>4.508594e+09</td>\n",
       "      <td>34710104</td>\n",
       "      <td>STO</td>\n",
       "      <td>12</td>\n",
       "      <td>GB01</td>\n",
       "      <td>GB02</td>\n",
       "      <td>2025-04-10 23:00:00</td>\n",
       "      <td>2025-04-10 23:30:00</td>\n",
       "      <td>2025-04-11 04:30:00</td>\n",
       "      <td>2025-04-11 05:00:00</td>\n",
       "      <td>36746</td>\n",
       "      <td>49799</td>\n",
       "      <td>GB01</td>\n",
       "      <td>PC</td>\n",
       "      <td>1512.0</td>\n",
       "    </tr>\n",
       "  </tbody>\n",
       "</table>\n",
       "</div>"
      ],
      "text/plain": [
       "     RFRC_NUM12   load_id movement_type  transportation_planning_priority  \\\n",
       "0  4.508588e+09  34707610           STO                                12   \n",
       "1  4.508593e+09  34709785           STO                                13   \n",
       "2  4.508593e+09  34709786           STO                                13   \n",
       "3  4.508594e+09  34710108           STO                                12   \n",
       "4  4.508594e+09  34710108           STO                                12   \n",
       "5  4.508594e+09  34710108           STO                                12   \n",
       "6  4.508594e+09  34710214           STO                                11   \n",
       "7  4.508594e+09  34710214           STO                                11   \n",
       "8  4.508594e+09  34710214           STO                                11   \n",
       "9  4.508594e+09  34710104           STO                                12   \n",
       "\n",
       "  origin destination origin_slot_arrival origin_slot_departure  \\\n",
       "0   GB02        GB01 2025-04-10 22:30:00   2025-04-10 23:00:00   \n",
       "1   GB28        CH01 2025-04-11 08:00:00   2025-04-11 09:00:00   \n",
       "2   GB28        CH01 2025-04-10 11:00:00   2025-04-10 12:00:00   \n",
       "3   GB01        GB02 2025-04-11 17:00:00   2025-04-11 17:30:00   \n",
       "4   GB01        GB02 2025-04-11 17:00:00   2025-04-11 17:30:00   \n",
       "5   GB01        GB02 2025-04-11 17:00:00   2025-04-11 17:30:00   \n",
       "6   GB02        GB67 2025-04-10 12:00:00   2025-04-10 12:30:00   \n",
       "7   GB02        GB67 2025-04-10 12:00:00   2025-04-10 12:30:00   \n",
       "8   GB02        GB67 2025-04-10 12:00:00   2025-04-10 12:30:00   \n",
       "9   GB01        GB02 2025-04-10 23:00:00   2025-04-10 23:30:00   \n",
       "\n",
       "  destination_slot_arrival destination_slot_departure  material_sk  \\\n",
       "0      2025-04-11 03:00:00        2025-04-11 03:30:00      1009912   \n",
       "1      2025-04-15 09:00:00        2025-04-15 10:00:00      1873371   \n",
       "2      2025-04-14 07:00:00        2025-04-14 08:00:00      1873371   \n",
       "3      2025-04-11 22:00:00        2025-04-11 22:30:00        36746   \n",
       "4      2025-04-11 22:00:00        2025-04-11 22:30:00      1907157   \n",
       "5      2025-04-11 22:00:00        2025-04-11 22:30:00      1983159   \n",
       "6      2025-04-10 14:00:00        2025-04-10 15:00:00        49997   \n",
       "7      2025-04-10 14:00:00        2025-04-10 15:00:00      1876455   \n",
       "8      2025-04-10 14:00:00        2025-04-10 15:00:00      1895214   \n",
       "9      2025-04-11 04:30:00        2025-04-11 05:00:00        36746   \n",
       "\n",
       "   material_code plant_code unit_of_measure_code  actual_quantity  \n",
       "0       51399758       GB02                   KG            736.0  \n",
       "1         107643       GB28                   PC           2340.0  \n",
       "2         107643       GB28                   PC           2340.0  \n",
       "3          49799       GB01                   PC             72.0  \n",
       "4         107750       GB01                   PC           1320.0  \n",
       "5          99214       GB01                   PC           1368.0  \n",
       "6          62275       GB02                   PC            432.0  \n",
       "7         102785       GB02                   PC           1170.0  \n",
       "8         107437       GB02                   PC           1000.0  \n",
       "9          49799       GB01                   PC           1512.0  "
      ]
     },
     "metadata": {},
     "output_type": "display_data"
    }
   ],
   "source": [
    "# Aggregate sum of actual quantity based on specified columns\n",
    "aggregation_columns = [\n",
    "    \"RFRC_NUM12\", \"load_id\", \"movement_type\", \"transportation_planning_priority\",\n",
    "    \"origin\", \"destination\", \"origin_slot_arrival\", \"origin_slot_departure\",\n",
    "    \"destination_slot_arrival\", \"destination_slot_departure\", \"material_sk\",\n",
    "    \"material_code\",\"plant_code\",\"unit_of_measure_code\"\n",
    "]\n",
    "\n",
    "df_planned_loads = df_planned_loads.groupby(aggregation_columns, as_index=False).agg({\n",
    "    \"actual_quantity\": \"sum\"\n",
    "})\n",
    "\n",
    "# Display confirmation\n",
    "print(f\"Aggregation completed. Remaining rows: {len(df_planned_loads)}\")\n",
    "display(df_planned_loads.head(10))\n"
   ]
  },
  {
   "cell_type": "markdown",
   "metadata": {},
   "source": [
    "#### Filtering based on 2 days from run date"
   ]
  },
  {
   "cell_type": "code",
   "execution_count": 112,
   "metadata": {
    "execution": {
     "iopub.execute_input": "2025-04-10T07:36:17.040959Z",
     "iopub.status.busy": "2025-04-10T07:36:17.032861Z",
     "iopub.status.idle": "2025-04-10T07:36:17.124904Z",
     "shell.execute_reply": "2025-04-10T07:36:17.124904Z"
    }
   },
   "outputs": [
    {
     "name": "stdout",
     "output_type": "stream",
     "text": [
      "Filter Applied: Kept 195 rows out of 195.\n"
     ]
    },
    {
     "data": {
      "text/html": [
       "<div>\n",
       "<style scoped>\n",
       "    .dataframe tbody tr th:only-of-type {\n",
       "        vertical-align: middle;\n",
       "    }\n",
       "\n",
       "    .dataframe tbody tr th {\n",
       "        vertical-align: top;\n",
       "    }\n",
       "\n",
       "    .dataframe thead th {\n",
       "        text-align: right;\n",
       "    }\n",
       "</style>\n",
       "<table border=\"1\" class=\"dataframe\">\n",
       "  <thead>\n",
       "    <tr style=\"text-align: right;\">\n",
       "      <th></th>\n",
       "      <th>RFRC_NUM12</th>\n",
       "      <th>load_id</th>\n",
       "      <th>movement_type</th>\n",
       "      <th>transportation_planning_priority</th>\n",
       "      <th>origin</th>\n",
       "      <th>destination</th>\n",
       "      <th>origin_slot_arrival</th>\n",
       "      <th>origin_slot_departure</th>\n",
       "      <th>destination_slot_arrival</th>\n",
       "      <th>destination_slot_departure</th>\n",
       "      <th>material_sk</th>\n",
       "      <th>material_code</th>\n",
       "      <th>plant_code</th>\n",
       "      <th>unit_of_measure_code</th>\n",
       "      <th>actual_quantity</th>\n",
       "    </tr>\n",
       "  </thead>\n",
       "  <tbody>\n",
       "    <tr>\n",
       "      <th>0</th>\n",
       "      <td>4.508588e+09</td>\n",
       "      <td>34707610</td>\n",
       "      <td>STO</td>\n",
       "      <td>12</td>\n",
       "      <td>GB02</td>\n",
       "      <td>GB01</td>\n",
       "      <td>2025-04-10 22:30:00</td>\n",
       "      <td>2025-04-10 23:00:00</td>\n",
       "      <td>2025-04-11 03:00:00</td>\n",
       "      <td>2025-04-11 03:30:00</td>\n",
       "      <td>1009912</td>\n",
       "      <td>51399758</td>\n",
       "      <td>GB02</td>\n",
       "      <td>KG</td>\n",
       "      <td>736.0</td>\n",
       "    </tr>\n",
       "    <tr>\n",
       "      <th>1</th>\n",
       "      <td>4.508593e+09</td>\n",
       "      <td>34709785</td>\n",
       "      <td>STO</td>\n",
       "      <td>13</td>\n",
       "      <td>GB28</td>\n",
       "      <td>CH01</td>\n",
       "      <td>2025-04-11 08:00:00</td>\n",
       "      <td>2025-04-11 09:00:00</td>\n",
       "      <td>2025-04-15 09:00:00</td>\n",
       "      <td>2025-04-15 10:00:00</td>\n",
       "      <td>1873371</td>\n",
       "      <td>107643</td>\n",
       "      <td>GB28</td>\n",
       "      <td>PC</td>\n",
       "      <td>2340.0</td>\n",
       "    </tr>\n",
       "    <tr>\n",
       "      <th>2</th>\n",
       "      <td>4.508593e+09</td>\n",
       "      <td>34709786</td>\n",
       "      <td>STO</td>\n",
       "      <td>13</td>\n",
       "      <td>GB28</td>\n",
       "      <td>CH01</td>\n",
       "      <td>2025-04-10 11:00:00</td>\n",
       "      <td>2025-04-10 12:00:00</td>\n",
       "      <td>2025-04-14 07:00:00</td>\n",
       "      <td>2025-04-14 08:00:00</td>\n",
       "      <td>1873371</td>\n",
       "      <td>107643</td>\n",
       "      <td>GB28</td>\n",
       "      <td>PC</td>\n",
       "      <td>2340.0</td>\n",
       "    </tr>\n",
       "    <tr>\n",
       "      <th>3</th>\n",
       "      <td>4.508594e+09</td>\n",
       "      <td>34710108</td>\n",
       "      <td>STO</td>\n",
       "      <td>12</td>\n",
       "      <td>GB01</td>\n",
       "      <td>GB02</td>\n",
       "      <td>2025-04-11 17:00:00</td>\n",
       "      <td>2025-04-11 17:30:00</td>\n",
       "      <td>2025-04-11 22:00:00</td>\n",
       "      <td>2025-04-11 22:30:00</td>\n",
       "      <td>36746</td>\n",
       "      <td>49799</td>\n",
       "      <td>GB01</td>\n",
       "      <td>PC</td>\n",
       "      <td>72.0</td>\n",
       "    </tr>\n",
       "    <tr>\n",
       "      <th>4</th>\n",
       "      <td>4.508594e+09</td>\n",
       "      <td>34710108</td>\n",
       "      <td>STO</td>\n",
       "      <td>12</td>\n",
       "      <td>GB01</td>\n",
       "      <td>GB02</td>\n",
       "      <td>2025-04-11 17:00:00</td>\n",
       "      <td>2025-04-11 17:30:00</td>\n",
       "      <td>2025-04-11 22:00:00</td>\n",
       "      <td>2025-04-11 22:30:00</td>\n",
       "      <td>1907157</td>\n",
       "      <td>107750</td>\n",
       "      <td>GB01</td>\n",
       "      <td>PC</td>\n",
       "      <td>1320.0</td>\n",
       "    </tr>\n",
       "    <tr>\n",
       "      <th>5</th>\n",
       "      <td>4.508594e+09</td>\n",
       "      <td>34710108</td>\n",
       "      <td>STO</td>\n",
       "      <td>12</td>\n",
       "      <td>GB01</td>\n",
       "      <td>GB02</td>\n",
       "      <td>2025-04-11 17:00:00</td>\n",
       "      <td>2025-04-11 17:30:00</td>\n",
       "      <td>2025-04-11 22:00:00</td>\n",
       "      <td>2025-04-11 22:30:00</td>\n",
       "      <td>1983159</td>\n",
       "      <td>99214</td>\n",
       "      <td>GB01</td>\n",
       "      <td>PC</td>\n",
       "      <td>1368.0</td>\n",
       "    </tr>\n",
       "    <tr>\n",
       "      <th>6</th>\n",
       "      <td>4.508594e+09</td>\n",
       "      <td>34710214</td>\n",
       "      <td>STO</td>\n",
       "      <td>11</td>\n",
       "      <td>GB02</td>\n",
       "      <td>GB67</td>\n",
       "      <td>2025-04-10 12:00:00</td>\n",
       "      <td>2025-04-10 12:30:00</td>\n",
       "      <td>2025-04-10 14:00:00</td>\n",
       "      <td>2025-04-10 15:00:00</td>\n",
       "      <td>49997</td>\n",
       "      <td>62275</td>\n",
       "      <td>GB02</td>\n",
       "      <td>PC</td>\n",
       "      <td>432.0</td>\n",
       "    </tr>\n",
       "    <tr>\n",
       "      <th>7</th>\n",
       "      <td>4.508594e+09</td>\n",
       "      <td>34710214</td>\n",
       "      <td>STO</td>\n",
       "      <td>11</td>\n",
       "      <td>GB02</td>\n",
       "      <td>GB67</td>\n",
       "      <td>2025-04-10 12:00:00</td>\n",
       "      <td>2025-04-10 12:30:00</td>\n",
       "      <td>2025-04-10 14:00:00</td>\n",
       "      <td>2025-04-10 15:00:00</td>\n",
       "      <td>1876455</td>\n",
       "      <td>102785</td>\n",
       "      <td>GB02</td>\n",
       "      <td>PC</td>\n",
       "      <td>1170.0</td>\n",
       "    </tr>\n",
       "    <tr>\n",
       "      <th>8</th>\n",
       "      <td>4.508594e+09</td>\n",
       "      <td>34710214</td>\n",
       "      <td>STO</td>\n",
       "      <td>11</td>\n",
       "      <td>GB02</td>\n",
       "      <td>GB67</td>\n",
       "      <td>2025-04-10 12:00:00</td>\n",
       "      <td>2025-04-10 12:30:00</td>\n",
       "      <td>2025-04-10 14:00:00</td>\n",
       "      <td>2025-04-10 15:00:00</td>\n",
       "      <td>1895214</td>\n",
       "      <td>107437</td>\n",
       "      <td>GB02</td>\n",
       "      <td>PC</td>\n",
       "      <td>1000.0</td>\n",
       "    </tr>\n",
       "    <tr>\n",
       "      <th>9</th>\n",
       "      <td>4.508594e+09</td>\n",
       "      <td>34710104</td>\n",
       "      <td>STO</td>\n",
       "      <td>12</td>\n",
       "      <td>GB01</td>\n",
       "      <td>GB02</td>\n",
       "      <td>2025-04-10 23:00:00</td>\n",
       "      <td>2025-04-10 23:30:00</td>\n",
       "      <td>2025-04-11 04:30:00</td>\n",
       "      <td>2025-04-11 05:00:00</td>\n",
       "      <td>36746</td>\n",
       "      <td>49799</td>\n",
       "      <td>GB01</td>\n",
       "      <td>PC</td>\n",
       "      <td>1512.0</td>\n",
       "    </tr>\n",
       "  </tbody>\n",
       "</table>\n",
       "</div>"
      ],
      "text/plain": [
       "     RFRC_NUM12   load_id movement_type  transportation_planning_priority  \\\n",
       "0  4.508588e+09  34707610           STO                                12   \n",
       "1  4.508593e+09  34709785           STO                                13   \n",
       "2  4.508593e+09  34709786           STO                                13   \n",
       "3  4.508594e+09  34710108           STO                                12   \n",
       "4  4.508594e+09  34710108           STO                                12   \n",
       "5  4.508594e+09  34710108           STO                                12   \n",
       "6  4.508594e+09  34710214           STO                                11   \n",
       "7  4.508594e+09  34710214           STO                                11   \n",
       "8  4.508594e+09  34710214           STO                                11   \n",
       "9  4.508594e+09  34710104           STO                                12   \n",
       "\n",
       "  origin destination origin_slot_arrival origin_slot_departure  \\\n",
       "0   GB02        GB01 2025-04-10 22:30:00   2025-04-10 23:00:00   \n",
       "1   GB28        CH01 2025-04-11 08:00:00   2025-04-11 09:00:00   \n",
       "2   GB28        CH01 2025-04-10 11:00:00   2025-04-10 12:00:00   \n",
       "3   GB01        GB02 2025-04-11 17:00:00   2025-04-11 17:30:00   \n",
       "4   GB01        GB02 2025-04-11 17:00:00   2025-04-11 17:30:00   \n",
       "5   GB01        GB02 2025-04-11 17:00:00   2025-04-11 17:30:00   \n",
       "6   GB02        GB67 2025-04-10 12:00:00   2025-04-10 12:30:00   \n",
       "7   GB02        GB67 2025-04-10 12:00:00   2025-04-10 12:30:00   \n",
       "8   GB02        GB67 2025-04-10 12:00:00   2025-04-10 12:30:00   \n",
       "9   GB01        GB02 2025-04-10 23:00:00   2025-04-10 23:30:00   \n",
       "\n",
       "  destination_slot_arrival destination_slot_departure  material_sk  \\\n",
       "0      2025-04-11 03:00:00        2025-04-11 03:30:00      1009912   \n",
       "1      2025-04-15 09:00:00        2025-04-15 10:00:00      1873371   \n",
       "2      2025-04-14 07:00:00        2025-04-14 08:00:00      1873371   \n",
       "3      2025-04-11 22:00:00        2025-04-11 22:30:00        36746   \n",
       "4      2025-04-11 22:00:00        2025-04-11 22:30:00      1907157   \n",
       "5      2025-04-11 22:00:00        2025-04-11 22:30:00      1983159   \n",
       "6      2025-04-10 14:00:00        2025-04-10 15:00:00        49997   \n",
       "7      2025-04-10 14:00:00        2025-04-10 15:00:00      1876455   \n",
       "8      2025-04-10 14:00:00        2025-04-10 15:00:00      1895214   \n",
       "9      2025-04-11 04:30:00        2025-04-11 05:00:00        36746   \n",
       "\n",
       "   material_code plant_code unit_of_measure_code  actual_quantity  \n",
       "0       51399758       GB02                   KG            736.0  \n",
       "1         107643       GB28                   PC           2340.0  \n",
       "2         107643       GB28                   PC           2340.0  \n",
       "3          49799       GB01                   PC             72.0  \n",
       "4         107750       GB01                   PC           1320.0  \n",
       "5          99214       GB01                   PC           1368.0  \n",
       "6          62275       GB02                   PC            432.0  \n",
       "7         102785       GB02                   PC           1170.0  \n",
       "8         107437       GB02                   PC           1000.0  \n",
       "9          49799       GB01                   PC           1512.0  "
      ]
     },
     "metadata": {},
     "output_type": "display_data"
    }
   ],
   "source": [
    "from datetime import datetime, timedelta\n",
    "\n",
    "# Define the run date (assuming today's date)\n",
    "run_date = datetime.today()\n",
    "# replacing that to midnight so that we wont miss till current time \n",
    "start_date = run_date.replace(hour=0, minute=0, second=0, microsecond=0)\n",
    "end_date = start_date + timedelta(days=2)\n",
    "\n",
    "# Apply filtering\n",
    "df_planned_loads = df_planned_loads[\n",
    "    (df_planned_loads[\"origin_slot_arrival\"] >= start_date) &\n",
    "    (df_planned_loads[\"origin_slot_arrival\"] < end_date)\n",
    "]\n",
    "\n",
    "# Display results\n",
    "print(f\"Filter Applied: Kept {len(df_planned_loads)} rows out of {len(df_planned_loads)}.\")\n",
    "display(df_planned_loads.head(10))\n"
   ]
  },
  {
   "cell_type": "markdown",
   "metadata": {},
   "source": [
    "#### Unique unit measure code "
   ]
  },
  {
   "cell_type": "code",
   "execution_count": 113,
   "metadata": {
    "execution": {
     "iopub.execute_input": "2025-04-10T07:36:17.186605Z",
     "iopub.status.busy": "2025-04-10T07:36:17.163647Z",
     "iopub.status.idle": "2025-04-10T07:36:17.202502Z",
     "shell.execute_reply": "2025-04-10T07:36:17.202502Z"
    }
   },
   "outputs": [
    {
     "name": "stdout",
     "output_type": "stream",
     "text": [
      "Unique unit_of_measure_code values before transformation:\n",
      "['KG' 'PC']\n"
     ]
    }
   ],
   "source": [
    "# Check unique unit_of_measure_code values\n",
    "unique_uoms = df_planned_loads[\"unit_of_measure_code\"].unique()\n",
    "\n",
    "print(\"Unique unit_of_measure_code values before transformation:\")\n",
    "print(unique_uoms)\n"
   ]
  },
  {
   "cell_type": "markdown",
   "metadata": {},
   "source": [
    "#### Conversion of PC to HL"
   ]
  },
  {
   "cell_type": "code",
   "execution_count": 114,
   "metadata": {
    "execution": {
     "iopub.execute_input": "2025-04-10T07:36:17.207090Z",
     "iopub.status.busy": "2025-04-10T07:36:17.207090Z",
     "iopub.status.idle": "2025-04-10T07:36:17.248892Z",
     "shell.execute_reply": "2025-04-10T07:36:17.246840Z"
    }
   },
   "outputs": [
    {
     "name": "stdout",
     "output_type": "stream",
     "text": [
      "Planned loads quantity successfully converted to HL.\n"
     ]
    }
   ],
   "source": [
    "# Filter UOM table to retain only HL conversion factors\n",
    "df_uom_filtered = df_uom_merged[df_uom_merged[\"target_unit_of_measure_code\"] == \"HL\"]\n",
    "\n",
    "# Merge with planned loads data\n",
    "df_planned_loads = df_planned_loads.merge(\n",
    "    df_uom_filtered[[\"material_sk\", \"PC_HL_Conversion\"]],\n",
    "    on=\"material_sk\",\n",
    "    how=\"left\"\n",
    ")\n",
    "\n",
    "# Convert PC to HL only for unit_of_measure_code = \"PC\"\n",
    "df_planned_loads[\"quantity_HL\"] = df_planned_loads.apply(\n",
    "    lambda row: row[\"actual_quantity\"] * row[\"PC_HL_Conversion\"]\n",
    "    if row[\"unit_of_measure_code\"] == \"PC\" else row[\"actual_quantity\"],\n",
    "    axis=1\n",
    ")\n",
    "# Drop the original \"quantity\" column and rename the transformed one\n",
    "df_planned_loads.drop(columns=[\"actual_quantity\"], inplace=True)\n",
    "df_planned_loads.rename(columns={\"quantity_HL\": \"total_quantity_HL\"}, inplace=True)\n",
    "\n",
    "print(\"Planned loads quantity successfully converted to HL.\")\n"
   ]
  },
  {
   "cell_type": "markdown",
   "metadata": {},
   "source": [
    "#### Filter based on valid actual quantity"
   ]
  },
  {
   "cell_type": "code",
   "execution_count": 115,
   "metadata": {
    "execution": {
     "iopub.execute_input": "2025-04-10T07:36:17.248892Z",
     "iopub.status.busy": "2025-04-10T07:36:17.248892Z",
     "iopub.status.idle": "2025-04-10T07:36:17.269115Z",
     "shell.execute_reply": "2025-04-10T07:36:17.267061Z"
    }
   },
   "outputs": [
    {
     "name": "stdout",
     "output_type": "stream",
     "text": [
      "Filter Applied: Kept 163 rows (83.59%) out of 195.\n"
     ]
    }
   ],
   "source": [
    "initial_count = len(df_planned_loads)\n",
    "\n",
    "# Apply the filter\n",
    "df_planned_loads = df_planned_loads[df_planned_loads[\"total_quantity_HL\"] > 1].reset_index(drop=True)\n",
    "final_count = len(df_planned_loads)\n",
    "retained_percentage = (final_count / initial_count) * 100\n",
    "print(f\"Filter Applied: Kept {final_count} rows ({retained_percentage:.2f}%) out of {initial_count}.\")\n"
   ]
  },
  {
   "cell_type": "markdown",
   "metadata": {},
   "source": [
    "#### Drop rows where total quantity is null"
   ]
  },
  {
   "cell_type": "code",
   "execution_count": 116,
   "metadata": {
    "execution": {
     "iopub.execute_input": "2025-04-10T07:36:17.269115Z",
     "iopub.status.busy": "2025-04-10T07:36:17.269115Z",
     "iopub.status.idle": "2025-04-10T07:36:17.292331Z",
     "shell.execute_reply": "2025-04-10T07:36:17.292331Z"
    }
   },
   "outputs": [
    {
     "name": "stdout",
     "output_type": "stream",
     "text": [
      "Missing values in `total_quantity_HL` before drop: 0\n",
      "Missing values after drop: 0\n",
      "Rows remaining after drop: 163 (100.00% of original).\n"
     ]
    }
   ],
   "source": [
    "missing_before = df_planned_loads[\"total_quantity_HL\"].isnull().sum()\n",
    "initial_count = len(df_planned_loads)\n",
    "\n",
    "# Drop rows where `actual_quantity_HL` is null\n",
    "df_planned_loads = df_planned_loads.dropna(subset=[\"total_quantity_HL\"]).reset_index(drop=True)\n",
    "\n",
    "# Detect missing values after dropping\n",
    "missing_after = df_planned_loads[\"total_quantity_HL\"].isnull().sum()\n",
    "final_count = len(df_planned_loads)\n",
    "retained_percentage = (final_count / initial_count) * 100\n",
    "print(f\"Missing values in `total_quantity_HL` before drop: {missing_before}\")\n",
    "print(f\"Missing values after drop: {missing_after}\")\n",
    "print(f\"Rows remaining after drop: {final_count} ({retained_percentage:.2f}% of original).\")\n"
   ]
  },
  {
   "cell_type": "code",
   "execution_count": 117,
   "metadata": {
    "execution": {
     "iopub.execute_input": "2025-04-10T07:36:17.299923Z",
     "iopub.status.busy": "2025-04-10T07:36:17.292331Z",
     "iopub.status.idle": "2025-04-10T07:36:17.310252Z",
     "shell.execute_reply": "2025-04-10T07:36:17.309159Z"
    }
   },
   "outputs": [
    {
     "name": "stdout",
     "output_type": "stream",
     "text": [
      "Unique unit_of_measure_code values before transformation:\n",
      "['STO']\n"
     ]
    }
   ],
   "source": [
    "unique_uoms = df_planned_loads[\"movement_type\"].unique()\n",
    "\n",
    "print(\"Unique unit_of_measure_code values before transformation:\")\n",
    "print(unique_uoms)"
   ]
  },
  {
   "cell_type": "markdown",
   "metadata": {},
   "source": [
    "#### Final saving preprocessing data to Planned loads "
   ]
  },
  {
   "cell_type": "code",
   "execution_count": 118,
   "metadata": {
    "execution": {
     "iopub.execute_input": "2025-04-10T07:36:17.312303Z",
     "iopub.status.busy": "2025-04-10T07:36:17.312303Z",
     "iopub.status.idle": "2025-04-10T07:36:17.351316Z",
     "shell.execute_reply": "2025-04-10T07:36:17.349315Z"
    }
   },
   "outputs": [
    {
     "name": "stdout",
     "output_type": "stream",
     "text": [
      "Processed Planned Loads Data Saved to: ./PRE_PROCESSED_DATA/04. April 2025/10_04_2025 preprocessed data/2025_04_10_13_03_07 preprocessed data/planned_loads.csv\n"
     ]
    }
   ],
   "source": [
    "planned_loads_path = os.path.join(preprocessed_path, \"planned_loads.csv\")\n",
    "\n",
    "# Save the DataFrame\n",
    "df_planned_loads.to_csv(planned_loads_path, index=False)\n",
    "\n",
    "print(f\"Processed Planned Loads Data Saved to: {planned_loads_path}\")\n"
   ]
  },
  {
   "cell_type": "markdown",
   "metadata": {},
   "source": [
    "#### Filtering for SO and Export movement types "
   ]
  },
  {
   "cell_type": "code",
   "execution_count": 119,
   "metadata": {
    "execution": {
     "iopub.execute_input": "2025-04-10T07:36:17.357322Z",
     "iopub.status.busy": "2025-04-10T07:36:17.356334Z",
     "iopub.status.idle": "2025-04-10T07:36:17.400226Z",
     "shell.execute_reply": "2025-04-10T07:36:17.400226Z"
    }
   },
   "outputs": [
    {
     "name": "stdout",
     "output_type": "stream",
     "text": [
      "Filtered movement_type (SO & Export) in input_Planned_loads.csv:\n",
      "['SO' 'Export']\n"
     ]
    },
    {
     "data": {
      "text/html": [
       "<div>\n",
       "<style scoped>\n",
       "    .dataframe tbody tr th:only-of-type {\n",
       "        vertical-align: middle;\n",
       "    }\n",
       "\n",
       "    .dataframe tbody tr th {\n",
       "        vertical-align: top;\n",
       "    }\n",
       "\n",
       "    .dataframe thead th {\n",
       "        text-align: right;\n",
       "    }\n",
       "</style>\n",
       "<table border=\"1\" class=\"dataframe\">\n",
       "  <thead>\n",
       "    <tr style=\"text-align: right;\">\n",
       "      <th></th>\n",
       "      <th>delivery_sk</th>\n",
       "      <th>actual_quantity</th>\n",
       "      <th>unit_of_measure_code</th>\n",
       "      <th>plant_code</th>\n",
       "      <th>transportation_planning_priority</th>\n",
       "      <th>material_sk</th>\n",
       "      <th>material_code</th>\n",
       "      <th>load_id</th>\n",
       "      <th>origin_slot_arrival</th>\n",
       "      <th>origin_slot_departure</th>\n",
       "      <th>destination_slot_arrival</th>\n",
       "      <th>destination_slot_departure</th>\n",
       "      <th>RFRC_NUM12</th>\n",
       "      <th>origin</th>\n",
       "      <th>destination</th>\n",
       "      <th>movement_type</th>\n",
       "    </tr>\n",
       "  </thead>\n",
       "  <tbody>\n",
       "    <tr>\n",
       "      <th>0</th>\n",
       "      <td>81728721</td>\n",
       "      <td>4680.0</td>\n",
       "      <td>PC</td>\n",
       "      <td>GB01</td>\n",
       "      <td>1</td>\n",
       "      <td>1977870</td>\n",
       "      <td>99150</td>\n",
       "      <td>34718714</td>\n",
       "      <td>2025-04-10 08:00:00</td>\n",
       "      <td>2025-04-10 08:30:00</td>\n",
       "      <td>NaT</td>\n",
       "      <td>NaT</td>\n",
       "      <td>21820530.0</td>\n",
       "      <td>GB01</td>\n",
       "      <td>29585614</td>\n",
       "      <td>SO</td>\n",
       "    </tr>\n",
       "    <tr>\n",
       "      <th>1</th>\n",
       "      <td>81649724</td>\n",
       "      <td>26.0</td>\n",
       "      <td>PC</td>\n",
       "      <td>GB67</td>\n",
       "      <td>1</td>\n",
       "      <td>1869080</td>\n",
       "      <td>108741</td>\n",
       "      <td>34714811</td>\n",
       "      <td>2025-04-10 16:00:00</td>\n",
       "      <td>2025-04-10 17:00:00</td>\n",
       "      <td>NaT</td>\n",
       "      <td>NaT</td>\n",
       "      <td>21806479.0</td>\n",
       "      <td>GB67</td>\n",
       "      <td>29586301</td>\n",
       "      <td>SO</td>\n",
       "    </tr>\n",
       "    <tr>\n",
       "      <th>2</th>\n",
       "      <td>81697215</td>\n",
       "      <td>450.0</td>\n",
       "      <td>PC</td>\n",
       "      <td>GB02</td>\n",
       "      <td>1</td>\n",
       "      <td>1978473</td>\n",
       "      <td>99148</td>\n",
       "      <td>34716589</td>\n",
       "      <td>2025-04-10 15:00:00</td>\n",
       "      <td>2025-04-10 15:30:00</td>\n",
       "      <td>NaT</td>\n",
       "      <td>NaT</td>\n",
       "      <td>21816790.0</td>\n",
       "      <td>GB02</td>\n",
       "      <td>29586299</td>\n",
       "      <td>SO</td>\n",
       "    </tr>\n",
       "    <tr>\n",
       "      <th>3</th>\n",
       "      <td>81687441</td>\n",
       "      <td>195.0</td>\n",
       "      <td>PC</td>\n",
       "      <td>GB01</td>\n",
       "      <td>0</td>\n",
       "      <td>1877163</td>\n",
       "      <td>105485</td>\n",
       "      <td>34716430</td>\n",
       "      <td>2025-04-10 17:00:00</td>\n",
       "      <td>2025-04-10 17:30:00</td>\n",
       "      <td>NaT</td>\n",
       "      <td>NaT</td>\n",
       "      <td>21809360.0</td>\n",
       "      <td>GB01</td>\n",
       "      <td>29586017</td>\n",
       "      <td>SO</td>\n",
       "    </tr>\n",
       "    <tr>\n",
       "      <th>5</th>\n",
       "      <td>81649740</td>\n",
       "      <td>26.0</td>\n",
       "      <td>PC</td>\n",
       "      <td>GB67</td>\n",
       "      <td>1</td>\n",
       "      <td>1869080</td>\n",
       "      <td>108741</td>\n",
       "      <td>34714812</td>\n",
       "      <td>2025-04-10 09:00:00</td>\n",
       "      <td>2025-04-10 10:00:00</td>\n",
       "      <td>NaT</td>\n",
       "      <td>NaT</td>\n",
       "      <td>21806566.0</td>\n",
       "      <td>GB67</td>\n",
       "      <td>29585964</td>\n",
       "      <td>SO</td>\n",
       "    </tr>\n",
       "  </tbody>\n",
       "</table>\n",
       "</div>"
      ],
      "text/plain": [
       "   delivery_sk  actual_quantity unit_of_measure_code plant_code  \\\n",
       "0     81728721           4680.0                   PC       GB01   \n",
       "1     81649724             26.0                   PC       GB67   \n",
       "2     81697215            450.0                   PC       GB02   \n",
       "3     81687441            195.0                   PC       GB01   \n",
       "5     81649740             26.0                   PC       GB67   \n",
       "\n",
       "   transportation_planning_priority  material_sk  material_code   load_id  \\\n",
       "0                                 1      1977870          99150  34718714   \n",
       "1                                 1      1869080         108741  34714811   \n",
       "2                                 1      1978473          99148  34716589   \n",
       "3                                 0      1877163         105485  34716430   \n",
       "5                                 1      1869080         108741  34714812   \n",
       "\n",
       "  origin_slot_arrival origin_slot_departure destination_slot_arrival  \\\n",
       "0 2025-04-10 08:00:00   2025-04-10 08:30:00                      NaT   \n",
       "1 2025-04-10 16:00:00   2025-04-10 17:00:00                      NaT   \n",
       "2 2025-04-10 15:00:00   2025-04-10 15:30:00                      NaT   \n",
       "3 2025-04-10 17:00:00   2025-04-10 17:30:00                      NaT   \n",
       "5 2025-04-10 09:00:00   2025-04-10 10:00:00                      NaT   \n",
       "\n",
       "  destination_slot_departure  RFRC_NUM12 origin destination movement_type  \n",
       "0                        NaT  21820530.0   GB01    29585614            SO  \n",
       "1                        NaT  21806479.0   GB67    29586301            SO  \n",
       "2                        NaT  21816790.0   GB02    29586299            SO  \n",
       "3                        NaT  21809360.0   GB01    29586017            SO  \n",
       "5                        NaT  21806566.0   GB67    29585964            SO  "
      ]
     },
     "execution_count": 119,
     "metadata": {},
     "output_type": "execute_result"
    }
   ],
   "source": [
    "# Define dataset name\n",
    "file_name = \"input_Planned_loads.csv\"\n",
    "\n",
    "# Load the original dataset again\n",
    "df_so_export_loads = dataframes[file_name]\n",
    "\n",
    "# Define required columns\n",
    "required_columns_so_export = [\n",
    "    \"delivery_sk\", \"actual_quantity\", \"unit_of_measure_code\", \"plant_code\",\n",
    "    \"transportation_planning_priority\", \"material_sk\", \"material_code\", \"load_id\",\n",
    "    \"origin_slot_arrival\", \"origin_slot_departure\", \"destination_slot_arrival\",\n",
    "    \"destination_slot_departure\", \"RFRC_NUM12\", \"origin\", \"destination\", \"movement_type\"\n",
    "]\n",
    "\n",
    "# Retain only required columns\n",
    "df_so_export_loads = df_so_export_loads[required_columns_so_export]\n",
    "\n",
    "# Apply Filter: Keep only \"SO\" & \"Export\"\n",
    "df_so_export_loads = df_so_export_loads[df_so_export_loads[\"movement_type\"].isin([\"SO\", \"Export\"])]\n",
    "\n",
    "# Store updated DataFrame\n",
    "dataframes[file_name] = df_so_export_loads\n",
    "print(f\"Filtered movement_type (SO & Export) in {file_name}:\")\n",
    "print(df_so_export_loads[\"movement_type\"].unique())  # Verify unique values after filtering\n",
    "\n",
    "# Show first few rows\n",
    "df_so_export_loads.head()\n"
   ]
  },
  {
   "cell_type": "markdown",
   "metadata": {},
   "source": [
    "#### Aggregation"
   ]
  },
  {
   "cell_type": "code",
   "execution_count": 120,
   "metadata": {
    "execution": {
     "iopub.execute_input": "2025-04-10T07:36:17.404953Z",
     "iopub.status.busy": "2025-04-10T07:36:17.404953Z",
     "iopub.status.idle": "2025-04-10T07:36:17.527495Z",
     "shell.execute_reply": "2025-04-10T07:36:17.525507Z"
    }
   },
   "outputs": [
    {
     "name": "stdout",
     "output_type": "stream",
     "text": [
      "Aggregation completed. Remaining rows: 2127\n"
     ]
    },
    {
     "data": {
      "text/html": [
       "<div>\n",
       "<style scoped>\n",
       "    .dataframe tbody tr th:only-of-type {\n",
       "        vertical-align: middle;\n",
       "    }\n",
       "\n",
       "    .dataframe tbody tr th {\n",
       "        vertical-align: top;\n",
       "    }\n",
       "\n",
       "    .dataframe thead th {\n",
       "        text-align: right;\n",
       "    }\n",
       "</style>\n",
       "<table border=\"1\" class=\"dataframe\">\n",
       "  <thead>\n",
       "    <tr style=\"text-align: right;\">\n",
       "      <th></th>\n",
       "      <th>origin_slot_arrival</th>\n",
       "      <th>plant_code</th>\n",
       "      <th>material_sk</th>\n",
       "      <th>material_code</th>\n",
       "      <th>unit_of_measure_code</th>\n",
       "      <th>open_so_out(HL)</th>\n",
       "    </tr>\n",
       "  </thead>\n",
       "  <tbody>\n",
       "    <tr>\n",
       "      <th>0</th>\n",
       "      <td>2025-04-10</td>\n",
       "      <td>GB01</td>\n",
       "      <td>4333</td>\n",
       "      <td>11001</td>\n",
       "      <td>PC</td>\n",
       "      <td>4.0</td>\n",
       "    </tr>\n",
       "    <tr>\n",
       "      <th>1</th>\n",
       "      <td>2025-04-10</td>\n",
       "      <td>GB01</td>\n",
       "      <td>9054</td>\n",
       "      <td>15665</td>\n",
       "      <td>PC</td>\n",
       "      <td>26.0</td>\n",
       "    </tr>\n",
       "    <tr>\n",
       "      <th>2</th>\n",
       "      <td>2025-04-10</td>\n",
       "      <td>GB01</td>\n",
       "      <td>10093</td>\n",
       "      <td>15519</td>\n",
       "      <td>PC</td>\n",
       "      <td>128.0</td>\n",
       "    </tr>\n",
       "    <tr>\n",
       "      <th>3</th>\n",
       "      <td>2025-04-10</td>\n",
       "      <td>GB01</td>\n",
       "      <td>10383</td>\n",
       "      <td>15463</td>\n",
       "      <td>PC</td>\n",
       "      <td>53.0</td>\n",
       "    </tr>\n",
       "    <tr>\n",
       "      <th>4</th>\n",
       "      <td>2025-04-10</td>\n",
       "      <td>GB01</td>\n",
       "      <td>12111</td>\n",
       "      <td>15614</td>\n",
       "      <td>PC</td>\n",
       "      <td>64.0</td>\n",
       "    </tr>\n",
       "  </tbody>\n",
       "</table>\n",
       "</div>"
      ],
      "text/plain": [
       "  origin_slot_arrival plant_code  material_sk  material_code  \\\n",
       "0          2025-04-10       GB01         4333          11001   \n",
       "1          2025-04-10       GB01         9054          15665   \n",
       "2          2025-04-10       GB01        10093          15519   \n",
       "3          2025-04-10       GB01        10383          15463   \n",
       "4          2025-04-10       GB01        12111          15614   \n",
       "\n",
       "  unit_of_measure_code  open_so_out(HL)  \n",
       "0                   PC              4.0  \n",
       "1                   PC             26.0  \n",
       "2                   PC            128.0  \n",
       "3                   PC             53.0  \n",
       "4                   PC             64.0  "
      ]
     },
     "execution_count": 120,
     "metadata": {},
     "output_type": "execute_result"
    }
   ],
   "source": [
    "# Perform aggregation based on delivery date (origin_slot_arrival)\n",
    "df_open_so_out = df_so_export_loads.groupby(\n",
    "    [\"origin_slot_arrival\", \"plant_code\", \"material_sk\", \"material_code\",\"unit_of_measure_code\"],\n",
    "    as_index=False\n",
    ").agg(\n",
    "    {\"actual_quantity\": \"sum\"}\n",
    ")\n",
    "\n",
    "# Rename aggregated column\n",
    "df_open_so_out.rename(columns={\"actual_quantity\": \"open_so_out(HL)\"}, inplace=True)\n",
    "\n",
    "# Display results\n",
    "print(f\"Aggregation completed. Remaining rows: {len(df_open_so_out)}\")\n",
    "df_open_so_out.head()\n"
   ]
  },
  {
   "cell_type": "markdown",
   "metadata": {},
   "source": [
    "#### Transformation of PC to HL"
   ]
  },
  {
   "cell_type": "code",
   "execution_count": 121,
   "metadata": {
    "execution": {
     "iopub.execute_input": "2025-04-10T07:36:17.534498Z",
     "iopub.status.busy": "2025-04-10T07:36:17.533497Z",
     "iopub.status.idle": "2025-04-10T07:36:17.658298Z",
     "shell.execute_reply": "2025-04-10T07:36:17.657254Z"
    }
   },
   "outputs": [
    {
     "name": "stdout",
     "output_type": "stream",
     "text": [
      "Planned loads quantity successfully converted to HL.\n"
     ]
    }
   ],
   "source": [
    "# Filter UOM table to retain only HL conversion factors\n",
    "df_uom_filtered = df_uom_merged[df_uom_merged[\"target_unit_of_measure_code\"] == \"HL\"]\n",
    "\n",
    "# Merge with planned loads data\n",
    "df_open_so_out = df_open_so_out.merge(\n",
    "    df_uom_filtered[[\"material_sk\",\"PC_HL_Conversion\"]],\n",
    "    on=\"material_sk\",\n",
    "    how=\"left\"\n",
    ")\n",
    "\n",
    "# Convert PC to HL only for unit_of_measure_code = \"PC\"\n",
    "df_open_so_out[\"total_quantity_HL\"] = df_open_so_out.apply(\n",
    "    lambda row: row[\"open_so_out(HL)\"] * row[\"PC_HL_Conversion\"]\n",
    "    if row[\"unit_of_measure_code\"] == \"PC\" else row[\"open_so_out(HL)\"],\n",
    "    axis=1\n",
    ")\n",
    "# Drop the original \"quantity\" column and rename the transformed one\n",
    "df_open_so_out.drop(columns=[\"open_so_out(HL)\"], inplace=True)\n",
    "df_open_so_out.rename(columns={\"total_quantity_HL\": \"open_so_out(HL)\"}, inplace=True)\n",
    "\n",
    "print(\"Planned loads quantity successfully converted to HL.\")\n"
   ]
  },
  {
   "cell_type": "markdown",
   "metadata": {},
   "source": [
    "#### Filter based on valid quantity"
   ]
  },
  {
   "cell_type": "code",
   "execution_count": 122,
   "metadata": {
    "execution": {
     "iopub.execute_input": "2025-04-10T07:36:17.658298Z",
     "iopub.status.busy": "2025-04-10T07:36:17.658298Z",
     "iopub.status.idle": "2025-04-10T07:36:17.688590Z",
     "shell.execute_reply": "2025-04-10T07:36:17.686588Z"
    }
   },
   "outputs": [
    {
     "name": "stdout",
     "output_type": "stream",
     "text": [
      "Filter Applied: Kept 1736 rows (81.62%) out of 2127.\n"
     ]
    }
   ],
   "source": [
    "initial_count = len(df_open_so_out)\n",
    "\n",
    "# Apply the filter\n",
    "df_open_so_out = df_open_so_out[df_open_so_out[\"open_so_out(HL)\"] > 1].reset_index(drop=True)\n",
    "final_count = len(df_open_so_out)\n",
    "retained_percentage = (final_count / initial_count) * 100\n",
    "print(f\"Filter Applied: Kept {final_count} rows ({retained_percentage:.2f}%) out of {initial_count}.\")\n"
   ]
  },
  {
   "cell_type": "markdown",
   "metadata": {},
   "source": [
    "#### Filtering missing values "
   ]
  },
  {
   "cell_type": "code",
   "execution_count": 123,
   "metadata": {
    "execution": {
     "iopub.execute_input": "2025-04-10T07:36:17.699704Z",
     "iopub.status.busy": "2025-04-10T07:36:17.694603Z",
     "iopub.status.idle": "2025-04-10T07:36:17.719340Z",
     "shell.execute_reply": "2025-04-10T07:36:17.717271Z"
    }
   },
   "outputs": [
    {
     "name": "stdout",
     "output_type": "stream",
     "text": [
      "Missing values in `open_so_out(HL)` before drop: 0\n",
      "Missing values after drop: 0\n",
      "Rows remaining after drop: 1736 (100.00% of original).\n"
     ]
    }
   ],
   "source": [
    "missing_before = df_open_so_out[\"open_so_out(HL)\"].isnull().sum()\n",
    "initial_count = len(df_open_so_out)\n",
    "\n",
    "# Drop rows where `actual_quantity_HL` is null\n",
    "df_open_so_out = df_open_so_out.dropna(subset=[\"open_so_out(HL)\"]).reset_index(drop=True)\n",
    "\n",
    "# Detect missing values after dropping\n",
    "missing_after = df_open_so_out[\"open_so_out(HL)\"].isnull().sum()\n",
    "final_count = len(df_open_so_out)\n",
    "retained_percentage = (final_count / initial_count) * 100\n",
    "print(f\"Missing values in `open_so_out(HL)` before drop: {missing_before}\")\n",
    "print(f\"Missing values after drop: {missing_after}\")\n",
    "print(f\"Rows remaining after drop: {final_count} ({retained_percentage:.2f}% of original).\")\n"
   ]
  },
  {
   "cell_type": "markdown",
   "metadata": {},
   "source": [
    "#### Final saving of open so "
   ]
  },
  {
   "cell_type": "code",
   "execution_count": 124,
   "metadata": {
    "execution": {
     "iopub.execute_input": "2025-04-10T07:36:17.727389Z",
     "iopub.status.busy": "2025-04-10T07:36:17.719340Z",
     "iopub.status.idle": "2025-04-10T07:36:17.781754Z",
     "shell.execute_reply": "2025-04-10T07:36:17.781754Z"
    }
   },
   "outputs": [
    {
     "name": "stdout",
     "output_type": "stream",
     "text": [
      "Processed SO & Export Data Saved to: ./PRE_PROCESSED_DATA/04. April 2025/10_04_2025 preprocessed data/2025_04_10_13_03_07 preprocessed data/open_so.csv\n"
     ]
    }
   ],
   "source": [
    "df_open_so_out_path = os.path.join(preprocessed_path, \"open_so.csv\")\n",
    "\n",
    "# Save the DataFrame\n",
    "df_open_so_out.to_csv(df_open_so_out_path, index=False)\n",
    "\n",
    "print(f\"Processed SO & Export Data Saved to: {df_open_so_out_path}\")\n"
   ]
  },
  {
   "cell_type": "markdown",
   "metadata": {},
   "source": [
    "#### Filter STO loads only"
   ]
  },
  {
   "cell_type": "code",
   "execution_count": 125,
   "metadata": {
    "execution": {
     "iopub.execute_input": "2025-04-10T07:36:17.790399Z",
     "iopub.status.busy": "2025-04-10T07:36:17.790399Z",
     "iopub.status.idle": "2025-04-10T07:36:17.820782Z",
     "shell.execute_reply": "2025-04-10T07:36:17.819240Z"
    }
   },
   "outputs": [
    {
     "name": "stdout",
     "output_type": "stream",
     "text": [
      "Filter applied: Kept 163 rows with movement_type = 'STO' out of 163.\n"
     ]
    },
    {
     "data": {
      "text/html": [
       "<div>\n",
       "<style scoped>\n",
       "    .dataframe tbody tr th:only-of-type {\n",
       "        vertical-align: middle;\n",
       "    }\n",
       "\n",
       "    .dataframe tbody tr th {\n",
       "        vertical-align: top;\n",
       "    }\n",
       "\n",
       "    .dataframe thead th {\n",
       "        text-align: right;\n",
       "    }\n",
       "</style>\n",
       "<table border=\"1\" class=\"dataframe\">\n",
       "  <thead>\n",
       "    <tr style=\"text-align: right;\">\n",
       "      <th></th>\n",
       "      <th>RFRC_NUM12</th>\n",
       "      <th>load_id</th>\n",
       "      <th>movement_type</th>\n",
       "      <th>transportation_planning_priority</th>\n",
       "      <th>origin</th>\n",
       "      <th>destination</th>\n",
       "      <th>origin_slot_arrival</th>\n",
       "      <th>origin_slot_departure</th>\n",
       "      <th>destination_slot_arrival</th>\n",
       "      <th>destination_slot_departure</th>\n",
       "      <th>material_sk</th>\n",
       "      <th>material_code</th>\n",
       "      <th>plant_code</th>\n",
       "      <th>unit_of_measure_code</th>\n",
       "      <th>PC_HL_Conversion</th>\n",
       "      <th>total_quantity_HL</th>\n",
       "    </tr>\n",
       "  </thead>\n",
       "  <tbody>\n",
       "    <tr>\n",
       "      <th>0</th>\n",
       "      <td>4.508588e+09</td>\n",
       "      <td>34707610</td>\n",
       "      <td>STO</td>\n",
       "      <td>12</td>\n",
       "      <td>GB02</td>\n",
       "      <td>GB01</td>\n",
       "      <td>2025-04-10 22:30:00</td>\n",
       "      <td>2025-04-10 23:00:00</td>\n",
       "      <td>2025-04-11 03:00:00</td>\n",
       "      <td>2025-04-11 03:30:00</td>\n",
       "      <td>1009912</td>\n",
       "      <td>51399758</td>\n",
       "      <td>GB02</td>\n",
       "      <td>KG</td>\n",
       "      <td>NaN</td>\n",
       "      <td>736.0000</td>\n",
       "    </tr>\n",
       "    <tr>\n",
       "      <th>1</th>\n",
       "      <td>4.508593e+09</td>\n",
       "      <td>34709785</td>\n",
       "      <td>STO</td>\n",
       "      <td>13</td>\n",
       "      <td>GB28</td>\n",
       "      <td>CH01</td>\n",
       "      <td>2025-04-11 08:00:00</td>\n",
       "      <td>2025-04-11 09:00:00</td>\n",
       "      <td>2025-04-15 09:00:00</td>\n",
       "      <td>2025-04-15 10:00:00</td>\n",
       "      <td>1873371</td>\n",
       "      <td>107643</td>\n",
       "      <td>GB28</td>\n",
       "      <td>PC</td>\n",
       "      <td>0.0594</td>\n",
       "      <td>138.9960</td>\n",
       "    </tr>\n",
       "    <tr>\n",
       "      <th>2</th>\n",
       "      <td>4.508593e+09</td>\n",
       "      <td>34709786</td>\n",
       "      <td>STO</td>\n",
       "      <td>13</td>\n",
       "      <td>GB28</td>\n",
       "      <td>CH01</td>\n",
       "      <td>2025-04-10 11:00:00</td>\n",
       "      <td>2025-04-10 12:00:00</td>\n",
       "      <td>2025-04-14 07:00:00</td>\n",
       "      <td>2025-04-14 08:00:00</td>\n",
       "      <td>1873371</td>\n",
       "      <td>107643</td>\n",
       "      <td>GB28</td>\n",
       "      <td>PC</td>\n",
       "      <td>0.0594</td>\n",
       "      <td>138.9960</td>\n",
       "    </tr>\n",
       "    <tr>\n",
       "      <th>3</th>\n",
       "      <td>4.508594e+09</td>\n",
       "      <td>34710108</td>\n",
       "      <td>STO</td>\n",
       "      <td>12</td>\n",
       "      <td>GB01</td>\n",
       "      <td>GB02</td>\n",
       "      <td>2025-04-11 17:00:00</td>\n",
       "      <td>2025-04-11 17:30:00</td>\n",
       "      <td>2025-04-11 22:00:00</td>\n",
       "      <td>2025-04-11 22:30:00</td>\n",
       "      <td>36746</td>\n",
       "      <td>49799</td>\n",
       "      <td>GB01</td>\n",
       "      <td>PC</td>\n",
       "      <td>0.0792</td>\n",
       "      <td>5.7024</td>\n",
       "    </tr>\n",
       "    <tr>\n",
       "      <th>4</th>\n",
       "      <td>4.508594e+09</td>\n",
       "      <td>34710108</td>\n",
       "      <td>STO</td>\n",
       "      <td>12</td>\n",
       "      <td>GB01</td>\n",
       "      <td>GB02</td>\n",
       "      <td>2025-04-11 17:00:00</td>\n",
       "      <td>2025-04-11 17:30:00</td>\n",
       "      <td>2025-04-11 22:00:00</td>\n",
       "      <td>2025-04-11 22:30:00</td>\n",
       "      <td>1907157</td>\n",
       "      <td>107750</td>\n",
       "      <td>GB01</td>\n",
       "      <td>PC</td>\n",
       "      <td>0.0528</td>\n",
       "      <td>69.6960</td>\n",
       "    </tr>\n",
       "  </tbody>\n",
       "</table>\n",
       "</div>"
      ],
      "text/plain": [
       "     RFRC_NUM12   load_id movement_type  transportation_planning_priority  \\\n",
       "0  4.508588e+09  34707610           STO                                12   \n",
       "1  4.508593e+09  34709785           STO                                13   \n",
       "2  4.508593e+09  34709786           STO                                13   \n",
       "3  4.508594e+09  34710108           STO                                12   \n",
       "4  4.508594e+09  34710108           STO                                12   \n",
       "\n",
       "  origin destination origin_slot_arrival origin_slot_departure  \\\n",
       "0   GB02        GB01 2025-04-10 22:30:00   2025-04-10 23:00:00   \n",
       "1   GB28        CH01 2025-04-11 08:00:00   2025-04-11 09:00:00   \n",
       "2   GB28        CH01 2025-04-10 11:00:00   2025-04-10 12:00:00   \n",
       "3   GB01        GB02 2025-04-11 17:00:00   2025-04-11 17:30:00   \n",
       "4   GB01        GB02 2025-04-11 17:00:00   2025-04-11 17:30:00   \n",
       "\n",
       "  destination_slot_arrival destination_slot_departure  material_sk  \\\n",
       "0      2025-04-11 03:00:00        2025-04-11 03:30:00      1009912   \n",
       "1      2025-04-15 09:00:00        2025-04-15 10:00:00      1873371   \n",
       "2      2025-04-14 07:00:00        2025-04-14 08:00:00      1873371   \n",
       "3      2025-04-11 22:00:00        2025-04-11 22:30:00        36746   \n",
       "4      2025-04-11 22:00:00        2025-04-11 22:30:00      1907157   \n",
       "\n",
       "   material_code plant_code unit_of_measure_code  PC_HL_Conversion  \\\n",
       "0       51399758       GB02                   KG               NaN   \n",
       "1         107643       GB28                   PC            0.0594   \n",
       "2         107643       GB28                   PC            0.0594   \n",
       "3          49799       GB01                   PC            0.0792   \n",
       "4         107750       GB01                   PC            0.0528   \n",
       "\n",
       "   total_quantity_HL  \n",
       "0           736.0000  \n",
       "1           138.9960  \n",
       "2           138.9960  \n",
       "3             5.7024  \n",
       "4            69.6960  "
      ]
     },
     "execution_count": 125,
     "metadata": {},
     "output_type": "execute_result"
    }
   ],
   "source": [
    "# Apply filter: Keep only rows where movement_type = 'STO'\n",
    "df_sto_loads = df_planned_loads[df_planned_loads[\"movement_type\"] == \"STO\"].reset_index(drop=True)\n",
    "\n",
    "# Display result\n",
    "print(f\"Filter applied: Kept {len(df_sto_loads)} rows with movement_type = 'STO' out of {len(df_planned_loads)}.\")\n",
    "df_sto_loads.head()\n"
   ]
  },
  {
   "cell_type": "markdown",
   "metadata": {},
   "source": [
    "#### Merging STO with uom for getting pal conversions  "
   ]
  },
  {
   "cell_type": "code",
   "execution_count": 126,
   "metadata": {
    "execution": {
     "iopub.execute_input": "2025-04-10T07:36:17.820782Z",
     "iopub.status.busy": "2025-04-10T07:36:17.820782Z",
     "iopub.status.idle": "2025-04-10T07:36:17.890170Z",
     "shell.execute_reply": "2025-04-10T07:36:17.881177Z"
    }
   },
   "outputs": [
    {
     "name": "stdout",
     "output_type": "stream",
     "text": [
      "Merge completed. Final row count: 163"
     ]
    },
    {
     "name": "stdout",
     "output_type": "stream",
     "text": [
      "\n"
     ]
    },
    {
     "data": {
      "text/html": [
       "<div>\n",
       "<style scoped>\n",
       "    .dataframe tbody tr th:only-of-type {\n",
       "        vertical-align: middle;\n",
       "    }\n",
       "\n",
       "    .dataframe tbody tr th {\n",
       "        vertical-align: top;\n",
       "    }\n",
       "\n",
       "    .dataframe thead th {\n",
       "        text-align: right;\n",
       "    }\n",
       "</style>\n",
       "<table border=\"1\" class=\"dataframe\">\n",
       "  <thead>\n",
       "    <tr style=\"text-align: right;\">\n",
       "      <th></th>\n",
       "      <th>RFRC_NUM12</th>\n",
       "      <th>load_id</th>\n",
       "      <th>movement_type</th>\n",
       "      <th>transportation_planning_priority</th>\n",
       "      <th>origin</th>\n",
       "      <th>destination</th>\n",
       "      <th>origin_slot_arrival</th>\n",
       "      <th>origin_slot_departure</th>\n",
       "      <th>destination_slot_arrival</th>\n",
       "      <th>destination_slot_departure</th>\n",
       "      <th>material_sk</th>\n",
       "      <th>material_code</th>\n",
       "      <th>plant_code</th>\n",
       "      <th>unit_of_measure_code</th>\n",
       "      <th>PC_HL_Conversion</th>\n",
       "      <th>total_quantity_HL</th>\n",
       "      <th>PC_PAL_Conversion</th>\n",
       "      <th>pal_weight_kg</th>\n",
       "    </tr>\n",
       "  </thead>\n",
       "  <tbody>\n",
       "    <tr>\n",
       "      <th>0</th>\n",
       "      <td>4.508588e+09</td>\n",
       "      <td>34707610</td>\n",
       "      <td>STO</td>\n",
       "      <td>12</td>\n",
       "      <td>GB02</td>\n",
       "      <td>GB01</td>\n",
       "      <td>2025-04-10 22:30:00</td>\n",
       "      <td>2025-04-10 23:00:00</td>\n",
       "      <td>2025-04-11 03:00:00</td>\n",
       "      <td>2025-04-11 03:30:00</td>\n",
       "      <td>1009912</td>\n",
       "      <td>51399758</td>\n",
       "      <td>GB02</td>\n",
       "      <td>KG</td>\n",
       "      <td>NaN</td>\n",
       "      <td>736.0000</td>\n",
       "      <td>NaN</td>\n",
       "      <td>NaN</td>\n",
       "    </tr>\n",
       "    <tr>\n",
       "      <th>1</th>\n",
       "      <td>4.508593e+09</td>\n",
       "      <td>34709785</td>\n",
       "      <td>STO</td>\n",
       "      <td>13</td>\n",
       "      <td>GB28</td>\n",
       "      <td>CH01</td>\n",
       "      <td>2025-04-11 08:00:00</td>\n",
       "      <td>2025-04-11 09:00:00</td>\n",
       "      <td>2025-04-15 09:00:00</td>\n",
       "      <td>2025-04-15 10:00:00</td>\n",
       "      <td>1873371</td>\n",
       "      <td>107643</td>\n",
       "      <td>GB28</td>\n",
       "      <td>PC</td>\n",
       "      <td>0.0594</td>\n",
       "      <td>138.9960</td>\n",
       "      <td>0.011111</td>\n",
       "      <td>950.50</td>\n",
       "    </tr>\n",
       "    <tr>\n",
       "      <th>2</th>\n",
       "      <td>4.508593e+09</td>\n",
       "      <td>34709786</td>\n",
       "      <td>STO</td>\n",
       "      <td>13</td>\n",
       "      <td>GB28</td>\n",
       "      <td>CH01</td>\n",
       "      <td>2025-04-10 11:00:00</td>\n",
       "      <td>2025-04-10 12:00:00</td>\n",
       "      <td>2025-04-14 07:00:00</td>\n",
       "      <td>2025-04-14 08:00:00</td>\n",
       "      <td>1873371</td>\n",
       "      <td>107643</td>\n",
       "      <td>GB28</td>\n",
       "      <td>PC</td>\n",
       "      <td>0.0594</td>\n",
       "      <td>138.9960</td>\n",
       "      <td>0.011111</td>\n",
       "      <td>950.50</td>\n",
       "    </tr>\n",
       "    <tr>\n",
       "      <th>3</th>\n",
       "      <td>4.508594e+09</td>\n",
       "      <td>34710108</td>\n",
       "      <td>STO</td>\n",
       "      <td>12</td>\n",
       "      <td>GB01</td>\n",
       "      <td>GB02</td>\n",
       "      <td>2025-04-11 17:00:00</td>\n",
       "      <td>2025-04-11 17:30:00</td>\n",
       "      <td>2025-04-11 22:00:00</td>\n",
       "      <td>2025-04-11 22:30:00</td>\n",
       "      <td>36746</td>\n",
       "      <td>49799</td>\n",
       "      <td>GB01</td>\n",
       "      <td>PC</td>\n",
       "      <td>0.0792</td>\n",
       "      <td>5.7024</td>\n",
       "      <td>0.013889</td>\n",
       "      <td>1026.64</td>\n",
       "    </tr>\n",
       "    <tr>\n",
       "      <th>4</th>\n",
       "      <td>4.508594e+09</td>\n",
       "      <td>34710108</td>\n",
       "      <td>STO</td>\n",
       "      <td>12</td>\n",
       "      <td>GB01</td>\n",
       "      <td>GB02</td>\n",
       "      <td>2025-04-11 17:00:00</td>\n",
       "      <td>2025-04-11 17:30:00</td>\n",
       "      <td>2025-04-11 22:00:00</td>\n",
       "      <td>2025-04-11 22:30:00</td>\n",
       "      <td>1907157</td>\n",
       "      <td>107750</td>\n",
       "      <td>GB01</td>\n",
       "      <td>PC</td>\n",
       "      <td>0.0528</td>\n",
       "      <td>69.6960</td>\n",
       "      <td>0.004545</td>\n",
       "      <td>1292.56</td>\n",
       "    </tr>\n",
       "  </tbody>\n",
       "</table>\n",
       "</div>"
      ],
      "text/plain": [
       "     RFRC_NUM12   load_id movement_type  transportation_planning_priority  \\\n",
       "0  4.508588e+09  34707610           STO                                12   \n",
       "1  4.508593e+09  34709785           STO                                13   \n",
       "2  4.508593e+09  34709786           STO                                13   \n",
       "3  4.508594e+09  34710108           STO                                12   \n",
       "4  4.508594e+09  34710108           STO                                12   \n",
       "\n",
       "  origin destination origin_slot_arrival origin_slot_departure  \\\n",
       "0   GB02        GB01 2025-04-10 22:30:00   2025-04-10 23:00:00   \n",
       "1   GB28        CH01 2025-04-11 08:00:00   2025-04-11 09:00:00   \n",
       "2   GB28        CH01 2025-04-10 11:00:00   2025-04-10 12:00:00   \n",
       "3   GB01        GB02 2025-04-11 17:00:00   2025-04-11 17:30:00   \n",
       "4   GB01        GB02 2025-04-11 17:00:00   2025-04-11 17:30:00   \n",
       "\n",
       "  destination_slot_arrival destination_slot_departure  material_sk  \\\n",
       "0      2025-04-11 03:00:00        2025-04-11 03:30:00      1009912   \n",
       "1      2025-04-15 09:00:00        2025-04-15 10:00:00      1873371   \n",
       "2      2025-04-14 07:00:00        2025-04-14 08:00:00      1873371   \n",
       "3      2025-04-11 22:00:00        2025-04-11 22:30:00        36746   \n",
       "4      2025-04-11 22:00:00        2025-04-11 22:30:00      1907157   \n",
       "\n",
       "   material_code plant_code unit_of_measure_code  PC_HL_Conversion  \\\n",
       "0       51399758       GB02                   KG               NaN   \n",
       "1         107643       GB28                   PC            0.0594   \n",
       "2         107643       GB28                   PC            0.0594   \n",
       "3          49799       GB01                   PC            0.0792   \n",
       "4         107750       GB01                   PC            0.0528   \n",
       "\n",
       "   total_quantity_HL  PC_PAL_Conversion  pal_weight_kg  \n",
       "0           736.0000                NaN            NaN  \n",
       "1           138.9960           0.011111         950.50  \n",
       "2           138.9960           0.011111         950.50  \n",
       "3             5.7024           0.013889        1026.64  \n",
       "4            69.6960           0.004545        1292.56  "
      ]
     },
     "execution_count": 126,
     "metadata": {},
     "output_type": "execute_result"
    }
   ],
   "source": [
    "# Extract PC_PAL_Conversion & pal_weight_kg where target_unit_of_measure_code is \"PAL\"\n",
    "df_uom_pal = df_uom_merged[df_uom_merged[\"target_unit_of_measure_code\"] == \"PAL\"][\n",
    "    [\"material_sk\", \"PC_HL_Conversion\", \"pal_weight_kg\"]\n",
    "].rename(columns={\"PC_HL_Conversion\": \"PC_PAL_Conversion\"})  # Rename to PC_PAL_Conversion\n",
    "\n",
    "# Merge STO loads with df_uom_pal to include PC_PAL_Conversion & pal_weight_kg\n",
    "df_sto_merged = df_sto_loads.merge(\n",
    "    df_uom_pal,\n",
    "    on=\"material_sk\",\n",
    "    how=\"left\"\n",
    ")\n",
    "\n",
    "# Display results\n",
    "print(f\"Merge completed. Final row count: {len(df_sto_merged)}\")\n",
    "df_sto_merged.head()\n"
   ]
  },
  {
   "cell_type": "markdown",
   "metadata": {},
   "source": [
    "#### Calculating total quantity PAL"
   ]
  },
  {
   "cell_type": "code",
   "execution_count": 127,
   "metadata": {
    "execution": {
     "iopub.execute_input": "2025-04-10T07:36:17.892311Z",
     "iopub.status.busy": "2025-04-10T07:36:17.892311Z",
     "iopub.status.idle": "2025-04-10T07:36:17.938601Z",
     "shell.execute_reply": "2025-04-10T07:36:17.938601Z"
    }
   },
   "outputs": [
    {
     "name": "stdout",
     "output_type": "stream",
     "text": [
      "Transformation Completed: Total Quantity PAL Calculated\n"
     ]
    },
    {
     "data": {
      "text/html": [
       "<div>\n",
       "<style scoped>\n",
       "    .dataframe tbody tr th:only-of-type {\n",
       "        vertical-align: middle;\n",
       "    }\n",
       "\n",
       "    .dataframe tbody tr th {\n",
       "        vertical-align: top;\n",
       "    }\n",
       "\n",
       "    .dataframe thead th {\n",
       "        text-align: right;\n",
       "    }\n",
       "</style>\n",
       "<table border=\"1\" class=\"dataframe\">\n",
       "  <thead>\n",
       "    <tr style=\"text-align: right;\">\n",
       "      <th></th>\n",
       "      <th>RFRC_NUM12</th>\n",
       "      <th>load_id</th>\n",
       "      <th>movement_type</th>\n",
       "      <th>transportation_planning_priority</th>\n",
       "      <th>origin</th>\n",
       "      <th>destination</th>\n",
       "      <th>origin_slot_arrival</th>\n",
       "      <th>origin_slot_departure</th>\n",
       "      <th>destination_slot_arrival</th>\n",
       "      <th>destination_slot_departure</th>\n",
       "      <th>material_sk</th>\n",
       "      <th>material_code</th>\n",
       "      <th>plant_code</th>\n",
       "      <th>unit_of_measure_code</th>\n",
       "      <th>PC_HL_Conversion</th>\n",
       "      <th>total_quantity_HL</th>\n",
       "      <th>PC_PAL_Conversion</th>\n",
       "      <th>pal_weight_kg</th>\n",
       "      <th>total_quantity_PAL</th>\n",
       "    </tr>\n",
       "  </thead>\n",
       "  <tbody>\n",
       "    <tr>\n",
       "      <th>0</th>\n",
       "      <td>4.508588e+09</td>\n",
       "      <td>34707610</td>\n",
       "      <td>STO</td>\n",
       "      <td>12</td>\n",
       "      <td>GB02</td>\n",
       "      <td>GB01</td>\n",
       "      <td>2025-04-10 22:30:00</td>\n",
       "      <td>2025-04-10 23:00:00</td>\n",
       "      <td>2025-04-11 03:00:00</td>\n",
       "      <td>2025-04-11 03:30:00</td>\n",
       "      <td>1009912</td>\n",
       "      <td>51399758</td>\n",
       "      <td>GB02</td>\n",
       "      <td>KG</td>\n",
       "      <td>NaN</td>\n",
       "      <td>736.0000</td>\n",
       "      <td>NaN</td>\n",
       "      <td>NaN</td>\n",
       "      <td>NaN</td>\n",
       "    </tr>\n",
       "    <tr>\n",
       "      <th>1</th>\n",
       "      <td>4.508593e+09</td>\n",
       "      <td>34709785</td>\n",
       "      <td>STO</td>\n",
       "      <td>13</td>\n",
       "      <td>GB28</td>\n",
       "      <td>CH01</td>\n",
       "      <td>2025-04-11 08:00:00</td>\n",
       "      <td>2025-04-11 09:00:00</td>\n",
       "      <td>2025-04-15 09:00:00</td>\n",
       "      <td>2025-04-15 10:00:00</td>\n",
       "      <td>1873371</td>\n",
       "      <td>107643</td>\n",
       "      <td>GB28</td>\n",
       "      <td>PC</td>\n",
       "      <td>0.0594</td>\n",
       "      <td>138.9960</td>\n",
       "      <td>0.011111</td>\n",
       "      <td>950.50</td>\n",
       "      <td>26.0</td>\n",
       "    </tr>\n",
       "    <tr>\n",
       "      <th>2</th>\n",
       "      <td>4.508593e+09</td>\n",
       "      <td>34709786</td>\n",
       "      <td>STO</td>\n",
       "      <td>13</td>\n",
       "      <td>GB28</td>\n",
       "      <td>CH01</td>\n",
       "      <td>2025-04-10 11:00:00</td>\n",
       "      <td>2025-04-10 12:00:00</td>\n",
       "      <td>2025-04-14 07:00:00</td>\n",
       "      <td>2025-04-14 08:00:00</td>\n",
       "      <td>1873371</td>\n",
       "      <td>107643</td>\n",
       "      <td>GB28</td>\n",
       "      <td>PC</td>\n",
       "      <td>0.0594</td>\n",
       "      <td>138.9960</td>\n",
       "      <td>0.011111</td>\n",
       "      <td>950.50</td>\n",
       "      <td>26.0</td>\n",
       "    </tr>\n",
       "    <tr>\n",
       "      <th>3</th>\n",
       "      <td>4.508594e+09</td>\n",
       "      <td>34710108</td>\n",
       "      <td>STO</td>\n",
       "      <td>12</td>\n",
       "      <td>GB01</td>\n",
       "      <td>GB02</td>\n",
       "      <td>2025-04-11 17:00:00</td>\n",
       "      <td>2025-04-11 17:30:00</td>\n",
       "      <td>2025-04-11 22:00:00</td>\n",
       "      <td>2025-04-11 22:30:00</td>\n",
       "      <td>36746</td>\n",
       "      <td>49799</td>\n",
       "      <td>GB01</td>\n",
       "      <td>PC</td>\n",
       "      <td>0.0792</td>\n",
       "      <td>5.7024</td>\n",
       "      <td>0.013889</td>\n",
       "      <td>1026.64</td>\n",
       "      <td>1.0</td>\n",
       "    </tr>\n",
       "    <tr>\n",
       "      <th>4</th>\n",
       "      <td>4.508594e+09</td>\n",
       "      <td>34710108</td>\n",
       "      <td>STO</td>\n",
       "      <td>12</td>\n",
       "      <td>GB01</td>\n",
       "      <td>GB02</td>\n",
       "      <td>2025-04-11 17:00:00</td>\n",
       "      <td>2025-04-11 17:30:00</td>\n",
       "      <td>2025-04-11 22:00:00</td>\n",
       "      <td>2025-04-11 22:30:00</td>\n",
       "      <td>1907157</td>\n",
       "      <td>107750</td>\n",
       "      <td>GB01</td>\n",
       "      <td>PC</td>\n",
       "      <td>0.0528</td>\n",
       "      <td>69.6960</td>\n",
       "      <td>0.004545</td>\n",
       "      <td>1292.56</td>\n",
       "      <td>6.0</td>\n",
       "    </tr>\n",
       "  </tbody>\n",
       "</table>\n",
       "</div>"
      ],
      "text/plain": [
       "     RFRC_NUM12   load_id movement_type  transportation_planning_priority  \\\n",
       "0  4.508588e+09  34707610           STO                                12   \n",
       "1  4.508593e+09  34709785           STO                                13   \n",
       "2  4.508593e+09  34709786           STO                                13   \n",
       "3  4.508594e+09  34710108           STO                                12   \n",
       "4  4.508594e+09  34710108           STO                                12   \n",
       "\n",
       "  origin destination origin_slot_arrival origin_slot_departure  \\\n",
       "0   GB02        GB01 2025-04-10 22:30:00   2025-04-10 23:00:00   \n",
       "1   GB28        CH01 2025-04-11 08:00:00   2025-04-11 09:00:00   \n",
       "2   GB28        CH01 2025-04-10 11:00:00   2025-04-10 12:00:00   \n",
       "3   GB01        GB02 2025-04-11 17:00:00   2025-04-11 17:30:00   \n",
       "4   GB01        GB02 2025-04-11 17:00:00   2025-04-11 17:30:00   \n",
       "\n",
       "  destination_slot_arrival destination_slot_departure  material_sk  \\\n",
       "0      2025-04-11 03:00:00        2025-04-11 03:30:00      1009912   \n",
       "1      2025-04-15 09:00:00        2025-04-15 10:00:00      1873371   \n",
       "2      2025-04-14 07:00:00        2025-04-14 08:00:00      1873371   \n",
       "3      2025-04-11 22:00:00        2025-04-11 22:30:00        36746   \n",
       "4      2025-04-11 22:00:00        2025-04-11 22:30:00      1907157   \n",
       "\n",
       "   material_code plant_code unit_of_measure_code  PC_HL_Conversion  \\\n",
       "0       51399758       GB02                   KG               NaN   \n",
       "1         107643       GB28                   PC            0.0594   \n",
       "2         107643       GB28                   PC            0.0594   \n",
       "3          49799       GB01                   PC            0.0792   \n",
       "4         107750       GB01                   PC            0.0528   \n",
       "\n",
       "   total_quantity_HL  PC_PAL_Conversion  pal_weight_kg  total_quantity_PAL  \n",
       "0           736.0000                NaN            NaN                 NaN  \n",
       "1           138.9960           0.011111         950.50                26.0  \n",
       "2           138.9960           0.011111         950.50                26.0  \n",
       "3             5.7024           0.013889        1026.64                 1.0  \n",
       "4            69.6960           0.004545        1292.56                 6.0  "
      ]
     },
     "execution_count": 127,
     "metadata": {},
     "output_type": "execute_result"
    }
   ],
   "source": [
    "# Compute Total Quantity PAL\n",
    "df_sto_merged[\"total_quantity_PAL\"] = (df_sto_merged[\"total_quantity_HL\"] / df_sto_merged[\"PC_HL_Conversion\"]) * df_sto_merged[\"PC_PAL_Conversion\"]\n",
    "\n",
    "# Display results\n",
    "print(\"Transformation Completed: Total Quantity PAL Calculated\")\n",
    "df_sto_merged.head()\n"
   ]
  },
  {
   "cell_type": "markdown",
   "metadata": {},
   "source": [
    "#### Calculating Total Quantity KG"
   ]
  },
  {
   "cell_type": "code",
   "execution_count": 128,
   "metadata": {
    "execution": {
     "iopub.execute_input": "2025-04-10T07:36:17.943205Z",
     "iopub.status.busy": "2025-04-10T07:36:17.943205Z",
     "iopub.status.idle": "2025-04-10T07:36:17.990987Z",
     "shell.execute_reply": "2025-04-10T07:36:17.988992Z"
    }
   },
   "outputs": [
    {
     "name": "stdout",
     "output_type": "stream",
     "text": [
      "Transformation Completed: Total Quantity KG Calculated\n"
     ]
    },
    {
     "data": {
      "text/html": [
       "<div>\n",
       "<style scoped>\n",
       "    .dataframe tbody tr th:only-of-type {\n",
       "        vertical-align: middle;\n",
       "    }\n",
       "\n",
       "    .dataframe tbody tr th {\n",
       "        vertical-align: top;\n",
       "    }\n",
       "\n",
       "    .dataframe thead th {\n",
       "        text-align: right;\n",
       "    }\n",
       "</style>\n",
       "<table border=\"1\" class=\"dataframe\">\n",
       "  <thead>\n",
       "    <tr style=\"text-align: right;\">\n",
       "      <th></th>\n",
       "      <th>RFRC_NUM12</th>\n",
       "      <th>load_id</th>\n",
       "      <th>movement_type</th>\n",
       "      <th>transportation_planning_priority</th>\n",
       "      <th>origin</th>\n",
       "      <th>destination</th>\n",
       "      <th>origin_slot_arrival</th>\n",
       "      <th>origin_slot_departure</th>\n",
       "      <th>destination_slot_arrival</th>\n",
       "      <th>destination_slot_departure</th>\n",
       "      <th>material_sk</th>\n",
       "      <th>material_code</th>\n",
       "      <th>plant_code</th>\n",
       "      <th>unit_of_measure_code</th>\n",
       "      <th>PC_HL_Conversion</th>\n",
       "      <th>total_quantity_HL</th>\n",
       "      <th>PC_PAL_Conversion</th>\n",
       "      <th>pal_weight_kg</th>\n",
       "      <th>total_quantity_PAL</th>\n",
       "      <th>total_quantity_KG</th>\n",
       "    </tr>\n",
       "  </thead>\n",
       "  <tbody>\n",
       "    <tr>\n",
       "      <th>0</th>\n",
       "      <td>4.508588e+09</td>\n",
       "      <td>34707610</td>\n",
       "      <td>STO</td>\n",
       "      <td>12</td>\n",
       "      <td>GB02</td>\n",
       "      <td>GB01</td>\n",
       "      <td>2025-04-10 22:30:00</td>\n",
       "      <td>2025-04-10 23:00:00</td>\n",
       "      <td>2025-04-11 03:00:00</td>\n",
       "      <td>2025-04-11 03:30:00</td>\n",
       "      <td>1009912</td>\n",
       "      <td>51399758</td>\n",
       "      <td>GB02</td>\n",
       "      <td>KG</td>\n",
       "      <td>NaN</td>\n",
       "      <td>736.0000</td>\n",
       "      <td>NaN</td>\n",
       "      <td>NaN</td>\n",
       "      <td>NaN</td>\n",
       "      <td>NaN</td>\n",
       "    </tr>\n",
       "    <tr>\n",
       "      <th>1</th>\n",
       "      <td>4.508593e+09</td>\n",
       "      <td>34709785</td>\n",
       "      <td>STO</td>\n",
       "      <td>13</td>\n",
       "      <td>GB28</td>\n",
       "      <td>CH01</td>\n",
       "      <td>2025-04-11 08:00:00</td>\n",
       "      <td>2025-04-11 09:00:00</td>\n",
       "      <td>2025-04-15 09:00:00</td>\n",
       "      <td>2025-04-15 10:00:00</td>\n",
       "      <td>1873371</td>\n",
       "      <td>107643</td>\n",
       "      <td>GB28</td>\n",
       "      <td>PC</td>\n",
       "      <td>0.0594</td>\n",
       "      <td>138.9960</td>\n",
       "      <td>0.011111</td>\n",
       "      <td>950.50</td>\n",
       "      <td>26.0</td>\n",
       "      <td>24713.00</td>\n",
       "    </tr>\n",
       "    <tr>\n",
       "      <th>2</th>\n",
       "      <td>4.508593e+09</td>\n",
       "      <td>34709786</td>\n",
       "      <td>STO</td>\n",
       "      <td>13</td>\n",
       "      <td>GB28</td>\n",
       "      <td>CH01</td>\n",
       "      <td>2025-04-10 11:00:00</td>\n",
       "      <td>2025-04-10 12:00:00</td>\n",
       "      <td>2025-04-14 07:00:00</td>\n",
       "      <td>2025-04-14 08:00:00</td>\n",
       "      <td>1873371</td>\n",
       "      <td>107643</td>\n",
       "      <td>GB28</td>\n",
       "      <td>PC</td>\n",
       "      <td>0.0594</td>\n",
       "      <td>138.9960</td>\n",
       "      <td>0.011111</td>\n",
       "      <td>950.50</td>\n",
       "      <td>26.0</td>\n",
       "      <td>24713.00</td>\n",
       "    </tr>\n",
       "    <tr>\n",
       "      <th>3</th>\n",
       "      <td>4.508594e+09</td>\n",
       "      <td>34710108</td>\n",
       "      <td>STO</td>\n",
       "      <td>12</td>\n",
       "      <td>GB01</td>\n",
       "      <td>GB02</td>\n",
       "      <td>2025-04-11 17:00:00</td>\n",
       "      <td>2025-04-11 17:30:00</td>\n",
       "      <td>2025-04-11 22:00:00</td>\n",
       "      <td>2025-04-11 22:30:00</td>\n",
       "      <td>36746</td>\n",
       "      <td>49799</td>\n",
       "      <td>GB01</td>\n",
       "      <td>PC</td>\n",
       "      <td>0.0792</td>\n",
       "      <td>5.7024</td>\n",
       "      <td>0.013889</td>\n",
       "      <td>1026.64</td>\n",
       "      <td>1.0</td>\n",
       "      <td>1026.64</td>\n",
       "    </tr>\n",
       "    <tr>\n",
       "      <th>4</th>\n",
       "      <td>4.508594e+09</td>\n",
       "      <td>34710108</td>\n",
       "      <td>STO</td>\n",
       "      <td>12</td>\n",
       "      <td>GB01</td>\n",
       "      <td>GB02</td>\n",
       "      <td>2025-04-11 17:00:00</td>\n",
       "      <td>2025-04-11 17:30:00</td>\n",
       "      <td>2025-04-11 22:00:00</td>\n",
       "      <td>2025-04-11 22:30:00</td>\n",
       "      <td>1907157</td>\n",
       "      <td>107750</td>\n",
       "      <td>GB01</td>\n",
       "      <td>PC</td>\n",
       "      <td>0.0528</td>\n",
       "      <td>69.6960</td>\n",
       "      <td>0.004545</td>\n",
       "      <td>1292.56</td>\n",
       "      <td>6.0</td>\n",
       "      <td>7755.36</td>\n",
       "    </tr>\n",
       "  </tbody>\n",
       "</table>\n",
       "</div>"
      ],
      "text/plain": [
       "     RFRC_NUM12   load_id movement_type  transportation_planning_priority  \\\n",
       "0  4.508588e+09  34707610           STO                                12   \n",
       "1  4.508593e+09  34709785           STO                                13   \n",
       "2  4.508593e+09  34709786           STO                                13   \n",
       "3  4.508594e+09  34710108           STO                                12   \n",
       "4  4.508594e+09  34710108           STO                                12   \n",
       "\n",
       "  origin destination origin_slot_arrival origin_slot_departure  \\\n",
       "0   GB02        GB01 2025-04-10 22:30:00   2025-04-10 23:00:00   \n",
       "1   GB28        CH01 2025-04-11 08:00:00   2025-04-11 09:00:00   \n",
       "2   GB28        CH01 2025-04-10 11:00:00   2025-04-10 12:00:00   \n",
       "3   GB01        GB02 2025-04-11 17:00:00   2025-04-11 17:30:00   \n",
       "4   GB01        GB02 2025-04-11 17:00:00   2025-04-11 17:30:00   \n",
       "\n",
       "  destination_slot_arrival destination_slot_departure  material_sk  \\\n",
       "0      2025-04-11 03:00:00        2025-04-11 03:30:00      1009912   \n",
       "1      2025-04-15 09:00:00        2025-04-15 10:00:00      1873371   \n",
       "2      2025-04-14 07:00:00        2025-04-14 08:00:00      1873371   \n",
       "3      2025-04-11 22:00:00        2025-04-11 22:30:00        36746   \n",
       "4      2025-04-11 22:00:00        2025-04-11 22:30:00      1907157   \n",
       "\n",
       "   material_code plant_code unit_of_measure_code  PC_HL_Conversion  \\\n",
       "0       51399758       GB02                   KG               NaN   \n",
       "1         107643       GB28                   PC            0.0594   \n",
       "2         107643       GB28                   PC            0.0594   \n",
       "3          49799       GB01                   PC            0.0792   \n",
       "4         107750       GB01                   PC            0.0528   \n",
       "\n",
       "   total_quantity_HL  PC_PAL_Conversion  pal_weight_kg  total_quantity_PAL  \\\n",
       "0           736.0000                NaN            NaN                 NaN   \n",
       "1           138.9960           0.011111         950.50                26.0   \n",
       "2           138.9960           0.011111         950.50                26.0   \n",
       "3             5.7024           0.013889        1026.64                 1.0   \n",
       "4            69.6960           0.004545        1292.56                 6.0   \n",
       "\n",
       "   total_quantity_KG  \n",
       "0                NaN  \n",
       "1           24713.00  \n",
       "2           24713.00  \n",
       "3            1026.64  \n",
       "4            7755.36  "
      ]
     },
     "execution_count": 128,
     "metadata": {},
     "output_type": "execute_result"
    }
   ],
   "source": [
    "# Compute Total Quantity KG\n",
    "df_sto_merged[\"total_quantity_KG\"] = df_sto_merged[\"total_quantity_PAL\"] * df_sto_merged[\"pal_weight_kg\"]\n",
    "\n",
    "# Display results\n",
    "print(\"Transformation Completed: Total Quantity KG Calculated\")\n",
    "df_sto_merged.head()\n"
   ]
  },
  {
   "cell_type": "markdown",
   "metadata": {},
   "source": [
    "#### Drop Null values based on total quantity pal"
   ]
  },
  {
   "cell_type": "code",
   "execution_count": 129,
   "metadata": {
    "execution": {
     "iopub.execute_input": "2025-04-10T07:36:17.995989Z",
     "iopub.status.busy": "2025-04-10T07:36:17.995989Z",
     "iopub.status.idle": "2025-04-10T07:36:18.015918Z",
     "shell.execute_reply": "2025-04-10T07:36:18.015401Z"
    }
   },
   "outputs": [
    {
     "name": "stdout",
     "output_type": "stream",
     "text": [
      "Missing values in `total_quantity_PAL` before drop: 1\n",
      "Missing values after drop: 0\n",
      "Rows remaining after drop: 162 (99.39% retained)\n",
      "Rows dropped: 1 (0.61%)\n"
     ]
    }
   ],
   "source": [
    "# Detect missing values before dropping\n",
    "missing_before = df_sto_merged[\"total_quantity_PAL\"].isnull().sum()\n",
    "total_rows_before = len(df_sto_merged)\n",
    "\n",
    "# Drop rows where `total_quantity_PAL` is null\n",
    "df_sto_merged = df_sto_merged.dropna(subset=[\"total_quantity_PAL\"]).reset_index(drop=True)\n",
    "\n",
    "# Detect missing values after dropping\n",
    "missing_after = df_sto_merged[\"total_quantity_PAL\"].isnull().sum()\n",
    "total_rows_after = len(df_sto_merged)\n",
    "\n",
    "# Compute statistics\n",
    "rows_dropped = missing_before\n",
    "drop_percentage = (rows_dropped / total_rows_before) * 100\n",
    "\n",
    "# Display results\n",
    "print(f\"Missing values in `total_quantity_PAL` before drop: {missing_before}\")\n",
    "print(f\"Missing values after drop: {missing_after}\")\n",
    "print(f\"Rows remaining after drop: {total_rows_after} ({100 - drop_percentage:.2f}% retained)\")\n",
    "print(f\"Rows dropped: {rows_dropped} ({drop_percentage:.2f}%)\")\n"
   ]
  },
  {
   "cell_type": "markdown",
   "metadata": {},
   "source": [
    "#### Final saving to Open STO"
   ]
  },
  {
   "cell_type": "code",
   "execution_count": 130,
   "metadata": {
    "execution": {
     "iopub.execute_input": "2025-04-10T07:36:18.021963Z",
     "iopub.status.busy": "2025-04-10T07:36:18.021963Z",
     "iopub.status.idle": "2025-04-10T07:36:18.059096Z",
     "shell.execute_reply": "2025-04-10T07:36:18.059096Z"
    }
   },
   "outputs": [
    {
     "name": "stdout",
     "output_type": "stream",
     "text": [
      "Processed STO Data Saved to: ./PRE_PROCESSED_DATA/04. April 2025/10_04_2025 preprocessed data/2025_04_10_13_03_07 preprocessed data/open_sto.csv\n"
     ]
    }
   ],
   "source": [
    "# Define save path\n",
    "open_sto_path = os.path.join(preprocessed_path, \"open_sto.csv\")\n",
    "\n",
    "# Save the DataFrame\n",
    "df_sto_merged.to_csv(open_sto_path, index=False)\n",
    "\n",
    "print(f\"Processed STO Data Saved to: {open_sto_path}\")\n"
   ]
  },
  {
   "cell_type": "markdown",
   "metadata": {},
   "source": [
    "#### Aggregation"
   ]
  },
  {
   "cell_type": "code",
   "execution_count": 131,
   "metadata": {
    "execution": {
     "iopub.execute_input": "2025-04-10T07:36:18.064840Z",
     "iopub.status.busy": "2025-04-10T07:36:18.064840Z",
     "iopub.status.idle": "2025-04-10T07:36:18.127068Z",
     "shell.execute_reply": "2025-04-10T07:36:18.125534Z"
    }
   },
   "outputs": [
    {
     "name": "stdout",
     "output_type": "stream",
     "text": [
      "Aggregation completed. Remaining rows: 162"
     ]
    },
    {
     "name": "stdout",
     "output_type": "stream",
     "text": [
      "\n"
     ]
    },
    {
     "data": {
      "text/html": [
       "<div>\n",
       "<style scoped>\n",
       "    .dataframe tbody tr th:only-of-type {\n",
       "        vertical-align: middle;\n",
       "    }\n",
       "\n",
       "    .dataframe tbody tr th {\n",
       "        vertical-align: top;\n",
       "    }\n",
       "\n",
       "    .dataframe thead th {\n",
       "        text-align: right;\n",
       "    }\n",
       "</style>\n",
       "<table border=\"1\" class=\"dataframe\">\n",
       "  <thead>\n",
       "    <tr style=\"text-align: right;\">\n",
       "      <th></th>\n",
       "      <th>RFRC_NUM12</th>\n",
       "      <th>load_id</th>\n",
       "      <th>movement_type</th>\n",
       "      <th>transportation_planning_priority</th>\n",
       "      <th>origin</th>\n",
       "      <th>destination</th>\n",
       "      <th>origin_slot_arrival</th>\n",
       "      <th>origin_slot_departure</th>\n",
       "      <th>destination_slot_arrival</th>\n",
       "      <th>destination_slot_departure</th>\n",
       "      <th>material_sk</th>\n",
       "      <th>material_code</th>\n",
       "      <th>plant_code</th>\n",
       "      <th>total_quantity_HL</th>\n",
       "      <th>total_quantity_PAL</th>\n",
       "      <th>total_quantity_KG</th>\n",
       "    </tr>\n",
       "  </thead>\n",
       "  <tbody>\n",
       "    <tr>\n",
       "      <th>0</th>\n",
       "      <td>4.508593e+09</td>\n",
       "      <td>34709785</td>\n",
       "      <td>STO</td>\n",
       "      <td>13</td>\n",
       "      <td>GB28</td>\n",
       "      <td>CH01</td>\n",
       "      <td>2025-04-11 08:00:00</td>\n",
       "      <td>2025-04-11 09:00:00</td>\n",
       "      <td>2025-04-15 09:00:00</td>\n",
       "      <td>2025-04-15 10:00:00</td>\n",
       "      <td>1873371</td>\n",
       "      <td>107643</td>\n",
       "      <td>GB28</td>\n",
       "      <td>138.9960</td>\n",
       "      <td>26.0</td>\n",
       "      <td>24713.00</td>\n",
       "    </tr>\n",
       "    <tr>\n",
       "      <th>1</th>\n",
       "      <td>4.508593e+09</td>\n",
       "      <td>34709786</td>\n",
       "      <td>STO</td>\n",
       "      <td>13</td>\n",
       "      <td>GB28</td>\n",
       "      <td>CH01</td>\n",
       "      <td>2025-04-10 11:00:00</td>\n",
       "      <td>2025-04-10 12:00:00</td>\n",
       "      <td>2025-04-14 07:00:00</td>\n",
       "      <td>2025-04-14 08:00:00</td>\n",
       "      <td>1873371</td>\n",
       "      <td>107643</td>\n",
       "      <td>GB28</td>\n",
       "      <td>138.9960</td>\n",
       "      <td>26.0</td>\n",
       "      <td>24713.00</td>\n",
       "    </tr>\n",
       "    <tr>\n",
       "      <th>2</th>\n",
       "      <td>4.508594e+09</td>\n",
       "      <td>34710108</td>\n",
       "      <td>STO</td>\n",
       "      <td>12</td>\n",
       "      <td>GB01</td>\n",
       "      <td>GB02</td>\n",
       "      <td>2025-04-11 17:00:00</td>\n",
       "      <td>2025-04-11 17:30:00</td>\n",
       "      <td>2025-04-11 22:00:00</td>\n",
       "      <td>2025-04-11 22:30:00</td>\n",
       "      <td>36746</td>\n",
       "      <td>49799</td>\n",
       "      <td>GB01</td>\n",
       "      <td>5.7024</td>\n",
       "      <td>1.0</td>\n",
       "      <td>1026.64</td>\n",
       "    </tr>\n",
       "    <tr>\n",
       "      <th>3</th>\n",
       "      <td>4.508594e+09</td>\n",
       "      <td>34710108</td>\n",
       "      <td>STO</td>\n",
       "      <td>12</td>\n",
       "      <td>GB01</td>\n",
       "      <td>GB02</td>\n",
       "      <td>2025-04-11 17:00:00</td>\n",
       "      <td>2025-04-11 17:30:00</td>\n",
       "      <td>2025-04-11 22:00:00</td>\n",
       "      <td>2025-04-11 22:30:00</td>\n",
       "      <td>1907157</td>\n",
       "      <td>107750</td>\n",
       "      <td>GB01</td>\n",
       "      <td>69.6960</td>\n",
       "      <td>6.0</td>\n",
       "      <td>7755.36</td>\n",
       "    </tr>\n",
       "    <tr>\n",
       "      <th>4</th>\n",
       "      <td>4.508594e+09</td>\n",
       "      <td>34710108</td>\n",
       "      <td>STO</td>\n",
       "      <td>12</td>\n",
       "      <td>GB01</td>\n",
       "      <td>GB02</td>\n",
       "      <td>2025-04-11 17:00:00</td>\n",
       "      <td>2025-04-11 17:30:00</td>\n",
       "      <td>2025-04-11 22:00:00</td>\n",
       "      <td>2025-04-11 22:30:00</td>\n",
       "      <td>1983159</td>\n",
       "      <td>99214</td>\n",
       "      <td>GB01</td>\n",
       "      <td>108.3456</td>\n",
       "      <td>19.0</td>\n",
       "      <td>19273.60</td>\n",
       "    </tr>\n",
       "  </tbody>\n",
       "</table>\n",
       "</div>"
      ],
      "text/plain": [
       "     RFRC_NUM12   load_id movement_type  transportation_planning_priority  \\\n",
       "0  4.508593e+09  34709785           STO                                13   \n",
       "1  4.508593e+09  34709786           STO                                13   \n",
       "2  4.508594e+09  34710108           STO                                12   \n",
       "3  4.508594e+09  34710108           STO                                12   \n",
       "4  4.508594e+09  34710108           STO                                12   \n",
       "\n",
       "  origin destination origin_slot_arrival origin_slot_departure  \\\n",
       "0   GB28        CH01 2025-04-11 08:00:00   2025-04-11 09:00:00   \n",
       "1   GB28        CH01 2025-04-10 11:00:00   2025-04-10 12:00:00   \n",
       "2   GB01        GB02 2025-04-11 17:00:00   2025-04-11 17:30:00   \n",
       "3   GB01        GB02 2025-04-11 17:00:00   2025-04-11 17:30:00   \n",
       "4   GB01        GB02 2025-04-11 17:00:00   2025-04-11 17:30:00   \n",
       "\n",
       "  destination_slot_arrival destination_slot_departure  material_sk  \\\n",
       "0      2025-04-15 09:00:00        2025-04-15 10:00:00      1873371   \n",
       "1      2025-04-14 07:00:00        2025-04-14 08:00:00      1873371   \n",
       "2      2025-04-11 22:00:00        2025-04-11 22:30:00        36746   \n",
       "3      2025-04-11 22:00:00        2025-04-11 22:30:00      1907157   \n",
       "4      2025-04-11 22:00:00        2025-04-11 22:30:00      1983159   \n",
       "\n",
       "   material_code plant_code  total_quantity_HL  total_quantity_PAL  \\\n",
       "0         107643       GB28           138.9960                26.0   \n",
       "1         107643       GB28           138.9960                26.0   \n",
       "2          49799       GB01             5.7024                 1.0   \n",
       "3         107750       GB01            69.6960                 6.0   \n",
       "4          99214       GB01           108.3456                19.0   \n",
       "\n",
       "   total_quantity_KG  \n",
       "0           24713.00  \n",
       "1           24713.00  \n",
       "2            1026.64  \n",
       "3            7755.36  \n",
       "4           19273.60  "
      ]
     },
     "execution_count": 131,
     "metadata": {},
     "output_type": "execute_result"
    }
   ],
   "source": [
    "# Perform aggregation on the available columns\n",
    "df_aggregated = df_sto_merged.groupby(\n",
    "    [\n",
    "        \"RFRC_NUM12\", \"load_id\", \"movement_type\", \"transportation_planning_priority\",\n",
    "        \"origin\", \"destination\", \"origin_slot_arrival\", \"origin_slot_departure\",\n",
    "        \"destination_slot_arrival\", \"destination_slot_departure\", \"material_sk\", \"material_code\", \"plant_code\"\n",
    "    ],\n",
    "    as_index=False\n",
    ").agg(\n",
    "    {\n",
    "        \"total_quantity_HL\": \"sum\",\n",
    "        \"total_quantity_PAL\": \"sum\",\n",
    "        \"total_quantity_KG\": \"sum\"\n",
    "    }\n",
    ")\n",
    "\n",
    "# Display results\n",
    "print(f\"Aggregation completed. Remaining rows: {len(df_aggregated)}\")\n",
    "df_aggregated.head()\n"
   ]
  },
  {
   "cell_type": "markdown",
   "metadata": {},
   "source": [
    "#### Final saving aggregated df to load detials"
   ]
  },
  {
   "cell_type": "code",
   "execution_count": 132,
   "metadata": {
    "execution": {
     "iopub.execute_input": "2025-04-10T07:36:18.137066Z",
     "iopub.status.busy": "2025-04-10T07:36:18.136064Z",
     "iopub.status.idle": "2025-04-10T07:36:18.165905Z",
     "shell.execute_reply": "2025-04-10T07:36:18.165905Z"
    }
   },
   "outputs": [
    {
     "name": "stdout",
     "output_type": "stream",
     "text": [
      "Processed Load Details Data Saved to: ./PRE_PROCESSED_DATA/04. April 2025/10_04_2025 preprocessed data/2025_04_10_13_03_07 preprocessed data/load_details.csv\n"
     ]
    }
   ],
   "source": [
    "# Define save path\n",
    "load_details_path = os.path.join(preprocessed_path, \"load_details.csv\")\n",
    "\n",
    "# Save to CSV\n",
    "df_aggregated.to_csv(load_details_path, index=False)\n",
    "\n",
    "print(f\"Processed Load Details Data Saved to: {load_details_path}\")\n"
   ]
  },
  {
   "cell_type": "markdown",
   "metadata": {},
   "source": [
    "#### Save a column subset to outbound loads"
   ]
  },
  {
   "cell_type": "code",
   "execution_count": 133,
   "metadata": {
    "execution": {
     "iopub.execute_input": "2025-04-10T07:36:18.165905Z",
     "iopub.status.busy": "2025-04-10T07:36:18.165905Z",
     "iopub.status.idle": "2025-04-10T07:36:18.231375Z",
     "shell.execute_reply": "2025-04-10T07:36:18.231375Z"
    }
   },
   "outputs": [
    {
     "name": "stdout",
     "output_type": "stream",
     "text": [
      "Column subset applied and saved to: ./PRE_PROCESSED_DATA/04. April 2025/10_04_2025 preprocessed data/2025_04_10_13_03_07 preprocessed data/outbound_loads.csv\n"
     ]
    },
    {
     "data": {
      "text/html": [
       "<div>\n",
       "<style scoped>\n",
       "    .dataframe tbody tr th:only-of-type {\n",
       "        vertical-align: middle;\n",
       "    }\n",
       "\n",
       "    .dataframe tbody tr th {\n",
       "        vertical-align: top;\n",
       "    }\n",
       "\n",
       "    .dataframe thead th {\n",
       "        text-align: right;\n",
       "    }\n",
       "</style>\n",
       "<table border=\"1\" class=\"dataframe\">\n",
       "  <thead>\n",
       "    <tr style=\"text-align: right;\">\n",
       "      <th></th>\n",
       "      <th>RFRC_NUM12</th>\n",
       "      <th>load_id</th>\n",
       "      <th>movement_type</th>\n",
       "      <th>plant_code</th>\n",
       "      <th>transportation_planning_priority</th>\n",
       "      <th>origin</th>\n",
       "      <th>destination</th>\n",
       "      <th>origin_slot_arrival</th>\n",
       "      <th>origin_slot_departure</th>\n",
       "    </tr>\n",
       "  </thead>\n",
       "  <tbody>\n",
       "    <tr>\n",
       "      <th>0</th>\n",
       "      <td>4.508593e+09</td>\n",
       "      <td>34709785</td>\n",
       "      <td>STO</td>\n",
       "      <td>GB28</td>\n",
       "      <td>13</td>\n",
       "      <td>GB28</td>\n",
       "      <td>CH01</td>\n",
       "      <td>2025-04-11 08:00:00</td>\n",
       "      <td>2025-04-11 09:00:00</td>\n",
       "    </tr>\n",
       "    <tr>\n",
       "      <th>1</th>\n",
       "      <td>4.508593e+09</td>\n",
       "      <td>34709786</td>\n",
       "      <td>STO</td>\n",
       "      <td>GB28</td>\n",
       "      <td>13</td>\n",
       "      <td>GB28</td>\n",
       "      <td>CH01</td>\n",
       "      <td>2025-04-10 11:00:00</td>\n",
       "      <td>2025-04-10 12:00:00</td>\n",
       "    </tr>\n",
       "    <tr>\n",
       "      <th>2</th>\n",
       "      <td>4.508594e+09</td>\n",
       "      <td>34710108</td>\n",
       "      <td>STO</td>\n",
       "      <td>GB01</td>\n",
       "      <td>12</td>\n",
       "      <td>GB01</td>\n",
       "      <td>GB02</td>\n",
       "      <td>2025-04-11 17:00:00</td>\n",
       "      <td>2025-04-11 17:30:00</td>\n",
       "    </tr>\n",
       "    <tr>\n",
       "      <th>3</th>\n",
       "      <td>4.508594e+09</td>\n",
       "      <td>34710108</td>\n",
       "      <td>STO</td>\n",
       "      <td>GB01</td>\n",
       "      <td>12</td>\n",
       "      <td>GB01</td>\n",
       "      <td>GB02</td>\n",
       "      <td>2025-04-11 17:00:00</td>\n",
       "      <td>2025-04-11 17:30:00</td>\n",
       "    </tr>\n",
       "    <tr>\n",
       "      <th>4</th>\n",
       "      <td>4.508594e+09</td>\n",
       "      <td>34710108</td>\n",
       "      <td>STO</td>\n",
       "      <td>GB01</td>\n",
       "      <td>12</td>\n",
       "      <td>GB01</td>\n",
       "      <td>GB02</td>\n",
       "      <td>2025-04-11 17:00:00</td>\n",
       "      <td>2025-04-11 17:30:00</td>\n",
       "    </tr>\n",
       "  </tbody>\n",
       "</table>\n",
       "</div>"
      ],
      "text/plain": [
       "     RFRC_NUM12   load_id movement_type plant_code  \\\n",
       "0  4.508593e+09  34709785           STO       GB28   \n",
       "1  4.508593e+09  34709786           STO       GB28   \n",
       "2  4.508594e+09  34710108           STO       GB01   \n",
       "3  4.508594e+09  34710108           STO       GB01   \n",
       "4  4.508594e+09  34710108           STO       GB01   \n",
       "\n",
       "   transportation_planning_priority origin destination origin_slot_arrival  \\\n",
       "0                                13   GB28        CH01 2025-04-11 08:00:00   \n",
       "1                                13   GB28        CH01 2025-04-10 11:00:00   \n",
       "2                                12   GB01        GB02 2025-04-11 17:00:00   \n",
       "3                                12   GB01        GB02 2025-04-11 17:00:00   \n",
       "4                                12   GB01        GB02 2025-04-11 17:00:00   \n",
       "\n",
       "  origin_slot_departure  \n",
       "0   2025-04-11 09:00:00  \n",
       "1   2025-04-10 12:00:00  \n",
       "2   2025-04-11 17:30:00  \n",
       "3   2025-04-11 17:30:00  \n",
       "4   2025-04-11 17:30:00  "
      ]
     },
     "execution_count": 133,
     "metadata": {},
     "output_type": "execute_result"
    }
   ],
   "source": [
    "# Define required columns for outbound loads\n",
    "required_columns = [\n",
    "    \"RFRC_NUM12\", \"load_id\", \"movement_type\", \"plant_code\",\n",
    "    \"transportation_planning_priority\", \"origin\", \"destination\",\n",
    "    \"origin_slot_arrival\", \"origin_slot_departure\"\n",
    "]\n",
    "\n",
    "# Subset the DataFrame\n",
    "df_outbound_loads = df_aggregated[required_columns].copy()\n",
    "\n",
    "# Define save path\n",
    "outbound_loads_path = os.path.join(preprocessed_path, \"outbound_loads.csv\")\n",
    "\n",
    "# Save to CSV\n",
    "df_outbound_loads.to_csv(outbound_loads_path, index=False)\n",
    "\n",
    "# Display results\n",
    "print(f\"Column subset applied and saved to: {outbound_loads_path}\")\n",
    "df_outbound_loads.head()\n"
   ]
  },
  {
   "cell_type": "markdown",
   "metadata": {},
   "source": [
    "#### Save a column subset to inbound loads"
   ]
  },
  {
   "cell_type": "code",
   "execution_count": 134,
   "metadata": {
    "execution": {
     "iopub.execute_input": "2025-04-10T07:36:18.231375Z",
     "iopub.status.busy": "2025-04-10T07:36:18.231375Z",
     "iopub.status.idle": "2025-04-10T07:36:18.289533Z",
     "shell.execute_reply": "2025-04-10T07:36:18.289533Z"
    }
   },
   "outputs": [
    {
     "name": "stdout",
     "output_type": "stream",
     "text": [
      "Column subset applied and saved to: ./PRE_PROCESSED_DATA/04. April 2025/10_04_2025 preprocessed data/2025_04_10_13_03_07 preprocessed data/inbound_loads.csv\n"
     ]
    },
    {
     "data": {
      "text/html": [
       "<div>\n",
       "<style scoped>\n",
       "    .dataframe tbody tr th:only-of-type {\n",
       "        vertical-align: middle;\n",
       "    }\n",
       "\n",
       "    .dataframe tbody tr th {\n",
       "        vertical-align: top;\n",
       "    }\n",
       "\n",
       "    .dataframe thead th {\n",
       "        text-align: right;\n",
       "    }\n",
       "</style>\n",
       "<table border=\"1\" class=\"dataframe\">\n",
       "  <thead>\n",
       "    <tr style=\"text-align: right;\">\n",
       "      <th></th>\n",
       "      <th>RFRC_NUM12</th>\n",
       "      <th>load_id</th>\n",
       "      <th>movement_type</th>\n",
       "      <th>plant_code</th>\n",
       "      <th>transportation_planning_priority</th>\n",
       "      <th>origin</th>\n",
       "      <th>destination</th>\n",
       "      <th>destination_slot_arrival</th>\n",
       "      <th>destination_slot_departure</th>\n",
       "    </tr>\n",
       "  </thead>\n",
       "  <tbody>\n",
       "    <tr>\n",
       "      <th>0</th>\n",
       "      <td>4.508593e+09</td>\n",
       "      <td>34709785</td>\n",
       "      <td>STO</td>\n",
       "      <td>GB28</td>\n",
       "      <td>13</td>\n",
       "      <td>GB28</td>\n",
       "      <td>CH01</td>\n",
       "      <td>2025-04-15 09:00:00</td>\n",
       "      <td>2025-04-15 10:00:00</td>\n",
       "    </tr>\n",
       "    <tr>\n",
       "      <th>1</th>\n",
       "      <td>4.508593e+09</td>\n",
       "      <td>34709786</td>\n",
       "      <td>STO</td>\n",
       "      <td>GB28</td>\n",
       "      <td>13</td>\n",
       "      <td>GB28</td>\n",
       "      <td>CH01</td>\n",
       "      <td>2025-04-14 07:00:00</td>\n",
       "      <td>2025-04-14 08:00:00</td>\n",
       "    </tr>\n",
       "    <tr>\n",
       "      <th>2</th>\n",
       "      <td>4.508594e+09</td>\n",
       "      <td>34710108</td>\n",
       "      <td>STO</td>\n",
       "      <td>GB01</td>\n",
       "      <td>12</td>\n",
       "      <td>GB01</td>\n",
       "      <td>GB02</td>\n",
       "      <td>2025-04-11 22:00:00</td>\n",
       "      <td>2025-04-11 22:30:00</td>\n",
       "    </tr>\n",
       "    <tr>\n",
       "      <th>3</th>\n",
       "      <td>4.508594e+09</td>\n",
       "      <td>34710108</td>\n",
       "      <td>STO</td>\n",
       "      <td>GB01</td>\n",
       "      <td>12</td>\n",
       "      <td>GB01</td>\n",
       "      <td>GB02</td>\n",
       "      <td>2025-04-11 22:00:00</td>\n",
       "      <td>2025-04-11 22:30:00</td>\n",
       "    </tr>\n",
       "    <tr>\n",
       "      <th>4</th>\n",
       "      <td>4.508594e+09</td>\n",
       "      <td>34710108</td>\n",
       "      <td>STO</td>\n",
       "      <td>GB01</td>\n",
       "      <td>12</td>\n",
       "      <td>GB01</td>\n",
       "      <td>GB02</td>\n",
       "      <td>2025-04-11 22:00:00</td>\n",
       "      <td>2025-04-11 22:30:00</td>\n",
       "    </tr>\n",
       "  </tbody>\n",
       "</table>\n",
       "</div>"
      ],
      "text/plain": [
       "     RFRC_NUM12   load_id movement_type plant_code  \\\n",
       "0  4.508593e+09  34709785           STO       GB28   \n",
       "1  4.508593e+09  34709786           STO       GB28   \n",
       "2  4.508594e+09  34710108           STO       GB01   \n",
       "3  4.508594e+09  34710108           STO       GB01   \n",
       "4  4.508594e+09  34710108           STO       GB01   \n",
       "\n",
       "   transportation_planning_priority origin destination  \\\n",
       "0                                13   GB28        CH01   \n",
       "1                                13   GB28        CH01   \n",
       "2                                12   GB01        GB02   \n",
       "3                                12   GB01        GB02   \n",
       "4                                12   GB01        GB02   \n",
       "\n",
       "  destination_slot_arrival destination_slot_departure  \n",
       "0      2025-04-15 09:00:00        2025-04-15 10:00:00  \n",
       "1      2025-04-14 07:00:00        2025-04-14 08:00:00  \n",
       "2      2025-04-11 22:00:00        2025-04-11 22:30:00  \n",
       "3      2025-04-11 22:00:00        2025-04-11 22:30:00  \n",
       "4      2025-04-11 22:00:00        2025-04-11 22:30:00  "
      ]
     },
     "execution_count": 134,
     "metadata": {},
     "output_type": "execute_result"
    }
   ],
   "source": [
    "# Define required columns for outbound loads\n",
    "required_columns = [\n",
    "    \"RFRC_NUM12\", \"load_id\", \"movement_type\", \"plant_code\",\n",
    "    \"transportation_planning_priority\", \"origin\", \"destination\",\n",
    "    \"destination_slot_arrival\", \"destination_slot_departure\"\n",
    "]\n",
    "\n",
    "# Subset the DataFrame\n",
    "df_inbound_loads = df_aggregated[required_columns].copy()\n",
    "\n",
    "# Define save path\n",
    "inbound_loads_path = os.path.join(preprocessed_path, \"inbound_loads.csv\")\n",
    "\n",
    "# Save to CSV\n",
    "df_inbound_loads.to_csv(inbound_loads_path, index=False)\n",
    "\n",
    "# Display results\n",
    "print(f\"Column subset applied and saved to: {inbound_loads_path}\")\n",
    "df_inbound_loads.head()\n"
   ]
  }
 ],
 "metadata": {
  "kernelspec": {
   "display_name": "D0_dep",
   "language": "python",
   "name": "python3"
  },
  "language_info": {
   "codemirror_mode": {
    "name": "ipython",
    "version": 3
   },
   "file_extension": ".py",
   "mimetype": "text/x-python",
   "name": "python",
   "nbconvert_exporter": "python",
   "pygments_lexer": "ipython3",
   "version": "3.11.2"
  }
 },
 "nbformat": 4,
 "nbformat_minor": 2
}
